{
 "cells": [
  {
   "cell_type": "code",
   "execution_count": null,
   "id": "8e0bf98b-5b52-4e2e-a073-108ebaa7b2a6",
   "metadata": {},
   "outputs": [],
   "source": []
  },
  {
   "cell_type": "markdown",
   "id": "9741393d-c23a-4a27-b069-ec2f8f094c98",
   "metadata": {},
   "source": [
    "## Eigendecomposition\n",
    "\n",
    "**1. Variables**\n",
    "* Vocabulary: $\\vec v, v_i$\n",
    "* Covariance matrix: $C_{\\vec v \\vec v}$\n",
    "* Eigenvectors: $X_{\\vec v \\vec v}, \\vec x_{\\vec vv_i}$\n",
    "* Eigenvalues: $\\vec y, y_{v_i}$\n",
    "* Number of components: $k$\n",
    "\n",
    "**2. Process**\n",
    "1. Find $X_{vv}$ and $y$ that satisfies: $for\\, v_i \\in v: C_{\\vec v \\vec v} x_{\\vec v v_i} = y_{v_i} x_{\\vec v v_i}$\n",
    "2. Find $P = argmax_{v_{0..k}} (y_v)$\n"
   ]
  }
 ],
 "metadata": {
  "kernelspec": {
   "display_name": "eta",
   "language": "python",
   "name": "eta"
  },
  "language_info": {
   "codemirror_mode": {
    "name": "ipython",
    "version": 3
   },
   "file_extension": ".py",
   "mimetype": "text/x-python",
   "name": "python",
   "nbconvert_exporter": "python",
   "pygments_lexer": "ipython3",
   "version": "3.8.3"
  },
  "widgets": {
   "application/vnd.jupyter.widget-state+json": {
    "state": {},
    "version_major": 2,
    "version_minor": 0
   }
  }
 },
 "nbformat": 4,
 "nbformat_minor": 5
}
