{
 "cells": [
  {
   "cell_type": "markdown",
   "id": "b8ff0e39-8678-4c44-94bd-444d796f3949",
   "metadata": {},
   "source": [
    "$H =  - \\Sigma\\, p\\, \\log(p)$\n",
    "\n",
    "$D = - 2\\, \\Sigma\\, n\\, \\log(p)$\n",
    "\n",
    "$\\sigma = \\sqrt{D}$"
   ]
  },
  {
   "cell_type": "code",
   "execution_count": null,
   "id": "dca37114-75bb-4f92-a9dd-a103aca0b77e",
   "metadata": {},
   "outputs": [],
   "source": []
  }
 ],
 "metadata": {
  "kernelspec": {
   "display_name": "eta",
   "language": "python",
   "name": "eta"
  },
  "language_info": {
   "codemirror_mode": {
    "name": "ipython",
    "version": 3
   },
   "file_extension": ".py",
   "mimetype": "text/x-python",
   "name": "python",
   "nbconvert_exporter": "python",
   "pygments_lexer": "ipython3",
   "version": "3.8.3"
  },
  "widgets": {
   "application/vnd.jupyter.widget-state+json": {
    "state": {},
    "version_major": 2,
    "version_minor": 0
   }
  }
 },
 "nbformat": 4,
 "nbformat_minor": 5
}
