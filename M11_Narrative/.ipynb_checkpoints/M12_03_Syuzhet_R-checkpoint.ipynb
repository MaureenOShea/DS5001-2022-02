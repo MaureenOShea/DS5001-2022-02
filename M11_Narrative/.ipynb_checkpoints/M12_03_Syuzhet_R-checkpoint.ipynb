{
 "cells": [
  {
   "cell_type": "markdown",
   "metadata": {},
   "source": [
    "# DS 5001 Module 12 Lab: Running the Syuzhet Package in R\n",
    "\n",
    "Use Jockers' [Syuzhet module](https://rdrr.io/cran/syuzhet/) in R.\n",
    "\n",
    "To use R in Jupyter, see https://docs.anaconda.com/anaconda/navigator/tutorials/r-lang/"
   ]
  },
  {
   "cell_type": "markdown",
   "metadata": {},
   "source": [
    "## Set Up"
   ]
  },
  {
   "cell_type": "code",
   "execution_count": 8,
   "metadata": {},
   "outputs": [
    {
     "name": "stdout",
     "output_type": "stream",
     "text": [
      "\n",
      "The downloaded binary packages are in\n",
      "\t/var/folders/14/rnyfspnx2q131jp_752t9fc80000gn/T//RtmpAS0VDt/downloaded_packages\n",
      "\n",
      "The downloaded binary packages are in\n",
      "\t/var/folders/14/rnyfspnx2q131jp_752t9fc80000gn/T//RtmpAS0VDt/downloaded_packages\n"
     ]
    }
   ],
   "source": [
    "install.packages('syuzhet')\n",
    "install.packages(\"dplyr\")"
   ]
  },
  {
   "cell_type": "markdown",
   "metadata": {},
   "source": [
    "### Configuration"
   ]
  },
  {
   "cell_type": "code",
   "execution_count": 9,
   "metadata": {},
   "outputs": [],
   "source": [
    "# methods = c(\"syuzhet\", \"afinn\", \"bing\", \"nrc\", \"stanford\")\n",
    "# Try bing or syuzhet\n",
    "method = 'nrc'\n",
    "fft_low_pass = 3\n",
    "dct_low_pass = 5"
   ]
  },
  {
   "cell_type": "markdown",
   "metadata": {},
   "source": [
    "### Libraries"
   ]
  },
  {
   "cell_type": "code",
   "execution_count": 10,
   "metadata": {},
   "outputs": [],
   "source": [
    "library(syuzhet)\n",
    "library(repr)"
   ]
  },
  {
   "cell_type": "code",
   "execution_count": 11,
   "metadata": {},
   "outputs": [],
   "source": [
    "options(repr.plot.width=15, repr.plot.height=6)"
   ]
  },
  {
   "cell_type": "markdown",
   "metadata": {
    "toc-hr-collapsed": false
   },
   "source": [
    "## Define Main Function"
   ]
  },
  {
   "cell_type": "code",
   "execution_count": 12,
   "metadata": {},
   "outputs": [],
   "source": [
    "plotitall <- function (book_file, book_title) {\n",
    "\n",
    "    # Get the book and compute sentiment\n",
    "    book <- get_text_as_string(book_file)\n",
    "    book.s_v <- get_sentences(book)\n",
    "    book.sentiment_vector <- get_sentiment(book.s_v, method=method)\n",
    "    \n",
    "    # Plot the raw signal\n",
    "    plot(book.sentiment_vector, \n",
    "         type =\"l\", \n",
    "         main = book_title,\n",
    "         xlab = \"Narrative Time\", \n",
    "         ylab = \"Emotional Valence\")\n",
    "    \n",
    "    # Get smoothed signal the old way\n",
    "    book.ft_values <- get_transformed_values(book.sentiment_vector, \n",
    "                                     low_pass_size = fft_low_pass, \n",
    "                                     x_reverse_len = 100,\n",
    "                                     scale_vals = TRUE, \n",
    "                                     scale_range = FALSE)\n",
    "    \n",
    "    # Get smoothing signal the new way\n",
    "    book.dct_values <- get_dct_transform(book.sentiment_vector, \n",
    "                                         scale_vals = TRUE, \n",
    "                                         scale_range = FALSE)\n",
    "    \n",
    "    # Plot the old \n",
    "    plot(book.ft_values,\n",
    "         type =\"h\", \n",
    "         main = paste(book_title, \" transformed (FFT)\"), \n",
    "         xlab = \"narrative time\", \n",
    "         ylab = \"Emotional Valence\", col = \"red\")\n",
    "    \n",
    "    # Plot the new\n",
    "    plot(book.dct_values,\n",
    "         type =\"h\", \n",
    "         main = paste(book_title, \" transformed (DCT)\"), \n",
    "         xlab = \"narrative time\", \n",
    "         ylab = \"Emotional Valence\", col = \"red\")\n",
    "    \n",
    "}"
   ]
  },
  {
   "cell_type": "markdown",
   "metadata": {},
   "source": [
    "## Explore"
   ]
  },
  {
   "cell_type": "markdown",
   "metadata": {},
   "source": [
    "### Frankenstein"
   ]
  },
  {
   "cell_type": "code",
   "execution_count": 13,
   "metadata": {},
   "outputs": [
    {
     "ename": "ERROR",
     "evalue": "Error in loadNamespace(j <- i[[1L]], c(lib.loc, .libPaths()), versionCheck = vI[[j]]): namespace ‘lifecycle’ 0.2.0 is already loaded, but >= 1.0.0 is required\n",
     "output_type": "error",
     "traceback": [
      "Error in loadNamespace(j <- i[[1L]], c(lib.loc, .libPaths()), versionCheck = vI[[j]]): namespace ‘lifecycle’ 0.2.0 is already loaded, but >= 1.0.0 is required\nTraceback:\n",
      "1. plotitall(\"data_in//syuzhet//frankenstein.txt\", \"Frankenstein\")",
      "2. get_sentiment(book.s_v, method = method)   # at line 6 of file <text>",
      "3. dplyr::filter",
      "4. getExportedValue(pkg, name)",
      "5. asNamespace(ns)",
      "6. getNamespace(ns)",
      "7. loadNamespace(name)",
      "8. namespaceImportFrom(ns, loadNamespace(j <- i[[1L]], c(lib.loc, \n .     .libPaths()), versionCheck = vI[[j]]), i[[2L]], from = package)",
      "9. asNamespace(ns)",
      "10. loadNamespace(j <- i[[1L]], c(lib.loc, .libPaths()), versionCheck = vI[[j]])",
      "11. stop(gettextf(\"namespace %s %s is already loaded, but %s %s is required\", \n  .     sQuote(package), current, zop, zversion), domain = NA)"
     ]
    }
   ],
   "source": [
    "plotitall('data_in//syuzhet//frankenstein.txt', \"Frankenstein\")"
   ]
  },
  {
   "cell_type": "markdown",
   "metadata": {},
   "source": [
    "### Persuasion"
   ]
  },
  {
   "cell_type": "code",
   "execution_count": null,
   "metadata": {},
   "outputs": [],
   "source": [
    "plotitall('data_in//syuzhet//persuasion.txt', 'Persuasion')"
   ]
  },
  {
   "cell_type": "markdown",
   "metadata": {},
   "source": [
    "### Moby Dick"
   ]
  },
  {
   "cell_type": "code",
   "execution_count": null,
   "metadata": {},
   "outputs": [],
   "source": [
    "plotitall('data_in//syuzhet//moby.txt', 'Moby Dick')"
   ]
  },
  {
   "cell_type": "markdown",
   "metadata": {},
   "source": [
    "### Dracula"
   ]
  },
  {
   "cell_type": "code",
   "execution_count": null,
   "metadata": {},
   "outputs": [],
   "source": [
    "plotitall('data_in//syuzhet/dracula.txt', 'Dracula')"
   ]
  },
  {
   "cell_type": "code",
   "execution_count": null,
   "metadata": {},
   "outputs": [],
   "source": []
  }
 ],
 "metadata": {
  "hide_input": false,
  "kernelspec": {
   "display_name": "R",
   "language": "R",
   "name": "ir"
  },
  "language_info": {
   "codemirror_mode": "r",
   "file_extension": ".r",
   "mimetype": "text/x-r-source",
   "name": "R",
   "pygments_lexer": "r",
   "version": "4.0.2"
  },
  "latex_envs": {
   "LaTeX_envs_menu_present": true,
   "autoclose": true,
   "autocomplete": true,
   "bibliofile": "biblio.bib",
   "cite_by": "apalike",
   "current_citInitial": 1,
   "eqLabelWithNumbers": true,
   "eqNumInitial": 1,
   "hotkeys": {
    "equation": "Ctrl-E",
    "itemize": "Ctrl-I"
   },
   "labels_anchors": false,
   "latex_user_defs": false,
   "report_style_numbering": false,
   "user_envs_cfg": false
  },
  "toc": {
   "base_numbering": 1,
   "nav_menu": {},
   "number_sections": true,
   "sideBar": true,
   "skip_h1_title": true,
   "title_cell": "Table of Contents",
   "title_sidebar": "Contents",
   "toc_cell": false,
   "toc_position": {
    "height": "calc(100% - 180px)",
    "left": "10px",
    "top": "150px",
    "width": "165px"
   },
   "toc_section_display": true,
   "toc_window_display": true
  },
  "varInspector": {
   "cols": {
    "lenName": 16,
    "lenType": 16,
    "lenVar": 40
   },
   "kernels_config": {
    "python": {
     "delete_cmd_postfix": "",
     "delete_cmd_prefix": "del ",
     "library": "var_list.py",
     "varRefreshCmd": "print(var_dic_list())"
    },
    "r": {
     "delete_cmd_postfix": ") ",
     "delete_cmd_prefix": "rm(",
     "library": "var_list.r",
     "varRefreshCmd": "cat(var_dic_list()) "
    }
   },
   "types_to_exclude": [
    "module",
    "function",
    "builtin_function_or_method",
    "instance",
    "_Feature"
   ],
   "window_display": false
  },
  "widgets": {
   "application/vnd.jupyter.widget-state+json": {
    "state": {},
    "version_major": 2,
    "version_minor": 0
   }
  }
 },
 "nbformat": 4,
 "nbformat_minor": 4
}
