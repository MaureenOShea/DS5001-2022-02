{
 "cells": [
  {
   "cell_type": "markdown",
   "metadata": {
    "colab_type": "text",
    "id": "hMvHK6QDmPy9",
    "slideshow": {
     "slide_type": "slide"
    }
   },
   "source": [
    "# Metadata\n",
    "\n",
    "```\n",
    "-----------------------------------------\n",
    "Course:   DS 5001\n",
    "Module:   12 Lab\n",
    "Topic:    Classification with Naive Bayes\n",
    "Author:   R.C. Alvarado\n",
    "-----------------------------------------\n",
    "Purpose: We attempt a Naive Bayes classifier for the sentiment of a corpus of wine reviews. We use the score of the review as our sentiment value, assuming that a bad review will have negative sentiment and a good review will have positive sentiment.\n",
    "```"
   ]
  },
  {
   "cell_type": "markdown",
   "metadata": {},
   "source": [
    "# Overview"
   ]
  },
  {
   "cell_type": "markdown",
   "metadata": {},
   "source": [
    "The prediction of the document's label (class) can be viewed as problem of conditional probability:\n",
    "* $p(c|d) =$ ?\n",
    "* $p(c|d) = \\large\\frac{p(c)p(d|c)}{p(d)}$\n",
    "* $p(c|d) = p(c)p(d|c)$\n",
    "\n",
    "We use Maximum A Posteriori estimation (MAP) to predict the label:\n",
    "* $p(c|d) = \\underset{C}{\\mathrm{argmax}} p(c)p(d|c)$ \n",
    "\n",
    "To solve this, we need to estimate the values of the priors $p(c)$ and the likelihoods $p(d|c)$.\n",
    "* Prior: $p(c)$ the frequency of a given category.\n",
    "* Likelihood: $p(d|c)$ the frequency of the document for a given category. Remember, these are essentially unigram language models for each label. They are similar to topics in this sense.\n",
    "\n",
    "Note that $d$ is a sequence of words $w_{1}^{N}$, which means we apply the independence assumption to avoid the chain rule:\n",
    "* $p(d|c) = p(w_{1}^{N}|c) = p(w_{1}|c)p(w_{2},w_{1}|c) ... $\n",
    "* $p(d|c) = \\prod{p(w_{i}|c}) = \\sum{log(p(w_{i}|c))}$\n",
    "\n",
    "So, we get:\n",
    "* $p(c|d) = \\underset{C}{\\mathrm{argmax}} p(c)\\sum{log(p(w_{i}|c))}$ \n",
    "\n",
    "We can estimate the priors and the likelihoods using Maximum Likelihood Estimation (MLE) from data that gives the joint distribution of documents and labels, where documents are represented as bags of words. This joint distribution is just the TOKEN table with the label from the LIB table joined to it.\n",
    "* $(d,w,c)$\n",
    "\n",
    "**NOTES**\n",
    "* Both forms of estimation used are optimization methods. \n",
    "> **Optimization** is a general term for finding the maximum, or minimum, of some function. **Estimation** is a statistical term for finding some estimate of unknown parameter, given some data. This can be done using optimization methods, e.g. by maximizing the likelihood function, or minimizing a loss function. So optimization is broader, as you can use it without data, just by finding the maximum of some abstract function, while estimation has a clear statistical scope. Optimization can be used for estimation, but you can also use methods not based on optimization for estimation."
   ]
  },
  {
   "cell_type": "markdown",
   "metadata": {
    "colab_type": "text",
    "id": "gEg4USFAmPzB",
    "slideshow": {
     "slide_type": "-"
    }
   },
   "source": [
    "# Set Up"
   ]
  },
  {
   "cell_type": "code",
   "execution_count": 1,
   "metadata": {
    "colab": {},
    "colab_type": "code",
    "id": "I2ZqwwztmPzD",
    "slideshow": {
     "slide_type": "slide"
    }
   },
   "outputs": [],
   "source": [
    "data_home = '../data'\n",
    "local_lib = '../lib'"
   ]
  },
  {
   "cell_type": "code",
   "execution_count": 2,
   "metadata": {},
   "outputs": [],
   "source": [
    "n_sets = 4 # We want 4 so we can use 3 for training, 1 for testing.\n",
    "smooth_alpha = 1 \n",
    "# agg_method = 'sum'\n",
    "agg_method = 'count'\n",
    "stopwords = set('and the a of this with is it in to on but an for are has that from not through'.split())"
   ]
  },
  {
   "cell_type": "code",
   "execution_count": 3,
   "metadata": {},
   "outputs": [],
   "source": [
    "import pandas as pd\n",
    "import numpy as np\n",
    "from numpy import log2 as log\n",
    "from numpy import exp2 as exp\n",
    "from numpy.random import randint\n",
    "import nltk\n",
    "import matplotlib.pyplot as plt"
   ]
  },
  {
   "cell_type": "markdown",
   "metadata": {},
   "source": [
    "# Preparation"
   ]
  },
  {
   "cell_type": "markdown",
   "metadata": {
    "toc-hr-collapsed": false
   },
   "source": [
    "## Get Data"
   ]
  },
  {
   "cell_type": "code",
   "execution_count": 4,
   "metadata": {},
   "outputs": [],
   "source": [
    "docs = pd.read_csv(f'{data_home}/winereviews/winereviews.csv', index_col='doc_id')"
   ]
  },
  {
   "cell_type": "code",
   "execution_count": 5,
   "metadata": {},
   "outputs": [
    {
     "data": {
      "text/html": [
       "<div>\n",
       "<style scoped>\n",
       "    .dataframe tbody tr th:only-of-type {\n",
       "        vertical-align: middle;\n",
       "    }\n",
       "\n",
       "    .dataframe tbody tr th {\n",
       "        vertical-align: top;\n",
       "    }\n",
       "\n",
       "    .dataframe thead th {\n",
       "        text-align: right;\n",
       "    }\n",
       "</style>\n",
       "<table border=\"1\" class=\"dataframe\">\n",
       "  <thead>\n",
       "    <tr style=\"text-align: right;\">\n",
       "      <th></th>\n",
       "      <th>doc_content</th>\n",
       "      <th>points</th>\n",
       "    </tr>\n",
       "    <tr>\n",
       "      <th>doc_id</th>\n",
       "      <th></th>\n",
       "      <th></th>\n",
       "    </tr>\n",
       "  </thead>\n",
       "  <tbody>\n",
       "    <tr>\n",
       "      <th>0</th>\n",
       "      <td>Aromas include tropical fruit, broom, brimston...</td>\n",
       "      <td>87</td>\n",
       "    </tr>\n",
       "    <tr>\n",
       "      <th>1</th>\n",
       "      <td>This is ripe and fruity, a wine that is smooth...</td>\n",
       "      <td>87</td>\n",
       "    </tr>\n",
       "    <tr>\n",
       "      <th>2</th>\n",
       "      <td>Tart and snappy, the flavors of lime flesh and...</td>\n",
       "      <td>87</td>\n",
       "    </tr>\n",
       "    <tr>\n",
       "      <th>3</th>\n",
       "      <td>Pineapple rind, lemon pith and orange blossom ...</td>\n",
       "      <td>87</td>\n",
       "    </tr>\n",
       "    <tr>\n",
       "      <th>4</th>\n",
       "      <td>Much like the regular bottling from 2012, this...</td>\n",
       "      <td>87</td>\n",
       "    </tr>\n",
       "  </tbody>\n",
       "</table>\n",
       "</div>"
      ],
      "text/plain": [
       "                                              doc_content  points\n",
       "doc_id                                                           \n",
       "0       Aromas include tropical fruit, broom, brimston...      87\n",
       "1       This is ripe and fruity, a wine that is smooth...      87\n",
       "2       Tart and snappy, the flavors of lime flesh and...      87\n",
       "3       Pineapple rind, lemon pith and orange blossom ...      87\n",
       "4       Much like the regular bottling from 2012, this...      87"
      ]
     },
     "execution_count": 5,
     "metadata": {},
     "output_type": "execute_result"
    }
   ],
   "source": [
    "docs.head()"
   ]
  },
  {
   "cell_type": "markdown",
   "metadata": {
    "tags": []
   },
   "source": [
    "## Explore points feature"
   ]
  },
  {
   "cell_type": "markdown",
   "metadata": {},
   "source": [
    "**Out of curiosity, see if review length correlates with points.**"
   ]
  },
  {
   "cell_type": "code",
   "execution_count": 6,
   "metadata": {},
   "outputs": [],
   "source": [
    "docs['doc_len'] = docs.doc_content.str.len()"
   ]
  },
  {
   "cell_type": "code",
   "execution_count": 7,
   "metadata": {},
   "outputs": [],
   "source": [
    "# docs.doc_len.value_counts().sort_index().plot() #hist()"
   ]
  },
  {
   "cell_type": "code",
   "execution_count": 8,
   "metadata": {},
   "outputs": [],
   "source": [
    "# docs.doc_len.plot.box()"
   ]
  },
  {
   "cell_type": "code",
   "execution_count": 9,
   "metadata": {},
   "outputs": [
    {
     "data": {
      "text/plain": [
       "0.56"
      ]
     },
     "execution_count": 9,
     "metadata": {},
     "output_type": "execute_result"
    }
   ],
   "source": [
    "round(docs.points.corr(docs.doc_len), 2)"
   ]
  },
  {
   "cell_type": "code",
   "execution_count": 10,
   "metadata": {},
   "outputs": [
    {
     "data": {
      "text/plain": [
       "<AxesSubplot:>"
      ]
     },
     "execution_count": 10,
     "metadata": {},
     "output_type": "execute_result"
    },
    {
     "data": {
      "image/png": "[encoded data removed]",
      "text/plain": [
       "<Figure size 1440x504 with 3 Axes>"
      ]
     },
     "metadata": {
      "needs_background": "light"
     },
     "output_type": "display_data"
    }
   ],
   "source": [
    "fig, axes = plt.subplots(nrows=1, ncols=3, figsize=(20,7), sharey=False)\n",
    "docs.plot.scatter('doc_len','points', alpha=.9, ax=axes[0]);\n",
    "docs.points.value_counts().sort_index().plot.barh(rot=0, ax=axes[1]);\n",
    "docs.points.plot.box(ax=axes[2])"
   ]
  },
  {
   "cell_type": "markdown",
   "metadata": {
    "tags": []
   },
   "source": [
    "## Convert points to labels"
   ]
  },
  {
   "cell_type": "markdown",
   "metadata": {
    "colab": {},
    "colab_type": "code",
    "id": "t12Rx04OmPz2"
   },
   "source": [
    "Keep only reviews with high and low ratings. We use $93$ and $87$ by convention."
   ]
  },
  {
   "cell_type": "code",
   "execution_count": 11,
   "metadata": {},
   "outputs": [],
   "source": [
    "docs.loc[docs.points >= 93, 'doc_label'] = 'P'\n",
    "docs.loc[docs.points < 87, 'doc_label'] = 'N'"
   ]
  },
  {
   "cell_type": "code",
   "execution_count": 12,
   "metadata": {},
   "outputs": [
    {
     "data": {
      "text/html": [
       "<div>\n",
       "<style scoped>\n",
       "    .dataframe tbody tr th:only-of-type {\n",
       "        vertical-align: middle;\n",
       "    }\n",
       "\n",
       "    .dataframe tbody tr th {\n",
       "        vertical-align: top;\n",
       "    }\n",
       "\n",
       "    .dataframe thead th {\n",
       "        text-align: right;\n",
       "    }\n",
       "</style>\n",
       "<table border=\"1\" class=\"dataframe\">\n",
       "  <thead>\n",
       "    <tr style=\"text-align: right;\">\n",
       "      <th></th>\n",
       "      <th>doc_content</th>\n",
       "      <th>points</th>\n",
       "      <th>doc_len</th>\n",
       "      <th>doc_label</th>\n",
       "    </tr>\n",
       "    <tr>\n",
       "      <th>doc_id</th>\n",
       "      <th></th>\n",
       "      <th></th>\n",
       "      <th></th>\n",
       "      <th></th>\n",
       "    </tr>\n",
       "  </thead>\n",
       "  <tbody>\n",
       "    <tr>\n",
       "      <th>77967</th>\n",
       "      <td>Lifted bergamot is the almost singular, striki...</td>\n",
       "      <td>90</td>\n",
       "      <td>178</td>\n",
       "      <td>NaN</td>\n",
       "    </tr>\n",
       "    <tr>\n",
       "      <th>9929</th>\n",
       "      <td>From a top subsection of McLaren Vale, this we...</td>\n",
       "      <td>90</td>\n",
       "      <td>293</td>\n",
       "      <td>NaN</td>\n",
       "    </tr>\n",
       "    <tr>\n",
       "      <th>6132</th>\n",
       "      <td>This wine's vividly layered nose blends dusty ...</td>\n",
       "      <td>92</td>\n",
       "      <td>283</td>\n",
       "      <td>NaN</td>\n",
       "    </tr>\n",
       "    <tr>\n",
       "      <th>92028</th>\n",
       "      <td>The best bargain Pinot Noir in the state. It's...</td>\n",
       "      <td>85</td>\n",
       "      <td>177</td>\n",
       "      <td>N</td>\n",
       "    </tr>\n",
       "    <tr>\n",
       "      <th>30306</th>\n",
       "      <td>This delicious, fruity wine is full of acidity...</td>\n",
       "      <td>85</td>\n",
       "      <td>145</td>\n",
       "      <td>N</td>\n",
       "    </tr>\n",
       "    <tr>\n",
       "      <th>125983</th>\n",
       "      <td>A bit cloudy and still tasting as if it came r...</td>\n",
       "      <td>90</td>\n",
       "      <td>268</td>\n",
       "      <td>NaN</td>\n",
       "    </tr>\n",
       "    <tr>\n",
       "      <th>100177</th>\n",
       "      <td>Full, highly perfumed wine, with peanut and ta...</td>\n",
       "      <td>87</td>\n",
       "      <td>207</td>\n",
       "      <td>NaN</td>\n",
       "    </tr>\n",
       "    <tr>\n",
       "      <th>91379</th>\n",
       "      <td>This affordable, larger-production wine is sof...</td>\n",
       "      <td>88</td>\n",
       "      <td>228</td>\n",
       "      <td>NaN</td>\n",
       "    </tr>\n",
       "    <tr>\n",
       "      <th>102279</th>\n",
       "      <td>This aromatic wine does a great job of combini...</td>\n",
       "      <td>90</td>\n",
       "      <td>228</td>\n",
       "      <td>NaN</td>\n",
       "    </tr>\n",
       "    <tr>\n",
       "      <th>83495</th>\n",
       "      <td>A rare example of the sweet wines of Sainte-Fo...</td>\n",
       "      <td>86</td>\n",
       "      <td>223</td>\n",
       "      <td>N</td>\n",
       "    </tr>\n",
       "  </tbody>\n",
       "</table>\n",
       "</div>"
      ],
      "text/plain": [
       "                                              doc_content  points  doc_len  \\\n",
       "doc_id                                                                       \n",
       "77967   Lifted bergamot is the almost singular, striki...      90      178   \n",
       "9929    From a top subsection of McLaren Vale, this we...      90      293   \n",
       "6132    This wine's vividly layered nose blends dusty ...      92      283   \n",
       "92028   The best bargain Pinot Noir in the state. It's...      85      177   \n",
       "30306   This delicious, fruity wine is full of acidity...      85      145   \n",
       "125983  A bit cloudy and still tasting as if it came r...      90      268   \n",
       "100177  Full, highly perfumed wine, with peanut and ta...      87      207   \n",
       "91379   This affordable, larger-production wine is sof...      88      228   \n",
       "102279  This aromatic wine does a great job of combini...      90      228   \n",
       "83495   A rare example of the sweet wines of Sainte-Fo...      86      223   \n",
       "\n",
       "       doc_label  \n",
       "doc_id            \n",
       "77967        NaN  \n",
       "9929         NaN  \n",
       "6132         NaN  \n",
       "92028          N  \n",
       "30306          N  \n",
       "125983       NaN  \n",
       "100177       NaN  \n",
       "91379        NaN  \n",
       "102279       NaN  \n",
       "83495          N  "
      ]
     },
     "execution_count": 12,
     "metadata": {},
     "output_type": "execute_result"
    }
   ],
   "source": [
    "docs.sample(10)"
   ]
  },
  {
   "cell_type": "markdown",
   "metadata": {
    "tags": []
   },
   "source": [
    "## Balance Labels\n",
    "\n",
    "Note the imbalance in number of documents associated with each label."
   ]
  },
  {
   "cell_type": "code",
   "execution_count": 13,
   "metadata": {},
   "outputs": [
    {
     "data": {
      "image/png": "[encoded data removed]",
      "text/plain": [
       "<Figure size 432x288 with 1 Axes>"
      ]
     },
     "metadata": {},
     "output_type": "display_data"
    }
   ],
   "source": [
    "docs.value_counts('doc_label').plot.pie();"
   ]
  },
  {
   "cell_type": "code",
   "execution_count": 14,
   "metadata": {},
   "outputs": [],
   "source": [
    "CLASS = docs.value_counts('doc_label').to_frame('n')"
   ]
  },
  {
   "cell_type": "code",
   "execution_count": 15,
   "metadata": {},
   "outputs": [
    {
     "data": {
      "text/html": [
       "<div>\n",
       "<style scoped>\n",
       "    .dataframe tbody tr th:only-of-type {\n",
       "        vertical-align: middle;\n",
       "    }\n",
       "\n",
       "    .dataframe tbody tr th {\n",
       "        vertical-align: top;\n",
       "    }\n",
       "\n",
       "    .dataframe thead th {\n",
       "        text-align: right;\n",
       "    }\n",
       "</style>\n",
       "<table border=\"1\" class=\"dataframe\">\n",
       "  <thead>\n",
       "    <tr style=\"text-align: right;\">\n",
       "      <th></th>\n",
       "      <th>n</th>\n",
       "    </tr>\n",
       "    <tr>\n",
       "      <th>doc_label</th>\n",
       "      <th></th>\n",
       "    </tr>\n",
       "  </thead>\n",
       "  <tbody>\n",
       "    <tr>\n",
       "      <th>N</th>\n",
       "      <td>32679</td>\n",
       "    </tr>\n",
       "    <tr>\n",
       "      <th>P</th>\n",
       "      <td>12184</td>\n",
       "    </tr>\n",
       "  </tbody>\n",
       "</table>\n",
       "</div>"
      ],
      "text/plain": [
       "               n\n",
       "doc_label       \n",
       "N          32679\n",
       "P          12184"
      ]
     },
     "execution_count": 15,
     "metadata": {},
     "output_type": "execute_result"
    }
   ],
   "source": [
    "CLASS"
   ]
  },
  {
   "cell_type": "markdown",
   "metadata": {},
   "source": [
    "We use $12000$ as our common value."
   ]
  },
  {
   "cell_type": "code",
   "execution_count": 16,
   "metadata": {},
   "outputs": [],
   "source": [
    "DOCS = docs.groupby('doc_label').sample(CLASS.n.min())"
   ]
  },
  {
   "cell_type": "code",
   "execution_count": 17,
   "metadata": {},
   "outputs": [
    {
     "data": {
      "text/html": [
       "<div>\n",
       "<style scoped>\n",
       "    .dataframe tbody tr th:only-of-type {\n",
       "        vertical-align: middle;\n",
       "    }\n",
       "\n",
       "    .dataframe tbody tr th {\n",
       "        vertical-align: top;\n",
       "    }\n",
       "\n",
       "    .dataframe thead th {\n",
       "        text-align: right;\n",
       "    }\n",
       "</style>\n",
       "<table border=\"1\" class=\"dataframe\">\n",
       "  <thead>\n",
       "    <tr style=\"text-align: right;\">\n",
       "      <th></th>\n",
       "      <th>doc_content</th>\n",
       "      <th>points</th>\n",
       "      <th>doc_len</th>\n",
       "      <th>doc_label</th>\n",
       "    </tr>\n",
       "    <tr>\n",
       "      <th>doc_id</th>\n",
       "      <th></th>\n",
       "      <th></th>\n",
       "      <th></th>\n",
       "      <th></th>\n",
       "    </tr>\n",
       "  </thead>\n",
       "  <tbody>\n",
       "    <tr>\n",
       "      <th>55298</th>\n",
       "      <td>Leafy, herbal aromas of plum and raspberry sho...</td>\n",
       "      <td>86</td>\n",
       "      <td>264</td>\n",
       "      <td>N</td>\n",
       "    </tr>\n",
       "    <tr>\n",
       "      <th>102827</th>\n",
       "      <td>Right now, although the nose is closed, exposu...</td>\n",
       "      <td>95</td>\n",
       "      <td>454</td>\n",
       "      <td>P</td>\n",
       "    </tr>\n",
       "    <tr>\n",
       "      <th>29538</th>\n",
       "      <td>This blend of Bical and Cercial is toasty and ...</td>\n",
       "      <td>84</td>\n",
       "      <td>131</td>\n",
       "      <td>N</td>\n",
       "    </tr>\n",
       "    <tr>\n",
       "      <th>85164</th>\n",
       "      <td>Fragrant blue flower, woodland berry, underbru...</td>\n",
       "      <td>94</td>\n",
       "      <td>298</td>\n",
       "      <td>P</td>\n",
       "    </tr>\n",
       "    <tr>\n",
       "      <th>88469</th>\n",
       "      <td>Light herbal aromas and lively grapefruit flav...</td>\n",
       "      <td>85</td>\n",
       "      <td>153</td>\n",
       "      <td>N</td>\n",
       "    </tr>\n",
       "    <tr>\n",
       "      <th>6429</th>\n",
       "      <td>This is a perfumed wine, dominated by Cabernet...</td>\n",
       "      <td>95</td>\n",
       "      <td>240</td>\n",
       "      <td>P</td>\n",
       "    </tr>\n",
       "    <tr>\n",
       "      <th>85699</th>\n",
       "      <td>Dark chocolate and black currant flavors domin...</td>\n",
       "      <td>93</td>\n",
       "      <td>236</td>\n",
       "      <td>P</td>\n",
       "    </tr>\n",
       "    <tr>\n",
       "      <th>16455</th>\n",
       "      <td>A négociant wine, sharp and spicy, with vivid ...</td>\n",
       "      <td>86</td>\n",
       "      <td>277</td>\n",
       "      <td>N</td>\n",
       "    </tr>\n",
       "    <tr>\n",
       "      <th>61490</th>\n",
       "      <td>As with the Indian Wells Cabernet, winemaker B...</td>\n",
       "      <td>85</td>\n",
       "      <td>267</td>\n",
       "      <td>N</td>\n",
       "    </tr>\n",
       "    <tr>\n",
       "      <th>129671</th>\n",
       "      <td>Two classic Dão grapes, Touriga Nacional and T...</td>\n",
       "      <td>93</td>\n",
       "      <td>311</td>\n",
       "      <td>P</td>\n",
       "    </tr>\n",
       "  </tbody>\n",
       "</table>\n",
       "</div>"
      ],
      "text/plain": [
       "                                              doc_content  points  doc_len  \\\n",
       "doc_id                                                                       \n",
       "55298   Leafy, herbal aromas of plum and raspberry sho...      86      264   \n",
       "102827  Right now, although the nose is closed, exposu...      95      454   \n",
       "29538   This blend of Bical and Cercial is toasty and ...      84      131   \n",
       "85164   Fragrant blue flower, woodland berry, underbru...      94      298   \n",
       "88469   Light herbal aromas and lively grapefruit flav...      85      153   \n",
       "6429    This is a perfumed wine, dominated by Cabernet...      95      240   \n",
       "85699   Dark chocolate and black currant flavors domin...      93      236   \n",
       "16455   A négociant wine, sharp and spicy, with vivid ...      86      277   \n",
       "61490   As with the Indian Wells Cabernet, winemaker B...      85      267   \n",
       "129671  Two classic Dão grapes, Touriga Nacional and T...      93      311   \n",
       "\n",
       "       doc_label  \n",
       "doc_id            \n",
       "55298          N  \n",
       "102827         P  \n",
       "29538          N  \n",
       "85164          P  \n",
       "88469          N  \n",
       "6429           P  \n",
       "85699          P  \n",
       "16455          N  \n",
       "61490          N  \n",
       "129671         P  "
      ]
     },
     "execution_count": 17,
     "metadata": {},
     "output_type": "execute_result"
    }
   ],
   "source": [
    "DOCS.sample(10)"
   ]
  },
  {
   "cell_type": "code",
   "execution_count": 18,
   "metadata": {},
   "outputs": [
    {
     "data": {
      "image/png": "[encoded data removed]",
      "text/plain": [
       "<Figure size 432x288 with 1 Axes>"
      ]
     },
     "metadata": {
      "needs_background": "light"
     },
     "output_type": "display_data"
    }
   ],
   "source": [
    "DOCS.points.plot.hist();"
   ]
  },
  {
   "cell_type": "markdown",
   "metadata": {},
   "source": [
    "**Average `doc_len` per group**"
   ]
  },
  {
   "cell_type": "markdown",
   "metadata": {},
   "source": [
    "NOTE: Good reviews are few and long, bad reviews are many and short."
   ]
  },
  {
   "cell_type": "code",
   "execution_count": 19,
   "metadata": {},
   "outputs": [
    {
     "data": {
      "image/png": "[encoded data removed]",
      "text/plain": [
       "<Figure size 432x288 with 1 Axes>"
      ]
     },
     "metadata": {},
     "output_type": "display_data"
    }
   ],
   "source": [
    "DOCS.groupby('doc_label').doc_len.mean().plot.pie();"
   ]
  },
  {
   "cell_type": "markdown",
   "metadata": {
    "tags": []
   },
   "source": [
    "## Divide docs into train and test sets"
   ]
  },
  {
   "cell_type": "markdown",
   "metadata": {
    "colab": {},
    "colab_type": "code",
    "id": "Rh3_gYzmmP0Z"
   },
   "source": [
    "**Assign random numbers to docs**"
   ]
  },
  {
   "cell_type": "code",
   "execution_count": 20,
   "metadata": {
    "colab": {},
    "colab_type": "code",
    "id": "Rh3_gYzmmP0Z"
   },
   "outputs": [],
   "source": [
    "DOCS['set'] = randint(0, n_sets, len(DOCS.index))"
   ]
  },
  {
   "cell_type": "code",
   "execution_count": 21,
   "metadata": {
    "colab": {},
    "colab_type": "code",
    "id": "Rh3_gYzmmP0Z"
   },
   "outputs": [
    {
     "data": {
      "text/html": [
       "<div>\n",
       "<style scoped>\n",
       "    .dataframe tbody tr th:only-of-type {\n",
       "        vertical-align: middle;\n",
       "    }\n",
       "\n",
       "    .dataframe tbody tr th {\n",
       "        vertical-align: top;\n",
       "    }\n",
       "\n",
       "    .dataframe thead th {\n",
       "        text-align: right;\n",
       "    }\n",
       "</style>\n",
       "<table border=\"1\" class=\"dataframe\">\n",
       "  <thead>\n",
       "    <tr style=\"text-align: right;\">\n",
       "      <th></th>\n",
       "      <th>doc_content</th>\n",
       "      <th>points</th>\n",
       "      <th>doc_len</th>\n",
       "      <th>doc_label</th>\n",
       "      <th>set</th>\n",
       "    </tr>\n",
       "    <tr>\n",
       "      <th>doc_id</th>\n",
       "      <th></th>\n",
       "      <th></th>\n",
       "      <th></th>\n",
       "      <th></th>\n",
       "      <th></th>\n",
       "    </tr>\n",
       "  </thead>\n",
       "  <tbody>\n",
       "    <tr>\n",
       "      <th>118379</th>\n",
       "      <td>While this wine is dry and crisp with acidity,...</td>\n",
       "      <td>83</td>\n",
       "      <td>186</td>\n",
       "      <td>N</td>\n",
       "      <td>0</td>\n",
       "    </tr>\n",
       "    <tr>\n",
       "      <th>37470</th>\n",
       "      <td>This is a soft wine, with rounded tannins that...</td>\n",
       "      <td>86</td>\n",
       "      <td>194</td>\n",
       "      <td>N</td>\n",
       "      <td>3</td>\n",
       "    </tr>\n",
       "    <tr>\n",
       "      <th>69100</th>\n",
       "      <td>Rubbery and firm on the nose, with generic ber...</td>\n",
       "      <td>85</td>\n",
       "      <td>274</td>\n",
       "      <td>N</td>\n",
       "      <td>0</td>\n",
       "    </tr>\n",
       "    <tr>\n",
       "      <th>125065</th>\n",
       "      <td>Milk chocolate and oak aromas blend with light...</td>\n",
       "      <td>86</td>\n",
       "      <td>233</td>\n",
       "      <td>N</td>\n",
       "      <td>3</td>\n",
       "    </tr>\n",
       "    <tr>\n",
       "      <th>45873</th>\n",
       "      <td>This is a delicious soft wine with immediate f...</td>\n",
       "      <td>86</td>\n",
       "      <td>198</td>\n",
       "      <td>N</td>\n",
       "      <td>0</td>\n",
       "    </tr>\n",
       "  </tbody>\n",
       "</table>\n",
       "</div>"
      ],
      "text/plain": [
       "                                              doc_content  points  doc_len  \\\n",
       "doc_id                                                                       \n",
       "118379  While this wine is dry and crisp with acidity,...      83      186   \n",
       "37470   This is a soft wine, with rounded tannins that...      86      194   \n",
       "69100   Rubbery and firm on the nose, with generic ber...      85      274   \n",
       "125065  Milk chocolate and oak aromas blend with light...      86      233   \n",
       "45873   This is a delicious soft wine with immediate f...      86      198   \n",
       "\n",
       "       doc_label  set  \n",
       "doc_id                 \n",
       "118379         N    0  \n",
       "37470          N    3  \n",
       "69100          N    0  \n",
       "125065         N    3  \n",
       "45873          N    0  "
      ]
     },
     "execution_count": 21,
     "metadata": {},
     "output_type": "execute_result"
    }
   ],
   "source": [
    "DOCS.head()"
   ]
  },
  {
   "cell_type": "markdown",
   "metadata": {},
   "source": [
    "**Split docs by assigned number**"
   ]
  },
  {
   "cell_type": "code",
   "execution_count": 22,
   "metadata": {},
   "outputs": [],
   "source": [
    "DOCS.loc[DOCS.set != 0, 'group'] = 'train'\n",
    "DOCS.loc[DOCS.set == 0, 'group'] = 'test'"
   ]
  },
  {
   "cell_type": "code",
   "execution_count": 23,
   "metadata": {},
   "outputs": [
    {
     "data": {
      "text/html": [
       "<div>\n",
       "<style scoped>\n",
       "    .dataframe tbody tr th:only-of-type {\n",
       "        vertical-align: middle;\n",
       "    }\n",
       "\n",
       "    .dataframe tbody tr th {\n",
       "        vertical-align: top;\n",
       "    }\n",
       "\n",
       "    .dataframe thead th {\n",
       "        text-align: right;\n",
       "    }\n",
       "</style>\n",
       "<table border=\"1\" class=\"dataframe\">\n",
       "  <thead>\n",
       "    <tr style=\"text-align: right;\">\n",
       "      <th></th>\n",
       "      <th>doc_content</th>\n",
       "      <th>points</th>\n",
       "      <th>doc_len</th>\n",
       "      <th>doc_label</th>\n",
       "      <th>set</th>\n",
       "      <th>group</th>\n",
       "    </tr>\n",
       "    <tr>\n",
       "      <th>doc_id</th>\n",
       "      <th></th>\n",
       "      <th></th>\n",
       "      <th></th>\n",
       "      <th></th>\n",
       "      <th></th>\n",
       "      <th></th>\n",
       "    </tr>\n",
       "  </thead>\n",
       "  <tbody>\n",
       "    <tr>\n",
       "      <th>118379</th>\n",
       "      <td>While this wine is dry and crisp with acidity,...</td>\n",
       "      <td>83</td>\n",
       "      <td>186</td>\n",
       "      <td>N</td>\n",
       "      <td>0</td>\n",
       "      <td>test</td>\n",
       "    </tr>\n",
       "    <tr>\n",
       "      <th>37470</th>\n",
       "      <td>This is a soft wine, with rounded tannins that...</td>\n",
       "      <td>86</td>\n",
       "      <td>194</td>\n",
       "      <td>N</td>\n",
       "      <td>3</td>\n",
       "      <td>train</td>\n",
       "    </tr>\n",
       "    <tr>\n",
       "      <th>69100</th>\n",
       "      <td>Rubbery and firm on the nose, with generic ber...</td>\n",
       "      <td>85</td>\n",
       "      <td>274</td>\n",
       "      <td>N</td>\n",
       "      <td>0</td>\n",
       "      <td>test</td>\n",
       "    </tr>\n",
       "    <tr>\n",
       "      <th>125065</th>\n",
       "      <td>Milk chocolate and oak aromas blend with light...</td>\n",
       "      <td>86</td>\n",
       "      <td>233</td>\n",
       "      <td>N</td>\n",
       "      <td>3</td>\n",
       "      <td>train</td>\n",
       "    </tr>\n",
       "    <tr>\n",
       "      <th>45873</th>\n",
       "      <td>This is a delicious soft wine with immediate f...</td>\n",
       "      <td>86</td>\n",
       "      <td>198</td>\n",
       "      <td>N</td>\n",
       "      <td>0</td>\n",
       "      <td>test</td>\n",
       "    </tr>\n",
       "    <tr>\n",
       "      <th>...</th>\n",
       "      <td>...</td>\n",
       "      <td>...</td>\n",
       "      <td>...</td>\n",
       "      <td>...</td>\n",
       "      <td>...</td>\n",
       "      <td>...</td>\n",
       "    </tr>\n",
       "    <tr>\n",
       "      <th>11335</th>\n",
       "      <td>Oh the purity of freshly cut red-cheeked apple...</td>\n",
       "      <td>93</td>\n",
       "      <td>330</td>\n",
       "      <td>P</td>\n",
       "      <td>3</td>\n",
       "      <td>train</td>\n",
       "    </tr>\n",
       "    <tr>\n",
       "      <th>67010</th>\n",
       "      <td>Il Sigillo, which translates to “the seal,” op...</td>\n",
       "      <td>93</td>\n",
       "      <td>360</td>\n",
       "      <td>P</td>\n",
       "      <td>0</td>\n",
       "      <td>test</td>\n",
       "    </tr>\n",
       "    <tr>\n",
       "      <th>15454</th>\n",
       "      <td>Aromas recall mature dark berry, stewed plum, ...</td>\n",
       "      <td>93</td>\n",
       "      <td>253</td>\n",
       "      <td>P</td>\n",
       "      <td>2</td>\n",
       "      <td>train</td>\n",
       "    </tr>\n",
       "    <tr>\n",
       "      <th>85179</th>\n",
       "      <td>This Cabernet Sauvignon-based wine, a celebrat...</td>\n",
       "      <td>94</td>\n",
       "      <td>330</td>\n",
       "      <td>P</td>\n",
       "      <td>1</td>\n",
       "      <td>train</td>\n",
       "    </tr>\n",
       "    <tr>\n",
       "      <th>32261</th>\n",
       "      <td>This wine is produced in microscopic amounts, ...</td>\n",
       "      <td>93</td>\n",
       "      <td>304</td>\n",
       "      <td>P</td>\n",
       "      <td>1</td>\n",
       "      <td>train</td>\n",
       "    </tr>\n",
       "  </tbody>\n",
       "</table>\n",
       "<p>24368 rows × 6 columns</p>\n",
       "</div>"
      ],
      "text/plain": [
       "                                              doc_content  points  doc_len  \\\n",
       "doc_id                                                                       \n",
       "118379  While this wine is dry and crisp with acidity,...      83      186   \n",
       "37470   This is a soft wine, with rounded tannins that...      86      194   \n",
       "69100   Rubbery and firm on the nose, with generic ber...      85      274   \n",
       "125065  Milk chocolate and oak aromas blend with light...      86      233   \n",
       "45873   This is a delicious soft wine with immediate f...      86      198   \n",
       "...                                                   ...     ...      ...   \n",
       "11335   Oh the purity of freshly cut red-cheeked apple...      93      330   \n",
       "67010   Il Sigillo, which translates to “the seal,” op...      93      360   \n",
       "15454   Aromas recall mature dark berry, stewed plum, ...      93      253   \n",
       "85179   This Cabernet Sauvignon-based wine, a celebrat...      94      330   \n",
       "32261   This wine is produced in microscopic amounts, ...      93      304   \n",
       "\n",
       "       doc_label  set  group  \n",
       "doc_id                        \n",
       "118379         N    0   test  \n",
       "37470          N    3  train  \n",
       "69100          N    0   test  \n",
       "125065         N    3  train  \n",
       "45873          N    0   test  \n",
       "...          ...  ...    ...  \n",
       "11335          P    3  train  \n",
       "67010          P    0   test  \n",
       "15454          P    2  train  \n",
       "85179          P    1  train  \n",
       "32261          P    1  train  \n",
       "\n",
       "[24368 rows x 6 columns]"
      ]
     },
     "execution_count": 23,
     "metadata": {},
     "output_type": "execute_result"
    }
   ],
   "source": [
    "DOCS"
   ]
  },
  {
   "cell_type": "code",
   "execution_count": 24,
   "metadata": {},
   "outputs": [
    {
     "data": {
      "text/plain": [
       "2.98"
      ]
     },
     "execution_count": 24,
     "metadata": {},
     "output_type": "execute_result"
    }
   ],
   "source": [
    "round(DOCS.value_counts('group')[0] / DOCS.value_counts('group')[1], 2)"
   ]
  },
  {
   "cell_type": "markdown",
   "metadata": {
    "tags": []
   },
   "source": [
    "## Convert docs to tokens"
   ]
  },
  {
   "cell_type": "code",
   "execution_count": 25,
   "metadata": {},
   "outputs": [],
   "source": [
    "def tokenize_docs(doc_df):\n",
    "\n",
    "    # Parse sentences with NLTK\n",
    "    sent_df = doc_df.doc_content.apply(lambda x: pd.Series(nltk.sent_tokenize(x))).stack().to_frame('sent_str')\n",
    "    sent_df.index.names = ['doc_id', 'sent_num']\n",
    "    \n",
    "    # Get tokens with POS with NLTK\n",
    "    token_df = sent_df.sent_str.apply(lambda x: pd.Series(nltk.pos_tag(nltk.word_tokenize(x))))\n",
    "    token_df = token_df.stack().to_frame('pos_tuple')\n",
    "    \n",
    "    # Extract features\n",
    "    token_df['pos'] = token_df.pos_tuple.apply(lambda x: x[1])\n",
    "    token_df['token_str'] = token_df.pos_tuple.apply(lambda x: x[0])\n",
    "    token_df['term_str'] = token_df.token_str.str.lower()\n",
    "    \n",
    "    # Remove unwanted terms\n",
    "    token_df = token_df[token_df.term_str.str.match(r'^[a-z0-9]+$')]\n",
    "    token_df = token_df.loc[~token_df.term_str.isin(stopwords)]\n",
    "    \n",
    "    # Fix columns and index\n",
    "    token_df = token_df.drop('pos_tuple', axis=1)\n",
    "    token_df.index.names = ['doc_id','sent_num','token_num']\n",
    "    \n",
    "    return token_df"
   ]
  },
  {
   "cell_type": "code",
   "execution_count": 26,
   "metadata": {},
   "outputs": [],
   "source": [
    "TOKENS = tokenize_docs(DOCS)\n",
    "TOKENS = TOKENS.sort_index()"
   ]
  },
  {
   "cell_type": "code",
   "execution_count": 27,
   "metadata": {},
   "outputs": [
    {
     "data": {
      "text/html": [
       "<div>\n",
       "<style scoped>\n",
       "    .dataframe tbody tr th:only-of-type {\n",
       "        vertical-align: middle;\n",
       "    }\n",
       "\n",
       "    .dataframe tbody tr th {\n",
       "        vertical-align: top;\n",
       "    }\n",
       "\n",
       "    .dataframe thead th {\n",
       "        text-align: right;\n",
       "    }\n",
       "</style>\n",
       "<table border=\"1\" class=\"dataframe\">\n",
       "  <thead>\n",
       "    <tr style=\"text-align: right;\">\n",
       "      <th></th>\n",
       "      <th></th>\n",
       "      <th></th>\n",
       "      <th>pos</th>\n",
       "      <th>token_str</th>\n",
       "      <th>term_str</th>\n",
       "    </tr>\n",
       "    <tr>\n",
       "      <th>doc_id</th>\n",
       "      <th>sent_num</th>\n",
       "      <th>token_num</th>\n",
       "      <th></th>\n",
       "      <th></th>\n",
       "      <th></th>\n",
       "    </tr>\n",
       "  </thead>\n",
       "  <tbody>\n",
       "    <tr>\n",
       "      <th rowspan=\"5\" valign=\"top\">31</th>\n",
       "      <th rowspan=\"5\" valign=\"top\">0</th>\n",
       "      <th>0</th>\n",
       "      <td>NNP</td>\n",
       "      <td>Merlot</td>\n",
       "      <td>merlot</td>\n",
       "    </tr>\n",
       "    <tr>\n",
       "      <th>2</th>\n",
       "      <td>NNP</td>\n",
       "      <td>Nero</td>\n",
       "      <td>nero</td>\n",
       "    </tr>\n",
       "    <tr>\n",
       "      <th>4</th>\n",
       "      <td>VB</td>\n",
       "      <td>form</td>\n",
       "      <td>form</td>\n",
       "    </tr>\n",
       "    <tr>\n",
       "      <th>6</th>\n",
       "      <td>NN</td>\n",
       "      <td>base</td>\n",
       "      <td>base</td>\n",
       "    </tr>\n",
       "    <tr>\n",
       "      <th>9</th>\n",
       "      <td>JJ</td>\n",
       "      <td>easy</td>\n",
       "      <td>easy</td>\n",
       "    </tr>\n",
       "    <tr>\n",
       "      <th>...</th>\n",
       "      <th>...</th>\n",
       "      <th>...</th>\n",
       "      <td>...</td>\n",
       "      <td>...</td>\n",
       "      <td>...</td>\n",
       "    </tr>\n",
       "    <tr>\n",
       "      <th rowspan=\"5\" valign=\"top\">129851</th>\n",
       "      <th rowspan=\"5\" valign=\"top\">1</th>\n",
       "      <th>8</th>\n",
       "      <td>VB</td>\n",
       "      <td>tomato</td>\n",
       "      <td>tomato</td>\n",
       "    </tr>\n",
       "    <tr>\n",
       "      <th>9</th>\n",
       "      <td>NN</td>\n",
       "      <td>pasta</td>\n",
       "      <td>pasta</td>\n",
       "    </tr>\n",
       "    <tr>\n",
       "      <th>10</th>\n",
       "      <td>NN</td>\n",
       "      <td>sauce</td>\n",
       "      <td>sauce</td>\n",
       "    </tr>\n",
       "    <tr>\n",
       "      <th>11</th>\n",
       "      <td>CC</td>\n",
       "      <td>or</td>\n",
       "      <td>or</td>\n",
       "    </tr>\n",
       "    <tr>\n",
       "      <th>12</th>\n",
       "      <td>NN</td>\n",
       "      <td>pizza</td>\n",
       "      <td>pizza</td>\n",
       "    </tr>\n",
       "  </tbody>\n",
       "</table>\n",
       "<p>679367 rows × 3 columns</p>\n",
       "</div>"
      ],
      "text/plain": [
       "                           pos token_str term_str\n",
       "doc_id sent_num token_num                        \n",
       "31     0        0          NNP    Merlot   merlot\n",
       "                2          NNP      Nero     nero\n",
       "                4           VB      form     form\n",
       "                6           NN      base     base\n",
       "                9           JJ      easy     easy\n",
       "...                        ...       ...      ...\n",
       "129851 1        8           VB    tomato   tomato\n",
       "                9           NN     pasta    pasta\n",
       "                10          NN     sauce    sauce\n",
       "                11          CC        or       or\n",
       "                12          NN     pizza    pizza\n",
       "\n",
       "[679367 rows x 3 columns]"
      ]
     },
     "execution_count": 27,
     "metadata": {},
     "output_type": "execute_result"
    }
   ],
   "source": [
    "TOKENS"
   ]
  },
  {
   "cell_type": "markdown",
   "metadata": {},
   "source": [
    "## Extract VOCAB"
   ]
  },
  {
   "cell_type": "markdown",
   "metadata": {
    "tags": []
   },
   "source": [
    "**Note that we only use the vocabulary of the training data.**"
   ]
  },
  {
   "cell_type": "code",
   "execution_count": 28,
   "metadata": {},
   "outputs": [],
   "source": [
    "train_doc_idx = DOCS.loc[DOCS.group == 'train'].index\n",
    "test_doc_idx = DOCS.loc[DOCS.group == 'test'].index"
   ]
  },
  {
   "cell_type": "code",
   "execution_count": 29,
   "metadata": {},
   "outputs": [],
   "source": [
    "VOCAB = TOKENS.loc[train_doc_idx].term_str.value_counts().to_frame('n').sort_index()\n",
    "VOCAB.index.name = 'term_str'\n",
    "VOCAB['df'] = TOKENS.loc[train_doc_idx].value_counts(['doc_id','term_str']).groupby('term_str').count()\n",
    "VOCAB['dfidf'] = VOCAB.df * np.log2(len(train_doc_idx)/VOCAB.df)"
   ]
  },
  {
   "cell_type": "code",
   "execution_count": 30,
   "metadata": {},
   "outputs": [
    {
     "data": {
      "text/html": [
       "<div>\n",
       "<style scoped>\n",
       "    .dataframe tbody tr th:only-of-type {\n",
       "        vertical-align: middle;\n",
       "    }\n",
       "\n",
       "    .dataframe tbody tr th {\n",
       "        vertical-align: top;\n",
       "    }\n",
       "\n",
       "    .dataframe thead th {\n",
       "        text-align: right;\n",
       "    }\n",
       "</style>\n",
       "<table border=\"1\" class=\"dataframe\">\n",
       "  <thead>\n",
       "    <tr style=\"text-align: right;\">\n",
       "      <th></th>\n",
       "      <th>n</th>\n",
       "      <th>df</th>\n",
       "      <th>dfidf</th>\n",
       "    </tr>\n",
       "    <tr>\n",
       "      <th>term_str</th>\n",
       "      <th></th>\n",
       "      <th></th>\n",
       "      <th></th>\n",
       "    </tr>\n",
       "  </thead>\n",
       "  <tbody>\n",
       "    <tr>\n",
       "      <th>fruit</th>\n",
       "      <td>6136</td>\n",
       "      <td>5539</td>\n",
       "      <td>9527.306590</td>\n",
       "    </tr>\n",
       "    <tr>\n",
       "      <th>flavors</th>\n",
       "      <td>8635</td>\n",
       "      <td>8240</td>\n",
       "      <td>9451.462180</td>\n",
       "    </tr>\n",
       "    <tr>\n",
       "      <th>palate</th>\n",
       "      <td>5134</td>\n",
       "      <td>4975</td>\n",
       "      <td>9327.975357</td>\n",
       "    </tr>\n",
       "    <tr>\n",
       "      <th>aromas</th>\n",
       "      <td>4892</td>\n",
       "      <td>4828</td>\n",
       "      <td>9261.266440</td>\n",
       "    </tr>\n",
       "    <tr>\n",
       "      <th>acidity</th>\n",
       "      <td>4862</td>\n",
       "      <td>4753</td>\n",
       "      <td>9224.755698</td>\n",
       "    </tr>\n",
       "    <tr>\n",
       "      <th>drink</th>\n",
       "      <td>4668</td>\n",
       "      <td>4612</td>\n",
       "      <td>9151.471382</td>\n",
       "    </tr>\n",
       "    <tr>\n",
       "      <th>finish</th>\n",
       "      <td>4537</td>\n",
       "      <td>4505</td>\n",
       "      <td>9091.717729</td>\n",
       "    </tr>\n",
       "    <tr>\n",
       "      <th>wine</th>\n",
       "      <td>12138</td>\n",
       "      <td>9468</td>\n",
       "      <td>8962.472620</td>\n",
       "    </tr>\n",
       "    <tr>\n",
       "      <th>tannins</th>\n",
       "      <td>4409</td>\n",
       "      <td>4278</td>\n",
       "      <td>8952.698787</td>\n",
       "    </tr>\n",
       "    <tr>\n",
       "      <th>cherry</th>\n",
       "      <td>3796</td>\n",
       "      <td>3600</td>\n",
       "      <td>8430.010344</td>\n",
       "    </tr>\n",
       "  </tbody>\n",
       "</table>\n",
       "</div>"
      ],
      "text/plain": [
       "              n    df        dfidf\n",
       "term_str                          \n",
       "fruit      6136  5539  9527.306590\n",
       "flavors    8635  8240  9451.462180\n",
       "palate     5134  4975  9327.975357\n",
       "aromas     4892  4828  9261.266440\n",
       "acidity    4862  4753  9224.755698\n",
       "drink      4668  4612  9151.471382\n",
       "finish     4537  4505  9091.717729\n",
       "wine      12138  9468  8962.472620\n",
       "tannins    4409  4278  8952.698787\n",
       "cherry     3796  3600  8430.010344"
      ]
     },
     "execution_count": 30,
     "metadata": {},
     "output_type": "execute_result"
    }
   ],
   "source": [
    "VOCAB.sort_values('dfidf', ascending=False).head(10)"
   ]
  },
  {
   "cell_type": "markdown",
   "metadata": {},
   "source": [
    "# Convert to BOW"
   ]
  },
  {
   "cell_type": "code",
   "execution_count": 31,
   "metadata": {},
   "outputs": [],
   "source": [
    "BOW = TOKENS.groupby(['doc_id','term_str']).term_str.count().to_frame('n')"
   ]
  },
  {
   "cell_type": "code",
   "execution_count": 32,
   "metadata": {},
   "outputs": [
    {
     "data": {
      "text/html": [
       "<div>\n",
       "<style scoped>\n",
       "    .dataframe tbody tr th:only-of-type {\n",
       "        vertical-align: middle;\n",
       "    }\n",
       "\n",
       "    .dataframe tbody tr th {\n",
       "        vertical-align: top;\n",
       "    }\n",
       "\n",
       "    .dataframe thead th {\n",
       "        text-align: right;\n",
       "    }\n",
       "</style>\n",
       "<table border=\"1\" class=\"dataframe\">\n",
       "  <thead>\n",
       "    <tr style=\"text-align: right;\">\n",
       "      <th></th>\n",
       "      <th></th>\n",
       "      <th>n</th>\n",
       "    </tr>\n",
       "    <tr>\n",
       "      <th>doc_id</th>\n",
       "      <th>term_str</th>\n",
       "      <th></th>\n",
       "    </tr>\n",
       "  </thead>\n",
       "  <tbody>\n",
       "    <tr>\n",
       "      <th rowspan=\"5\" valign=\"top\">31</th>\n",
       "      <th>base</th>\n",
       "      <td>1</td>\n",
       "    </tr>\n",
       "    <tr>\n",
       "      <th>bright</th>\n",
       "      <td>1</td>\n",
       "    </tr>\n",
       "    <tr>\n",
       "      <th>clean</th>\n",
       "      <td>1</td>\n",
       "    </tr>\n",
       "    <tr>\n",
       "      <th>easy</th>\n",
       "      <td>1</td>\n",
       "    </tr>\n",
       "    <tr>\n",
       "      <th>fettuccine</th>\n",
       "      <td>1</td>\n",
       "    </tr>\n",
       "    <tr>\n",
       "      <th>...</th>\n",
       "      <th>...</th>\n",
       "      <td>...</td>\n",
       "    </tr>\n",
       "    <tr>\n",
       "      <th rowspan=\"5\" valign=\"top\">129851</th>\n",
       "      <th>sauce</th>\n",
       "      <td>1</td>\n",
       "    </tr>\n",
       "    <tr>\n",
       "      <th>sicily</th>\n",
       "      <td>1</td>\n",
       "    </tr>\n",
       "    <tr>\n",
       "      <th>tomato</th>\n",
       "      <td>1</td>\n",
       "    </tr>\n",
       "    <tr>\n",
       "      <th>wine</th>\n",
       "      <td>1</td>\n",
       "    </tr>\n",
       "    <tr>\n",
       "      <th>would</th>\n",
       "      <td>1</td>\n",
       "    </tr>\n",
       "  </tbody>\n",
       "</table>\n",
       "<p>657946 rows × 1 columns</p>\n",
       "</div>"
      ],
      "text/plain": [
       "                   n\n",
       "doc_id term_str     \n",
       "31     base        1\n",
       "       bright      1\n",
       "       clean       1\n",
       "       easy        1\n",
       "       fettuccine  1\n",
       "...               ..\n",
       "129851 sauce       1\n",
       "       sicily      1\n",
       "       tomato      1\n",
       "       wine        1\n",
       "       would       1\n",
       "\n",
       "[657946 rows x 1 columns]"
      ]
     },
     "execution_count": 32,
     "metadata": {},
     "output_type": "execute_result"
    }
   ],
   "source": [
    "BOW"
   ]
  },
  {
   "cell_type": "code",
   "execution_count": 33,
   "metadata": {
    "tags": []
   },
   "outputs": [
    {
     "name": "stdout",
     "output_type": "stream",
     "text": [
      "CPU times: user 284 ms, sys: 72 ms, total: 356 ms\n",
      "Wall time: 355 ms\n"
     ]
    },
    {
     "data": {
      "text/plain": [
       "<AxesSubplot:>"
      ]
     },
     "execution_count": 33,
     "metadata": {},
     "output_type": "execute_result"
    },
    {
     "data": {
      "image/png": "[encoded data removed]",
      "text/plain": [
       "<Figure size 432x288 with 1 Axes>"
      ]
     },
     "metadata": {
      "needs_background": "light"
     },
     "output_type": "display_data"
    }
   ],
   "source": [
    "%time BOW.loc[train_doc_idx].groupby('doc_id').n.sum().hist();"
   ]
  },
  {
   "cell_type": "markdown",
   "metadata": {},
   "source": [
    "## Transfer doc labels and splits to tokens &rarr; CRUCIAL"
   ]
  },
  {
   "cell_type": "code",
   "execution_count": 34,
   "metadata": {},
   "outputs": [],
   "source": [
    "BOW = BOW.join(DOCS.doc_label)"
   ]
  },
  {
   "cell_type": "code",
   "execution_count": 35,
   "metadata": {},
   "outputs": [
    {
     "data": {
      "text/html": [
       "<div>\n",
       "<style scoped>\n",
       "    .dataframe tbody tr th:only-of-type {\n",
       "        vertical-align: middle;\n",
       "    }\n",
       "\n",
       "    .dataframe tbody tr th {\n",
       "        vertical-align: top;\n",
       "    }\n",
       "\n",
       "    .dataframe thead th {\n",
       "        text-align: right;\n",
       "    }\n",
       "</style>\n",
       "<table border=\"1\" class=\"dataframe\">\n",
       "  <thead>\n",
       "    <tr style=\"text-align: right;\">\n",
       "      <th></th>\n",
       "      <th></th>\n",
       "      <th>n</th>\n",
       "      <th>doc_label</th>\n",
       "    </tr>\n",
       "    <tr>\n",
       "      <th>doc_id</th>\n",
       "      <th>term_str</th>\n",
       "      <th></th>\n",
       "      <th></th>\n",
       "    </tr>\n",
       "  </thead>\n",
       "  <tbody>\n",
       "    <tr>\n",
       "      <th>52577</th>\n",
       "      <th>bring</th>\n",
       "      <td>1</td>\n",
       "      <td>N</td>\n",
       "    </tr>\n",
       "    <tr>\n",
       "      <th>32561</th>\n",
       "      <th>acidity</th>\n",
       "      <td>1</td>\n",
       "      <td>N</td>\n",
       "    </tr>\n",
       "    <tr>\n",
       "      <th>4510</th>\n",
       "      <th>its</th>\n",
       "      <td>2</td>\n",
       "      <td>P</td>\n",
       "    </tr>\n",
       "    <tr>\n",
       "      <th>98616</th>\n",
       "      <th>like</th>\n",
       "      <td>1</td>\n",
       "      <td>N</td>\n",
       "    </tr>\n",
       "    <tr>\n",
       "      <th>41415</th>\n",
       "      <th>floor</th>\n",
       "      <td>1</td>\n",
       "      <td>P</td>\n",
       "    </tr>\n",
       "    <tr>\n",
       "      <th>35834</th>\n",
       "      <th>perfumes</th>\n",
       "      <td>1</td>\n",
       "      <td>P</td>\n",
       "    </tr>\n",
       "    <tr>\n",
       "      <th>39313</th>\n",
       "      <th>time</th>\n",
       "      <td>1</td>\n",
       "      <td>P</td>\n",
       "    </tr>\n",
       "    <tr>\n",
       "      <th>9400</th>\n",
       "      <th>ascent</th>\n",
       "      <td>1</td>\n",
       "      <td>P</td>\n",
       "    </tr>\n",
       "    <tr>\n",
       "      <th>125782</th>\n",
       "      <th>palate</th>\n",
       "      <td>1</td>\n",
       "      <td>P</td>\n",
       "    </tr>\n",
       "    <tr>\n",
       "      <th>13156</th>\n",
       "      <th>red</th>\n",
       "      <td>1</td>\n",
       "      <td>N</td>\n",
       "    </tr>\n",
       "  </tbody>\n",
       "</table>\n",
       "</div>"
      ],
      "text/plain": [
       "                 n doc_label\n",
       "doc_id term_str             \n",
       "52577  bring     1         N\n",
       "32561  acidity   1         N\n",
       "4510   its       2         P\n",
       "98616  like      1         N\n",
       "41415  floor     1         P\n",
       "35834  perfumes  1         P\n",
       "39313  time      1         P\n",
       "9400   ascent    1         P\n",
       "125782 palate    1         P\n",
       "13156  red       1         N"
      ]
     },
     "execution_count": 35,
     "metadata": {},
     "output_type": "execute_result"
    }
   ],
   "source": [
    "BOW.sample(10)"
   ]
  },
  {
   "cell_type": "code",
   "execution_count": 36,
   "metadata": {},
   "outputs": [
    {
     "data": {
      "text/plain": [
       "P    400176\n",
       "N    257770\n",
       "Name: doc_label, dtype: int64"
      ]
     },
     "execution_count": 36,
     "metadata": {},
     "output_type": "execute_result"
    }
   ],
   "source": [
    "BOW.doc_label.value_counts()"
   ]
  },
  {
   "cell_type": "markdown",
   "metadata": {},
   "source": [
    "# Training"
   ]
  },
  {
   "cell_type": "markdown",
   "metadata": {},
   "source": [
    "## Estimate priors $p(c)$\n",
    "\n",
    "$$\n",
    "\\hat{P}(c) = \\dfrac{N_{c}}{N_{d}}\n",
    "$$"
   ]
  },
  {
   "cell_type": "code",
   "execution_count": 37,
   "metadata": {},
   "outputs": [],
   "source": [
    "Nc = BOW.loc[train_doc_idx].groupby(['doc_label']).n.agg(agg_method)\n",
    "Nd = BOW.loc[train_doc_idx].n.agg(agg_method)\n",
    "class_priors = Nc / Nd"
   ]
  },
  {
   "cell_type": "code",
   "execution_count": 38,
   "metadata": {},
   "outputs": [
    {
     "data": {
      "text/plain": [
       "doc_label\n",
       "N    0.39\n",
       "P    0.61\n",
       "Name: n, dtype: float64"
      ]
     },
     "execution_count": 38,
     "metadata": {},
     "output_type": "execute_result"
    }
   ],
   "source": [
    "np.round(class_priors, 2)"
   ]
  },
  {
   "cell_type": "markdown",
   "metadata": {},
   "source": [
    "**Convert priors to logs**"
   ]
  },
  {
   "cell_type": "code",
   "execution_count": 39,
   "metadata": {},
   "outputs": [],
   "source": [
    "class_priors_log = log(class_priors)"
   ]
  },
  {
   "cell_type": "code",
   "execution_count": 40,
   "metadata": {},
   "outputs": [
    {
     "data": {
      "text/plain": [
       "doc_label\n",
       "N   -1.362365\n",
       "P   -0.710624\n",
       "Name: n, dtype: float64"
      ]
     },
     "execution_count": 40,
     "metadata": {},
     "output_type": "execute_result"
    }
   ],
   "source": [
    "class_priors_log"
   ]
  },
  {
   "cell_type": "markdown",
   "metadata": {},
   "source": [
    "## Estimate likelihoods $p(w|c)$\n",
    "\n",
    "$$\n",
    "\\hat{P}(w_i|c) = \\dfrac{count(w_i,c)}{\\sum_{w \\in V} count(w,c)}\n",
    "$$\n",
    "\n",
    "$$\n",
    "\\hat{P}(w_i|c) = \\dfrac{count(w_i,c)+1}{\\sum_{w \\in V} (count(w,c)+1)} = \\dfrac{count(w_i,c)+1}{(\\sum_{w \\in V} count(w,c))+|V|} \n",
    "$$\n",
    "\n",
    "\n",
    "\n",
    "Now we compute the probability of a token given the label. This will in effect product two language models, one for each label. Key idea = **the likelihoods are language models** (see Pearl for interpretation of likelihoods)."
   ]
  },
  {
   "cell_type": "code",
   "execution_count": 41,
   "metadata": {},
   "outputs": [],
   "source": [
    "class_likelihoods = BOW.loc[train_doc_idx].groupby(['term_str', 'doc_label']).n.agg(agg_method).unstack().fillna(0)"
   ]
  },
  {
   "cell_type": "code",
   "execution_count": 42,
   "metadata": {},
   "outputs": [
    {
     "data": {
      "text/html": [
       "<style type=\"text/css\">\n",
       "#T_462e8_row0_col0, #T_462e8_row1_col1, #T_462e8_row5_col1, #T_462e8_row9_col1 {\n",
       "  background-color: #dff2da;\n",
       "  color: #000000;\n",
       "}\n",
       "#T_462e8_row0_col1, #T_462e8_row1_col0, #T_462e8_row2_col1, #T_462e8_row3_col1, #T_462e8_row6_col1, #T_462e8_row7_col0, #T_462e8_row8_col0, #T_462e8_row9_col0 {\n",
       "  background-color: #f7fcf0;\n",
       "  color: #000000;\n",
       "}\n",
       "#T_462e8_row2_col0 {\n",
       "  background-color: #b4e2ba;\n",
       "  color: #000000;\n",
       "}\n",
       "#T_462e8_row3_col0 {\n",
       "  background-color: #87d1c0;\n",
       "  color: #000000;\n",
       "}\n",
       "#T_462e8_row4_col0 {\n",
       "  background-color: #c7e9c3;\n",
       "  color: #000000;\n",
       "}\n",
       "#T_462e8_row4_col1 {\n",
       "  background-color: #084081;\n",
       "  color: #f1f1f1;\n",
       "}\n",
       "#T_462e8_row5_col0 {\n",
       "  background-color: #d4eece;\n",
       "  color: #000000;\n",
       "}\n",
       "#T_462e8_row6_col0, #T_462e8_row7_col1, #T_462e8_row8_col1 {\n",
       "  background-color: #ebf7e5;\n",
       "  color: #000000;\n",
       "}\n",
       "</style>\n",
       "<table id=\"T_462e8\">\n",
       "  <thead>\n",
       "    <tr>\n",
       "      <th class=\"index_name level0\" >doc_label</th>\n",
       "      <th id=\"T_462e8_level0_col0\" class=\"col_heading level0 col0\" >N</th>\n",
       "      <th id=\"T_462e8_level0_col1\" class=\"col_heading level0 col1\" >P</th>\n",
       "    </tr>\n",
       "    <tr>\n",
       "      <th class=\"index_name level0\" >term_str</th>\n",
       "      <th class=\"blank col0\" >&nbsp;</th>\n",
       "      <th class=\"blank col1\" >&nbsp;</th>\n",
       "    </tr>\n",
       "  </thead>\n",
       "  <tbody>\n",
       "    <tr>\n",
       "      <th id=\"T_462e8_level0_row0\" class=\"row_heading level0 row0\" >miracles</th>\n",
       "      <td id=\"T_462e8_row0_col0\" class=\"data row0 col0\" >2.000000</td>\n",
       "      <td id=\"T_462e8_row0_col1\" class=\"data row0 col1\" >0.000000</td>\n",
       "    </tr>\n",
       "    <tr>\n",
       "      <th id=\"T_462e8_level0_row1\" class=\"row_heading level0 row1\" >gracing</th>\n",
       "      <td id=\"T_462e8_row1_col0\" class=\"data row1 col0\" >0.000000</td>\n",
       "      <td id=\"T_462e8_row1_col1\" class=\"data row1 col1\" >2.000000</td>\n",
       "    </tr>\n",
       "    <tr>\n",
       "      <th id=\"T_462e8_level0_row2\" class=\"row_heading level0 row2\" >spun</th>\n",
       "      <td id=\"T_462e8_row2_col0\" class=\"data row2 col0\" >5.000000</td>\n",
       "      <td id=\"T_462e8_row2_col1\" class=\"data row2 col1\" >0.000000</td>\n",
       "    </tr>\n",
       "    <tr>\n",
       "      <th id=\"T_462e8_level0_row3\" class=\"row_heading level0 row3\" >vidal</th>\n",
       "      <td id=\"T_462e8_row3_col0\" class=\"data row3 col0\" >7.000000</td>\n",
       "      <td id=\"T_462e8_row3_col1\" class=\"data row3 col1\" >0.000000</td>\n",
       "    </tr>\n",
       "    <tr>\n",
       "      <th id=\"T_462e8_level0_row4\" class=\"row_heading level0 row4\" >expand</th>\n",
       "      <td id=\"T_462e8_row4_col0\" class=\"data row4 col0\" >4.000000</td>\n",
       "      <td id=\"T_462e8_row4_col1\" class=\"data row4 col1\" >15.000000</td>\n",
       "    </tr>\n",
       "    <tr>\n",
       "      <th id=\"T_462e8_level0_row5\" class=\"row_heading level0 row5\" >judging</th>\n",
       "      <td id=\"T_462e8_row5_col0\" class=\"data row5 col0\" >3.000000</td>\n",
       "      <td id=\"T_462e8_row5_col1\" class=\"data row5 col1\" >2.000000</td>\n",
       "    </tr>\n",
       "    <tr>\n",
       "      <th id=\"T_462e8_level0_row6\" class=\"row_heading level0 row6\" >pales</th>\n",
       "      <td id=\"T_462e8_row6_col0\" class=\"data row6 col0\" >1.000000</td>\n",
       "      <td id=\"T_462e8_row6_col1\" class=\"data row6 col1\" >0.000000</td>\n",
       "    </tr>\n",
       "    <tr>\n",
       "      <th id=\"T_462e8_level0_row7\" class=\"row_heading level0 row7\" >pentratingly</th>\n",
       "      <td id=\"T_462e8_row7_col0\" class=\"data row7 col0\" >0.000000</td>\n",
       "      <td id=\"T_462e8_row7_col1\" class=\"data row7 col1\" >1.000000</td>\n",
       "    </tr>\n",
       "    <tr>\n",
       "      <th id=\"T_462e8_level0_row8\" class=\"row_heading level0 row8\" >granddaughter</th>\n",
       "      <td id=\"T_462e8_row8_col0\" class=\"data row8 col0\" >0.000000</td>\n",
       "      <td id=\"T_462e8_row8_col1\" class=\"data row8 col1\" >1.000000</td>\n",
       "    </tr>\n",
       "    <tr>\n",
       "      <th id=\"T_462e8_level0_row9\" class=\"row_heading level0 row9\" >buco</th>\n",
       "      <td id=\"T_462e8_row9_col0\" class=\"data row9 col0\" >0.000000</td>\n",
       "      <td id=\"T_462e8_row9_col1\" class=\"data row9 col1\" >2.000000</td>\n",
       "    </tr>\n",
       "  </tbody>\n",
       "</table>\n"
      ],
      "text/plain": [
       "<pandas.io.formats.style.Styler at 0x7fd7c6f9b430>"
      ]
     },
     "execution_count": 42,
     "metadata": {},
     "output_type": "execute_result"
    }
   ],
   "source": [
    "class_likelihoods.sample(10).style.background_gradient(cmap='GnBu', axis=None)"
   ]
  },
  {
   "cell_type": "code",
   "execution_count": 43,
   "metadata": {},
   "outputs": [],
   "source": [
    "class_likelihoods = class_likelihoods + smooth_alpha\n",
    "class_likelihoods = class_likelihoods / class_likelihoods.sum()"
   ]
  },
  {
   "cell_type": "code",
   "execution_count": 44,
   "metadata": {},
   "outputs": [
    {
     "data": {
      "text/html": [
       "<style type=\"text/css\">\n",
       "#T_d9afc_row0_col0, #T_d9afc_row1_col0, #T_d9afc_row3_col1 {\n",
       "  background-color: #f6fbef;\n",
       "  color: #000000;\n",
       "}\n",
       "#T_d9afc_row0_col1, #T_d9afc_row1_col1, #T_d9afc_row2_col0, #T_d9afc_row2_col1, #T_d9afc_row3_col0, #T_d9afc_row5_col0, #T_d9afc_row5_col1, #T_d9afc_row6_col0, #T_d9afc_row6_col1, #T_d9afc_row7_col0, #T_d9afc_row7_col1, #T_d9afc_row8_col0, #T_d9afc_row8_col1, #T_d9afc_row9_col0, #T_d9afc_row9_col1 {\n",
       "  background-color: #f7fcf0;\n",
       "  color: #000000;\n",
       "}\n",
       "#T_d9afc_row4_col0 {\n",
       "  background-color: #3091c1;\n",
       "  color: #f1f1f1;\n",
       "}\n",
       "#T_d9afc_row4_col1 {\n",
       "  background-color: #084081;\n",
       "  color: #f1f1f1;\n",
       "}\n",
       "</style>\n",
       "<table id=\"T_d9afc\">\n",
       "  <thead>\n",
       "    <tr>\n",
       "      <th class=\"index_name level0\" >doc_label</th>\n",
       "      <th id=\"T_d9afc_level0_col0\" class=\"col_heading level0 col0\" >N</th>\n",
       "      <th id=\"T_d9afc_level0_col1\" class=\"col_heading level0 col1\" >P</th>\n",
       "    </tr>\n",
       "    <tr>\n",
       "      <th class=\"index_name level0\" >term_str</th>\n",
       "      <th class=\"blank col0\" >&nbsp;</th>\n",
       "      <th class=\"blank col1\" >&nbsp;</th>\n",
       "    </tr>\n",
       "  </thead>\n",
       "  <tbody>\n",
       "    <tr>\n",
       "      <th id=\"T_d9afc_level0_row0\" class=\"row_heading level0 row0\" >bucks</th>\n",
       "      <td id=\"T_d9afc_row0_col0\" class=\"data row0 col0\" >0.000034</td>\n",
       "      <td id=\"T_d9afc_row0_col1\" class=\"data row0 col1\" >0.000006</td>\n",
       "    </tr>\n",
       "    <tr>\n",
       "      <th id=\"T_d9afc_level0_row1\" class=\"row_heading level0 row1\" >mars</th>\n",
       "      <td id=\"T_d9afc_row1_col0\" class=\"data row1 col0\" >0.000039</td>\n",
       "      <td id=\"T_d9afc_row1_col1\" class=\"data row1 col1\" >0.000003</td>\n",
       "    </tr>\n",
       "    <tr>\n",
       "      <th id=\"T_d9afc_level0_row2\" class=\"row_heading level0 row2\" >tavakoli</th>\n",
       "      <td id=\"T_d9afc_row2_col0\" class=\"data row2 col0\" >0.000005</td>\n",
       "      <td id=\"T_d9afc_row2_col1\" class=\"data row2 col1\" >0.000006</td>\n",
       "    </tr>\n",
       "    <tr>\n",
       "      <th id=\"T_d9afc_level0_row3\" class=\"row_heading level0 row3\" >cellars</th>\n",
       "      <td id=\"T_d9afc_row3_col0\" class=\"data row3 col0\" >0.000010</td>\n",
       "      <td id=\"T_d9afc_row3_col1\" class=\"data row3 col1\" >0.000044</td>\n",
       "    </tr>\n",
       "    <tr>\n",
       "      <th id=\"T_d9afc_level0_row4\" class=\"row_heading level0 row4\" >at</th>\n",
       "      <td id=\"T_d9afc_row4_col0\" class=\"data row4 col0\" >0.002832</td>\n",
       "      <td id=\"T_d9afc_row4_col1\" class=\"data row4 col1\" >0.003859</td>\n",
       "    </tr>\n",
       "    <tr>\n",
       "      <th id=\"T_d9afc_level0_row5\" class=\"row_heading level0 row5\" >intrusively</th>\n",
       "      <td id=\"T_d9afc_row5_col0\" class=\"data row5 col0\" >0.000010</td>\n",
       "      <td id=\"T_d9afc_row5_col1\" class=\"data row5 col1\" >0.000003</td>\n",
       "    </tr>\n",
       "    <tr>\n",
       "      <th id=\"T_d9afc_level0_row6\" class=\"row_heading level0 row6\" >sudsy</th>\n",
       "      <td id=\"T_d9afc_row6_col0\" class=\"data row6 col0\" >0.000014</td>\n",
       "      <td id=\"T_d9afc_row6_col1\" class=\"data row6 col1\" >0.000003</td>\n",
       "    </tr>\n",
       "    <tr>\n",
       "      <th id=\"T_d9afc_level0_row7\" class=\"row_heading level0 row7\" >heaping</th>\n",
       "      <td id=\"T_d9afc_row7_col0\" class=\"data row7 col0\" >0.000014</td>\n",
       "      <td id=\"T_d9afc_row7_col1\" class=\"data row7 col1\" >0.000006</td>\n",
       "    </tr>\n",
       "    <tr>\n",
       "      <th id=\"T_d9afc_level0_row8\" class=\"row_heading level0 row8\" >absberg</th>\n",
       "      <td id=\"T_d9afc_row8_col0\" class=\"data row8 col0\" >0.000005</td>\n",
       "      <td id=\"T_d9afc_row8_col1\" class=\"data row8 col1\" >0.000006</td>\n",
       "    </tr>\n",
       "    <tr>\n",
       "      <th id=\"T_d9afc_level0_row9\" class=\"row_heading level0 row9\" >honesty</th>\n",
       "      <td id=\"T_d9afc_row9_col0\" class=\"data row9 col0\" >0.000005</td>\n",
       "      <td id=\"T_d9afc_row9_col1\" class=\"data row9 col1\" >0.000009</td>\n",
       "    </tr>\n",
       "  </tbody>\n",
       "</table>\n"
      ],
      "text/plain": [
       "<pandas.io.formats.style.Styler at 0x7fd7c709e740>"
      ]
     },
     "execution_count": 44,
     "metadata": {},
     "output_type": "execute_result"
    }
   ],
   "source": [
    "class_likelihoods.sample(10).style.background_gradient(cmap='GnBu', axis=None)"
   ]
  },
  {
   "cell_type": "markdown",
   "metadata": {
    "tags": []
   },
   "source": [
    "## Convert likelihoods to logs"
   ]
  },
  {
   "cell_type": "code",
   "execution_count": 45,
   "metadata": {},
   "outputs": [],
   "source": [
    "class_likelihoods_log = np.log(class_likelihoods)"
   ]
  },
  {
   "cell_type": "code",
   "execution_count": 46,
   "metadata": {},
   "outputs": [
    {
     "data": {
      "text/html": [
       "<style type=\"text/css\">\n",
       "#T_f232f_row0_col0 {\n",
       "  background-color: #5ebcce;\n",
       "  color: #000000;\n",
       "}\n",
       "#T_f232f_row0_col1 {\n",
       "  background-color: #83cfc1;\n",
       "  color: #000000;\n",
       "}\n",
       "#T_f232f_row1_col0 {\n",
       "  background-color: #084081;\n",
       "  color: #f1f1f1;\n",
       "}\n",
       "#T_f232f_row1_col1 {\n",
       "  background-color: #08498a;\n",
       "  color: #f1f1f1;\n",
       "}\n",
       "#T_f232f_row2_col0, #T_f232f_row5_col0, #T_f232f_row9_col0 {\n",
       "  background-color: #ebf7e5;\n",
       "  color: #000000;\n",
       "}\n",
       "#T_f232f_row2_col1, #T_f232f_row7_col1, #T_f232f_row9_col1 {\n",
       "  background-color: #e4f4de;\n",
       "  color: #000000;\n",
       "}\n",
       "#T_f232f_row3_col0 {\n",
       "  background-color: #a9ddb5;\n",
       "  color: #000000;\n",
       "}\n",
       "#T_f232f_row3_col1, #T_f232f_row4_col1 {\n",
       "  background-color: #f7fcf0;\n",
       "  color: #000000;\n",
       "}\n",
       "#T_f232f_row4_col0, #T_f232f_row7_col0, #T_f232f_row8_col1 {\n",
       "  background-color: #d8f0d3;\n",
       "  color: #000000;\n",
       "}\n",
       "#T_f232f_row5_col1 {\n",
       "  background-color: #d1edcb;\n",
       "  color: #000000;\n",
       "}\n",
       "#T_f232f_row6_col0 {\n",
       "  background-color: #c3e7c1;\n",
       "  color: #000000;\n",
       "}\n",
       "#T_f232f_row6_col1 {\n",
       "  background-color: #b1e0b9;\n",
       "  color: #000000;\n",
       "}\n",
       "#T_f232f_row8_col0 {\n",
       "  background-color: #a2dbb7;\n",
       "  color: #000000;\n",
       "}\n",
       "</style>\n",
       "<table id=\"T_f232f\">\n",
       "  <thead>\n",
       "    <tr>\n",
       "      <th class=\"index_name level0\" >doc_label</th>\n",
       "      <th id=\"T_f232f_level0_col0\" class=\"col_heading level0 col0\" >N</th>\n",
       "      <th id=\"T_f232f_level0_col1\" class=\"col_heading level0 col1\" >P</th>\n",
       "    </tr>\n",
       "    <tr>\n",
       "      <th class=\"index_name level0\" >term_str</th>\n",
       "      <th class=\"blank col0\" >&nbsp;</th>\n",
       "      <th class=\"blank col1\" >&nbsp;</th>\n",
       "    </tr>\n",
       "  </thead>\n",
       "  <tbody>\n",
       "    <tr>\n",
       "      <th id=\"T_f232f_level0_row0\" class=\"row_heading level0 row0\" >found</th>\n",
       "      <td id=\"T_f232f_row0_col0\" class=\"data row0 col0\" >-8.981962</td>\n",
       "      <td id=\"T_f232f_row0_col1\" class=\"data row0 col1\" >-9.620202</td>\n",
       "    </tr>\n",
       "    <tr>\n",
       "      <th id=\"T_f232f_level0_row1\" class=\"row_heading level0 row1\" >spicy</th>\n",
       "      <td id=\"T_f232f_row1_col0\" class=\"data row1 col0\" >-6.297259</td>\n",
       "      <td id=\"T_f232f_row1_col1\" class=\"data row1 col1\" >-6.476460</td>\n",
       "    </tr>\n",
       "    <tr>\n",
       "      <th id=\"T_f232f_level0_row2\" class=\"row_heading level0 row2\" >swaying</th>\n",
       "      <td id=\"T_f232f_row2_col0\" class=\"data row2 col0\" >-12.240059</td>\n",
       "      <td id=\"T_f232f_row2_col1\" class=\"data row2 col1\" >-11.971577</td>\n",
       "    </tr>\n",
       "    <tr>\n",
       "      <th id=\"T_f232f_level0_row3\" class=\"row_heading level0 row3\" >southwest</th>\n",
       "      <td id=\"T_f232f_row3_col0\" class=\"data row3 col0\" >-10.294148</td>\n",
       "      <td id=\"T_f232f_row3_col1\" class=\"data row3 col1\" >-12.664725</td>\n",
       "    </tr>\n",
       "    <tr>\n",
       "      <th id=\"T_f232f_level0_row4\" class=\"row_heading level0 row4\" >helpful</th>\n",
       "      <td id=\"T_f232f_row4_col0\" class=\"data row4 col0\" >-11.546911</td>\n",
       "      <td id=\"T_f232f_row4_col1\" class=\"data row4 col1\" >-12.664725</td>\n",
       "    </tr>\n",
       "    <tr>\n",
       "      <th id=\"T_f232f_level0_row5\" class=\"row_heading level0 row5\" >pod</th>\n",
       "      <td id=\"T_f232f_row5_col0\" class=\"data row5 col0\" >-12.240059</td>\n",
       "      <td id=\"T_f232f_row5_col1\" class=\"data row5 col1\" >-11.278430</td>\n",
       "    </tr>\n",
       "    <tr>\n",
       "      <th id=\"T_f232f_level0_row6\" class=\"row_heading level0 row6\" >candle</th>\n",
       "      <td id=\"T_f232f_row6_col0\" class=\"data row6 col0\" >-10.853764</td>\n",
       "      <td id=\"T_f232f_row6_col1\" class=\"data row6 col1\" >-10.467500</td>\n",
       "    </tr>\n",
       "    <tr>\n",
       "      <th id=\"T_f232f_level0_row7\" class=\"row_heading level0 row7\" >pumping</th>\n",
       "      <td id=\"T_f232f_row7_col0\" class=\"data row7 col0\" >-11.546911</td>\n",
       "      <td id=\"T_f232f_row7_col1\" class=\"data row7 col1\" >-11.971577</td>\n",
       "    </tr>\n",
       "    <tr>\n",
       "      <th id=\"T_f232f_level0_row8\" class=\"row_heading level0 row8\" >beach</th>\n",
       "      <td id=\"T_f232f_row8_col0\" class=\"data row8 col0\" >-10.160617</td>\n",
       "      <td id=\"T_f232f_row8_col1\" class=\"data row8 col1\" >-11.566112</td>\n",
       "    </tr>\n",
       "    <tr>\n",
       "      <th id=\"T_f232f_level0_row9\" class=\"row_heading level0 row9\" >wimpy</th>\n",
       "      <td id=\"T_f232f_row9_col0\" class=\"data row9 col0\" >-12.240059</td>\n",
       "      <td id=\"T_f232f_row9_col1\" class=\"data row9 col1\" >-11.971577</td>\n",
       "    </tr>\n",
       "  </tbody>\n",
       "</table>\n"
      ],
      "text/plain": [
       "<pandas.io.formats.style.Styler at 0x7fd7c709fc10>"
      ]
     },
     "execution_count": 46,
     "metadata": {},
     "output_type": "execute_result"
    }
   ],
   "source": [
    "class_likelihoods_log.sample(10).style.background_gradient(cmap='GnBu', axis=None)"
   ]
  },
  {
   "cell_type": "markdown",
   "metadata": {},
   "source": [
    "# Testing"
   ]
  },
  {
   "cell_type": "markdown",
   "metadata": {},
   "source": [
    "## Add likelihood columns to test tokens table\n",
    "\n",
    "This is effectively how we apply our model to the test set."
   ]
  },
  {
   "cell_type": "code",
   "execution_count": 47,
   "metadata": {},
   "outputs": [],
   "source": [
    "TEST = BOW.loc[test_doc_idx].join(class_likelihoods_log[['P','N']], on='term_str', how='inner').sort_index() # Inner join removes unfound terms"
   ]
  },
  {
   "cell_type": "code",
   "execution_count": 48,
   "metadata": {},
   "outputs": [
    {
     "data": {
      "text/html": [
       "<div>\n",
       "<style scoped>\n",
       "    .dataframe tbody tr th:only-of-type {\n",
       "        vertical-align: middle;\n",
       "    }\n",
       "\n",
       "    .dataframe tbody tr th {\n",
       "        vertical-align: top;\n",
       "    }\n",
       "\n",
       "    .dataframe thead th {\n",
       "        text-align: right;\n",
       "    }\n",
       "</style>\n",
       "<table border=\"1\" class=\"dataframe\">\n",
       "  <thead>\n",
       "    <tr style=\"text-align: right;\">\n",
       "      <th></th>\n",
       "      <th></th>\n",
       "      <th>n</th>\n",
       "      <th>doc_label</th>\n",
       "      <th>P</th>\n",
       "      <th>N</th>\n",
       "    </tr>\n",
       "    <tr>\n",
       "      <th>doc_id</th>\n",
       "      <th>term_str</th>\n",
       "      <th></th>\n",
       "      <th></th>\n",
       "      <th></th>\n",
       "      <th></th>\n",
       "    </tr>\n",
       "  </thead>\n",
       "  <tbody>\n",
       "    <tr>\n",
       "      <th rowspan=\"5\" valign=\"top\">34</th>\n",
       "      <th>acidity</th>\n",
       "      <td>1</td>\n",
       "      <td>N</td>\n",
       "      <td>-4.818526</td>\n",
       "      <td>-4.544301</td>\n",
       "    </tr>\n",
       "    <tr>\n",
       "      <th>blanc</th>\n",
       "      <td>1</td>\n",
       "      <td>N</td>\n",
       "      <td>-8.445217</td>\n",
       "      <td>-6.806337</td>\n",
       "    </tr>\n",
       "    <tr>\n",
       "      <th>commendable</th>\n",
       "      <td>1</td>\n",
       "      <td>N</td>\n",
       "      <td>-11.971577</td>\n",
       "      <td>-11.141446</td>\n",
       "    </tr>\n",
       "    <tr>\n",
       "      <th>dryness</th>\n",
       "      <td>1</td>\n",
       "      <td>N</td>\n",
       "      <td>-8.347236</td>\n",
       "      <td>-8.774323</td>\n",
       "    </tr>\n",
       "    <tr>\n",
       "      <th>flavor</th>\n",
       "      <td>1</td>\n",
       "      <td>N</td>\n",
       "      <td>-6.568900</td>\n",
       "      <td>-6.171633</td>\n",
       "    </tr>\n",
       "    <tr>\n",
       "      <th>...</th>\n",
       "      <th>...</th>\n",
       "      <td>...</td>\n",
       "      <td>...</td>\n",
       "      <td>...</td>\n",
       "      <td>...</td>\n",
       "    </tr>\n",
       "    <tr>\n",
       "      <th rowspan=\"5\" valign=\"top\">129847</th>\n",
       "      <th>rich</th>\n",
       "      <td>1</td>\n",
       "      <td>N</td>\n",
       "      <td>-5.059830</td>\n",
       "      <td>-6.171633</td>\n",
       "    </tr>\n",
       "    <tr>\n",
       "      <th>smoky</th>\n",
       "      <td>1</td>\n",
       "      <td>N</td>\n",
       "      <td>-6.501410</td>\n",
       "      <td>-6.801979</td>\n",
       "    </tr>\n",
       "    <tr>\n",
       "      <th>soft</th>\n",
       "      <td>1</td>\n",
       "      <td>N</td>\n",
       "      <td>-6.281218</td>\n",
       "      <td>-5.095651</td>\n",
       "    </tr>\n",
       "    <tr>\n",
       "      <th>swamps</th>\n",
       "      <td>1</td>\n",
       "      <td>N</td>\n",
       "      <td>-11.971577</td>\n",
       "      <td>-12.240059</td>\n",
       "    </tr>\n",
       "    <tr>\n",
       "      <th>violets</th>\n",
       "      <td>1</td>\n",
       "      <td>N</td>\n",
       "      <td>-7.820538</td>\n",
       "      <td>-9.195536</td>\n",
       "    </tr>\n",
       "  </tbody>\n",
       "</table>\n",
       "<p>163193 rows × 4 columns</p>\n",
       "</div>"
      ],
      "text/plain": [
       "                    n doc_label          P          N\n",
       "doc_id term_str                                      \n",
       "34     acidity      1         N  -4.818526  -4.544301\n",
       "       blanc        1         N  -8.445217  -6.806337\n",
       "       commendable  1         N -11.971577 -11.141446\n",
       "       dryness      1         N  -8.347236  -8.774323\n",
       "       flavor       1         N  -6.568900  -6.171633\n",
       "...                ..       ...        ...        ...\n",
       "129847 rich         1         N  -5.059830  -6.171633\n",
       "       smoky        1         N  -6.501410  -6.801979\n",
       "       soft         1         N  -6.281218  -5.095651\n",
       "       swamps       1         N -11.971577 -12.240059\n",
       "       violets      1         N  -7.820538  -9.195536\n",
       "\n",
       "[163193 rows x 4 columns]"
      ]
     },
     "execution_count": 48,
     "metadata": {},
     "output_type": "execute_result"
    }
   ],
   "source": [
    "TEST"
   ]
  },
  {
   "cell_type": "markdown",
   "metadata": {},
   "source": [
    "## Compute posteriors $p(c|w)$\n",
    "\n",
    "$$\n",
    "c_{NB} = \\arg\\max \\log{P(c)} + \\sum_{id=1}^{id_{max}} \\log{P(token_{id}|c)}\n",
    "$$"
   ]
  },
  {
   "cell_type": "code",
   "execution_count": 79,
   "metadata": {},
   "outputs": [
    {
     "name": "stdout",
     "output_type": "stream",
     "text": [
      "CPU times: user 6.96 s, sys: 1.01 s, total: 7.96 s\n",
      "Wall time: 9.54 s\n"
     ]
    }
   ],
   "source": [
    "%%time\n",
    "DOCS.loc[test_doc_idx, 'prediction'] = TEST.groupby('doc_id')\\\n",
    "    .apply(lambda x: x[['P','N']].sum())\\\n",
    "    .apply(lambda x: x + class_priors_log, 1)\\\n",
    "    .idxmax(1)"
   ]
  },
  {
   "cell_type": "code",
   "execution_count": 50,
   "metadata": {},
   "outputs": [
    {
     "data": {
      "text/html": [
       "<div>\n",
       "<style scoped>\n",
       "    .dataframe tbody tr th:only-of-type {\n",
       "        vertical-align: middle;\n",
       "    }\n",
       "\n",
       "    .dataframe tbody tr th {\n",
       "        vertical-align: top;\n",
       "    }\n",
       "\n",
       "    .dataframe thead th {\n",
       "        text-align: right;\n",
       "    }\n",
       "</style>\n",
       "<table border=\"1\" class=\"dataframe\">\n",
       "  <thead>\n",
       "    <tr style=\"text-align: right;\">\n",
       "      <th></th>\n",
       "      <th>doc_content</th>\n",
       "      <th>points</th>\n",
       "      <th>doc_len</th>\n",
       "      <th>doc_label</th>\n",
       "      <th>set</th>\n",
       "      <th>group</th>\n",
       "      <th>prediction</th>\n",
       "    </tr>\n",
       "    <tr>\n",
       "      <th>doc_id</th>\n",
       "      <th></th>\n",
       "      <th></th>\n",
       "      <th></th>\n",
       "      <th></th>\n",
       "      <th></th>\n",
       "      <th></th>\n",
       "      <th></th>\n",
       "    </tr>\n",
       "  </thead>\n",
       "  <tbody>\n",
       "    <tr>\n",
       "      <th>64280</th>\n",
       "      <td>This wine seems sweet, with apricot, orange, l...</td>\n",
       "      <td>84</td>\n",
       "      <td>118</td>\n",
       "      <td>N</td>\n",
       "      <td>0</td>\n",
       "      <td>test</td>\n",
       "      <td>N</td>\n",
       "    </tr>\n",
       "    <tr>\n",
       "      <th>128378</th>\n",
       "      <td>Clear in color and texture, this is a refined ...</td>\n",
       "      <td>93</td>\n",
       "      <td>416</td>\n",
       "      <td>P</td>\n",
       "      <td>0</td>\n",
       "      <td>test</td>\n",
       "      <td>P</td>\n",
       "    </tr>\n",
       "    <tr>\n",
       "      <th>39455</th>\n",
       "      <td>The 2008 Cornas from Colombo have turned out v...</td>\n",
       "      <td>93</td>\n",
       "      <td>299</td>\n",
       "      <td>P</td>\n",
       "      <td>0</td>\n",
       "      <td>test</td>\n",
       "      <td>P</td>\n",
       "    </tr>\n",
       "    <tr>\n",
       "      <th>42123</th>\n",
       "      <td>Light, lean and easy to drink, this ruby red o...</td>\n",
       "      <td>84</td>\n",
       "      <td>261</td>\n",
       "      <td>N</td>\n",
       "      <td>0</td>\n",
       "      <td>test</td>\n",
       "      <td>N</td>\n",
       "    </tr>\n",
       "    <tr>\n",
       "      <th>104717</th>\n",
       "      <td>This is light, fruity and spicy, with a crisp ...</td>\n",
       "      <td>86</td>\n",
       "      <td>114</td>\n",
       "      <td>N</td>\n",
       "      <td>0</td>\n",
       "      <td>test</td>\n",
       "      <td>N</td>\n",
       "    </tr>\n",
       "    <tr>\n",
       "      <th>5544</th>\n",
       "      <td>Dark and ominous in color, with a grapy, rusti...</td>\n",
       "      <td>82</td>\n",
       "      <td>187</td>\n",
       "      <td>N</td>\n",
       "      <td>0</td>\n",
       "      <td>test</td>\n",
       "      <td>N</td>\n",
       "    </tr>\n",
       "    <tr>\n",
       "      <th>17739</th>\n",
       "      <td>An awesome wine that shows the power of the es...</td>\n",
       "      <td>94</td>\n",
       "      <td>340</td>\n",
       "      <td>P</td>\n",
       "      <td>0</td>\n",
       "      <td>test</td>\n",
       "      <td>P</td>\n",
       "    </tr>\n",
       "    <tr>\n",
       "      <th>113876</th>\n",
       "      <td>This is not a declared vintage but one that ha...</td>\n",
       "      <td>93</td>\n",
       "      <td>337</td>\n",
       "      <td>P</td>\n",
       "      <td>0</td>\n",
       "      <td>test</td>\n",
       "      <td>P</td>\n",
       "    </tr>\n",
       "    <tr>\n",
       "      <th>98395</th>\n",
       "      <td>Strikingly golden in color this tightly holds ...</td>\n",
       "      <td>95</td>\n",
       "      <td>372</td>\n",
       "      <td>P</td>\n",
       "      <td>0</td>\n",
       "      <td>test</td>\n",
       "      <td>P</td>\n",
       "    </tr>\n",
       "    <tr>\n",
       "      <th>69339</th>\n",
       "      <td>Starts with baked, candied, mildly raisiny aro...</td>\n",
       "      <td>86</td>\n",
       "      <td>274</td>\n",
       "      <td>N</td>\n",
       "      <td>0</td>\n",
       "      <td>test</td>\n",
       "      <td>N</td>\n",
       "    </tr>\n",
       "  </tbody>\n",
       "</table>\n",
       "</div>"
      ],
      "text/plain": [
       "                                              doc_content  points  doc_len  \\\n",
       "doc_id                                                                       \n",
       "64280   This wine seems sweet, with apricot, orange, l...      84      118   \n",
       "128378  Clear in color and texture, this is a refined ...      93      416   \n",
       "39455   The 2008 Cornas from Colombo have turned out v...      93      299   \n",
       "42123   Light, lean and easy to drink, this ruby red o...      84      261   \n",
       "104717  This is light, fruity and spicy, with a crisp ...      86      114   \n",
       "5544    Dark and ominous in color, with a grapy, rusti...      82      187   \n",
       "17739   An awesome wine that shows the power of the es...      94      340   \n",
       "113876  This is not a declared vintage but one that ha...      93      337   \n",
       "98395   Strikingly golden in color this tightly holds ...      95      372   \n",
       "69339   Starts with baked, candied, mildly raisiny aro...      86      274   \n",
       "\n",
       "       doc_label  set group prediction  \n",
       "doc_id                                  \n",
       "64280          N    0  test          N  \n",
       "128378         P    0  test          P  \n",
       "39455          P    0  test          P  \n",
       "42123          N    0  test          N  \n",
       "104717         N    0  test          N  \n",
       "5544           N    0  test          N  \n",
       "17739          P    0  test          P  \n",
       "113876         P    0  test          P  \n",
       "98395          P    0  test          P  \n",
       "69339          N    0  test          N  "
      ]
     },
     "execution_count": 50,
     "metadata": {},
     "output_type": "execute_result"
    }
   ],
   "source": [
    "DOCS.loc[test_doc_idx].sample(10)"
   ]
  },
  {
   "cell_type": "markdown",
   "metadata": {},
   "source": [
    "# Evaluation"
   ]
  },
  {
   "cell_type": "code",
   "execution_count": 51,
   "metadata": {},
   "outputs": [],
   "source": [
    "DOCS.loc[test_doc_idx, 'result'] = DOCS.loc[test_doc_idx].doc_label == DOCS.loc[test_doc_idx].prediction\n",
    "DOCS.loc[test_doc_idx, 'result_type'] = DOCS.loc[test_doc_idx].apply(lambda x: str(x.result)[0] + x.prediction, 1)"
   ]
  },
  {
   "cell_type": "code",
   "execution_count": 52,
   "metadata": {},
   "outputs": [
    {
     "data": {
      "text/html": [
       "<div>\n",
       "<style scoped>\n",
       "    .dataframe tbody tr th:only-of-type {\n",
       "        vertical-align: middle;\n",
       "    }\n",
       "\n",
       "    .dataframe tbody tr th {\n",
       "        vertical-align: top;\n",
       "    }\n",
       "\n",
       "    .dataframe thead th {\n",
       "        text-align: right;\n",
       "    }\n",
       "</style>\n",
       "<table border=\"1\" class=\"dataframe\">\n",
       "  <thead>\n",
       "    <tr style=\"text-align: right;\">\n",
       "      <th></th>\n",
       "      <th>doc_content</th>\n",
       "      <th>points</th>\n",
       "      <th>doc_len</th>\n",
       "      <th>doc_label</th>\n",
       "      <th>set</th>\n",
       "      <th>group</th>\n",
       "      <th>prediction</th>\n",
       "      <th>result</th>\n",
       "      <th>result_type</th>\n",
       "    </tr>\n",
       "    <tr>\n",
       "      <th>doc_id</th>\n",
       "      <th></th>\n",
       "      <th></th>\n",
       "      <th></th>\n",
       "      <th></th>\n",
       "      <th></th>\n",
       "      <th></th>\n",
       "      <th></th>\n",
       "      <th></th>\n",
       "      <th></th>\n",
       "    </tr>\n",
       "  </thead>\n",
       "  <tbody>\n",
       "    <tr>\n",
       "      <th>104638</th>\n",
       "      <td>Here's a slender but aromatic red, with a plea...</td>\n",
       "      <td>86</td>\n",
       "      <td>133</td>\n",
       "      <td>N</td>\n",
       "      <td>0</td>\n",
       "      <td>test</td>\n",
       "      <td>P</td>\n",
       "      <td>False</td>\n",
       "      <td>FP</td>\n",
       "    </tr>\n",
       "    <tr>\n",
       "      <th>57815</th>\n",
       "      <td>A blend of various vineyards, this is a seamle...</td>\n",
       "      <td>93</td>\n",
       "      <td>261</td>\n",
       "      <td>P</td>\n",
       "      <td>0</td>\n",
       "      <td>test</td>\n",
       "      <td>P</td>\n",
       "      <td>True</td>\n",
       "      <td>TP</td>\n",
       "    </tr>\n",
       "    <tr>\n",
       "      <th>108465</th>\n",
       "      <td>This is a new, low-production designation, a s...</td>\n",
       "      <td>94</td>\n",
       "      <td>361</td>\n",
       "      <td>P</td>\n",
       "      <td>0</td>\n",
       "      <td>test</td>\n",
       "      <td>P</td>\n",
       "      <td>True</td>\n",
       "      <td>TP</td>\n",
       "    </tr>\n",
       "    <tr>\n",
       "      <th>6280</th>\n",
       "      <td>The trick with getting a Chardonnay this honey...</td>\n",
       "      <td>94</td>\n",
       "      <td>419</td>\n",
       "      <td>P</td>\n",
       "      <td>0</td>\n",
       "      <td>test</td>\n",
       "      <td>P</td>\n",
       "      <td>True</td>\n",
       "      <td>TP</td>\n",
       "    </tr>\n",
       "    <tr>\n",
       "      <th>19242</th>\n",
       "      <td>Rich, oaky and earthy, with char to the bouque...</td>\n",
       "      <td>86</td>\n",
       "      <td>253</td>\n",
       "      <td>N</td>\n",
       "      <td>0</td>\n",
       "      <td>test</td>\n",
       "      <td>N</td>\n",
       "      <td>True</td>\n",
       "      <td>TN</td>\n",
       "    </tr>\n",
       "    <tr>\n",
       "      <th>57870</th>\n",
       "      <td>Tight at first, this elegant Pinot from cooler...</td>\n",
       "      <td>93</td>\n",
       "      <td>242</td>\n",
       "      <td>P</td>\n",
       "      <td>0</td>\n",
       "      <td>test</td>\n",
       "      <td>P</td>\n",
       "      <td>True</td>\n",
       "      <td>TP</td>\n",
       "    </tr>\n",
       "    <tr>\n",
       "      <th>99926</th>\n",
       "      <td>Apple and cinnamon aromas on the nose provide ...</td>\n",
       "      <td>84</td>\n",
       "      <td>210</td>\n",
       "      <td>N</td>\n",
       "      <td>0</td>\n",
       "      <td>test</td>\n",
       "      <td>N</td>\n",
       "      <td>True</td>\n",
       "      <td>TN</td>\n",
       "    </tr>\n",
       "    <tr>\n",
       "      <th>1462</th>\n",
       "      <td>Aromas of forest floor, baked plum, clove and ...</td>\n",
       "      <td>93</td>\n",
       "      <td>231</td>\n",
       "      <td>P</td>\n",
       "      <td>0</td>\n",
       "      <td>test</td>\n",
       "      <td>P</td>\n",
       "      <td>True</td>\n",
       "      <td>TP</td>\n",
       "    </tr>\n",
       "    <tr>\n",
       "      <th>29957</th>\n",
       "      <td>This wine is concentrated, deep and tannic, ye...</td>\n",
       "      <td>93</td>\n",
       "      <td>264</td>\n",
       "      <td>P</td>\n",
       "      <td>0</td>\n",
       "      <td>test</td>\n",
       "      <td>P</td>\n",
       "      <td>True</td>\n",
       "      <td>TP</td>\n",
       "    </tr>\n",
       "    <tr>\n",
       "      <th>8876</th>\n",
       "      <td>Sourced largely from the Martin Stelling Viney...</td>\n",
       "      <td>95</td>\n",
       "      <td>417</td>\n",
       "      <td>P</td>\n",
       "      <td>0</td>\n",
       "      <td>test</td>\n",
       "      <td>P</td>\n",
       "      <td>True</td>\n",
       "      <td>TP</td>\n",
       "    </tr>\n",
       "  </tbody>\n",
       "</table>\n",
       "</div>"
      ],
      "text/plain": [
       "                                              doc_content  points  doc_len  \\\n",
       "doc_id                                                                       \n",
       "104638  Here's a slender but aromatic red, with a plea...      86      133   \n",
       "57815   A blend of various vineyards, this is a seamle...      93      261   \n",
       "108465  This is a new, low-production designation, a s...      94      361   \n",
       "6280    The trick with getting a Chardonnay this honey...      94      419   \n",
       "19242   Rich, oaky and earthy, with char to the bouque...      86      253   \n",
       "57870   Tight at first, this elegant Pinot from cooler...      93      242   \n",
       "99926   Apple and cinnamon aromas on the nose provide ...      84      210   \n",
       "1462    Aromas of forest floor, baked plum, clove and ...      93      231   \n",
       "29957   This wine is concentrated, deep and tannic, ye...      93      264   \n",
       "8876    Sourced largely from the Martin Stelling Viney...      95      417   \n",
       "\n",
       "       doc_label  set group prediction result result_type  \n",
       "doc_id                                                     \n",
       "104638         N    0  test          P  False          FP  \n",
       "57815          P    0  test          P   True          TP  \n",
       "108465         P    0  test          P   True          TP  \n",
       "6280           P    0  test          P   True          TP  \n",
       "19242          N    0  test          N   True          TN  \n",
       "57870          P    0  test          P   True          TP  \n",
       "99926          N    0  test          N   True          TN  \n",
       "1462           P    0  test          P   True          TP  \n",
       "29957          P    0  test          P   True          TP  \n",
       "8876           P    0  test          P   True          TP  "
      ]
     },
     "execution_count": 52,
     "metadata": {},
     "output_type": "execute_result"
    }
   ],
   "source": [
    "DOCS.loc[test_doc_idx].sample(10)"
   ]
  },
  {
   "cell_type": "markdown",
   "metadata": {},
   "source": [
    "## Show raw T & F counts"
   ]
  },
  {
   "cell_type": "code",
   "execution_count": 53,
   "metadata": {},
   "outputs": [],
   "source": [
    "raw = DOCS.loc[test_doc_idx].result.value_counts()"
   ]
  },
  {
   "cell_type": "code",
   "execution_count": 54,
   "metadata": {},
   "outputs": [
    {
     "data": {
      "text/plain": [
       "True     5743\n",
       "False     377\n",
       "Name: result, dtype: int64"
      ]
     },
     "execution_count": 54,
     "metadata": {},
     "output_type": "execute_result"
    }
   ],
   "source": [
    "raw"
   ]
  },
  {
   "cell_type": "markdown",
   "metadata": {},
   "source": [
    "## Show raw TP, TN, FP, FN counts"
   ]
  },
  {
   "cell_type": "code",
   "execution_count": 55,
   "metadata": {},
   "outputs": [],
   "source": [
    "raw1 = DOCS.loc[test_doc_idx].result_type.value_counts()"
   ]
  },
  {
   "cell_type": "code",
   "execution_count": 56,
   "metadata": {},
   "outputs": [
    {
     "data": {
      "text/plain": [
       "TP    2937\n",
       "TN    2806\n",
       "FP     304\n",
       "FN      73\n",
       "Name: result_type, dtype: int64"
      ]
     },
     "execution_count": 56,
     "metadata": {},
     "output_type": "execute_result"
    }
   ],
   "source": [
    "raw1"
   ]
  },
  {
   "cell_type": "code",
   "execution_count": 57,
   "metadata": {},
   "outputs": [
    {
     "data": {
      "text/plain": [
       "0.9383986928104575"
      ]
     },
     "execution_count": 57,
     "metadata": {},
     "output_type": "execute_result"
    }
   ],
   "source": [
    "# Accuracy\n",
    "(raw1.TP + raw1.TN) / raw1.sum()"
   ]
  },
  {
   "cell_type": "markdown",
   "metadata": {},
   "source": [
    "## Create confusion matrix"
   ]
  },
  {
   "cell_type": "code",
   "execution_count": 58,
   "metadata": {},
   "outputs": [],
   "source": [
    "CM = DOCS.loc[test_doc_idx].reset_index().groupby(['prediction','doc_label']).doc_id.count().unstack().fillna(0)"
   ]
  },
  {
   "cell_type": "code",
   "execution_count": 59,
   "metadata": {},
   "outputs": [],
   "source": [
    "CM.columns.name = 'actual'"
   ]
  },
  {
   "cell_type": "code",
   "execution_count": 60,
   "metadata": {},
   "outputs": [
    {
     "data": {
      "text/html": [
       "<div>\n",
       "<style scoped>\n",
       "    .dataframe tbody tr th:only-of-type {\n",
       "        vertical-align: middle;\n",
       "    }\n",
       "\n",
       "    .dataframe tbody tr th {\n",
       "        vertical-align: top;\n",
       "    }\n",
       "\n",
       "    .dataframe thead th {\n",
       "        text-align: right;\n",
       "    }\n",
       "</style>\n",
       "<table border=\"1\" class=\"dataframe\">\n",
       "  <thead>\n",
       "    <tr style=\"text-align: right;\">\n",
       "      <th>actual</th>\n",
       "      <th>N</th>\n",
       "      <th>P</th>\n",
       "    </tr>\n",
       "    <tr>\n",
       "      <th>prediction</th>\n",
       "      <th></th>\n",
       "      <th></th>\n",
       "    </tr>\n",
       "  </thead>\n",
       "  <tbody>\n",
       "    <tr>\n",
       "      <th>N</th>\n",
       "      <td>2806</td>\n",
       "      <td>73</td>\n",
       "    </tr>\n",
       "    <tr>\n",
       "      <th>P</th>\n",
       "      <td>304</td>\n",
       "      <td>2937</td>\n",
       "    </tr>\n",
       "  </tbody>\n",
       "</table>\n",
       "</div>"
      ],
      "text/plain": [
       "actual         N     P\n",
       "prediction            \n",
       "N           2806    73\n",
       "P            304  2937"
      ]
     },
     "execution_count": 60,
     "metadata": {},
     "output_type": "execute_result"
    }
   ],
   "source": [
    "CM"
   ]
  },
  {
   "cell_type": "code",
   "execution_count": 61,
   "metadata": {},
   "outputs": [],
   "source": [
    "def get_results(CM):\n",
    "\n",
    "    class Results():\n",
    "        \n",
    "        TP = CM.iloc[0,0] # hits\n",
    "        FP = CM.iloc[0,1] # Type I errors; false alarms\n",
    "        TN = CM.iloc[1,1] # correct rejections\n",
    "        FN = CM.iloc[1,0] # Type  II errors; misses\n",
    "        \n",
    "        T = TP + TN\n",
    "        F = FP + FN\n",
    "        ALL =  T + F\n",
    "        \n",
    "        ACC = T / ALL                       # Accuracy\n",
    "        TPR = TP / (TP + FN)                # Recall, Sensitivity\n",
    "        TNR = TN / (TN + FP)                # Specificity\n",
    "        PPV = TP / (TP + FP)                # Precision; Positive predictive value \n",
    "        BA = (TNR + TPR) / 2                # Balanced Accuracy\n",
    "        F1 = (2 *  TP) / (2 * TP + FP + FN) # F-score where F =  1\n",
    "\n",
    "        assert ALL == CM.sum().sum()\n",
    "                \n",
    "        def show_results(self):\n",
    "            print('TPR:', round(self.TPR, 2), '(sensitivity)')\n",
    "            print('TNR:', round(self.TNR, 2), '(specificity)')\n",
    "            print('F1: ', round(self.F1, 2), '<-- GRADE')\n",
    "            print('-'*9)\n",
    "            print('PPV:', round(self.PPV, 2),  '(precision)')\n",
    "            print('ACC:', round(self.ACC, 2), '(accuracy)')\n",
    "            \n",
    "    return Results()"
   ]
  },
  {
   "cell_type": "code",
   "execution_count": 62,
   "metadata": {},
   "outputs": [],
   "source": [
    "R = get_results(CM)"
   ]
  },
  {
   "cell_type": "code",
   "execution_count": 63,
   "metadata": {},
   "outputs": [
    {
     "name": "stdout",
     "output_type": "stream",
     "text": [
      "TPR: 0.9 (sensitivity)\n",
      "TNR: 0.98 (specificity)\n",
      "F1:  0.94 <-- GRADE\n",
      "---------\n",
      "PPV: 0.97 (precision)\n",
      "ACC: 0.94 (accuracy)\n"
     ]
    }
   ],
   "source": [
    "R.show_results()"
   ]
  },
  {
   "cell_type": "markdown",
   "metadata": {
    "toc-hr-collapsed": false
   },
   "source": [
    "# Exploration"
   ]
  },
  {
   "cell_type": "markdown",
   "metadata": {},
   "source": [
    "## Likelihoods as Sentiment Lexicon \n",
    "\n",
    "Remember, the likelihoods are language models."
   ]
  },
  {
   "cell_type": "markdown",
   "metadata": {
    "jp-MarkdownHeadingCollapsed": true,
    "tags": []
   },
   "source": [
    "**We make up a way to compute sentiment valence and polarity**"
   ]
  },
  {
   "cell_type": "code",
   "execution_count": 64,
   "metadata": {
    "colab": {},
    "colab_type": "code",
    "id": "Hh3gYrVZ1Cas"
   },
   "outputs": [],
   "source": [
    "SALEX = (np.sign(class_likelihoods['P'] - class_likelihoods['N'])).to_frame('polarity')\n",
    "SALEX['valence'] = (class_likelihoods['P'] - class_likelihoods['N'])"
   ]
  },
  {
   "cell_type": "code",
   "execution_count": 65,
   "metadata": {},
   "outputs": [
    {
     "data": {
      "text/html": [
       "<div>\n",
       "<style scoped>\n",
       "    .dataframe tbody tr th:only-of-type {\n",
       "        vertical-align: middle;\n",
       "    }\n",
       "\n",
       "    .dataframe tbody tr th {\n",
       "        vertical-align: top;\n",
       "    }\n",
       "\n",
       "    .dataframe thead th {\n",
       "        text-align: right;\n",
       "    }\n",
       "</style>\n",
       "<table border=\"1\" class=\"dataframe\">\n",
       "  <thead>\n",
       "    <tr style=\"text-align: right;\">\n",
       "      <th></th>\n",
       "      <th>polarity</th>\n",
       "      <th>valence</th>\n",
       "    </tr>\n",
       "    <tr>\n",
       "      <th>term_str</th>\n",
       "      <th></th>\n",
       "      <th></th>\n",
       "    </tr>\n",
       "  </thead>\n",
       "  <tbody>\n",
       "    <tr>\n",
       "      <th>1</th>\n",
       "      <td>1.0</td>\n",
       "      <td>0.000012</td>\n",
       "    </tr>\n",
       "    <tr>\n",
       "      <th>10</th>\n",
       "      <td>1.0</td>\n",
       "      <td>0.000298</td>\n",
       "    </tr>\n",
       "    <tr>\n",
       "      <th>100</th>\n",
       "      <td>1.0</td>\n",
       "      <td>0.000368</td>\n",
       "    </tr>\n",
       "    <tr>\n",
       "      <th>100ml</th>\n",
       "      <td>-1.0</td>\n",
       "      <td>-0.000007</td>\n",
       "    </tr>\n",
       "    <tr>\n",
       "      <th>100th</th>\n",
       "      <td>1.0</td>\n",
       "      <td>0.000001</td>\n",
       "    </tr>\n",
       "    <tr>\n",
       "      <th>...</th>\n",
       "      <td>...</td>\n",
       "      <td>...</td>\n",
       "    </tr>\n",
       "    <tr>\n",
       "      <th>zone</th>\n",
       "      <td>1.0</td>\n",
       "      <td>0.000008</td>\n",
       "    </tr>\n",
       "    <tr>\n",
       "      <th>zonin</th>\n",
       "      <td>-1.0</td>\n",
       "      <td>-0.000007</td>\n",
       "    </tr>\n",
       "    <tr>\n",
       "      <th>zotovich</th>\n",
       "      <td>1.0</td>\n",
       "      <td>0.000001</td>\n",
       "    </tr>\n",
       "    <tr>\n",
       "      <th>zucchini</th>\n",
       "      <td>-1.0</td>\n",
       "      <td>-0.000007</td>\n",
       "    </tr>\n",
       "    <tr>\n",
       "      <th>zweigelt</th>\n",
       "      <td>-1.0</td>\n",
       "      <td>-0.000031</td>\n",
       "    </tr>\n",
       "  </tbody>\n",
       "</table>\n",
       "<p>15212 rows × 2 columns</p>\n",
       "</div>"
      ],
      "text/plain": [
       "          polarity   valence\n",
       "term_str                    \n",
       "1              1.0  0.000012\n",
       "10             1.0  0.000298\n",
       "100            1.0  0.000368\n",
       "100ml         -1.0 -0.000007\n",
       "100th          1.0  0.000001\n",
       "...            ...       ...\n",
       "zone           1.0  0.000008\n",
       "zonin         -1.0 -0.000007\n",
       "zotovich       1.0  0.000001\n",
       "zucchini      -1.0 -0.000007\n",
       "zweigelt      -1.0 -0.000031\n",
       "\n",
       "[15212 rows x 2 columns]"
      ]
     },
     "execution_count": 65,
     "metadata": {},
     "output_type": "execute_result"
    }
   ],
   "source": [
    "SALEX"
   ]
  },
  {
   "cell_type": "markdown",
   "metadata": {
    "colab": {},
    "colab_type": "code",
    "id": "Hh3gYrVZ1Cas"
   },
   "source": [
    "**Ratio of positive to negative terms**\n",
    "\n",
    "This may be a function of doc_length."
   ]
  },
  {
   "cell_type": "code",
   "execution_count": 66,
   "metadata": {
    "colab": {},
    "colab_type": "code",
    "id": "Hh3gYrVZ1Cas"
   },
   "outputs": [
    {
     "data": {
      "image/png": "[encoded data removed]",
      "text/plain": [
       "<Figure size 432x288 with 1 Axes>"
      ]
     },
     "metadata": {},
     "output_type": "display_data"
    }
   ],
   "source": [
    "SALEX.polarity.value_counts().plot(kind='pie');"
   ]
  },
  {
   "cell_type": "markdown",
   "metadata": {
    "colab": {
     "base_uri": "https://localhost:8080/",
     "height": 381
    },
    "colab_type": "code",
    "executionInfo": {
     "elapsed": 453,
     "status": "ok",
     "timestamp": 1555682843465,
     "user": {
      "displayName": "Rafael Alvarado",
      "photoUrl": "https://lh3.googleusercontent.com/-gvKWs7zR4JY/AAAAAAAAAAI/AAAAAAABqfk/Q8O12g6M_T4/s64/photo.jpg",
      "userId": "11010075019714369526"
     },
     "user_tz": 240
    },
    "id": "DbsUOqAH5XVT",
    "outputId": "242afb34-a02a-413c-a52b-ddaa5f5509e5"
   },
   "source": [
    "## Compare Positive to Negative Words"
   ]
  },
  {
   "cell_type": "markdown",
   "metadata": {},
   "source": [
    "### Top positives"
   ]
  },
  {
   "cell_type": "code",
   "execution_count": 67,
   "metadata": {
    "colab": {
     "base_uri": "https://localhost:8080/",
     "height": 381
    },
    "colab_type": "code",
    "executionInfo": {
     "elapsed": 453,
     "status": "ok",
     "timestamp": 1555682843465,
     "user": {
      "displayName": "Rafael Alvarado",
      "photoUrl": "https://lh3.googleusercontent.com/-gvKWs7zR4JY/AAAAAAAAAAI/AAAAAAABqfk/Q8O12g6M_T4/s64/photo.jpg",
      "userId": "11010075019714369526"
     },
     "user_tz": 240
    },
    "id": "DbsUOqAH5XVT",
    "outputId": "242afb34-a02a-413c-a52b-ddaa5f5509e5"
   },
   "outputs": [
    {
     "data": {
      "text/html": [
       "<div>\n",
       "<style scoped>\n",
       "    .dataframe tbody tr th:only-of-type {\n",
       "        vertical-align: middle;\n",
       "    }\n",
       "\n",
       "    .dataframe tbody tr th {\n",
       "        vertical-align: top;\n",
       "    }\n",
       "\n",
       "    .dataframe thead th {\n",
       "        text-align: right;\n",
       "    }\n",
       "</style>\n",
       "<table border=\"1\" class=\"dataframe\">\n",
       "  <thead>\n",
       "    <tr style=\"text-align: right;\">\n",
       "      <th></th>\n",
       "      <th>polarity</th>\n",
       "      <th>valence</th>\n",
       "    </tr>\n",
       "    <tr>\n",
       "      <th>term_str</th>\n",
       "      <th></th>\n",
       "      <th></th>\n",
       "    </tr>\n",
       "  </thead>\n",
       "  <tbody>\n",
       "    <tr>\n",
       "      <th>rich</th>\n",
       "      <td>1.0</td>\n",
       "      <td>0.004259</td>\n",
       "    </tr>\n",
       "    <tr>\n",
       "      <th>black</th>\n",
       "      <td>1.0</td>\n",
       "      <td>0.004237</td>\n",
       "    </tr>\n",
       "    <tr>\n",
       "      <th>years</th>\n",
       "      <td>1.0</td>\n",
       "      <td>0.003830</td>\n",
       "    </tr>\n",
       "    <tr>\n",
       "      <th>concentrated</th>\n",
       "      <td>1.0</td>\n",
       "      <td>0.002809</td>\n",
       "    </tr>\n",
       "    <tr>\n",
       "      <th>dark</th>\n",
       "      <td>1.0</td>\n",
       "      <td>0.002797</td>\n",
       "    </tr>\n",
       "    <tr>\n",
       "      <th>complex</th>\n",
       "      <td>1.0</td>\n",
       "      <td>0.002535</td>\n",
       "    </tr>\n",
       "    <tr>\n",
       "      <th>vineyard</th>\n",
       "      <td>1.0</td>\n",
       "      <td>0.002467</td>\n",
       "    </tr>\n",
       "    <tr>\n",
       "      <th>age</th>\n",
       "      <td>1.0</td>\n",
       "      <td>0.002397</td>\n",
       "    </tr>\n",
       "    <tr>\n",
       "      <th>tannins</th>\n",
       "      <td>1.0</td>\n",
       "      <td>0.002369</td>\n",
       "    </tr>\n",
       "    <tr>\n",
       "      <th>long</th>\n",
       "      <td>1.0</td>\n",
       "      <td>0.002227</td>\n",
       "    </tr>\n",
       "  </tbody>\n",
       "</table>\n",
       "</div>"
      ],
      "text/plain": [
       "              polarity   valence\n",
       "term_str                        \n",
       "rich               1.0  0.004259\n",
       "black              1.0  0.004237\n",
       "years              1.0  0.003830\n",
       "concentrated       1.0  0.002809\n",
       "dark               1.0  0.002797\n",
       "complex            1.0  0.002535\n",
       "vineyard           1.0  0.002467\n",
       "age                1.0  0.002397\n",
       "tannins            1.0  0.002369\n",
       "long               1.0  0.002227"
      ]
     },
     "execution_count": 67,
     "metadata": {},
     "output_type": "execute_result"
    }
   ],
   "source": [
    "SALEX.sort_values('valence', ascending=False).head(10)"
   ]
  },
  {
   "cell_type": "markdown",
   "metadata": {
    "colab": {
     "base_uri": "https://localhost:8080/",
     "height": 381
    },
    "colab_type": "code",
    "executionInfo": {
     "elapsed": 403,
     "status": "ok",
     "timestamp": 1555682838113,
     "user": {
      "displayName": "Rafael Alvarado",
      "photoUrl": "https://lh3.googleusercontent.com/-gvKWs7zR4JY/AAAAAAAAAAI/AAAAAAABqfk/Q8O12g6M_T4/s64/photo.jpg",
      "userId": "11010075019714369526"
     },
     "user_tz": 240
    },
    "id": "y0qZIfrD7BYu",
    "outputId": "183f9da6-2970-40dc-f920-992c91998882",
    "tags": []
   },
   "source": [
    "### Top negatives"
   ]
  },
  {
   "cell_type": "code",
   "execution_count": 68,
   "metadata": {
    "colab": {
     "base_uri": "https://localhost:8080/",
     "height": 381
    },
    "colab_type": "code",
    "executionInfo": {
     "elapsed": 403,
     "status": "ok",
     "timestamp": 1555682838113,
     "user": {
      "displayName": "Rafael Alvarado",
      "photoUrl": "https://lh3.googleusercontent.com/-gvKWs7zR4JY/AAAAAAAAAAI/AAAAAAABqfk/Q8O12g6M_T4/s64/photo.jpg",
      "userId": "11010075019714369526"
     },
     "user_tz": 240
    },
    "id": "y0qZIfrD7BYu",
    "outputId": "183f9da6-2970-40dc-f920-992c91998882"
   },
   "outputs": [
    {
     "data": {
      "text/html": [
       "<div>\n",
       "<style scoped>\n",
       "    .dataframe tbody tr th:only-of-type {\n",
       "        vertical-align: middle;\n",
       "    }\n",
       "\n",
       "    .dataframe tbody tr th {\n",
       "        vertical-align: top;\n",
       "    }\n",
       "\n",
       "    .dataframe thead th {\n",
       "        text-align: right;\n",
       "    }\n",
       "</style>\n",
       "<table border=\"1\" class=\"dataframe\">\n",
       "  <thead>\n",
       "    <tr style=\"text-align: right;\">\n",
       "      <th></th>\n",
       "      <th>polarity</th>\n",
       "      <th>valence</th>\n",
       "    </tr>\n",
       "    <tr>\n",
       "      <th>term_str</th>\n",
       "      <th></th>\n",
       "      <th></th>\n",
       "    </tr>\n",
       "  </thead>\n",
       "  <tbody>\n",
       "    <tr>\n",
       "      <th>flavors</th>\n",
       "      <td>-1.0</td>\n",
       "      <td>-0.012111</td>\n",
       "    </tr>\n",
       "    <tr>\n",
       "      <th>aromas</th>\n",
       "      <td>-1.0</td>\n",
       "      <td>-0.006948</td>\n",
       "    </tr>\n",
       "    <tr>\n",
       "      <th>finish</th>\n",
       "      <td>-1.0</td>\n",
       "      <td>-0.006418</td>\n",
       "    </tr>\n",
       "    <tr>\n",
       "      <th>soft</th>\n",
       "      <td>-1.0</td>\n",
       "      <td>-0.004252</td>\n",
       "    </tr>\n",
       "    <tr>\n",
       "      <th>light</th>\n",
       "      <td>-1.0</td>\n",
       "      <td>-0.003905</td>\n",
       "    </tr>\n",
       "    <tr>\n",
       "      <th>simple</th>\n",
       "      <td>-1.0</td>\n",
       "      <td>-0.003895</td>\n",
       "    </tr>\n",
       "    <tr>\n",
       "      <th>fruity</th>\n",
       "      <td>-1.0</td>\n",
       "      <td>-0.003465</td>\n",
       "    </tr>\n",
       "    <tr>\n",
       "      <th>crisp</th>\n",
       "      <td>-1.0</td>\n",
       "      <td>-0.003048</td>\n",
       "    </tr>\n",
       "    <tr>\n",
       "      <th>green</th>\n",
       "      <td>-1.0</td>\n",
       "      <td>-0.002918</td>\n",
       "    </tr>\n",
       "    <tr>\n",
       "      <th>sweet</th>\n",
       "      <td>-1.0</td>\n",
       "      <td>-0.002875</td>\n",
       "    </tr>\n",
       "  </tbody>\n",
       "</table>\n",
       "</div>"
      ],
      "text/plain": [
       "          polarity   valence\n",
       "term_str                    \n",
       "flavors       -1.0 -0.012111\n",
       "aromas        -1.0 -0.006948\n",
       "finish        -1.0 -0.006418\n",
       "soft          -1.0 -0.004252\n",
       "light         -1.0 -0.003905\n",
       "simple        -1.0 -0.003895\n",
       "fruity        -1.0 -0.003465\n",
       "crisp         -1.0 -0.003048\n",
       "green         -1.0 -0.002918\n",
       "sweet         -1.0 -0.002875"
      ]
     },
     "execution_count": 68,
     "metadata": {},
     "output_type": "execute_result"
    }
   ],
   "source": [
    "SALEX.sort_values('valence', ascending=True).head(10)"
   ]
  },
  {
   "cell_type": "markdown",
   "metadata": {},
   "source": [
    "### Bar Chart"
   ]
  },
  {
   "cell_type": "code",
   "execution_count": 69,
   "metadata": {
    "colab": {
     "base_uri": "https://localhost:8080/",
     "height": 381
    },
    "colab_type": "code",
    "executionInfo": {
     "elapsed": 403,
     "status": "ok",
     "timestamp": 1555682838113,
     "user": {
      "displayName": "Rafael Alvarado",
      "photoUrl": "https://lh3.googleusercontent.com/-gvKWs7zR4JY/AAAAAAAAAAI/AAAAAAABqfk/Q8O12g6M_T4/s64/photo.jpg",
      "userId": "11010075019714369526"
     },
     "user_tz": 240
    },
    "id": "y0qZIfrD7BYu",
    "outputId": "183f9da6-2970-40dc-f920-992c91998882"
   },
   "outputs": [
    {
     "data": {
      "image/png": "[encoded data removed]",
      "text/plain": [
       "<Figure size 720x720 with 1 Axes>"
      ]
     },
     "metadata": {
      "needs_background": "light"
     },
     "output_type": "display_data"
    }
   ],
   "source": [
    "wpos = SALEX.valence.sort_values(ascending=False).head(10)\n",
    "wneg = SALEX.valence.sort_values(ascending=False).tail(10)\n",
    "pd.concat([wpos,wneg]).sort_values().plot.barh(figsize=(10,10));"
   ]
  },
  {
   "cell_type": "markdown",
   "metadata": {},
   "source": [
    "# Save"
   ]
  },
  {
   "cell_type": "code",
   "execution_count": 70,
   "metadata": {},
   "outputs": [],
   "source": [
    "DOCS.to_csv(f\"{data_home}/winereviews/winereviews-DOCS.csv\", index=True)\n",
    "BOW.to_csv(f\"{data_home}/winereviews/winereviews-BOW.csv\", index=True)\n",
    "VOCAB.to_csv(f\"{data_home}/winereviews/winereviews-VOCAB.csv\", index=True)\n",
    "SALEX.to_csv(f\"{data_home}/winereviews/winereviews-NB_SALEX.csv\", index=True)"
   ]
  },
  {
   "cell_type": "markdown",
   "metadata": {},
   "source": [
    "# Appendix: Convert Points to Grades\n",
    "\n",
    "You might do this if you wanted a multinomial model that distinguished betwen A+, A, A-, et.c"
   ]
  },
  {
   "cell_type": "code",
   "execution_count": 71,
   "metadata": {},
   "outputs": [],
   "source": [
    "def convert_num_to_grade(num:int):\n",
    "    letter = ''\n",
    "\n",
    "    if num < 90:\n",
    "        letter = 'B'\n",
    "    else:\n",
    "        letter = 'A'\n",
    "        \n",
    "    if num % 10 < 3:\n",
    "        # letter += '-'\n",
    "        letter += '0'\n",
    "    elif num % 10 > 6:\n",
    "        # letter += '+'\n",
    "        letter += '2'\n",
    "    else:\n",
    "        # letter += ''\n",
    "        letter += '1'\n",
    "        \n",
    "    return letter"
   ]
  },
  {
   "cell_type": "code",
   "execution_count": 72,
   "metadata": {},
   "outputs": [],
   "source": [
    "def test_convert_num_to_grade():\n",
    "    for num in range(80,101):\n",
    "        let = convert_num_to_grade(num)\n",
    "        print(num, let)"
   ]
  },
  {
   "cell_type": "code",
   "execution_count": 73,
   "metadata": {},
   "outputs": [
    {
     "name": "stdout",
     "output_type": "stream",
     "text": [
      "80 B0\n",
      "81 B0\n",
      "82 B0\n",
      "83 B1\n",
      "84 B1\n",
      "85 B1\n",
      "86 B1\n",
      "87 B2\n",
      "88 B2\n",
      "89 B2\n",
      "90 A0\n",
      "91 A0\n",
      "92 A0\n",
      "93 A1\n",
      "94 A1\n",
      "95 A1\n",
      "96 A1\n",
      "97 A2\n",
      "98 A2\n",
      "99 A2\n",
      "100 A0\n"
     ]
    }
   ],
   "source": [
    "test_convert_num_to_grade()"
   ]
  },
  {
   "cell_type": "code",
   "execution_count": 74,
   "metadata": {},
   "outputs": [],
   "source": [
    "docs['grade'] = docs.points.apply(convert_num_to_grade)"
   ]
  },
  {
   "cell_type": "code",
   "execution_count": 75,
   "metadata": {},
   "outputs": [
    {
     "data": {
      "text/html": [
       "<div>\n",
       "<style scoped>\n",
       "    .dataframe tbody tr th:only-of-type {\n",
       "        vertical-align: middle;\n",
       "    }\n",
       "\n",
       "    .dataframe tbody tr th {\n",
       "        vertical-align: top;\n",
       "    }\n",
       "\n",
       "    .dataframe thead th {\n",
       "        text-align: right;\n",
       "    }\n",
       "</style>\n",
       "<table border=\"1\" class=\"dataframe\">\n",
       "  <thead>\n",
       "    <tr style=\"text-align: right;\">\n",
       "      <th></th>\n",
       "      <th>doc_content</th>\n",
       "      <th>points</th>\n",
       "      <th>doc_len</th>\n",
       "      <th>doc_label</th>\n",
       "      <th>grade</th>\n",
       "    </tr>\n",
       "    <tr>\n",
       "      <th>doc_id</th>\n",
       "      <th></th>\n",
       "      <th></th>\n",
       "      <th></th>\n",
       "      <th></th>\n",
       "      <th></th>\n",
       "    </tr>\n",
       "  </thead>\n",
       "  <tbody>\n",
       "    <tr>\n",
       "      <th>0</th>\n",
       "      <td>Aromas include tropical fruit, broom, brimston...</td>\n",
       "      <td>87</td>\n",
       "      <td>172</td>\n",
       "      <td>NaN</td>\n",
       "      <td>B2</td>\n",
       "    </tr>\n",
       "    <tr>\n",
       "      <th>1</th>\n",
       "      <td>This is ripe and fruity, a wine that is smooth...</td>\n",
       "      <td>87</td>\n",
       "      <td>227</td>\n",
       "      <td>NaN</td>\n",
       "      <td>B2</td>\n",
       "    </tr>\n",
       "    <tr>\n",
       "      <th>2</th>\n",
       "      <td>Tart and snappy, the flavors of lime flesh and...</td>\n",
       "      <td>87</td>\n",
       "      <td>186</td>\n",
       "      <td>NaN</td>\n",
       "      <td>B2</td>\n",
       "    </tr>\n",
       "    <tr>\n",
       "      <th>3</th>\n",
       "      <td>Pineapple rind, lemon pith and orange blossom ...</td>\n",
       "      <td>87</td>\n",
       "      <td>199</td>\n",
       "      <td>NaN</td>\n",
       "      <td>B2</td>\n",
       "    </tr>\n",
       "    <tr>\n",
       "      <th>4</th>\n",
       "      <td>Much like the regular bottling from 2012, this...</td>\n",
       "      <td>87</td>\n",
       "      <td>249</td>\n",
       "      <td>NaN</td>\n",
       "      <td>B2</td>\n",
       "    </tr>\n",
       "    <tr>\n",
       "      <th>...</th>\n",
       "      <td>...</td>\n",
       "      <td>...</td>\n",
       "      <td>...</td>\n",
       "      <td>...</td>\n",
       "      <td>...</td>\n",
       "    </tr>\n",
       "    <tr>\n",
       "      <th>129966</th>\n",
       "      <td>Notes of honeysuckle and cantaloupe sweeten th...</td>\n",
       "      <td>90</td>\n",
       "      <td>227</td>\n",
       "      <td>NaN</td>\n",
       "      <td>A0</td>\n",
       "    </tr>\n",
       "    <tr>\n",
       "      <th>129967</th>\n",
       "      <td>Citation is given as much as a decade of bottl...</td>\n",
       "      <td>90</td>\n",
       "      <td>233</td>\n",
       "      <td>NaN</td>\n",
       "      <td>A0</td>\n",
       "    </tr>\n",
       "    <tr>\n",
       "      <th>129968</th>\n",
       "      <td>Well-drained gravel soil gives this wine its c...</td>\n",
       "      <td>90</td>\n",
       "      <td>225</td>\n",
       "      <td>NaN</td>\n",
       "      <td>A0</td>\n",
       "    </tr>\n",
       "    <tr>\n",
       "      <th>129969</th>\n",
       "      <td>A dry style of Pinot Gris, this is crisp with ...</td>\n",
       "      <td>90</td>\n",
       "      <td>216</td>\n",
       "      <td>NaN</td>\n",
       "      <td>A0</td>\n",
       "    </tr>\n",
       "    <tr>\n",
       "      <th>129970</th>\n",
       "      <td>Big, rich and off-dry, this is powered by inte...</td>\n",
       "      <td>90</td>\n",
       "      <td>169</td>\n",
       "      <td>NaN</td>\n",
       "      <td>A0</td>\n",
       "    </tr>\n",
       "  </tbody>\n",
       "</table>\n",
       "<p>119978 rows × 5 columns</p>\n",
       "</div>"
      ],
      "text/plain": [
       "                                              doc_content  points  doc_len  \\\n",
       "doc_id                                                                       \n",
       "0       Aromas include tropical fruit, broom, brimston...      87      172   \n",
       "1       This is ripe and fruity, a wine that is smooth...      87      227   \n",
       "2       Tart and snappy, the flavors of lime flesh and...      87      186   \n",
       "3       Pineapple rind, lemon pith and orange blossom ...      87      199   \n",
       "4       Much like the regular bottling from 2012, this...      87      249   \n",
       "...                                                   ...     ...      ...   \n",
       "129966  Notes of honeysuckle and cantaloupe sweeten th...      90      227   \n",
       "129967  Citation is given as much as a decade of bottl...      90      233   \n",
       "129968  Well-drained gravel soil gives this wine its c...      90      225   \n",
       "129969  A dry style of Pinot Gris, this is crisp with ...      90      216   \n",
       "129970  Big, rich and off-dry, this is powered by inte...      90      169   \n",
       "\n",
       "       doc_label grade  \n",
       "doc_id                  \n",
       "0            NaN    B2  \n",
       "1            NaN    B2  \n",
       "2            NaN    B2  \n",
       "3            NaN    B2  \n",
       "4            NaN    B2  \n",
       "...          ...   ...  \n",
       "129966       NaN    A0  \n",
       "129967       NaN    A0  \n",
       "129968       NaN    A0  \n",
       "129969       NaN    A0  \n",
       "129970       NaN    A0  \n",
       "\n",
       "[119978 rows x 5 columns]"
      ]
     },
     "execution_count": 75,
     "metadata": {},
     "output_type": "execute_result"
    }
   ],
   "source": [
    "docs"
   ]
  },
  {
   "cell_type": "markdown",
   "metadata": {},
   "source": [
    "## Expected Mutual Information\n",
    "\n",
    "![](emi.png)"
   ]
  },
  {
   "cell_type": "code",
   "execution_count": 76,
   "metadata": {},
   "outputs": [
    {
     "ename": "NameError",
     "evalue": "name 'training_tokens' is not defined",
     "output_type": "error",
     "traceback": [
      "\u001b[0;31m---------------------------------------------------------------------------\u001b[0m",
      "\u001b[0;31mNameError\u001b[0m                                 Traceback (most recent call last)",
      "Input \u001b[0;32mIn [76]\u001b[0m, in \u001b[0;36m<cell line: 1>\u001b[0;34m()\u001b[0m\n\u001b[0;32m----> 1\u001b[0m \u001b[43mtraining_tokens\u001b[49m\u001b[38;5;241m.\u001b[39mhead()\n",
      "\u001b[0;31mNameError\u001b[0m: name 'training_tokens' is not defined"
     ]
    }
   ],
   "source": [
    "training_tokens.head()"
   ]
  },
  {
   "cell_type": "code",
   "execution_count": null,
   "metadata": {},
   "outputs": [],
   "source": [
    "p_c = class_priors.to_frame()\n",
    "p_c.columns = ['p']\n",
    "p_c.index.name = 'doc_label'"
   ]
  },
  {
   "cell_type": "code",
   "execution_count": null,
   "metadata": {},
   "outputs": [],
   "source": [
    "p_c"
   ]
  },
  {
   "cell_type": "code",
   "execution_count": null,
   "metadata": {},
   "outputs": [],
   "source": [
    "p_w = (training_tokens.term_str.value_counts() / training_tokens.shape[0]).to_frame()\n",
    "p_w.columns = ['p']\n",
    "# p_w.index.name = 'term_id'\n",
    "# p_w['term_str'] = vocab.term_str"
   ]
  },
  {
   "cell_type": "code",
   "execution_count": null,
   "metadata": {},
   "outputs": [],
   "source": [
    "p_w.sort_values('p', ascending=False).head()"
   ]
  },
  {
   "cell_type": "code",
   "execution_count": null,
   "metadata": {},
   "outputs": [],
   "source": [
    "p_cw = training_tokens.groupby(['term_str','doc_label']).count() / training_tokens.shape[0]\n",
    "p_cw.columns = ['p']"
   ]
  },
  {
   "cell_type": "code",
   "execution_count": null,
   "metadata": {},
   "outputs": [],
   "source": [
    "p_cw.head()"
   ]
  },
  {
   "cell_type": "code",
   "execution_count": null,
   "metadata": {},
   "outputs": [],
   "source": [
    "EMI = training_tokens.join(p_cw, on=['term_str','doc_label'], how='left').rename(columns={'p':'p_cw'})\n",
    "EMI = EMI.join(p_w['p'], on='term_str', how='left').rename(columns={'p':'p_w'})\n",
    "EMI = EMI.join(p_c, on='doc_label', how='left').rename(columns={'p':'p_c'})\n",
    "EMI['emi'] = EMI.p_cw * log(EMI.p_cw/(EMI.p_c * EMI.p_w))\n",
    "EMI = EMI[['doc_label','term_str','emi']].drop_duplicates().set_index(['doc_label','term_str'])"
   ]
  },
  {
   "cell_type": "code",
   "execution_count": null,
   "metadata": {},
   "outputs": [],
   "source": [
    "EMIX = EMI.unstack(fill_value=0).T\n",
    "EMIX.index = EMIX.index.droplevel(0)"
   ]
  },
  {
   "cell_type": "code",
   "execution_count": null,
   "metadata": {},
   "outputs": [],
   "source": [
    "EMIX.sort_values('P', ascending=False)#.head(100)"
   ]
  },
  {
   "cell_type": "code",
   "execution_count": null,
   "metadata": {},
   "outputs": [],
   "source": [
    "EMIX.sort_values('N', ascending=False)#.head(100)"
   ]
  },
  {
   "cell_type": "code",
   "execution_count": null,
   "metadata": {},
   "outputs": [],
   "source": [
    "EMIX.to_csv(f'{data_out}/{prefix}-EMI_SALEX.csv', index=True)"
   ]
  },
  {
   "cell_type": "code",
   "execution_count": null,
   "metadata": {},
   "outputs": [],
   "source": []
  }
 ],
 "metadata": {
  "colab": {
   "collapsed_sections": [],
   "name": "DS5559_NaiveBayes_WineReviews.ipynb",
   "provenance": [],
   "toc_visible": true,
   "version": "0.3.2"
  },
  "hide_input": false,
  "kernelspec": {
   "display_name": "Python 3 (ipykernel)",
   "language": "python",
   "name": "python3"
  },
  "language_info": {
   "codemirror_mode": {
    "name": "ipython",
    "version": 3
   },
   "file_extension": ".py",
   "mimetype": "text/x-python",
   "name": "python",
   "nbconvert_exporter": "python",
   "pygments_lexer": "ipython3",
   "version": "3.10.0"
  },
  "latex_envs": {
   "LaTeX_envs_menu_present": true,
   "autoclose": true,
   "autocomplete": true,
   "bibliofile": "biblio.bib",
   "cite_by": "apalike",
   "current_citInitial": 1,
   "eqLabelWithNumbers": true,
   "eqNumInitial": 1,
   "hotkeys": {
    "equation": "Ctrl-E",
    "itemize": "Ctrl-I"
   },
   "labels_anchors": false,
   "latex_user_defs": false,
   "report_style_numbering": false,
   "user_envs_cfg": false
  },
  "toc": {
   "base_numbering": 1,
   "nav_menu": {},
   "number_sections": true,
   "sideBar": true,
   "skip_h1_title": true,
   "title_cell": "Table of Contents",
   "title_sidebar": "Contents",
   "toc_cell": false,
   "toc_position": {},
   "toc_section_display": true,
   "toc_window_display": true
  },
  "toc-autonumbering": false,
  "toc-showcode": false,
  "toc-showmarkdowntxt": false,
  "varInspector": {
   "cols": {
    "lenName": 16,
    "lenType": 16,
    "lenVar": 40
   },
   "kernels_config": {
    "python": {
     "delete_cmd_postfix": "",
     "delete_cmd_prefix": "del ",
     "library": "var_list.py",
     "varRefreshCmd": "print(var_dic_list())"
    },
    "r": {
     "delete_cmd_postfix": ") ",
     "delete_cmd_prefix": "rm(",
     "library": "var_list.r",
     "varRefreshCmd": "cat(var_dic_list()) "
    }
   },
   "position": {
    "height": "782.85px",
    "left": "699px",
    "right": "20px",
    "top": "19px",
    "width": "650px"
   },
   "types_to_exclude": [
    "module",
    "function",
    "builtin_function_or_method",
    "instance",
    "_Feature"
   ],
   "window_display": false
  },
  "widgets": {
   "application/vnd.jupyter.widget-state+json": {
    "state": {},
    "version_major": 2,
    "version_minor": 0
   }
  }
 },
 "nbformat": 4,
 "nbformat_minor": 4
}
