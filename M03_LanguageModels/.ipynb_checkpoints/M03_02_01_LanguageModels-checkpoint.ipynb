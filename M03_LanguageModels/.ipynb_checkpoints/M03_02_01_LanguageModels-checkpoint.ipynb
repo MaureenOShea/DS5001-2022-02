{
 "cells": [
  {
   "cell_type": "markdown",
   "metadata": {
    "colab_type": "text",
    "id": "Ai-gvPnADykO",
    "tags": [],
    "toc-nb-collapsed": true
   },
   "source": [
    "# DS 5001 Week 3 Lab: Inferring Language Models (REVISED)\n",
    "\n",
    "We now create a series of langage models from a set of novels and evaluate them."
   ]
  },
  {
   "cell_type": "markdown",
   "metadata": {},
   "source": [
    "## Questions and Notes\n",
    "\n",
    "* Remove periods from known abbreviations; or use NLTK to parse sentences."
   ]
  },
  {
   "cell_type": "markdown",
   "metadata": {
    "colab_type": "text",
    "id": "-5x8B8RODykY"
   },
   "source": [
    "## Set Up"
   ]
  },
  {
   "cell_type": "markdown",
   "metadata": {},
   "source": [
    "### Configure"
   ]
  },
  {
   "cell_type": "code",
   "execution_count": 1,
   "metadata": {
    "colab": {},
    "colab_type": "code",
    "id": "Fb3ZsuIsDykn"
   },
   "outputs": [],
   "source": [
    "data_in = \"./data_in\"\n",
    "data_out = \"./data_out\""
   ]
  },
  {
   "cell_type": "code",
   "execution_count": 2,
   "metadata": {
    "colab": {},
    "colab_type": "code",
    "id": "Fb3ZsuIsDykn"
   },
   "outputs": [],
   "source": [
    "OHCO = ['book_id', 'chap_num', 'para_num', 'sent_num', 'token_num']\n",
    "SENT = OHCO[:4]\n",
    "text_file1 = f'{data_in}/austen-persuasion.csv'\n",
    "text_file2 = f'{data_in}/austen-sense.csv'"
   ]
  },
  {
   "cell_type": "markdown",
   "metadata": {},
   "source": [
    "### Import libraries"
   ]
  },
  {
   "cell_type": "code",
   "execution_count": 3,
   "metadata": {
    "colab": {},
    "colab_type": "code",
    "id": "MwrVU8kZDykb"
   },
   "outputs": [],
   "source": [
    "import pandas as pd\n",
    "import numpy as np\n",
    "import re\n",
    "import seaborn as sns"
   ]
  },
  {
   "cell_type": "code",
   "execution_count": 4,
   "metadata": {
    "colab": {},
    "colab_type": "code",
    "id": "MwrVU8kZDykb"
   },
   "outputs": [],
   "source": [
    "sns.set()"
   ]
  },
  {
   "cell_type": "markdown",
   "metadata": {},
   "source": [
    "## Import and combine tokens for texts\n",
    "\n",
    "Problem: These texts treat Mr. and Mrs. as sentences."
   ]
  },
  {
   "cell_type": "code",
   "execution_count": 5,
   "metadata": {},
   "outputs": [],
   "source": [
    "text1 = pd.read_csv(text_file1)\n",
    "text2 = pd.read_csv(text_file2)\n",
    "text1['book_id'] = 1\n",
    "text2['book_id'] = 2\n",
    "tokens = pd.concat([text1, text2]).dropna().set_index(OHCO)"
   ]
  },
  {
   "cell_type": "code",
   "execution_count": 6,
   "metadata": {},
   "outputs": [],
   "source": [
    "tokens['term_str'] = tokens.token_str.str.lower().str.replace(r'[\\W_]+', '')\n",
    "tokens = tokens[tokens.term_str != '']"
   ]
  },
  {
   "cell_type": "code",
   "execution_count": 7,
   "metadata": {},
   "outputs": [],
   "source": [
    "sents = tokens.groupby(SENT).term_str.apply(lambda x: ' '.join(x)).to_frame('sent_str')"
   ]
  },
  {
   "cell_type": "code",
   "execution_count": 8,
   "metadata": {},
   "outputs": [],
   "source": [
    "train_sents = sents.sent_str.to_list()"
   ]
  },
  {
   "cell_type": "code",
   "execution_count": 9,
   "metadata": {
    "scrolled": false
   },
   "outputs": [],
   "source": [
    "# train_sents"
   ]
  },
  {
   "cell_type": "markdown",
   "metadata": {
    "colab_type": "text",
    "id": "NfMtOiCYDylX"
   },
   "source": [
    "## Create N-Gram models\n",
    "\n",
    "This function generates models up to the length specified."
   ]
  },
  {
   "cell_type": "code",
   "execution_count": 10,
   "metadata": {},
   "outputs": [],
   "source": [
    "window = 3 # Max ngram length (i.e. max n)"
   ]
  },
  {
   "cell_type": "markdown",
   "metadata": {},
   "source": [
    "### `sents2ngrams()`"
   ]
  },
  {
   "cell_type": "code",
   "execution_count": 11,
   "metadata": {},
   "outputs": [],
   "source": [
    "def sents2ngrams(sents, window=3, smarker='<s>'):\n",
    "    \"\"\"Convert a list of sentences (docs) to a dataframe of ngrams\"\"\"\n",
    "\n",
    "    # Build ngram list for each sentence\n",
    "    # Preserve sentence number\n",
    "    ngram_data = []\n",
    "    for sn, sent in enumerate(sents): \n",
    "        \n",
    "        # Tokenize the sentence and add sentence boundary markers\n",
    "        W = sent.lower().split()\n",
    "        W = [re.sub(r'[\\W_]+', '', w) for w in W] # Get rid of non-alphanumerics \n",
    "        W = [w for w in W if w !=''] # Get rid of resulting blanks\n",
    "        padding = (f'{smarker} ' * (window-1)).split() # Add <s> list to beginning and end\n",
    "        W = padding + W + padding\n",
    "                \n",
    "        # Gather ngram slices with sliding window\n",
    "        ngrams = []\n",
    "        for i in range(0, len(W)):\n",
    "            ngram = W[i:i+window]\n",
    "            if len(ngram) < window: # Don't get ngrams smaller than window\n",
    "                break\n",
    "            else:\n",
    "                ngrams.append([sn]+ngram) # Append ngram with sentence number too\n",
    "        ngram_data.append(ngrams)\n",
    "        \n",
    "    # Convert list to a dataframe and project token sequence numbers (`w*`) onto columns\n",
    "    NGRAMS = pd.DataFrame(ngram_data).stack().to_frame('ngram').reset_index(drop=True)\n",
    "    WIDX = ['s']+[f'w{i}' for i in range(window)]\n",
    "    for i, key in enumerate(WIDX):\n",
    "        NGRAMS[key] = NGRAMS.ngram.apply(lambda x: x[i])\n",
    "    NGRAMS = NGRAMS[WIDX]\n",
    "    \n",
    "    # Create index using sentence number and ngram number within sentence\n",
    "    NGRAMS['ngram_num'] = NGRAMS.groupby('s').cumcount()\n",
    "    NGRAMS = NGRAMS.set_index(['s','ngram_num'])\n",
    "    \n",
    "    return NGRAMS"
   ]
  },
  {
   "cell_type": "markdown",
   "metadata": {},
   "source": [
    "### `ngrams2models()`"
   ]
  },
  {
   "cell_type": "code",
   "execution_count": 12,
   "metadata": {},
   "outputs": [],
   "source": [
    "def ngrams2models(ngrams):\n",
    "    \"\"\"Cnvert a dataframe of ngrams to a list of language models\"\"\"\n",
    "\n",
    "    window = ngrams.shape[1]\n",
    "    WIDX = ngrams.columns.to_list() # The word index \n",
    "    M = {} # A dict to hold the models\n",
    "    for i in range(1, window+1):\n",
    "        \n",
    "        # Create index names (e.g. ['w0', 'w1'] for bigrams)\n",
    "        # Use to group ngrams into unique values with counts\n",
    "        M[i] = ngrams.value_counts(WIDX[:i]).to_frame('n').sort_index()\n",
    "        \n",
    "        # Estimate prob from counts\n",
    "        # This is the joint probability for rank > 1\n",
    "        M[i]['p'] = M[i].n / M[i].n.sum() \n",
    "        M[i]['i'] = np.log2(1/M[i].p)\n",
    "        M[i]['h'] = M[i].p * M[i].i\n",
    "        \n",
    "        # Conditional Probabilities for rank > 1\n",
    "        # We compute using formuma of C(W_{n+1}) / C(W_{n})\n",
    "        if i > 1:\n",
    "            M[i]['n_'] = M[i-1].n # Create temp col for count of lower rank nodel\n",
    "            M[i]['cp'] = M[i].n / M[i].n_ # Get conditional probability\n",
    "            M[i] = M[i].sort_index() # Sort index; otherwise we get a warning\n",
    "            M[i].drop('n_', 1, inplace=True) # Lose temporary col\n",
    "            M[i]['ci'] = np.log2(1/M[i].cp)\n",
    "            M[i]['ch'] = M[i].cp * M[i].ci\n",
    "                        \n",
    "    return M    "
   ]
  },
  {
   "cell_type": "markdown",
   "metadata": {},
   "source": [
    "### Apply"
   ]
  },
  {
   "cell_type": "code",
   "execution_count": 13,
   "metadata": {},
   "outputs": [],
   "source": [
    "NG = sents2ngrams(train_sents, window=window)\n",
    "M = ngrams2models(NG)"
   ]
  },
  {
   "cell_type": "code",
   "execution_count": 14,
   "metadata": {},
   "outputs": [
    {
     "data": {
      "text/html": [
       "<div>\n",
       "<style scoped>\n",
       "    .dataframe tbody tr th:only-of-type {\n",
       "        vertical-align: middle;\n",
       "    }\n",
       "\n",
       "    .dataframe tbody tr th {\n",
       "        vertical-align: top;\n",
       "    }\n",
       "\n",
       "    .dataframe thead th {\n",
       "        text-align: right;\n",
       "    }\n",
       "</style>\n",
       "<table border=\"1\" class=\"dataframe\">\n",
       "  <thead>\n",
       "    <tr style=\"text-align: right;\">\n",
       "      <th></th>\n",
       "      <th>w0</th>\n",
       "      <th>w1</th>\n",
       "      <th>w2</th>\n",
       "    </tr>\n",
       "    <tr>\n",
       "      <th>ngram_num</th>\n",
       "      <th></th>\n",
       "      <th></th>\n",
       "      <th></th>\n",
       "    </tr>\n",
       "  </thead>\n",
       "  <tbody>\n",
       "    <tr>\n",
       "      <th>0</th>\n",
       "      <td>&lt;s&gt;</td>\n",
       "      <td>&lt;s&gt;</td>\n",
       "      <td>a</td>\n",
       "    </tr>\n",
       "    <tr>\n",
       "      <th>1</th>\n",
       "      <td>&lt;s&gt;</td>\n",
       "      <td>a</td>\n",
       "      <td>still</td>\n",
       "    </tr>\n",
       "    <tr>\n",
       "      <th>2</th>\n",
       "      <td>a</td>\n",
       "      <td>still</td>\n",
       "      <td>born</td>\n",
       "    </tr>\n",
       "    <tr>\n",
       "      <th>3</th>\n",
       "      <td>still</td>\n",
       "      <td>born</td>\n",
       "      <td>son</td>\n",
       "    </tr>\n",
       "    <tr>\n",
       "      <th>4</th>\n",
       "      <td>born</td>\n",
       "      <td>son</td>\n",
       "      <td>november</td>\n",
       "    </tr>\n",
       "    <tr>\n",
       "      <th>5</th>\n",
       "      <td>son</td>\n",
       "      <td>november</td>\n",
       "      <td>5</td>\n",
       "    </tr>\n",
       "    <tr>\n",
       "      <th>6</th>\n",
       "      <td>november</td>\n",
       "      <td>5</td>\n",
       "      <td>1789</td>\n",
       "    </tr>\n",
       "    <tr>\n",
       "      <th>7</th>\n",
       "      <td>5</td>\n",
       "      <td>1789</td>\n",
       "      <td>&lt;s&gt;</td>\n",
       "    </tr>\n",
       "    <tr>\n",
       "      <th>8</th>\n",
       "      <td>1789</td>\n",
       "      <td>&lt;s&gt;</td>\n",
       "      <td>&lt;s&gt;</td>\n",
       "    </tr>\n",
       "  </tbody>\n",
       "</table>\n",
       "</div>"
      ],
      "text/plain": [
       "                 w0        w1        w2\n",
       "ngram_num                              \n",
       "0               <s>       <s>         a\n",
       "1               <s>         a     still\n",
       "2                 a     still      born\n",
       "3             still      born       son\n",
       "4              born       son  november\n",
       "5               son  november         5\n",
       "6          november         5      1789\n",
       "7                 5      1789       <s>\n",
       "8              1789       <s>       <s>"
      ]
     },
     "execution_count": 14,
     "metadata": {},
     "output_type": "execute_result"
    }
   ],
   "source": [
    "NG.loc[10]"
   ]
  },
  {
   "cell_type": "code",
   "execution_count": 15,
   "metadata": {},
   "outputs": [
    {
     "data": {
      "text/html": [
       "<div>\n",
       "<style scoped>\n",
       "    .dataframe tbody tr th:only-of-type {\n",
       "        vertical-align: middle;\n",
       "    }\n",
       "\n",
       "    .dataframe tbody tr th {\n",
       "        vertical-align: top;\n",
       "    }\n",
       "\n",
       "    .dataframe thead th {\n",
       "        text-align: right;\n",
       "    }\n",
       "</style>\n",
       "<table border=\"1\" class=\"dataframe\">\n",
       "  <thead>\n",
       "    <tr style=\"text-align: right;\">\n",
       "      <th></th>\n",
       "      <th></th>\n",
       "      <th></th>\n",
       "      <th>n</th>\n",
       "      <th>p</th>\n",
       "      <th>i</th>\n",
       "      <th>h</th>\n",
       "      <th>cp</th>\n",
       "      <th>ci</th>\n",
       "      <th>ch</th>\n",
       "    </tr>\n",
       "    <tr>\n",
       "      <th>w0</th>\n",
       "      <th>w1</th>\n",
       "      <th>w2</th>\n",
       "      <th></th>\n",
       "      <th></th>\n",
       "      <th></th>\n",
       "      <th></th>\n",
       "      <th></th>\n",
       "      <th></th>\n",
       "      <th></th>\n",
       "    </tr>\n",
       "  </thead>\n",
       "  <tbody>\n",
       "    <tr>\n",
       "      <th>feelings</th>\n",
       "      <th>you</th>\n",
       "      <th>see</th>\n",
       "      <td>1</td>\n",
       "      <td>0.000004</td>\n",
       "      <td>17.829797</td>\n",
       "      <td>0.000077</td>\n",
       "      <td>1.000000</td>\n",
       "      <td>0.000000</td>\n",
       "      <td>0.000000</td>\n",
       "    </tr>\n",
       "    <tr>\n",
       "      <th>latter</th>\n",
       "      <th>in</th>\n",
       "      <th>all</th>\n",
       "      <td>1</td>\n",
       "      <td>0.000004</td>\n",
       "      <td>17.829797</td>\n",
       "      <td>0.000077</td>\n",
       "      <td>1.000000</td>\n",
       "      <td>0.000000</td>\n",
       "      <td>0.000000</td>\n",
       "    </tr>\n",
       "    <tr>\n",
       "      <th>mrs</th>\n",
       "      <th>harville</th>\n",
       "      <th>had</th>\n",
       "      <td>2</td>\n",
       "      <td>0.000009</td>\n",
       "      <td>16.829797</td>\n",
       "      <td>0.000144</td>\n",
       "      <td>0.083333</td>\n",
       "      <td>3.584963</td>\n",
       "      <td>0.298747</td>\n",
       "    </tr>\n",
       "    <tr>\n",
       "      <th>highly</th>\n",
       "      <th>suitable</th>\n",
       "      <th>for</th>\n",
       "      <td>1</td>\n",
       "      <td>0.000004</td>\n",
       "      <td>17.829797</td>\n",
       "      <td>0.000077</td>\n",
       "      <td>1.000000</td>\n",
       "      <td>0.000000</td>\n",
       "      <td>0.000000</td>\n",
       "    </tr>\n",
       "    <tr>\n",
       "      <th>&lt;s&gt;</th>\n",
       "      <th>her</th>\n",
       "      <th>demands</th>\n",
       "      <td>1</td>\n",
       "      <td>0.000004</td>\n",
       "      <td>17.829797</td>\n",
       "      <td>0.000077</td>\n",
       "      <td>0.005988</td>\n",
       "      <td>7.383704</td>\n",
       "      <td>0.044214</td>\n",
       "    </tr>\n",
       "    <tr>\n",
       "      <th>this</th>\n",
       "      <th>is</th>\n",
       "      <th>really</th>\n",
       "      <td>1</td>\n",
       "      <td>0.000004</td>\n",
       "      <td>17.829797</td>\n",
       "      <td>0.000077</td>\n",
       "      <td>0.022727</td>\n",
       "      <td>5.459432</td>\n",
       "      <td>0.124078</td>\n",
       "    </tr>\n",
       "    <tr>\n",
       "      <th>up</th>\n",
       "      <th>to</th>\n",
       "      <th>the</th>\n",
       "      <td>7</td>\n",
       "      <td>0.000030</td>\n",
       "      <td>15.022442</td>\n",
       "      <td>0.000451</td>\n",
       "      <td>0.350000</td>\n",
       "      <td>1.514573</td>\n",
       "      <td>0.530101</td>\n",
       "    </tr>\n",
       "    <tr>\n",
       "      <th>would</th>\n",
       "      <th>bear</th>\n",
       "      <th>up</th>\n",
       "      <td>1</td>\n",
       "      <td>0.000004</td>\n",
       "      <td>17.829797</td>\n",
       "      <td>0.000077</td>\n",
       "      <td>0.500000</td>\n",
       "      <td>1.000000</td>\n",
       "      <td>0.500000</td>\n",
       "    </tr>\n",
       "    <tr>\n",
       "      <th>middleton</th>\n",
       "      <th>s</th>\n",
       "      <th>mother</th>\n",
       "      <td>3</td>\n",
       "      <td>0.000013</td>\n",
       "      <td>16.244835</td>\n",
       "      <td>0.000209</td>\n",
       "      <td>0.200000</td>\n",
       "      <td>2.321928</td>\n",
       "      <td>0.464386</td>\n",
       "    </tr>\n",
       "    <tr>\n",
       "      <th>not</th>\n",
       "      <th>upon</th>\n",
       "      <th>the</th>\n",
       "      <td>1</td>\n",
       "      <td>0.000004</td>\n",
       "      <td>17.829797</td>\n",
       "      <td>0.000077</td>\n",
       "      <td>0.333333</td>\n",
       "      <td>1.584963</td>\n",
       "      <td>0.528321</td>\n",
       "    </tr>\n",
       "  </tbody>\n",
       "</table>\n",
       "</div>"
      ],
      "text/plain": [
       "                            n         p          i         h        cp  \\\n",
       "w0        w1       w2                                                    \n",
       "feelings  you      see      1  0.000004  17.829797  0.000077  1.000000   \n",
       "latter    in       all      1  0.000004  17.829797  0.000077  1.000000   \n",
       "mrs       harville had      2  0.000009  16.829797  0.000144  0.083333   \n",
       "highly    suitable for      1  0.000004  17.829797  0.000077  1.000000   \n",
       "<s>       her      demands  1  0.000004  17.829797  0.000077  0.005988   \n",
       "this      is       really   1  0.000004  17.829797  0.000077  0.022727   \n",
       "up        to       the      7  0.000030  15.022442  0.000451  0.350000   \n",
       "would     bear     up       1  0.000004  17.829797  0.000077  0.500000   \n",
       "middleton s        mother   3  0.000013  16.244835  0.000209  0.200000   \n",
       "not       upon     the      1  0.000004  17.829797  0.000077  0.333333   \n",
       "\n",
       "                                  ci        ch  \n",
       "w0        w1       w2                           \n",
       "feelings  you      see      0.000000  0.000000  \n",
       "latter    in       all      0.000000  0.000000  \n",
       "mrs       harville had      3.584963  0.298747  \n",
       "highly    suitable for      0.000000  0.000000  \n",
       "<s>       her      demands  7.383704  0.044214  \n",
       "this      is       really   5.459432  0.124078  \n",
       "up        to       the      1.514573  0.530101  \n",
       "would     bear     up       1.000000  0.500000  \n",
       "middleton s        mother   2.321928  0.464386  \n",
       "not       upon     the      1.584963  0.528321  "
      ]
     },
     "execution_count": 15,
     "metadata": {},
     "output_type": "execute_result"
    }
   ],
   "source": [
    "M[3].sample(10)"
   ]
  },
  {
   "cell_type": "markdown",
   "metadata": {},
   "source": [
    "### Explore"
   ]
  },
  {
   "cell_type": "markdown",
   "metadata": {},
   "source": [
    "#### `<w0> (him|her)`"
   ]
  },
  {
   "cell_type": "code",
   "execution_count": 16,
   "metadata": {},
   "outputs": [
    {
     "data": {
      "image/png": "[encoded data removed]",
      "text/plain": [
       "<Figure size 432x288 with 1 Axes>"
      ]
     },
     "metadata": {},
     "output_type": "display_data"
    }
   ],
   "source": [
    "M[2].xs('her', level=1).sort_values('n', ascending=False).head(30)\\\n",
    "    .sort_values('cp', ascending=True).tail(10).cp.plot.barh();"
   ]
  },
  {
   "cell_type": "code",
   "execution_count": 17,
   "metadata": {},
   "outputs": [
    {
     "data": {
      "image/png": "[encoded data removed]",
      "text/plain": [
       "<Figure size 432x288 with 1 Axes>"
      ]
     },
     "metadata": {},
     "output_type": "display_data"
    }
   ],
   "source": [
    "M[2].xs('him', level=1).sort_values('n', ascending=False).head(30)\\\n",
    "    .sort_values('cp', ascending=True).tail(10).cp.plot.barh();"
   ]
  },
  {
   "cell_type": "markdown",
   "metadata": {},
   "source": [
    "#### `(he|she) <w1> <w2>?`"
   ]
  },
  {
   "cell_type": "code",
   "execution_count": 18,
   "metadata": {
    "scrolled": false
   },
   "outputs": [
    {
     "data": {
      "image/png": "[encoded data removed]",
      "text/plain": [
       "<Figure size 432x288 with 1 Axes>"
      ]
     },
     "metadata": {},
     "output_type": "display_data"
    }
   ],
   "source": [
    "M[2].loc['he'].n.sort_values().tail(10).plot.barh();"
   ]
  },
  {
   "cell_type": "code",
   "execution_count": 19,
   "metadata": {
    "scrolled": false
   },
   "outputs": [
    {
     "data": {
      "image/png": "[encoded data removed]",
      "text/plain": [
       "<Figure size 432x288 with 1 Axes>"
      ]
     },
     "metadata": {},
     "output_type": "display_data"
    }
   ],
   "source": [
    "M[3].loc['he'].n.sort_values().tail(10).plot.barh();"
   ]
  },
  {
   "cell_type": "code",
   "execution_count": 20,
   "metadata": {},
   "outputs": [
    {
     "data": {
      "image/png": "[encoded data removed]",
      "text/plain": [
       "<Figure size 432x288 with 1 Axes>"
      ]
     },
     "metadata": {},
     "output_type": "display_data"
    }
   ],
   "source": [
    "M[2].loc['she'].n.sort_values().tail(10).plot.barh();"
   ]
  },
  {
   "cell_type": "code",
   "execution_count": 21,
   "metadata": {},
   "outputs": [
    {
     "data": {
      "image/png": "[encoded data removed]",
      "text/plain": [
       "<Figure size 432x288 with 1 Axes>"
      ]
     },
     "metadata": {},
     "output_type": "display_data"
    }
   ],
   "source": [
    "M[3].loc['she'].n.sort_values().tail(10).plot.barh();"
   ]
  },
  {
   "cell_type": "markdown",
   "metadata": {},
   "source": [
    "## Test Model"
   ]
  },
  {
   "cell_type": "markdown",
   "metadata": {},
   "source": [
    "### Define function `test_ model()`"
   ]
  },
  {
   "cell_type": "code",
   "execution_count": 22,
   "metadata": {},
   "outputs": [],
   "source": [
    "def test_model(sents, window=3, k=.1):\n",
    "    \n",
    "    # For now, we use globals; later, we'll create a class\n",
    "    global ngram, S, M, T, X, OOV, MT, X2, CH, PP\n",
    "    \n",
    "    # Convert test sentences into ngrams\n",
    "    S = pd.DataFrame(sents, columns=['sent_str'])\n",
    "    S.index.name = 'sent_id'\n",
    "    \n",
    "    # Get ngrams for test data\n",
    "    ngrams = sents2ngrams(S.sent_str, window=window) \n",
    "    WIDX = ngrams.columns.to_list()\n",
    "    \n",
    "    # Create models from the test data (as it were)\n",
    "    T = ngrams2models(ngrams)   \n",
    "    \n",
    "    # Computer number of tokens in test data\n",
    "    N = T[1].n.sum()\n",
    "    \n",
    "    # Define dicts to to store various results from the model and data\n",
    "    X = {}     # The joined model and data\n",
    "    OOV = {}   # The out-of-vocabulary terms in the data\n",
    "    MT = {}    # The new model, combining test ngrams with smoothing \n",
    "               # NOTE: We are NOT using any stats from the test data here!\n",
    "               # However, we could use a larger vocabulary to begin with\n",
    "    X2 = {}    # The new model joined to the data\n",
    "    CH = {}    # The cross-entropy of the model\n",
    "    PP = {}    # The perplexity of the model\n",
    "    \n",
    "    # Interate through each model\n",
    "    for i in range(1, window+1):\n",
    "        \n",
    "        # Join model to data (or, trained model to test model) \n",
    "        X[i] = T[i].join(M[i], how='left', rsuffix='_model', lsuffix='_data')\n",
    "\n",
    "        # Find out-of-vocabulary terms\n",
    "        oov_idx = X[i][X[i].n_model.isna()].index.to_list()\n",
    "        OOV[i] = pd.DataFrame({'n': 0}, index=pd.Index(oov_idx, names=WIDX[:i]))\n",
    "        \n",
    "        # Join these to the model (instead of declaring them UNK)\n",
    "        MT[i] = pd.concat([M[i], OOV[i]]).sort_index()\n",
    "        MT[i].n += k\n",
    "        \n",
    "        # Recompute probs\n",
    "        MT[i].p = MT[i].n / MT[i].n.sum()\n",
    "        MT[i].i = np.log2(1/MT[i].p)\n",
    "        MT[i].h = MT[i].p * MT[i].i\n",
    "        if i > 1:\n",
    "            MT[i]['p_'] = MT[i-1].p # Create temp col for count of lower rank nodel\n",
    "            MT[i]['cp'] = MT[i].p / MT[i].p_ # Get conditional probability\n",
    "            MT[i] = MT[i].sort_index() # Sort index; otherwise we get a warning\n",
    "            MT[i].drop('p_', 1, inplace=True) # Lose temporary col\n",
    "            MT[i]['ci'] = np.log2(1/MT[i].cp)\n",
    "            MT[i]['ch'] = MT[i].cp * MT[i].ci\n",
    "\n",
    "        # Join new model to the data\n",
    "        X2[i] = T[i].join(MT[i], how='left', lsuffix='_model', rsuffix='_data')\n",
    "        \n",
    "        # Compute cross-entropy of model\n",
    "        CH[i] = round(((X2[i].n_data * X2[i].i_model).sum()) / N)\n",
    "        \n",
    "        # Compute information of sentences\n",
    "        S['n'] = ngrams.w0.groupby('s').count()\n",
    "        G = ngrams.reset_index().merge(MT[i], on=WIDX[:i]).groupby('s')\n",
    "        S[f'p{i}'] = G.p.sum()\n",
    "        S[f'i{i}'] = G.i.sum()\n",
    "        S[f'h{i}'] = G.h.sum()\n",
    "        S[f'pp{i}'] = S.apply(lambda x: (1/x[f\"p{i}\"])**(-1/x.n), 1)\n",
    "        if i > 1:\n",
    "            S[f'cp{i}'] = G.cp.sum()\n",
    "            S[f'ci{i}'] = G.ci.sum()            \n",
    "            S[f'ch{i}'] = G.ch.sum()\n",
    "            S[f'cpp{i}'] = S.apply(lambda x: (1/x[f\"cp{i}\"])**(-1/x.n), 1)            \n",
    "    \n",
    "    # Computer perplexity\n",
    "    PP[1] = round(np.power(2, S.i1.sum() / S.n.sum()))\n",
    "    for i in range(2, window+1):        \n",
    "        PP[i] = round(np.power(2, S[f\"ci{i}\"].sum() / S.n.sum()))"
   ]
  },
  {
   "cell_type": "markdown",
   "metadata": {},
   "source": [
    "### Test sentences"
   ]
  },
  {
   "cell_type": "code",
   "execution_count": 23,
   "metadata": {},
   "outputs": [],
   "source": [
    "# Some paragraphs from Austen's _Emma_\n",
    "test_sentences = \"\"\"\n",
    "The event had every promise of happiness for her friend \n",
    "Mr Weston was a man of unexceptionable character easy fortune suitable age and pleasant manners\n",
    "and there was some satisfaction in considering with what self-denying generous friendship she had always wished and promoted the match\n",
    "but it was a black morning's work for her \n",
    "The want of Miss Taylor would be felt every hour of every day \n",
    "She recalled her past kindness the kindness the affection of sixteen years \n",
    "how she had taught and how she had played with her from five years old \n",
    "how she had devoted all her powers to attach and amuse her in health \n",
    "and how nursed her through the various illnesses of childhood \n",
    "A large debt of gratitude was owing here \n",
    "but the intercourse of the last seven years \n",
    "the equal footing and perfect unreserve which had soon followed Isabella's marriage \n",
    "on their being left to each other was yet a dearer tenderer recollection \n",
    "She had been a friend and companion such as few possessed intelligent well-informed useful gentle \n",
    "knowing all the ways of the family \n",
    "interested in all its concerns \n",
    "and peculiarly interested in herself in every pleasure every scheme of hers \n",
    "one to whom she could speak every thought as it arose \n",
    "and who had such an affection for her as could never find fault \n",
    "How was she to bear the change \n",
    "It was true that her friend was going only half a mile from them \n",
    "but Emma was aware that great must be the difference between a Mrs Weston \n",
    "only half a mile from them \n",
    "and a Miss Taylor in the house \n",
    "and with all her advantages natural and domestic \n",
    "she was now in great danger of suffering from intellectual solitude \n",
    "She dearly loved her father \n",
    "but he was no companion for her \n",
    "He could not meet her in conversation rational or playful \n",
    "The evil of the actual disparity in their ages\n",
    "and Mr Woodhouse had not married early\n",
    "was much increased by his constitution and habits \n",
    "for having been a valetudinarian all his life \n",
    "without activity of mind or body \n",
    "he was a much older man in ways than in years \n",
    "and though everywhere beloved for the friendliness of his heart and his amiable temper \n",
    "his talents could not have recommended him at any time \n",
    "Her sister though comparatively but little removed by matrimony \n",
    "being settled in London only sixteen miles off was much beyond her daily reach \n",
    "and many a long October and November evening must be struggled through at Hartfield \n",
    "before Christmas brought the next visit from Isabella and her husband \n",
    "and their little children to fill the house and give her pleasant society again \n",
    "\"\"\".split('\\n')[1:-1]"
   ]
  },
  {
   "cell_type": "markdown",
   "metadata": {},
   "source": [
    "### Fit model"
   ]
  },
  {
   "cell_type": "code",
   "execution_count": 24,
   "metadata": {},
   "outputs": [],
   "source": [
    "test_model(test_sentences)"
   ]
  },
  {
   "cell_type": "markdown",
   "metadata": {},
   "source": [
    "### Show Perplexity"
   ]
  },
  {
   "cell_type": "code",
   "execution_count": 25,
   "metadata": {},
   "outputs": [
    {
     "data": {
      "text/plain": [
       "{1: 420, 2: 79, 3: 13}"
      ]
     },
     "execution_count": 25,
     "metadata": {},
     "output_type": "execute_result"
    }
   ],
   "source": [
    "PP"
   ]
  },
  {
   "cell_type": "markdown",
   "metadata": {},
   "source": [
    "### Show  Entropy"
   ]
  },
  {
   "cell_type": "code",
   "execution_count": 26,
   "metadata": {},
   "outputs": [
    {
     "data": {
      "text/plain": [
       "(8.575479897860294, 13.961741213423714, 16.4464478261505)"
      ]
     },
     "execution_count": 26,
     "metadata": {},
     "output_type": "execute_result"
    }
   ],
   "source": [
    "M[1].h.sum(), M[2].h.sum(), M[3].h.sum()"
   ]
  },
  {
   "cell_type": "markdown",
   "metadata": {},
   "source": [
    "### Show Cross Entropy"
   ]
  },
  {
   "cell_type": "code",
   "execution_count": 27,
   "metadata": {},
   "outputs": [
    {
     "data": {
      "text/plain": [
       "1486"
      ]
     },
     "execution_count": 27,
     "metadata": {},
     "output_type": "execute_result"
    }
   ],
   "source": [
    "CH[1]"
   ]
  },
  {
   "cell_type": "markdown",
   "metadata": {},
   "source": [
    "### Try various k values"
   ]
  },
  {
   "cell_type": "code",
   "execution_count": 28,
   "metadata": {
    "scrolled": false
   },
   "outputs": [],
   "source": [
    "r = []\n",
    "for k in np.arange(0.01, 2.0, .05):\n",
    "    k = round(k, 2)\n",
    "    test_model(test_sentences, k=k)\n",
    "    r.append((k, PP))"
   ]
  },
  {
   "cell_type": "code",
   "execution_count": 29,
   "metadata": {},
   "outputs": [],
   "source": [
    "rdf = pd.DataFrame(r).set_index(0)[1].apply(lambda x: pd.Series(x))\n",
    "rdf.index.name = 'k'"
   ]
  },
  {
   "cell_type": "code",
   "execution_count": 30,
   "metadata": {},
   "outputs": [
    {
     "data": {
      "text/html": [
       "<div>\n",
       "<style scoped>\n",
       "    .dataframe tbody tr th:only-of-type {\n",
       "        vertical-align: middle;\n",
       "    }\n",
       "\n",
       "    .dataframe tbody tr th {\n",
       "        vertical-align: top;\n",
       "    }\n",
       "\n",
       "    .dataframe thead th {\n",
       "        text-align: right;\n",
       "    }\n",
       "</style>\n",
       "<table border=\"1\" class=\"dataframe\">\n",
       "  <thead>\n",
       "    <tr style=\"text-align: right;\">\n",
       "      <th></th>\n",
       "      <th>1</th>\n",
       "      <th>2</th>\n",
       "      <th>3</th>\n",
       "    </tr>\n",
       "    <tr>\n",
       "      <th>k</th>\n",
       "      <th></th>\n",
       "      <th></th>\n",
       "      <th></th>\n",
       "    </tr>\n",
       "  </thead>\n",
       "  <tbody>\n",
       "    <tr>\n",
       "      <th>0.01</th>\n",
       "      <td>444</td>\n",
       "      <td>136</td>\n",
       "      <td>28</td>\n",
       "    </tr>\n",
       "    <tr>\n",
       "      <th>0.06</th>\n",
       "      <td>425</td>\n",
       "      <td>89</td>\n",
       "      <td>15</td>\n",
       "    </tr>\n",
       "    <tr>\n",
       "      <th>0.11</th>\n",
       "      <td>419</td>\n",
       "      <td>77</td>\n",
       "      <td>12</td>\n",
       "    </tr>\n",
       "    <tr>\n",
       "      <th>0.16</th>\n",
       "      <td>415</td>\n",
       "      <td>71</td>\n",
       "      <td>11</td>\n",
       "    </tr>\n",
       "    <tr>\n",
       "      <th>0.21</th>\n",
       "      <td>412</td>\n",
       "      <td>67</td>\n",
       "      <td>10</td>\n",
       "    </tr>\n",
       "    <tr>\n",
       "      <th>0.26</th>\n",
       "      <td>410</td>\n",
       "      <td>64</td>\n",
       "      <td>10</td>\n",
       "    </tr>\n",
       "    <tr>\n",
       "      <th>0.31</th>\n",
       "      <td>408</td>\n",
       "      <td>62</td>\n",
       "      <td>9</td>\n",
       "    </tr>\n",
       "    <tr>\n",
       "      <th>0.36</th>\n",
       "      <td>407</td>\n",
       "      <td>60</td>\n",
       "      <td>9</td>\n",
       "    </tr>\n",
       "    <tr>\n",
       "      <th>0.41</th>\n",
       "      <td>405</td>\n",
       "      <td>59</td>\n",
       "      <td>8</td>\n",
       "    </tr>\n",
       "    <tr>\n",
       "      <th>0.46</th>\n",
       "      <td>404</td>\n",
       "      <td>58</td>\n",
       "      <td>8</td>\n",
       "    </tr>\n",
       "    <tr>\n",
       "      <th>0.51</th>\n",
       "      <td>403</td>\n",
       "      <td>57</td>\n",
       "      <td>8</td>\n",
       "    </tr>\n",
       "    <tr>\n",
       "      <th>0.56</th>\n",
       "      <td>402</td>\n",
       "      <td>56</td>\n",
       "      <td>8</td>\n",
       "    </tr>\n",
       "    <tr>\n",
       "      <th>0.61</th>\n",
       "      <td>402</td>\n",
       "      <td>55</td>\n",
       "      <td>8</td>\n",
       "    </tr>\n",
       "    <tr>\n",
       "      <th>0.66</th>\n",
       "      <td>401</td>\n",
       "      <td>54</td>\n",
       "      <td>8</td>\n",
       "    </tr>\n",
       "    <tr>\n",
       "      <th>0.71</th>\n",
       "      <td>400</td>\n",
       "      <td>54</td>\n",
       "      <td>7</td>\n",
       "    </tr>\n",
       "    <tr>\n",
       "      <th>0.76</th>\n",
       "      <td>400</td>\n",
       "      <td>53</td>\n",
       "      <td>7</td>\n",
       "    </tr>\n",
       "    <tr>\n",
       "      <th>0.81</th>\n",
       "      <td>399</td>\n",
       "      <td>53</td>\n",
       "      <td>7</td>\n",
       "    </tr>\n",
       "    <tr>\n",
       "      <th>0.86</th>\n",
       "      <td>399</td>\n",
       "      <td>53</td>\n",
       "      <td>7</td>\n",
       "    </tr>\n",
       "    <tr>\n",
       "      <th>0.91</th>\n",
       "      <td>398</td>\n",
       "      <td>52</td>\n",
       "      <td>7</td>\n",
       "    </tr>\n",
       "    <tr>\n",
       "      <th>0.96</th>\n",
       "      <td>398</td>\n",
       "      <td>52</td>\n",
       "      <td>7</td>\n",
       "    </tr>\n",
       "    <tr>\n",
       "      <th>1.01</th>\n",
       "      <td>397</td>\n",
       "      <td>52</td>\n",
       "      <td>7</td>\n",
       "    </tr>\n",
       "    <tr>\n",
       "      <th>1.06</th>\n",
       "      <td>397</td>\n",
       "      <td>52</td>\n",
       "      <td>7</td>\n",
       "    </tr>\n",
       "    <tr>\n",
       "      <th>1.11</th>\n",
       "      <td>397</td>\n",
       "      <td>51</td>\n",
       "      <td>7</td>\n",
       "    </tr>\n",
       "    <tr>\n",
       "      <th>1.16</th>\n",
       "      <td>396</td>\n",
       "      <td>51</td>\n",
       "      <td>7</td>\n",
       "    </tr>\n",
       "    <tr>\n",
       "      <th>1.21</th>\n",
       "      <td>396</td>\n",
       "      <td>51</td>\n",
       "      <td>7</td>\n",
       "    </tr>\n",
       "    <tr>\n",
       "      <th>1.26</th>\n",
       "      <td>396</td>\n",
       "      <td>51</td>\n",
       "      <td>7</td>\n",
       "    </tr>\n",
       "    <tr>\n",
       "      <th>1.31</th>\n",
       "      <td>396</td>\n",
       "      <td>51</td>\n",
       "      <td>7</td>\n",
       "    </tr>\n",
       "    <tr>\n",
       "      <th>1.36</th>\n",
       "      <td>396</td>\n",
       "      <td>51</td>\n",
       "      <td>7</td>\n",
       "    </tr>\n",
       "    <tr>\n",
       "      <th>1.41</th>\n",
       "      <td>395</td>\n",
       "      <td>50</td>\n",
       "      <td>7</td>\n",
       "    </tr>\n",
       "    <tr>\n",
       "      <th>1.46</th>\n",
       "      <td>395</td>\n",
       "      <td>50</td>\n",
       "      <td>7</td>\n",
       "    </tr>\n",
       "    <tr>\n",
       "      <th>1.51</th>\n",
       "      <td>395</td>\n",
       "      <td>50</td>\n",
       "      <td>7</td>\n",
       "    </tr>\n",
       "    <tr>\n",
       "      <th>1.56</th>\n",
       "      <td>395</td>\n",
       "      <td>50</td>\n",
       "      <td>7</td>\n",
       "    </tr>\n",
       "    <tr>\n",
       "      <th>1.61</th>\n",
       "      <td>395</td>\n",
       "      <td>50</td>\n",
       "      <td>7</td>\n",
       "    </tr>\n",
       "    <tr>\n",
       "      <th>1.66</th>\n",
       "      <td>395</td>\n",
       "      <td>50</td>\n",
       "      <td>6</td>\n",
       "    </tr>\n",
       "    <tr>\n",
       "      <th>1.71</th>\n",
       "      <td>394</td>\n",
       "      <td>50</td>\n",
       "      <td>6</td>\n",
       "    </tr>\n",
       "    <tr>\n",
       "      <th>1.76</th>\n",
       "      <td>394</td>\n",
       "      <td>50</td>\n",
       "      <td>6</td>\n",
       "    </tr>\n",
       "    <tr>\n",
       "      <th>1.81</th>\n",
       "      <td>394</td>\n",
       "      <td>50</td>\n",
       "      <td>6</td>\n",
       "    </tr>\n",
       "    <tr>\n",
       "      <th>1.86</th>\n",
       "      <td>394</td>\n",
       "      <td>50</td>\n",
       "      <td>6</td>\n",
       "    </tr>\n",
       "    <tr>\n",
       "      <th>1.91</th>\n",
       "      <td>394</td>\n",
       "      <td>50</td>\n",
       "      <td>6</td>\n",
       "    </tr>\n",
       "    <tr>\n",
       "      <th>1.96</th>\n",
       "      <td>394</td>\n",
       "      <td>50</td>\n",
       "      <td>6</td>\n",
       "    </tr>\n",
       "  </tbody>\n",
       "</table>\n",
       "</div>"
      ],
      "text/plain": [
       "        1    2   3\n",
       "k                 \n",
       "0.01  444  136  28\n",
       "0.06  425   89  15\n",
       "0.11  419   77  12\n",
       "0.16  415   71  11\n",
       "0.21  412   67  10\n",
       "0.26  410   64  10\n",
       "0.31  408   62   9\n",
       "0.36  407   60   9\n",
       "0.41  405   59   8\n",
       "0.46  404   58   8\n",
       "0.51  403   57   8\n",
       "0.56  402   56   8\n",
       "0.61  402   55   8\n",
       "0.66  401   54   8\n",
       "0.71  400   54   7\n",
       "0.76  400   53   7\n",
       "0.81  399   53   7\n",
       "0.86  399   53   7\n",
       "0.91  398   52   7\n",
       "0.96  398   52   7\n",
       "1.01  397   52   7\n",
       "1.06  397   52   7\n",
       "1.11  397   51   7\n",
       "1.16  396   51   7\n",
       "1.21  396   51   7\n",
       "1.26  396   51   7\n",
       "1.31  396   51   7\n",
       "1.36  396   51   7\n",
       "1.41  395   50   7\n",
       "1.46  395   50   7\n",
       "1.51  395   50   7\n",
       "1.56  395   50   7\n",
       "1.61  395   50   7\n",
       "1.66  395   50   6\n",
       "1.71  394   50   6\n",
       "1.76  394   50   6\n",
       "1.81  394   50   6\n",
       "1.86  394   50   6\n",
       "1.91  394   50   6\n",
       "1.96  394   50   6"
      ]
     },
     "execution_count": 30,
     "metadata": {},
     "output_type": "execute_result"
    }
   ],
   "source": [
    "rdf"
   ]
  },
  {
   "cell_type": "code",
   "execution_count": 31,
   "metadata": {},
   "outputs": [
    {
     "data": {
      "image/png": "[encoded data removed]",
      "text/plain": [
       "<Figure size 720x720 with 1 Axes>"
      ]
     },
     "metadata": {},
     "output_type": "display_data"
    }
   ],
   "source": [
    "rdf.plot(figsize=(10,10));"
   ]
  },
  {
   "cell_type": "code",
   "execution_count": 32,
   "metadata": {},
   "outputs": [
    {
     "data": {
      "image/png": "[encoded data removed]",
      "text/plain": [
       "<Figure size 720x360 with 1 Axes>"
      ]
     },
     "metadata": {},
     "output_type": "display_data"
    }
   ],
   "source": [
    "rdf[1].plot(figsize=(10,5));"
   ]
  },
  {
   "cell_type": "code",
   "execution_count": 33,
   "metadata": {},
   "outputs": [
    {
     "data": {
      "image/png": "[encoded data removed]",
      "text/plain": [
       "<Figure size 720x360 with 1 Axes>"
      ]
     },
     "metadata": {},
     "output_type": "display_data"
    }
   ],
   "source": [
    "rdf[2].plot(figsize=(10,5));"
   ]
  },
  {
   "cell_type": "code",
   "execution_count": 34,
   "metadata": {},
   "outputs": [
    {
     "data": {
      "image/png": "[encoded data removed]",
      "text/plain": [
       "<Figure size 720x360 with 1 Axes>"
      ]
     },
     "metadata": {},
     "output_type": "display_data"
    }
   ],
   "source": [
    "rdf[3].plot(figsize=(10,5));"
   ]
  },
  {
   "cell_type": "code",
   "execution_count": 35,
   "metadata": {
    "scrolled": true
   },
   "outputs": [],
   "source": [
    "# rdf.style.background_gradient()"
   ]
  },
  {
   "cell_type": "markdown",
   "metadata": {
    "colab_type": "text",
    "id": "cPY7ekfXgbE_"
   },
   "source": [
    "## Generate Text\n",
    "\n",
    "We use stupid back-off to account for missing ngrams."
   ]
  },
  {
   "cell_type": "code",
   "execution_count": 36,
   "metadata": {},
   "outputs": [],
   "source": [
    "def generate_text(start_word='she', n=250):\n",
    "    global M\n",
    "    words = [start_word]\n",
    "    for i in range(n):\n",
    "        if len(words) == 1:\n",
    "            w = M[2].loc[start_word].p\n",
    "            next_word = M[2].loc[start_word].sample(weights=w).index.values[0]\n",
    "        elif len(words) > 1:\n",
    "            bg = tuple(words[-2:])\n",
    "            try:\n",
    "                w = M[3].loc[bg].p\n",
    "                next_word = M[3].loc[bg].sample(weights=w).index.values[0]\n",
    "            except KeyError:\n",
    "                ug = bg[1]\n",
    "                if ug == '<s>':\n",
    "                    next_word = M[1].sample(weights=M[1].p).index[0]\n",
    "                else:\n",
    "                    w = M[2].loc[ug].p\n",
    "                    next_word = m2.loc[ug].sample(weights=w).index.values[0]\n",
    "        words.append(next_word)\n",
    "    text = ' '.join(words)\n",
    "    text = text.replace(' <s> <s>', '.') + '.'\n",
    "    text = text.upper() # To give that telegraph message look :-)\n",
    "    print(text)"
   ]
  },
  {
   "cell_type": "code",
   "execution_count": 37,
   "metadata": {},
   "outputs": [
    {
     "name": "stdout",
     "output_type": "stream",
     "text": [
      "THE IDEA HOWEVER STARTED BY HER READINESS TO ENTER ON SUCH A SUBJECT WHICH ENSURED MARIANNE S SITUATION KNEW NOT THAT HE WILL BE OF YOUR FATHER AND SON. AND WHO IS TOO FULL OF YOUR OWN AND SOME MIGHT HAVE A LITTLE DELAY ON THE INTEREST OF FRIENDSHIP OR GIVE PLEASURE AS IT MIGHT YET HAVE BEEN A GREAT WHILE. SHE THEREFORE PURSUING THE FIRST TIME THESE TWO BRANCHES OF ECONOMY TO CUT OFF SOME UNNECESSARY CHARITIES AND TO OFFER THE COMFORT IT WAS NOT HERE. EDWARD TURNED HASTILY AWAY WITH A JEALOUS EYE AS INTRUDING ON THEIR SIDE ELINOR PRINCIPALLY ATTRIBUTED THAT PREFERENCE OF HER OWN HAPPINESS. MR ELLIOT HAD LED HIM LIKEWISE TO EXCUSE THEMSELVES. SHOULD NOT SUIT. YOU WILL SCARCELY HAVE ANY THING RATHER THAN MRS SMITH SIGHING OVER IT WITH AFFECTION. WORDS OF THE CASE YOU KNOW ELINOR THAT CREDIT WHICH A CONTRAST AS COULD BE MOVED. THAT IS WORTHY AND AMIABLE. I WILL NOT LEAVE MUCH TIME FOR THIS UNLUCKY ILLNESS MADE EVERY NECESSARY ARRANGEMENT WITH THE DOCTOR TO GET DOWN THIS LAST ARRIVED LADY ALLOWED HER IMPRUDENTLY AS IT WAS THAT IF HE WERE HIS AFFECTION FOR THE ASSURANCES OF HIS FEELING HIMSELF ILL USED. I WILL NOT BE LIABLE TO ANY OTHER AND SEVEN DAYS ARE MORE ABSURD I BELIEVE BEFORE THIS PERSON S SUSPICIONS THEREFORE I HOPE YOU MAY WISH TO DO.\n"
     ]
    }
   ],
   "source": [
    "generate_text('the')"
   ]
  },
  {
   "cell_type": "code",
   "execution_count": 38,
   "metadata": {},
   "outputs": [
    {
     "name": "stdout",
     "output_type": "stream",
     "text": [
      "SHE ONLY WISHED THAT IT WOULD HAVE BEEN HAPPY WITH HIM THE MORE INTERESTING TO THEM FOR COMING AWAY THEY MUST HAVE SOME PLAY. ANNE WILL STAY NO LONGER RESENTED HIS GIVING HIM THE MEANS THAT SHE SHOULD NOT THE SMALLEST POSSIBLE SPACE TO THE UNIVERSAL FELICITY AND ADVANTAGE OF RESTING HERSELF A BOOK AND HE TALKED OF T OTHER DAY ON PURPOSE WE SUPPOSE TO MAKE THE PROPER RESOLUTION HOWEVER HOW SOON WE CAME TO THE SUPERIORITY WAS NOT IT BE OUR MR ELLIOT HAD NEVER BEEN IN THE WORLD THAN HER YOUNG FRIENDS WHO WAS PERFECTLY OF A SECOND ATTACHMENT THE ONLY POINT OF WORLDLY PROPRIETY HE DISPLAYED A WANT OF MORE MONEY AND THEY WOULD ALL EXCUSE THE SMALLNESS OF YOUR RECIPROCAL ATTACHMENT HAD FAILED. SAID SHE. MRS. THE HOUSE MAID AND LAUNDRY MAID INSTEAD OF DOING NOTHING BEFORE THEM. THAT LUCY COULD NOT LIKE. MORE TENDER MORE TRIED MORE FIXED IN LYME. ANNE COULD NOT BE SURPRISED AT HIS TOTAL SILENCE OF HER TWO FRIENDS IN THE COURSE OF THE GIRLS HAD IN MOST OF THE GREAT HOUSE THOUGH THEIR GRANDMAMMA IS ALWAYS GOING ABOUT THE END YOU SEE MR. CAPTAIN WENTWORTH THOUGH ANNE COULD RELATE AND WHO HAD ALWAYS SEEN HIM FROM IT. PALMER ENTERED THE HOUSE HE FELT ASTONISHED HIMSELF THAT HE MEANT TO CONVEY MISS ELLIOT S WIFE THAT SHE SHOULD BE THE FARTHER ADVANTAGE OF.\n"
     ]
    }
   ],
   "source": [
    "generate_text('she')"
   ]
  },
  {
   "cell_type": "markdown",
   "metadata": {},
   "source": [
    "## Save"
   ]
  },
  {
   "cell_type": "code",
   "execution_count": 39,
   "metadata": {},
   "outputs": [],
   "source": [
    "# vocab.to_csv(f\"{data_out}/austen-VOCAB.csv\", index=True)\n",
    "NG.to_csv(f\"{data_out}/austen-02-NGRAMS.csv\", index=True)\n",
    "sents.to_csv(f\"{data_out}/austen-02-SENTS.csv\", index=True)\n",
    "for i in range(1, window+1):\n",
    "    M[i].to_csv(f\"{data_out}/austen-02-M{i}.csv\", index=True)"
   ]
  },
  {
   "cell_type": "markdown",
   "metadata": {},
   "source": [
    "## Play"
   ]
  },
  {
   "cell_type": "code",
   "execution_count": 40,
   "metadata": {},
   "outputs": [],
   "source": [
    "V = M[1].index.to_list()"
   ]
  },
  {
   "cell_type": "code",
   "execution_count": 41,
   "metadata": {},
   "outputs": [
    {
     "data": {
      "text/plain": [
       "558865368053"
      ]
     },
     "execution_count": 41,
     "metadata": {},
     "output_type": "execute_result"
    }
   ],
   "source": [
    "len(V)**3"
   ]
  },
  {
   "cell_type": "code",
   "execution_count": 42,
   "metadata": {},
   "outputs": [
    {
     "data": {
      "text/plain": [
       "8237"
      ]
     },
     "execution_count": 42,
     "metadata": {},
     "output_type": "execute_result"
    }
   ],
   "source": [
    "len(V)"
   ]
  },
  {
   "cell_type": "code",
   "execution_count": null,
   "metadata": {},
   "outputs": [],
   "source": []
  }
 ],
 "metadata": {
  "colab": {
   "collapsed_sections": [],
   "name": "DS5559_LMs.ipynb",
   "provenance": [],
   "toc_visible": true,
   "version": "0.3.2"
  },
  "kernelspec": {
   "display_name": "Python 3",
   "language": "python",
   "name": "python3"
  },
  "language_info": {
   "codemirror_mode": {
    "name": "ipython",
    "version": 3
   },
   "file_extension": ".py",
   "mimetype": "text/x-python",
   "name": "python",
   "nbconvert_exporter": "python",
   "pygments_lexer": "ipython3",
   "version": "3.8.5"
  },
  "latex_envs": {
   "LaTeX_envs_menu_present": true,
   "autoclose": false,
   "autocomplete": true,
   "bibliofile": "biblio.bib",
   "cite_by": "apalike",
   "current_citInitial": 1,
   "eqLabelWithNumbers": true,
   "eqNumInitial": 1,
   "hotkeys": {
    "equation": "Ctrl-E",
    "itemize": "Ctrl-I"
   },
   "labels_anchors": false,
   "latex_user_defs": false,
   "report_style_numbering": false,
   "user_envs_cfg": false
  },
  "toc": {
   "base_numbering": 1,
   "nav_menu": {},
   "number_sections": true,
   "sideBar": true,
   "skip_h1_title": true,
   "title_cell": "Table of Contents",
   "title_sidebar": "Contents",
   "toc_cell": false,
   "toc_position": {
    "height": "calc(100% - 180px)",
    "left": "10px",
    "top": "150px",
    "width": "229px"
   },
   "toc_section_display": true,
   "toc_window_display": true
  },
  "toc-autonumbering": false,
  "toc-showmarkdowntxt": false,
  "toc-showtags": false,
  "varInspector": {
   "cols": {
    "lenName": 16,
    "lenType": 16,
    "lenVar": 40
   },
   "kernels_config": {
    "python": {
     "delete_cmd_postfix": "",
     "delete_cmd_prefix": "del ",
     "library": "var_list.py",
     "varRefreshCmd": "print(var_dic_list())"
    },
    "r": {
     "delete_cmd_postfix": ") ",
     "delete_cmd_prefix": "rm(",
     "library": "var_list.r",
     "varRefreshCmd": "cat(var_dic_list()) "
    }
   },
   "position": {
    "height": "242.85px",
    "left": "443px",
    "right": "20px",
    "top": "70px",
    "width": "566px"
   },
   "types_to_exclude": [
    "module",
    "function",
    "builtin_function_or_method",
    "instance",
    "_Feature"
   ],
   "window_display": false
  },
  "widgets": {
   "application/vnd.jupyter.widget-state+json": {
    "state": {},
    "version_major": 2,
    "version_minor": 0
   }
  }
 },
 "nbformat": 4,
 "nbformat_minor": 4
}
