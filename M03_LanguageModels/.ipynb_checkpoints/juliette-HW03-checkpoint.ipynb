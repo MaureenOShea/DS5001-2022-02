{
 "cells": [
  {
   "cell_type": "markdown",
   "id": "651a1531-9a6e-411f-b038-bef6f8c0390a",
   "metadata": {},
   "source": [
    "# HW 3\n",
    "\n",
    "## Juliet Holmes"
   ]
  },
  {
   "cell_type": "markdown",
   "id": "4325c15d-d3bb-49f7-a541-daf4d213d919",
   "metadata": {},
   "source": [
    "Use the the following libraries and source text to answer the questions in this assessment.\n",
    "\n",
    "    data/gutenberg/pg42324.txt\n",
    "    lib/textimporter.py\n",
    "    lib/langmod.py\n",
    "\n",
    "These resources are all available in the course GitHub repo at https://github.com/ontoligent/DS5001-2022-01.\n",
    "\n",
    "Follow this pattern:\n",
    "\n",
    "    Create a new notebook for your work.\n",
    "    Parse the Frankenstein text to generate TOKENS and VOCAB tables.\n",
    "    Create a list of sentences from the TOKENS table and a list of terms from the VOCAB table.\n",
    "    Pass the two lists to an langmod.NgramCounter object to generate ngram type tables and models, going up to the trigram level.\n",
    "    Write the code to answer the questions below.\n",
    "\n",
    "Hints:\n",
    "\n",
    "    You may use the libraries or cut-and-paste code from the relevant notebooks.\n",
    "    Use the M03_LanguageModels.ipynb to see how the objects from the libraries are used.\n",
    "    The story begins with the Preface.\n",
    "    Even though they are not called \"chapters,\" treat the Preface and Letters as chapters.\n",
    "    Don't worry about OOV words or creating and <UNK> term in your vocabulary.\n",
    "    You don't have to use the \"START OF PROJECT GUTENBERG ...\", etc., to clip the text. Find the lines where you think the text actually begins and ends.\n",
    "\n"
   ]
  },
  {
   "cell_type": "markdown",
   "id": "3b8b1511-8960-4774-b026-db608b3ad3f5",
   "metadata": {},
   "source": [
    "Q1: List six words that precede the word \"monster\" in the text, excluding stop words (and sentence boundary markers). Stop words include 'a', 'an', 'the', 'this', 'that', etc. Hint: use the df.query() method. \n",
    "\n",
    "Q2: List the following sentences in ascending order of bigram perplexity according to the language model generated from the text.\n",
    "\n",
    "The monster is on the ice.\n",
    "Flowers are happy things.\n",
    "I have never seen the aurora borealis.\n",
    "He never knew the love of a family.\n",
    "\n",
    "Q3: Using the bigram model represented as a matrix, explore the relationship between bigram pairs as done in the \"Explore\" section of the template notebook, but use the following lists. What might you speculate about gender and communication given the results you see?\n",
    "\n",
    "    ['he','she'] to select the indices.\n",
    "    ['said','heard'] to select the columns.\n",
    "\n",
    "Hint: use .unstack() method on the feature n and then use .loc[] to select the first list from the index, and the second list from the columns.\n",
    "\n",
    "Q4: Generate a text using the .generate_text() function of the langmod.NgramLanguageModel object you created.\n",
    "\n",
    "Q5: Compute the redundancy R for each of the ngram modes, using the MLE estimates of joint probabilities for each ngram type. Does R increase, decrease, or stay the same as ngram length increases?  \n"
   ]
  },
  {
   "cell_type": "markdown",
   "id": "eb2db9a0-e275-4cb1-8419-6a7ec06e2bb0",
   "metadata": {},
   "source": [
    "# 0: Setup"
   ]
  },
  {
   "cell_type": "code",
   "execution_count": 1,
   "id": "8fa1f3ec-8e61-4127-8976-ece0b5d6e2d6",
   "metadata": {},
   "outputs": [],
   "source": [
    "import pandas as pd\n",
    "import numpy as np\n",
    "import matplotlib.pyplot as plt\n",
    "import seaborn as sns\n",
    "from IPython.core.display import HTML\n",
    "import os\n",
    "\n",
    "# os.chdir(r\"C:\\Users\\Juliet\\Box\\Courses\\DS-5001\\github\\DS5001-2022-01\\lib\")\n",
    "import sys\n",
    "sys.path.append(\"../lib\")\n",
    "from textimporter import TextImporter\n",
    "from langmod import NgramCounter, NgramLanguageModel\n",
    "\n",
    "# os.chdir('C:\\\\Users\\\\Juliet\\\\Box\\\\Courses\\\\DS-5001\\\\M03\\\\2_Notebooks')"
   ]
  },
  {
   "cell_type": "code",
   "execution_count": 2,
   "id": "f982fdad-58de-46d0-88b7-009913f05ab9",
   "metadata": {},
   "outputs": [],
   "source": [
    "# This prevents matplotlib from throw irrelevant errors\n",
    "from matplotlib.axes._axes import _log as matplotlib_axes_logger\n",
    "matplotlib_axes_logger.setLevel('ERROR')"
   ]
  },
  {
   "cell_type": "code",
   "execution_count": 3,
   "id": "0b860214-2a0c-430a-8f26-ff74fcc66100",
   "metadata": {},
   "outputs": [],
   "source": [
    "sns.set()"
   ]
  },
  {
   "cell_type": "code",
   "execution_count": 4,
   "id": "7402fed6-616f-44ea-bd04-cf1f5ec771be",
   "metadata": {},
   "outputs": [
    {
     "data": {
      "text/plain": [
       "'/Users/rca2t1/Dropbox/Courses/DS/DS5001/DS5001_2022_01_residential/notebooks/labs-repo/M03_LanguageModels'"
      ]
     },
     "execution_count": 4,
     "metadata": {},
     "output_type": "execute_result"
    }
   ],
   "source": [
    "os.getcwd()"
   ]
  },
  {
   "cell_type": "code",
   "execution_count": 18,
   "id": "78e2ce7b-dd41-43ed-8e51-846c966efd91",
   "metadata": {},
   "outputs": [],
   "source": [
    "mytext = \"../data/gutenberg/pg42324.txt\""
   ]
  },
  {
   "cell_type": "code",
   "execution_count": 19,
   "id": "f5ad3e61-c5b8-477e-93ce-205e6c432da1",
   "metadata": {},
   "outputs": [
    {
     "data": {
      "text/plain": [
       "'../data/gutenberg/pg42324.txt'"
      ]
     },
     "execution_count": 19,
     "metadata": {},
     "output_type": "execute_result"
    }
   ],
   "source": [
    "mytext"
   ]
  },
  {
   "cell_type": "code",
   "execution_count": 20,
   "id": "c3d04bb8-6f6e-4f95-94a4-985cbe37c3e9",
   "metadata": {},
   "outputs": [],
   "source": [
    "OHCO = ['chap_id', 'para_num', 'sent_num', 'token_num']"
   ]
  },
  {
   "cell_type": "code",
   "execution_count": 21,
   "id": "b72519fd-5f29-42dc-8546-d0f93dfc2613",
   "metadata": {},
   "outputs": [],
   "source": [
    "chap_pat = r\"^\\s*(?:CHAPTER|LETTER|PREFACE\\.)\""
   ]
  },
  {
   "cell_type": "code",
   "execution_count": 22,
   "id": "33d52b37-e765-40fe-8cbb-7c47ac63a587",
   "metadata": {},
   "outputs": [],
   "source": [
    "clip_pats = [\n",
    "    r\"\\*\\*\\*\\s*START OF (?:THE|THIS) PROJECT\", #escapign asterix in reg\n",
    "    r\"\\*\\*\\*\\s*END OF (?:THE|THIS) PROJECT\"\n",
    "]"
   ]
  },
  {
   "cell_type": "code",
   "execution_count": 23,
   "id": "2acbf76f-9a0f-455c-9cab-2b785f5ad1b9",
   "metadata": {},
   "outputs": [],
   "source": [
    "ohco_pats=[('chap', chap_pat, 'm')]"
   ]
  },
  {
   "cell_type": "code",
   "execution_count": 25,
   "id": "95150139-d215-4476-b084-24c4c83726c7",
   "metadata": {},
   "outputs": [],
   "source": [
    "Frankenstein = TextImporter(mytext, ohco_pats, clip_pats)"
   ]
  },
  {
   "cell_type": "code",
   "execution_count": 26,
   "id": "e516661a-0bcd-4050-aa66-ae220ed2ed0a",
   "metadata": {},
   "outputs": [
    {
     "data": {
      "text/plain": [
       "<textimporter.TextImporter at 0x7fde7b0cddc0>"
      ]
     },
     "execution_count": 26,
     "metadata": {},
     "output_type": "execute_result"
    }
   ],
   "source": [
    "Frankenstein"
   ]
  },
  {
   "cell_type": "code",
   "execution_count": 27,
   "id": "13b187cb-5e3c-45be-84fd-d5f47ab0e668",
   "metadata": {},
   "outputs": [],
   "source": [
    "chap_pat = r\"^\\s*(?:chapter|letter)\\s+\\d+\" #evertyhgint that begins with space or chapter that connects it wth a number "
   ]
  },
  {
   "cell_type": "code",
   "execution_count": 28,
   "id": "daf9489b-2d20-4bf9-b3d4-a0afb080d937",
   "metadata": {},
   "outputs": [
    {
     "data": {
      "text/plain": [
       "'^\\\\s*(?:chapter|letter|introduction)\\\\s+\\\\.'"
      ]
     },
     "execution_count": 28,
     "metadata": {},
     "output_type": "execute_result"
    }
   ],
   "source": [
    "r\"^\\s*(?:chapter|letter|introduction)\\s+\\.\""
   ]
  },
  {
   "cell_type": "code",
   "execution_count": 29,
   "id": "f4a0ac4e-c1f0-48a0-be05-50cf5ea078c1",
   "metadata": {},
   "outputs": [
    {
     "name": "stdout",
     "output_type": "stream",
     "text": [
      "Importing  ../data/gutenberg/pg42324.txt\n",
      "Clipping text\n",
      "Parsing OHCO level 0 chap_id m by milestone ^\\s*(?:CHAPTER|LETTER|PREFACE\\.)\n",
      "line_str\n",
      "Parsing OHCO level 1 para_num d by delimitter \\n\\n\n",
      "Parsing OHCO level 2 sent_num d by delimitter [.?!;:]+\n",
      "Parsing OHCO level 3 token_num d by delimitter [\\s',-]+\n"
     ]
    },
    {
     "data": {
      "text/plain": [
       "<textimporter.TextImporter at 0x7fde7b0cddc0>"
      ]
     },
     "execution_count": 29,
     "metadata": {},
     "output_type": "execute_result"
    }
   ],
   "source": [
    "Frankenstein.import_source().parse_tokens()"
   ]
  },
  {
   "cell_type": "code",
   "execution_count": 30,
   "id": "9db5e650-4122-4c4b-bcde-c7962421ca8c",
   "metadata": {},
   "outputs": [],
   "source": [
    "TOKENS = Frankenstein.TOKENS"
   ]
  },
  {
   "cell_type": "code",
   "execution_count": 31,
   "id": "68ce3ca4-b031-43c1-b0d9-eceabb956eb1",
   "metadata": {},
   "outputs": [],
   "source": [
    "#vocab = Frankenstein.import_source().parse_tokens().extract_vocab();"
   ]
  },
  {
   "cell_type": "code",
   "execution_count": 32,
   "id": "377cf752-7134-4c78-867f-3620d851cdbb",
   "metadata": {},
   "outputs": [
    {
     "data": {
      "text/html": [
       "<div>\n",
       "<style scoped>\n",
       "    .dataframe tbody tr th:only-of-type {\n",
       "        vertical-align: middle;\n",
       "    }\n",
       "\n",
       "    .dataframe tbody tr th {\n",
       "        vertical-align: top;\n",
       "    }\n",
       "\n",
       "    .dataframe thead th {\n",
       "        text-align: right;\n",
       "    }\n",
       "</style>\n",
       "<table border=\"1\" class=\"dataframe\">\n",
       "  <thead>\n",
       "    <tr style=\"text-align: right;\">\n",
       "      <th></th>\n",
       "      <th></th>\n",
       "      <th></th>\n",
       "      <th></th>\n",
       "      <th>token_str</th>\n",
       "      <th>term_str</th>\n",
       "    </tr>\n",
       "    <tr>\n",
       "      <th>chap_id</th>\n",
       "      <th>para_num</th>\n",
       "      <th>sent_num</th>\n",
       "      <th>token_num</th>\n",
       "      <th></th>\n",
       "      <th></th>\n",
       "    </tr>\n",
       "  </thead>\n",
       "  <tbody>\n",
       "    <tr>\n",
       "      <th rowspan=\"5\" valign=\"top\">1</th>\n",
       "      <th rowspan=\"5\" valign=\"top\">0</th>\n",
       "      <th rowspan=\"5\" valign=\"top\">0</th>\n",
       "      <th>0</th>\n",
       "      <td>The</td>\n",
       "      <td>the</td>\n",
       "    </tr>\n",
       "    <tr>\n",
       "      <th>1</th>\n",
       "      <td>event</td>\n",
       "      <td>event</td>\n",
       "    </tr>\n",
       "    <tr>\n",
       "      <th>2</th>\n",
       "      <td>on</td>\n",
       "      <td>on</td>\n",
       "    </tr>\n",
       "    <tr>\n",
       "      <th>3</th>\n",
       "      <td>which</td>\n",
       "      <td>which</td>\n",
       "    </tr>\n",
       "    <tr>\n",
       "      <th>4</th>\n",
       "      <td>this</td>\n",
       "      <td>this</td>\n",
       "    </tr>\n",
       "  </tbody>\n",
       "</table>\n",
       "</div>"
      ],
      "text/plain": [
       "                                    token_str term_str\n",
       "chap_id para_num sent_num token_num                   \n",
       "1       0        0        0               The      the\n",
       "                          1             event    event\n",
       "                          2                on       on\n",
       "                          3             which    which\n",
       "                          4              this     this"
      ]
     },
     "execution_count": 32,
     "metadata": {},
     "output_type": "execute_result"
    }
   ],
   "source": [
    "TOKENS.head()"
   ]
  },
  {
   "cell_type": "code",
   "execution_count": 33,
   "id": "b464d06d-1339-4c76-a1b6-d2e5de81bb40",
   "metadata": {},
   "outputs": [
    {
     "data": {
      "text/html": [
       "<div>\n",
       "<style scoped>\n",
       "    .dataframe tbody tr th:only-of-type {\n",
       "        vertical-align: middle;\n",
       "    }\n",
       "\n",
       "    .dataframe tbody tr th {\n",
       "        vertical-align: top;\n",
       "    }\n",
       "\n",
       "    .dataframe thead th {\n",
       "        text-align: right;\n",
       "    }\n",
       "</style>\n",
       "<table border=\"1\" class=\"dataframe\">\n",
       "  <thead>\n",
       "    <tr style=\"text-align: right;\">\n",
       "      <th></th>\n",
       "      <th>line_str</th>\n",
       "    </tr>\n",
       "    <tr>\n",
       "      <th>line_id</th>\n",
       "      <th></th>\n",
       "    </tr>\n",
       "  </thead>\n",
       "  <tbody>\n",
       "    <tr>\n",
       "      <th>19</th>\n",
       "      <td></td>\n",
       "    </tr>\n",
       "    <tr>\n",
       "      <th>20</th>\n",
       "      <td></td>\n",
       "    </tr>\n",
       "    <tr>\n",
       "      <th>21</th>\n",
       "      <td></td>\n",
       "    </tr>\n",
       "    <tr>\n",
       "      <th>22</th>\n",
       "      <td></td>\n",
       "    </tr>\n",
       "    <tr>\n",
       "      <th>23</th>\n",
       "      <td>Produced by Greg Weeks, Mary Meehan and the On...</td>\n",
       "    </tr>\n",
       "    <tr>\n",
       "      <th>...</th>\n",
       "      <td>...</td>\n",
       "    </tr>\n",
       "    <tr>\n",
       "      <th>7666</th>\n",
       "      <td></td>\n",
       "    </tr>\n",
       "    <tr>\n",
       "      <th>7667</th>\n",
       "      <td></td>\n",
       "    </tr>\n",
       "    <tr>\n",
       "      <th>7668</th>\n",
       "      <td></td>\n",
       "    </tr>\n",
       "    <tr>\n",
       "      <th>7669</th>\n",
       "      <td></td>\n",
       "    </tr>\n",
       "    <tr>\n",
       "      <th>7670</th>\n",
       "      <td>End of the Project Gutenberg EBook of Frankens...</td>\n",
       "    </tr>\n",
       "  </tbody>\n",
       "</table>\n",
       "<p>7652 rows × 1 columns</p>\n",
       "</div>"
      ],
      "text/plain": [
       "                                                  line_str\n",
       "line_id                                                   \n",
       "19                                                        \n",
       "20                                                        \n",
       "21                                                        \n",
       "22                                                        \n",
       "23       Produced by Greg Weeks, Mary Meehan and the On...\n",
       "...                                                    ...\n",
       "7666                                                      \n",
       "7667                                                      \n",
       "7668                                                      \n",
       "7669                                                      \n",
       "7670     End of the Project Gutenberg EBook of Frankens...\n",
       "\n",
       "[7652 rows x 1 columns]"
      ]
     },
     "execution_count": 33,
     "metadata": {},
     "output_type": "execute_result"
    }
   ],
   "source": [
    "Frankenstein.LINES"
   ]
  },
  {
   "cell_type": "code",
   "execution_count": 34,
   "id": "f0da834b-8576-4007-9f5c-551d49a5c239",
   "metadata": {},
   "outputs": [
    {
     "data": {
      "text/plain": [
       "['chap_id', 'para_num', 'sent_num', 'token_num']"
      ]
     },
     "execution_count": 34,
     "metadata": {},
     "output_type": "execute_result"
    }
   ],
   "source": [
    "OHCO"
   ]
  },
  {
   "cell_type": "code",
   "execution_count": 35,
   "id": "12cb2e73-20e4-4917-9db5-a88be5ab06af",
   "metadata": {},
   "outputs": [],
   "source": [
    "#Create a list of sentences from the TOKENS table and a list of terms from the VOCAB table.\n",
    "#SENTENCES = TOKENS.term_str.values.tolist()\n",
    "\n",
    "#create new df with term streen aggregated by sent_num\n",
    "#df1 = TOKENS.groupby(\"sent_num\")[\"term_str\"].apply(list)\n",
    "#SENTENCE_LIST0 = df1.tolist()\n",
    "\n",
    "#SENTENCE_LIST = TOKENS.groupby([\"sent_num\"])[\"term_str\"].apply(list)\n",
    "#SENTENCE_series = TOKENS.groupby([\"sent_num\"])[\"term_str\"].apply(' '.join).reset_index()\n",
    "\n",
    "SENTENCE_LIST= list(TOKENS.groupby(OHCO[:-1]).term_str.apply(lambda x: ' '.join(x)).values)"
   ]
  },
  {
   "cell_type": "code",
   "execution_count": 36,
   "id": "a7579a47-84f2-496d-8ee4-e007cc7ff3de",
   "metadata": {},
   "outputs": [],
   "source": [
    "VOCAB = TOKENS.term_str.value_counts().to_frame('n').reset_index().rename(columns={'index':'term_str'})\n",
    "VOCAB.index.name = 'term_id'"
   ]
  },
  {
   "cell_type": "code",
   "execution_count": 37,
   "id": "6a06b0dd-348f-4168-8a00-44324fa8759c",
   "metadata": {},
   "outputs": [
    {
     "data": {
      "text/html": [
       "<div>\n",
       "<style scoped>\n",
       "    .dataframe tbody tr th:only-of-type {\n",
       "        vertical-align: middle;\n",
       "    }\n",
       "\n",
       "    .dataframe tbody tr th {\n",
       "        vertical-align: top;\n",
       "    }\n",
       "\n",
       "    .dataframe thead th {\n",
       "        text-align: right;\n",
       "    }\n",
       "</style>\n",
       "<table border=\"1\" class=\"dataframe\">\n",
       "  <thead>\n",
       "    <tr style=\"text-align: right;\">\n",
       "      <th></th>\n",
       "      <th>term_str</th>\n",
       "      <th>n</th>\n",
       "    </tr>\n",
       "    <tr>\n",
       "      <th>term_id</th>\n",
       "      <th></th>\n",
       "      <th></th>\n",
       "    </tr>\n",
       "  </thead>\n",
       "  <tbody>\n",
       "    <tr>\n",
       "      <th>0</th>\n",
       "      <td>the</td>\n",
       "      <td>4251</td>\n",
       "    </tr>\n",
       "    <tr>\n",
       "      <th>1</th>\n",
       "      <td>and</td>\n",
       "      <td>2991</td>\n",
       "    </tr>\n",
       "    <tr>\n",
       "      <th>2</th>\n",
       "      <td>i</td>\n",
       "      <td>2860</td>\n",
       "    </tr>\n",
       "    <tr>\n",
       "      <th>3</th>\n",
       "      <td>of</td>\n",
       "      <td>2686</td>\n",
       "    </tr>\n",
       "    <tr>\n",
       "      <th>4</th>\n",
       "      <td>to</td>\n",
       "      <td>2121</td>\n",
       "    </tr>\n",
       "  </tbody>\n",
       "</table>\n",
       "</div>"
      ],
      "text/plain": [
       "        term_str     n\n",
       "term_id               \n",
       "0            the  4251\n",
       "1            and  2991\n",
       "2              i  2860\n",
       "3             of  2686\n",
       "4             to  2121"
      ]
     },
     "execution_count": 37,
     "metadata": {},
     "output_type": "execute_result"
    }
   ],
   "source": [
    "VOCAB.head()"
   ]
  },
  {
   "cell_type": "code",
   "execution_count": 38,
   "id": "80a0588a-4fc1-47fe-8974-9d4233b12db6",
   "metadata": {},
   "outputs": [],
   "source": [
    "VOCAB_LIST  = VOCAB.term_str.values.tolist()"
   ]
  },
  {
   "cell_type": "code",
   "execution_count": 39,
   "id": "9528e791-cb34-48ec-ba6f-21ffb63dbf40",
   "metadata": {},
   "outputs": [],
   "source": [
    "train = NgramCounter(SENTENCE_LIST, VOCAB_LIST)"
   ]
  },
  {
   "cell_type": "code",
   "execution_count": 40,
   "id": "cd8fa8d6-1375-457a-b8a1-e223fc7cc971",
   "metadata": {},
   "outputs": [],
   "source": [
    "train.generate()"
   ]
  },
  {
   "cell_type": "code",
   "execution_count": 41,
   "id": "dee6f742-6bc9-417b-9739-6052df3e84cf",
   "metadata": {},
   "outputs": [
    {
     "data": {
      "text/html": [
       "<div>\n",
       "<style scoped>\n",
       "    .dataframe tbody tr th:only-of-type {\n",
       "        vertical-align: middle;\n",
       "    }\n",
       "\n",
       "    .dataframe tbody tr th {\n",
       "        vertical-align: top;\n",
       "    }\n",
       "\n",
       "    .dataframe thead th {\n",
       "        text-align: right;\n",
       "    }\n",
       "</style>\n",
       "<table border=\"1\" class=\"dataframe\">\n",
       "  <thead>\n",
       "    <tr style=\"text-align: right;\">\n",
       "      <th></th>\n",
       "      <th></th>\n",
       "      <th>n</th>\n",
       "      <th>mle</th>\n",
       "    </tr>\n",
       "    <tr>\n",
       "      <th>w0</th>\n",
       "      <th>w1</th>\n",
       "      <th></th>\n",
       "      <th></th>\n",
       "    </tr>\n",
       "  </thead>\n",
       "  <tbody>\n",
       "    <tr>\n",
       "      <th>&lt;s&gt;</th>\n",
       "      <th>&lt;s&gt;</th>\n",
       "      <td>5184</td>\n",
       "      <td>0.056645</td>\n",
       "    </tr>\n",
       "    <tr>\n",
       "      <th>&lt;/s&gt;</th>\n",
       "      <th>&lt;s&gt;</th>\n",
       "      <td>5183</td>\n",
       "      <td>0.056634</td>\n",
       "    </tr>\n",
       "    <tr>\n",
       "      <th>&lt;s&gt;</th>\n",
       "      <th>i</th>\n",
       "      <td>824</td>\n",
       "      <td>0.009004</td>\n",
       "    </tr>\n",
       "    <tr>\n",
       "      <th>of</th>\n",
       "      <th>the</th>\n",
       "      <td>538</td>\n",
       "      <td>0.005879</td>\n",
       "    </tr>\n",
       "    <tr>\n",
       "      <th>&lt;s&gt;</th>\n",
       "      <th>but</th>\n",
       "      <td>457</td>\n",
       "      <td>0.004994</td>\n",
       "    </tr>\n",
       "  </tbody>\n",
       "</table>\n",
       "</div>"
      ],
      "text/plain": [
       "             n       mle\n",
       "w0   w1                 \n",
       "<s>  <s>  5184  0.056645\n",
       "</s> <s>  5183  0.056634\n",
       "<s>  i     824  0.009004\n",
       "of   the   538  0.005879\n",
       "<s>  but   457  0.004994"
      ]
     },
     "execution_count": 41,
     "metadata": {},
     "output_type": "execute_result"
    }
   ],
   "source": [
    "train.LM[1].sort_values('n', ascending=False).head()"
   ]
  },
  {
   "cell_type": "code",
   "execution_count": 43,
   "id": "dc36af1b-5991-4058-947c-f44f7f822098",
   "metadata": {},
   "outputs": [],
   "source": [
    "# train.NG"
   ]
  },
  {
   "cell_type": "code",
   "execution_count": 44,
   "id": "5c615215-6301-403b-a096-7aa294f21350",
   "metadata": {},
   "outputs": [
    {
     "data": {
      "text/html": [
       "<div>\n",
       "<style scoped>\n",
       "    .dataframe tbody tr th:only-of-type {\n",
       "        vertical-align: middle;\n",
       "    }\n",
       "\n",
       "    .dataframe tbody tr th {\n",
       "        vertical-align: top;\n",
       "    }\n",
       "\n",
       "    .dataframe thead th {\n",
       "        text-align: right;\n",
       "    }\n",
       "</style>\n",
       "<table border=\"1\" class=\"dataframe\">\n",
       "  <thead>\n",
       "    <tr style=\"text-align: right;\">\n",
       "      <th></th>\n",
       "      <th>w0</th>\n",
       "    </tr>\n",
       "    <tr>\n",
       "      <th>token_num</th>\n",
       "      <th></th>\n",
       "    </tr>\n",
       "  </thead>\n",
       "  <tbody>\n",
       "    <tr>\n",
       "      <th>0</th>\n",
       "      <td>&lt;s&gt;</td>\n",
       "    </tr>\n",
       "    <tr>\n",
       "      <th>1</th>\n",
       "      <td>&lt;s&gt;</td>\n",
       "    </tr>\n",
       "    <tr>\n",
       "      <th>2</th>\n",
       "      <td>the</td>\n",
       "    </tr>\n",
       "    <tr>\n",
       "      <th>3</th>\n",
       "      <td>event</td>\n",
       "    </tr>\n",
       "    <tr>\n",
       "      <th>4</th>\n",
       "      <td>on</td>\n",
       "    </tr>\n",
       "    <tr>\n",
       "      <th>5</th>\n",
       "      <td>which</td>\n",
       "    </tr>\n",
       "    <tr>\n",
       "      <th>6</th>\n",
       "      <td>this</td>\n",
       "    </tr>\n",
       "    <tr>\n",
       "      <th>7</th>\n",
       "      <td>fiction</td>\n",
       "    </tr>\n",
       "    <tr>\n",
       "      <th>8</th>\n",
       "      <td>is</td>\n",
       "    </tr>\n",
       "    <tr>\n",
       "      <th>9</th>\n",
       "      <td>founded</td>\n",
       "    </tr>\n",
       "    <tr>\n",
       "      <th>10</th>\n",
       "      <td>has</td>\n",
       "    </tr>\n",
       "    <tr>\n",
       "      <th>11</th>\n",
       "      <td>been</td>\n",
       "    </tr>\n",
       "    <tr>\n",
       "      <th>12</th>\n",
       "      <td>supposed</td>\n",
       "    </tr>\n",
       "    <tr>\n",
       "      <th>13</th>\n",
       "      <td>by</td>\n",
       "    </tr>\n",
       "    <tr>\n",
       "      <th>14</th>\n",
       "      <td>dr</td>\n",
       "    </tr>\n",
       "    <tr>\n",
       "      <th>15</th>\n",
       "      <td>&lt;/s&gt;</td>\n",
       "    </tr>\n",
       "  </tbody>\n",
       "</table>\n",
       "</div>"
      ],
      "text/plain": [
       "                 w0\n",
       "token_num          \n",
       "0               <s>\n",
       "1               <s>\n",
       "2               the\n",
       "3             event\n",
       "4                on\n",
       "5             which\n",
       "6              this\n",
       "7           fiction\n",
       "8                is\n",
       "9           founded\n",
       "10              has\n",
       "11             been\n",
       "12         supposed\n",
       "13               by\n",
       "14               dr\n",
       "15             </s>"
      ]
     },
     "execution_count": 44,
     "metadata": {},
     "output_type": "execute_result"
    }
   ],
   "source": [
    "train.NG[0].loc[0]"
   ]
  },
  {
   "cell_type": "code",
   "execution_count": 45,
   "id": "3b53c02d-796a-4cc4-aaed-ba330fa0fcc6",
   "metadata": {},
   "outputs": [
    {
     "data": {
      "text/html": [
       "<div>\n",
       "<style scoped>\n",
       "    .dataframe tbody tr th:only-of-type {\n",
       "        vertical-align: middle;\n",
       "    }\n",
       "\n",
       "    .dataframe tbody tr th {\n",
       "        vertical-align: top;\n",
       "    }\n",
       "\n",
       "    .dataframe thead th {\n",
       "        text-align: right;\n",
       "    }\n",
       "</style>\n",
       "<table border=\"1\" class=\"dataframe\">\n",
       "  <thead>\n",
       "    <tr style=\"text-align: right;\">\n",
       "      <th></th>\n",
       "      <th>w0</th>\n",
       "      <th>w1</th>\n",
       "    </tr>\n",
       "    <tr>\n",
       "      <th>token_num</th>\n",
       "      <th></th>\n",
       "      <th></th>\n",
       "    </tr>\n",
       "  </thead>\n",
       "  <tbody>\n",
       "    <tr>\n",
       "      <th>0</th>\n",
       "      <td>&lt;s&gt;</td>\n",
       "      <td>&lt;s&gt;</td>\n",
       "    </tr>\n",
       "    <tr>\n",
       "      <th>1</th>\n",
       "      <td>&lt;s&gt;</td>\n",
       "      <td>the</td>\n",
       "    </tr>\n",
       "    <tr>\n",
       "      <th>2</th>\n",
       "      <td>the</td>\n",
       "      <td>event</td>\n",
       "    </tr>\n",
       "    <tr>\n",
       "      <th>3</th>\n",
       "      <td>event</td>\n",
       "      <td>on</td>\n",
       "    </tr>\n",
       "    <tr>\n",
       "      <th>4</th>\n",
       "      <td>on</td>\n",
       "      <td>which</td>\n",
       "    </tr>\n",
       "    <tr>\n",
       "      <th>5</th>\n",
       "      <td>which</td>\n",
       "      <td>this</td>\n",
       "    </tr>\n",
       "    <tr>\n",
       "      <th>6</th>\n",
       "      <td>this</td>\n",
       "      <td>fiction</td>\n",
       "    </tr>\n",
       "    <tr>\n",
       "      <th>7</th>\n",
       "      <td>fiction</td>\n",
       "      <td>is</td>\n",
       "    </tr>\n",
       "    <tr>\n",
       "      <th>8</th>\n",
       "      <td>is</td>\n",
       "      <td>founded</td>\n",
       "    </tr>\n",
       "    <tr>\n",
       "      <th>9</th>\n",
       "      <td>founded</td>\n",
       "      <td>has</td>\n",
       "    </tr>\n",
       "    <tr>\n",
       "      <th>10</th>\n",
       "      <td>has</td>\n",
       "      <td>been</td>\n",
       "    </tr>\n",
       "    <tr>\n",
       "      <th>11</th>\n",
       "      <td>been</td>\n",
       "      <td>supposed</td>\n",
       "    </tr>\n",
       "    <tr>\n",
       "      <th>12</th>\n",
       "      <td>supposed</td>\n",
       "      <td>by</td>\n",
       "    </tr>\n",
       "    <tr>\n",
       "      <th>13</th>\n",
       "      <td>by</td>\n",
       "      <td>dr</td>\n",
       "    </tr>\n",
       "    <tr>\n",
       "      <th>14</th>\n",
       "      <td>dr</td>\n",
       "      <td>&lt;/s&gt;</td>\n",
       "    </tr>\n",
       "    <tr>\n",
       "      <th>15</th>\n",
       "      <td>&lt;/s&gt;</td>\n",
       "      <td>&lt;s&gt;</td>\n",
       "    </tr>\n",
       "  </tbody>\n",
       "</table>\n",
       "</div>"
      ],
      "text/plain": [
       "                 w0        w1\n",
       "token_num                    \n",
       "0               <s>       <s>\n",
       "1               <s>       the\n",
       "2               the     event\n",
       "3             event        on\n",
       "4                on     which\n",
       "5             which      this\n",
       "6              this   fiction\n",
       "7           fiction        is\n",
       "8                is   founded\n",
       "9           founded       has\n",
       "10              has      been\n",
       "11             been  supposed\n",
       "12         supposed        by\n",
       "13               by        dr\n",
       "14               dr      </s>\n",
       "15             </s>       <s>"
      ]
     },
     "execution_count": 45,
     "metadata": {},
     "output_type": "execute_result"
    }
   ],
   "source": [
    "train.NG[1].loc[0]"
   ]
  },
  {
   "cell_type": "code",
   "execution_count": 46,
   "id": "44c63b8f-6f62-45b0-9fad-6252f08c5578",
   "metadata": {},
   "outputs": [
    {
     "data": {
      "text/html": [
       "<div>\n",
       "<style scoped>\n",
       "    .dataframe tbody tr th:only-of-type {\n",
       "        vertical-align: middle;\n",
       "    }\n",
       "\n",
       "    .dataframe tbody tr th {\n",
       "        vertical-align: top;\n",
       "    }\n",
       "\n",
       "    .dataframe thead th {\n",
       "        text-align: right;\n",
       "    }\n",
       "</style>\n",
       "<table border=\"1\" class=\"dataframe\">\n",
       "  <thead>\n",
       "    <tr style=\"text-align: right;\">\n",
       "      <th></th>\n",
       "      <th>w0</th>\n",
       "      <th>w1</th>\n",
       "      <th>w2</th>\n",
       "    </tr>\n",
       "    <tr>\n",
       "      <th>token_num</th>\n",
       "      <th></th>\n",
       "      <th></th>\n",
       "      <th></th>\n",
       "    </tr>\n",
       "  </thead>\n",
       "  <tbody>\n",
       "    <tr>\n",
       "      <th>0</th>\n",
       "      <td>&lt;s&gt;</td>\n",
       "      <td>&lt;s&gt;</td>\n",
       "      <td>the</td>\n",
       "    </tr>\n",
       "    <tr>\n",
       "      <th>1</th>\n",
       "      <td>&lt;s&gt;</td>\n",
       "      <td>the</td>\n",
       "      <td>event</td>\n",
       "    </tr>\n",
       "    <tr>\n",
       "      <th>2</th>\n",
       "      <td>the</td>\n",
       "      <td>event</td>\n",
       "      <td>on</td>\n",
       "    </tr>\n",
       "    <tr>\n",
       "      <th>3</th>\n",
       "      <td>event</td>\n",
       "      <td>on</td>\n",
       "      <td>which</td>\n",
       "    </tr>\n",
       "    <tr>\n",
       "      <th>4</th>\n",
       "      <td>on</td>\n",
       "      <td>which</td>\n",
       "      <td>this</td>\n",
       "    </tr>\n",
       "    <tr>\n",
       "      <th>5</th>\n",
       "      <td>which</td>\n",
       "      <td>this</td>\n",
       "      <td>fiction</td>\n",
       "    </tr>\n",
       "    <tr>\n",
       "      <th>6</th>\n",
       "      <td>this</td>\n",
       "      <td>fiction</td>\n",
       "      <td>is</td>\n",
       "    </tr>\n",
       "    <tr>\n",
       "      <th>7</th>\n",
       "      <td>fiction</td>\n",
       "      <td>is</td>\n",
       "      <td>founded</td>\n",
       "    </tr>\n",
       "    <tr>\n",
       "      <th>8</th>\n",
       "      <td>is</td>\n",
       "      <td>founded</td>\n",
       "      <td>has</td>\n",
       "    </tr>\n",
       "    <tr>\n",
       "      <th>9</th>\n",
       "      <td>founded</td>\n",
       "      <td>has</td>\n",
       "      <td>been</td>\n",
       "    </tr>\n",
       "    <tr>\n",
       "      <th>10</th>\n",
       "      <td>has</td>\n",
       "      <td>been</td>\n",
       "      <td>supposed</td>\n",
       "    </tr>\n",
       "    <tr>\n",
       "      <th>11</th>\n",
       "      <td>been</td>\n",
       "      <td>supposed</td>\n",
       "      <td>by</td>\n",
       "    </tr>\n",
       "    <tr>\n",
       "      <th>12</th>\n",
       "      <td>supposed</td>\n",
       "      <td>by</td>\n",
       "      <td>dr</td>\n",
       "    </tr>\n",
       "    <tr>\n",
       "      <th>13</th>\n",
       "      <td>by</td>\n",
       "      <td>dr</td>\n",
       "      <td>&lt;/s&gt;</td>\n",
       "    </tr>\n",
       "    <tr>\n",
       "      <th>14</th>\n",
       "      <td>dr</td>\n",
       "      <td>&lt;/s&gt;</td>\n",
       "      <td>&lt;s&gt;</td>\n",
       "    </tr>\n",
       "    <tr>\n",
       "      <th>15</th>\n",
       "      <td>&lt;/s&gt;</td>\n",
       "      <td>&lt;s&gt;</td>\n",
       "      <td>&lt;s&gt;</td>\n",
       "    </tr>\n",
       "  </tbody>\n",
       "</table>\n",
       "</div>"
      ],
      "text/plain": [
       "                 w0        w1        w2\n",
       "token_num                              \n",
       "0               <s>       <s>       the\n",
       "1               <s>       the     event\n",
       "2               the     event        on\n",
       "3             event        on     which\n",
       "4                on     which      this\n",
       "5             which      this   fiction\n",
       "6              this   fiction        is\n",
       "7           fiction        is   founded\n",
       "8                is   founded       has\n",
       "9           founded       has      been\n",
       "10              has      been  supposed\n",
       "11             been  supposed        by\n",
       "12         supposed        by        dr\n",
       "13               by        dr      </s>\n",
       "14               dr      </s>       <s>\n",
       "15             </s>       <s>       <s>"
      ]
     },
     "execution_count": 46,
     "metadata": {},
     "output_type": "execute_result"
    }
   ],
   "source": [
    "train.NG[2].loc[0]"
   ]
  },
  {
   "cell_type": "markdown",
   "id": "5b530b2a-d3a7-4a8e-a785-4ea57c939a84",
   "metadata": {},
   "source": [
    "# NOTE\n",
    "\n",
    "It's better to run this on train.LM[1]; there is no need to use drop_duplicates."
   ]
  },
  {
   "cell_type": "code",
   "execution_count": 51,
   "id": "35d8a01e-1c50-4cd9-a312-4882ae593d5c",
   "metadata": {},
   "outputs": [],
   "source": [
    "q1_df = train.NG[1].query(\"w1=='monster'\")"
   ]
  },
  {
   "cell_type": "code",
   "execution_count": 52,
   "id": "7aea3188-e7b1-4fb3-8ad6-2769f35b6e73",
   "metadata": {},
   "outputs": [],
   "source": [
    "q1_df2 = q1_df.drop_duplicates()"
   ]
  },
  {
   "cell_type": "markdown",
   "id": "2e4aabf3-950d-419e-b09a-846109175ba9",
   "metadata": {},
   "source": [
    "## Q1"
   ]
  },
  {
   "cell_type": "code",
   "execution_count": 53,
   "id": "6e54f3a5-82bb-4cad-8d9e-d4bf5de20d44",
   "metadata": {},
   "outputs": [
    {
     "data": {
      "text/html": [
       "<div>\n",
       "<style scoped>\n",
       "    .dataframe tbody tr th:only-of-type {\n",
       "        vertical-align: middle;\n",
       "    }\n",
       "\n",
       "    .dataframe tbody tr th {\n",
       "        vertical-align: top;\n",
       "    }\n",
       "\n",
       "    .dataframe thead th {\n",
       "        text-align: right;\n",
       "    }\n",
       "</style>\n",
       "<table border=\"1\" class=\"dataframe\">\n",
       "  <thead>\n",
       "    <tr style=\"text-align: right;\">\n",
       "      <th></th>\n",
       "      <th></th>\n",
       "      <th>w0</th>\n",
       "      <th>w1</th>\n",
       "    </tr>\n",
       "    <tr>\n",
       "      <th>sent_num</th>\n",
       "      <th>token_num</th>\n",
       "      <th></th>\n",
       "      <th></th>\n",
       "    </tr>\n",
       "  </thead>\n",
       "  <tbody>\n",
       "    <tr>\n",
       "      <th>979</th>\n",
       "      <th>26</th>\n",
       "      <td>miserable</td>\n",
       "      <td>monster</td>\n",
       "    </tr>\n",
       "    <tr>\n",
       "      <th>1049</th>\n",
       "      <th>6</th>\n",
       "      <td>this</td>\n",
       "      <td>monster</td>\n",
       "    </tr>\n",
       "    <tr>\n",
       "      <th>1080</th>\n",
       "      <th>5</th>\n",
       "      <td>the</td>\n",
       "      <td>monster</td>\n",
       "    </tr>\n",
       "    <tr>\n",
       "      <th>2101</th>\n",
       "      <th>2</th>\n",
       "      <td>abhorred</td>\n",
       "      <td>monster</td>\n",
       "    </tr>\n",
       "    <tr>\n",
       "      <th>2601</th>\n",
       "      <th>5</th>\n",
       "      <td>a</td>\n",
       "      <td>monster</td>\n",
       "    </tr>\n",
       "    <tr>\n",
       "      <th>2904</th>\n",
       "      <th>24</th>\n",
       "      <td>detestable</td>\n",
       "      <td>monster</td>\n",
       "    </tr>\n",
       "    <tr>\n",
       "      <th>3118</th>\n",
       "      <th>1</th>\n",
       "      <td>&lt;s&gt;</td>\n",
       "      <td>monster</td>\n",
       "    </tr>\n",
       "    <tr>\n",
       "      <th>3123</th>\n",
       "      <th>2</th>\n",
       "      <td>hideous</td>\n",
       "      <td>monster</td>\n",
       "    </tr>\n",
       "    <tr>\n",
       "      <th>4588</th>\n",
       "      <th>6</th>\n",
       "      <td>hellish</td>\n",
       "      <td>monster</td>\n",
       "    </tr>\n",
       "    <tr>\n",
       "      <th>4686</th>\n",
       "      <th>3</th>\n",
       "      <td>gigantic</td>\n",
       "      <td>monster</td>\n",
       "    </tr>\n",
       "  </tbody>\n",
       "</table>\n",
       "</div>"
      ],
      "text/plain": [
       "                            w0       w1\n",
       "sent_num token_num                     \n",
       "979      26          miserable  monster\n",
       "1049     6                this  monster\n",
       "1080     5                 the  monster\n",
       "2101     2            abhorred  monster\n",
       "2601     5                   a  monster\n",
       "2904     24         detestable  monster\n",
       "3118     1                 <s>  monster\n",
       "3123     2             hideous  monster\n",
       "4588     6             hellish  monster\n",
       "4686     3            gigantic  monster"
      ]
     },
     "execution_count": 53,
     "metadata": {},
     "output_type": "execute_result"
    }
   ],
   "source": [
    "q1_df2"
   ]
  },
  {
   "cell_type": "code",
   "execution_count": 54,
   "id": "5fdd0263-d47f-4e68-9c85-a0f54bf4b5be",
   "metadata": {},
   "outputs": [],
   "source": [
    "q1_v2 = q1_df2[\"w0\"].to_list()"
   ]
  },
  {
   "cell_type": "code",
   "execution_count": 56,
   "id": "e3c5ac66-868e-4ea9-a4c0-da6a44fd93a2",
   "metadata": {},
   "outputs": [
    {
     "data": {
      "text/plain": [
       "['miserable',\n",
       " 'this',\n",
       " 'the',\n",
       " 'abhorred',\n",
       " 'a',\n",
       " 'detestable',\n",
       " '<s>',\n",
       " 'hideous',\n",
       " 'hellish',\n",
       " 'gigantic']"
      ]
     },
     "execution_count": 56,
     "metadata": {},
     "output_type": "execute_result"
    }
   ],
   "source": [
    "q1_v2"
   ]
  },
  {
   "cell_type": "markdown",
   "id": "543c1b75-6411-4046-a89c-438042164f80",
   "metadata": {},
   "source": [
    "'miserable',\n",
    " 'abhorred',\n",
    " 'detestable',\n",
    " 'hideous',\n",
    " 'hellish',\n",
    " 'gigantic'"
   ]
  },
  {
   "cell_type": "code",
   "execution_count": 57,
   "id": "beb7d395-013a-4695-b164-b28162873d80",
   "metadata": {},
   "outputs": [],
   "source": [
    "model = NgramLanguageModel(train)\n",
    "model.k = 1\n",
    "model.apply_smoothing()"
   ]
  },
  {
   "cell_type": "code",
   "execution_count": 58,
   "id": "c2dd630e-8e11-4fa9-a7ed-ef97d6a00b06",
   "metadata": {},
   "outputs": [],
   "source": [
    "NG = model.NG\n",
    "LM = model.LM\n",
    "Z1 = model.Z1\n",
    "Z2 = model.Z2\n",
    "#PPmax = model.PPmax"
   ]
  },
  {
   "cell_type": "code",
   "execution_count": 60,
   "id": "bd640b04-824a-45cd-834c-ef011911c310",
   "metadata": {},
   "outputs": [],
   "source": [
    "# model.Z1"
   ]
  },
  {
   "cell_type": "markdown",
   "id": "78a53299-fee0-487b-988d-97402d1624fa",
   "metadata": {},
   "source": [
    "## Test models"
   ]
  },
  {
   "cell_type": "code",
   "execution_count": 61,
   "id": "4601b121-c9f2-4342-9e31-ec24fa3419fe",
   "metadata": {},
   "outputs": [],
   "source": [
    "S_TEST = \"\"\"\n",
    "The monster is on the ice.\n",
    "Flowers are happy things.\n",
    "I have never seen the aurora borealis.\n",
    "He never knew the love of a family.\n",
    "\"\"\".split('\\n')[1:-1]"
   ]
  },
  {
   "cell_type": "code",
   "execution_count": 62,
   "id": "447544e9-a82f-4d4f-9635-55de01131e69",
   "metadata": {},
   "outputs": [],
   "source": [
    "test = NgramCounter(S_TEST, VOCAB_LIST) # Note that we use the training vocab\n",
    "test.generate()\n",
    "model.predict(test)"
   ]
  },
  {
   "cell_type": "markdown",
   "id": "5f2b11b0-a8b1-4db4-aa73-3d1b5a6276f3",
   "metadata": {},
   "source": [
    "### Compare models"
   ]
  },
  {
   "cell_type": "markdown",
   "id": "d7b8ede3-bd1a-450d-af21-1665fa76fd14",
   "metadata": {},
   "source": [
    "### bigrams"
   ]
  },
  {
   "cell_type": "code",
   "execution_count": 63,
   "id": "6745dc1e-f516-498d-a02a-bc5f8ae69e20",
   "metadata": {},
   "outputs": [],
   "source": [
    "comp_cols = ['len','pp1','pp2','pp3','sent_str']"
   ]
  },
  {
   "cell_type": "markdown",
   "id": "a978b351-77f5-499f-bd88-272470a6a87c",
   "metadata": {},
   "source": [
    "## Q2"
   ]
  },
  {
   "cell_type": "code",
   "execution_count": 64,
   "id": "4de10e02-81a8-4096-9b29-d12e6ccab606",
   "metadata": {},
   "outputs": [
    {
     "data": {
      "text/html": [
       "<div>\n",
       "<style scoped>\n",
       "    .dataframe tbody tr th:only-of-type {\n",
       "        vertical-align: middle;\n",
       "    }\n",
       "\n",
       "    .dataframe tbody tr th {\n",
       "        vertical-align: top;\n",
       "    }\n",
       "\n",
       "    .dataframe thead th {\n",
       "        text-align: right;\n",
       "    }\n",
       "</style>\n",
       "<table border=\"1\" class=\"dataframe\">\n",
       "  <thead>\n",
       "    <tr style=\"text-align: right;\">\n",
       "      <th></th>\n",
       "      <th>len</th>\n",
       "      <th>pp1</th>\n",
       "      <th>pp2</th>\n",
       "      <th>pp3</th>\n",
       "      <th>sent_str</th>\n",
       "    </tr>\n",
       "  </thead>\n",
       "  <tbody>\n",
       "    <tr>\n",
       "      <th>0</th>\n",
       "      <td>9</td>\n",
       "      <td>25.787009</td>\n",
       "      <td>599.662793</td>\n",
       "      <td>1.772019e+07</td>\n",
       "      <td>The monster is on the ice.</td>\n",
       "    </tr>\n",
       "    <tr>\n",
       "      <th>1</th>\n",
       "      <td>7</td>\n",
       "      <td>20.305066</td>\n",
       "      <td>752.349061</td>\n",
       "      <td>1.458786e+07</td>\n",
       "      <td>Flowers are happy things.</td>\n",
       "    </tr>\n",
       "    <tr>\n",
       "      <th>2</th>\n",
       "      <td>10</td>\n",
       "      <td>23.169290</td>\n",
       "      <td>1011.898818</td>\n",
       "      <td>1.963752e+07</td>\n",
       "      <td>I have never seen the aurora borealis.</td>\n",
       "    </tr>\n",
       "    <tr>\n",
       "      <th>3</th>\n",
       "      <td>11</td>\n",
       "      <td>39.713753</td>\n",
       "      <td>1723.675748</td>\n",
       "      <td>1.741371e+06</td>\n",
       "      <td>He never knew the love of a family.</td>\n",
       "    </tr>\n",
       "  </tbody>\n",
       "</table>\n",
       "</div>"
      ],
      "text/plain": [
       "   len        pp1          pp2           pp3  \\\n",
       "0    9  25.787009   599.662793  1.772019e+07   \n",
       "1    7  20.305066   752.349061  1.458786e+07   \n",
       "2   10  23.169290  1011.898818  1.963752e+07   \n",
       "3   11  39.713753  1723.675748  1.741371e+06   \n",
       "\n",
       "                                 sent_str  \n",
       "0              The monster is on the ice.  \n",
       "1               Flowers are happy things.  \n",
       "2  I have never seen the aurora borealis.  \n",
       "3     He never knew the love of a family.  "
      ]
     },
     "execution_count": 64,
     "metadata": {},
     "output_type": "execute_result"
    }
   ],
   "source": [
    "test.S.sort_values('pp2')[comp_cols].head() #.style.background_gradient()"
   ]
  },
  {
   "cell_type": "code",
   "execution_count": 66,
   "id": "9c490b80-3323-4246-beda-34f4c4d654ad",
   "metadata": {},
   "outputs": [
    {
     "data": {
      "text/html": [
       "<div>\n",
       "<style scoped>\n",
       "    .dataframe tbody tr th:only-of-type {\n",
       "        vertical-align: middle;\n",
       "    }\n",
       "\n",
       "    .dataframe tbody tr th {\n",
       "        vertical-align: top;\n",
       "    }\n",
       "\n",
       "    .dataframe thead th {\n",
       "        text-align: right;\n",
       "    }\n",
       "</style>\n",
       "<table border=\"1\" class=\"dataframe\">\n",
       "  <thead>\n",
       "    <tr style=\"text-align: right;\">\n",
       "      <th></th>\n",
       "      <th>sent_str</th>\n",
       "      <th>len</th>\n",
       "      <th>ng_1_ll</th>\n",
       "      <th>pp1</th>\n",
       "      <th>ng_2_ll</th>\n",
       "      <th>pp2</th>\n",
       "      <th>ng_3_ll</th>\n",
       "      <th>pp3</th>\n",
       "    </tr>\n",
       "  </thead>\n",
       "  <tbody>\n",
       "    <tr>\n",
       "      <th>0</th>\n",
       "      <td>The monster is on the ice.</td>\n",
       "      <td>9</td>\n",
       "      <td>-42.197153</td>\n",
       "      <td>25.787009</td>\n",
       "      <td>-83.052069</td>\n",
       "      <td>599.662793</td>\n",
       "      <td>-216.710017</td>\n",
       "      <td>1.772019e+07</td>\n",
       "    </tr>\n",
       "    <tr>\n",
       "      <th>1</th>\n",
       "      <td>Flowers are happy things.</td>\n",
       "      <td>7</td>\n",
       "      <td>-30.406375</td>\n",
       "      <td>20.305066</td>\n",
       "      <td>-66.886809</td>\n",
       "      <td>752.349061</td>\n",
       "      <td>-166.587858</td>\n",
       "      <td>1.458786e+07</td>\n",
       "    </tr>\n",
       "    <tr>\n",
       "      <th>2</th>\n",
       "      <td>I have never seen the aurora borealis.</td>\n",
       "      <td>10</td>\n",
       "      <td>-45.341420</td>\n",
       "      <td>23.169290</td>\n",
       "      <td>-99.828493</td>\n",
       "      <td>1011.898818</td>\n",
       "      <td>-242.271096</td>\n",
       "      <td>1.963752e+07</td>\n",
       "    </tr>\n",
       "    <tr>\n",
       "      <th>3</th>\n",
       "      <td>He never knew the love of a family.</td>\n",
       "      <td>11</td>\n",
       "      <td>-58.427235</td>\n",
       "      <td>39.713753</td>\n",
       "      <td>-118.264000</td>\n",
       "      <td>1723.675748</td>\n",
       "      <td>-228.049716</td>\n",
       "      <td>1.741371e+06</td>\n",
       "    </tr>\n",
       "  </tbody>\n",
       "</table>\n",
       "</div>"
      ],
      "text/plain": [
       "                                 sent_str  len    ng_1_ll        pp1  \\\n",
       "0              The monster is on the ice.    9 -42.197153  25.787009   \n",
       "1               Flowers are happy things.    7 -30.406375  20.305066   \n",
       "2  I have never seen the aurora borealis.   10 -45.341420  23.169290   \n",
       "3     He never knew the love of a family.   11 -58.427235  39.713753   \n",
       "\n",
       "      ng_2_ll          pp2     ng_3_ll           pp3  \n",
       "0  -83.052069   599.662793 -216.710017  1.772019e+07  \n",
       "1  -66.886809   752.349061 -166.587858  1.458786e+07  \n",
       "2  -99.828493  1011.898818 -242.271096  1.963752e+07  \n",
       "3 -118.264000  1723.675748 -228.049716  1.741371e+06  "
      ]
     },
     "execution_count": 66,
     "metadata": {},
     "output_type": "execute_result"
    }
   ],
   "source": [
    "test.S.head()"
   ]
  },
  {
   "cell_type": "markdown",
   "id": "305e9e95-88b4-486c-9d6d-b3f0055a199c",
   "metadata": {},
   "source": [
    "## Q3"
   ]
  },
  {
   "cell_type": "code",
   "execution_count": 67,
   "id": "f7ac5301-0309-4f61-ae94-67c2361bbe59",
   "metadata": {},
   "outputs": [],
   "source": [
    "M = LM[1].n.unstack()"
   ]
  },
  {
   "cell_type": "code",
   "execution_count": 68,
   "id": "68781e35-ec53-469a-9386-6c5750cbfc8c",
   "metadata": {},
   "outputs": [
    {
     "data": {
      "text/html": [
       "<div>\n",
       "<style scoped>\n",
       "    .dataframe tbody tr th:only-of-type {\n",
       "        vertical-align: middle;\n",
       "    }\n",
       "\n",
       "    .dataframe tbody tr th {\n",
       "        vertical-align: top;\n",
       "    }\n",
       "\n",
       "    .dataframe thead th {\n",
       "        text-align: right;\n",
       "    }\n",
       "</style>\n",
       "<table border=\"1\" class=\"dataframe\">\n",
       "  <thead>\n",
       "    <tr style=\"text-align: right;\">\n",
       "      <th>w1</th>\n",
       "      <th>1</th>\n",
       "      <th>11th</th>\n",
       "      <th>12th</th>\n",
       "      <th>13th</th>\n",
       "      <th>17</th>\n",
       "      <th>1816</th>\n",
       "      <th>1817</th>\n",
       "      <th>18th</th>\n",
       "      <th>19</th>\n",
       "      <th>2</th>\n",
       "      <th>...</th>\n",
       "      <th>younger</th>\n",
       "      <th>youngest</th>\n",
       "      <th>youngster</th>\n",
       "      <th>your</th>\n",
       "      <th>yours</th>\n",
       "      <th>yourself</th>\n",
       "      <th>yourselves</th>\n",
       "      <th>youth</th>\n",
       "      <th>youthful</th>\n",
       "      <th>zeal</th>\n",
       "    </tr>\n",
       "    <tr>\n",
       "      <th>w0</th>\n",
       "      <th></th>\n",
       "      <th></th>\n",
       "      <th></th>\n",
       "      <th></th>\n",
       "      <th></th>\n",
       "      <th></th>\n",
       "      <th></th>\n",
       "      <th></th>\n",
       "      <th></th>\n",
       "      <th></th>\n",
       "      <th></th>\n",
       "      <th></th>\n",
       "      <th></th>\n",
       "      <th></th>\n",
       "      <th></th>\n",
       "      <th></th>\n",
       "      <th></th>\n",
       "      <th></th>\n",
       "      <th></th>\n",
       "      <th></th>\n",
       "      <th></th>\n",
       "    </tr>\n",
       "  </thead>\n",
       "  <tbody>\n",
       "    <tr>\n",
       "      <th>1</th>\n",
       "      <td>NaN</td>\n",
       "      <td>NaN</td>\n",
       "      <td>NaN</td>\n",
       "      <td>NaN</td>\n",
       "      <td>NaN</td>\n",
       "      <td>NaN</td>\n",
       "      <td>NaN</td>\n",
       "      <td>NaN</td>\n",
       "      <td>NaN</td>\n",
       "      <td>NaN</td>\n",
       "      <td>...</td>\n",
       "      <td>NaN</td>\n",
       "      <td>NaN</td>\n",
       "      <td>NaN</td>\n",
       "      <td>NaN</td>\n",
       "      <td>NaN</td>\n",
       "      <td>NaN</td>\n",
       "      <td>NaN</td>\n",
       "      <td>NaN</td>\n",
       "      <td>NaN</td>\n",
       "      <td>NaN</td>\n",
       "    </tr>\n",
       "    <tr>\n",
       "      <th>11th</th>\n",
       "      <td>NaN</td>\n",
       "      <td>NaN</td>\n",
       "      <td>NaN</td>\n",
       "      <td>NaN</td>\n",
       "      <td>1.0</td>\n",
       "      <td>NaN</td>\n",
       "      <td>NaN</td>\n",
       "      <td>NaN</td>\n",
       "      <td>NaN</td>\n",
       "      <td>NaN</td>\n",
       "      <td>...</td>\n",
       "      <td>NaN</td>\n",
       "      <td>NaN</td>\n",
       "      <td>NaN</td>\n",
       "      <td>NaN</td>\n",
       "      <td>NaN</td>\n",
       "      <td>NaN</td>\n",
       "      <td>NaN</td>\n",
       "      <td>NaN</td>\n",
       "      <td>NaN</td>\n",
       "      <td>NaN</td>\n",
       "    </tr>\n",
       "    <tr>\n",
       "      <th>12th</th>\n",
       "      <td>NaN</td>\n",
       "      <td>NaN</td>\n",
       "      <td>NaN</td>\n",
       "      <td>NaN</td>\n",
       "      <td>1.0</td>\n",
       "      <td>NaN</td>\n",
       "      <td>NaN</td>\n",
       "      <td>NaN</td>\n",
       "      <td>NaN</td>\n",
       "      <td>NaN</td>\n",
       "      <td>...</td>\n",
       "      <td>NaN</td>\n",
       "      <td>NaN</td>\n",
       "      <td>NaN</td>\n",
       "      <td>NaN</td>\n",
       "      <td>NaN</td>\n",
       "      <td>NaN</td>\n",
       "      <td>NaN</td>\n",
       "      <td>NaN</td>\n",
       "      <td>NaN</td>\n",
       "      <td>NaN</td>\n",
       "    </tr>\n",
       "    <tr>\n",
       "      <th>13th</th>\n",
       "      <td>NaN</td>\n",
       "      <td>NaN</td>\n",
       "      <td>NaN</td>\n",
       "      <td>NaN</td>\n",
       "      <td>1.0</td>\n",
       "      <td>NaN</td>\n",
       "      <td>NaN</td>\n",
       "      <td>NaN</td>\n",
       "      <td>NaN</td>\n",
       "      <td>NaN</td>\n",
       "      <td>...</td>\n",
       "      <td>NaN</td>\n",
       "      <td>NaN</td>\n",
       "      <td>NaN</td>\n",
       "      <td>NaN</td>\n",
       "      <td>NaN</td>\n",
       "      <td>NaN</td>\n",
       "      <td>NaN</td>\n",
       "      <td>NaN</td>\n",
       "      <td>NaN</td>\n",
       "      <td>NaN</td>\n",
       "    </tr>\n",
       "    <tr>\n",
       "      <th>17</th>\n",
       "      <td>NaN</td>\n",
       "      <td>NaN</td>\n",
       "      <td>NaN</td>\n",
       "      <td>NaN</td>\n",
       "      <td>NaN</td>\n",
       "      <td>NaN</td>\n",
       "      <td>NaN</td>\n",
       "      <td>NaN</td>\n",
       "      <td>NaN</td>\n",
       "      <td>NaN</td>\n",
       "      <td>...</td>\n",
       "      <td>NaN</td>\n",
       "      <td>NaN</td>\n",
       "      <td>NaN</td>\n",
       "      <td>NaN</td>\n",
       "      <td>NaN</td>\n",
       "      <td>NaN</td>\n",
       "      <td>NaN</td>\n",
       "      <td>NaN</td>\n",
       "      <td>NaN</td>\n",
       "      <td>NaN</td>\n",
       "    </tr>\n",
       "  </tbody>\n",
       "</table>\n",
       "<p>5 rows × 7036 columns</p>\n",
       "</div>"
      ],
      "text/plain": [
       "w1     1  11th  12th  13th   17  1816  1817  18th  19   2  ...  younger  \\\n",
       "w0                                                         ...            \n",
       "1    NaN   NaN   NaN   NaN  NaN   NaN   NaN   NaN NaN NaN  ...      NaN   \n",
       "11th NaN   NaN   NaN   NaN  1.0   NaN   NaN   NaN NaN NaN  ...      NaN   \n",
       "12th NaN   NaN   NaN   NaN  1.0   NaN   NaN   NaN NaN NaN  ...      NaN   \n",
       "13th NaN   NaN   NaN   NaN  1.0   NaN   NaN   NaN NaN NaN  ...      NaN   \n",
       "17   NaN   NaN   NaN   NaN  NaN   NaN   NaN   NaN NaN NaN  ...      NaN   \n",
       "\n",
       "w1    youngest  youngster  your  yours  yourself  yourselves  youth  youthful  \\\n",
       "w0                                                                              \n",
       "1          NaN        NaN   NaN    NaN       NaN         NaN    NaN       NaN   \n",
       "11th       NaN        NaN   NaN    NaN       NaN         NaN    NaN       NaN   \n",
       "12th       NaN        NaN   NaN    NaN       NaN         NaN    NaN       NaN   \n",
       "13th       NaN        NaN   NaN    NaN       NaN         NaN    NaN       NaN   \n",
       "17         NaN        NaN   NaN    NaN       NaN         NaN    NaN       NaN   \n",
       "\n",
       "w1    zeal  \n",
       "w0          \n",
       "1      NaN  \n",
       "11th   NaN  \n",
       "12th   NaN  \n",
       "13th   NaN  \n",
       "17     NaN  \n",
       "\n",
       "[5 rows x 7036 columns]"
      ]
     },
     "execution_count": 68,
     "metadata": {},
     "output_type": "execute_result"
    }
   ],
   "source": [
    "M.head()"
   ]
  },
  {
   "cell_type": "code",
   "execution_count": 61,
   "id": "eecd39ac-92fd-42ee-92a6-48b43c633d7d",
   "metadata": {},
   "outputs": [],
   "source": [
    "Q3 = M.loc[['he','she'], ['said','heard']]"
   ]
  },
  {
   "cell_type": "code",
   "execution_count": 62,
   "id": "9b1f2f00-79d6-497a-aa2c-55667d0f49ba",
   "metadata": {},
   "outputs": [
    {
     "data": {
      "text/html": [
       "<div>\n",
       "<style scoped>\n",
       "    .dataframe tbody tr th:only-of-type {\n",
       "        vertical-align: middle;\n",
       "    }\n",
       "\n",
       "    .dataframe tbody tr th {\n",
       "        vertical-align: top;\n",
       "    }\n",
       "\n",
       "    .dataframe thead th {\n",
       "        text-align: right;\n",
       "    }\n",
       "</style>\n",
       "<table border=\"1\" class=\"dataframe\">\n",
       "  <thead>\n",
       "    <tr style=\"text-align: right;\">\n",
       "      <th>w1</th>\n",
       "      <th>said</th>\n",
       "      <th>heard</th>\n",
       "    </tr>\n",
       "    <tr>\n",
       "      <th>w0</th>\n",
       "      <th></th>\n",
       "      <th></th>\n",
       "    </tr>\n",
       "  </thead>\n",
       "  <tbody>\n",
       "    <tr>\n",
       "      <th>he</th>\n",
       "      <td>21.0</td>\n",
       "      <td>5.0</td>\n",
       "    </tr>\n",
       "    <tr>\n",
       "      <th>she</th>\n",
       "      <td>3.0</td>\n",
       "      <td>3.0</td>\n",
       "    </tr>\n",
       "  </tbody>\n",
       "</table>\n",
       "</div>"
      ],
      "text/plain": [
       "w1   said  heard\n",
       "w0              \n",
       "he   21.0    5.0\n",
       "she   3.0    3.0"
      ]
     },
     "execution_count": 62,
     "metadata": {},
     "output_type": "execute_result"
    }
   ],
   "source": [
    "Q3"
   ]
  },
  {
   "cell_type": "code",
   "execution_count": 63,
   "id": "3794f80d-ecb5-4384-b5f6-812fa5ec51a5",
   "metadata": {},
   "outputs": [
    {
     "data": {
      "text/html": [
       "<div>\n",
       "<style scoped>\n",
       "    .dataframe tbody tr th:only-of-type {\n",
       "        vertical-align: middle;\n",
       "    }\n",
       "\n",
       "    .dataframe tbody tr th {\n",
       "        vertical-align: top;\n",
       "    }\n",
       "\n",
       "    .dataframe thead th {\n",
       "        text-align: right;\n",
       "    }\n",
       "</style>\n",
       "<table border=\"1\" class=\"dataframe\">\n",
       "  <thead>\n",
       "    <tr style=\"text-align: right;\">\n",
       "      <th>w1</th>\n",
       "      <th>said</th>\n",
       "      <th>heard</th>\n",
       "    </tr>\n",
       "    <tr>\n",
       "      <th>w0</th>\n",
       "      <th></th>\n",
       "      <th></th>\n",
       "    </tr>\n",
       "  </thead>\n",
       "  <tbody>\n",
       "    <tr>\n",
       "      <th>he</th>\n",
       "      <td>21.0</td>\n",
       "      <td>5.0</td>\n",
       "    </tr>\n",
       "    <tr>\n",
       "      <th>she</th>\n",
       "      <td>3.0</td>\n",
       "      <td>3.0</td>\n",
       "    </tr>\n",
       "  </tbody>\n",
       "</table>\n",
       "</div>"
      ],
      "text/plain": [
       "w1   said  heard\n",
       "w0              \n",
       "he   21.0    5.0\n",
       "she   3.0    3.0"
      ]
     },
     "execution_count": 63,
     "metadata": {},
     "output_type": "execute_result"
    }
   ],
   "source": [
    "Q3.dropna(axis=0)"
   ]
  },
  {
   "cell_type": "markdown",
   "id": "ed1bab5d-930b-4cb3-bc75-106d7d5e5e19",
   "metadata": {},
   "source": [
    "## Q4"
   ]
  },
  {
   "cell_type": "code",
   "execution_count": 74,
   "id": "04c57328-3480-4627-a653-723d14aa7325",
   "metadata": {},
   "outputs": [],
   "source": [
    "def generate_text(LM, n=20):\n",
    "    \n",
    "    # Start with beginning sentence marker\n",
    "    words = ['<s>', '<s>']\n",
    "        \n",
    "    # Sentence counter\n",
    "    sent_count = 0\n",
    "    \n",
    "    while sent_count < n:\n",
    "        \n",
    "        # Get trigram context\n",
    "        bg = tuple(words[-2:])\n",
    "\n",
    "        # Get next word\n",
    "        words.append(LM[2].loc[bg].sample(weights='cp').index.values[0])\n",
    "\n",
    "        # Terminate when end-of-sentence marker found\n",
    "        if words[-1] == '</s>':\n",
    "            sent_count += 1                        \n",
    "            if sent_count < n:\n",
    "                words.append('<s>')\n",
    "    \n",
    "    # Create text from words\n",
    "    text = ' '.join(words)\n",
    "    \n",
    "    sents = pd.DataFrame(dict(sent_str=text.split('<s> <s>')))\n",
    "    sents['len'] = sents.sent_str.str.len()\n",
    "    sents = sents[sents.len > 0]\n",
    "    sents.sent_str = sents.sent_str.str.replace('<s> ', '')\n",
    "    sents.sent_str = sents.sent_str.str.replace(' </s>', '')\n",
    "    sents.sent_str = sents.sent_str.str.strip()\n",
    "    sents.sent_str = sents.sent_str.str.replace(r\" s \", \"'s \", regex=True)\n",
    "    sents['html'] = \"<li>\" + sents.sent_str.str.upper() + \".</li>\"\n",
    "\n",
    "    output = sents.sort_values('len').html.str.cat(sep='\\n')\n",
    "            \n",
    "    display(HTML(f\"<ol style='font-family:monospace;margin-left:1rem;width:4in;'>{output}</ol>\"))\n",
    "    \n",
    "    return sents"
   ]
  },
  {
   "cell_type": "code",
   "execution_count": null,
   "id": "0e87eda4-7baf-4665-a7a1-ac67a5eae87c",
   "metadata": {},
   "outputs": [],
   "source": []
  },
  {
   "cell_type": "code",
   "execution_count": 75,
   "id": "b0df0597-75d4-4465-996d-4341bfdd3d8c",
   "metadata": {},
   "outputs": [
    {
     "ename": "KeyError",
     "evalue": "'String passed to weights not a valid column'",
     "output_type": "error",
     "traceback": [
      "\u001b[1;31m---------------------------------------------------------------------------\u001b[0m",
      "\u001b[1;31mKeyError\u001b[0m                                  Traceback (most recent call last)",
      "\u001b[1;32m~\\anaconda3\\lib\\site-packages\\pandas\\core\\indexes\\base.py\u001b[0m in \u001b[0;36mget_loc\u001b[1;34m(self, key, method, tolerance)\u001b[0m\n\u001b[0;32m   3360\u001b[0m             \u001b[1;32mtry\u001b[0m\u001b[1;33m:\u001b[0m\u001b[1;33m\u001b[0m\u001b[1;33m\u001b[0m\u001b[0m\n\u001b[1;32m-> 3361\u001b[1;33m                 \u001b[1;32mreturn\u001b[0m \u001b[0mself\u001b[0m\u001b[1;33m.\u001b[0m\u001b[0m_engine\u001b[0m\u001b[1;33m.\u001b[0m\u001b[0mget_loc\u001b[0m\u001b[1;33m(\u001b[0m\u001b[0mcasted_key\u001b[0m\u001b[1;33m)\u001b[0m\u001b[1;33m\u001b[0m\u001b[1;33m\u001b[0m\u001b[0m\n\u001b[0m\u001b[0;32m   3362\u001b[0m             \u001b[1;32mexcept\u001b[0m \u001b[0mKeyError\u001b[0m \u001b[1;32mas\u001b[0m \u001b[0merr\u001b[0m\u001b[1;33m:\u001b[0m\u001b[1;33m\u001b[0m\u001b[1;33m\u001b[0m\u001b[0m\n",
      "\u001b[1;32m~\\anaconda3\\lib\\site-packages\\pandas\\_libs\\index.pyx\u001b[0m in \u001b[0;36mpandas._libs.index.IndexEngine.get_loc\u001b[1;34m()\u001b[0m\n",
      "\u001b[1;32m~\\anaconda3\\lib\\site-packages\\pandas\\_libs\\index.pyx\u001b[0m in \u001b[0;36mpandas._libs.index.IndexEngine.get_loc\u001b[1;34m()\u001b[0m\n",
      "\u001b[1;32mpandas\\_libs\\hashtable_class_helper.pxi\u001b[0m in \u001b[0;36mpandas._libs.hashtable.PyObjectHashTable.get_item\u001b[1;34m()\u001b[0m\n",
      "\u001b[1;32mpandas\\_libs\\hashtable_class_helper.pxi\u001b[0m in \u001b[0;36mpandas._libs.hashtable.PyObjectHashTable.get_item\u001b[1;34m()\u001b[0m\n",
      "\u001b[1;31mKeyError\u001b[0m: 'cp'",
      "\nThe above exception was the direct cause of the following exception:\n",
      "\u001b[1;31mKeyError\u001b[0m                                  Traceback (most recent call last)",
      "\u001b[1;32m~\\anaconda3\\lib\\site-packages\\pandas\\core\\generic.py\u001b[0m in \u001b[0;36msample\u001b[1;34m(self, n, frac, replace, weights, random_state, axis, ignore_index)\u001b[0m\n\u001b[0;32m   5297\u001b[0m                         \u001b[1;32mtry\u001b[0m\u001b[1;33m:\u001b[0m\u001b[1;33m\u001b[0m\u001b[1;33m\u001b[0m\u001b[0m\n\u001b[1;32m-> 5298\u001b[1;33m                             \u001b[0mweights\u001b[0m \u001b[1;33m=\u001b[0m \u001b[0mself\u001b[0m\u001b[1;33m[\u001b[0m\u001b[0mweights\u001b[0m\u001b[1;33m]\u001b[0m\u001b[1;33m\u001b[0m\u001b[1;33m\u001b[0m\u001b[0m\n\u001b[0m\u001b[0;32m   5299\u001b[0m                         \u001b[1;32mexcept\u001b[0m \u001b[0mKeyError\u001b[0m \u001b[1;32mas\u001b[0m \u001b[0merr\u001b[0m\u001b[1;33m:\u001b[0m\u001b[1;33m\u001b[0m\u001b[1;33m\u001b[0m\u001b[0m\n",
      "\u001b[1;32m~\\anaconda3\\lib\\site-packages\\pandas\\core\\frame.py\u001b[0m in \u001b[0;36m__getitem__\u001b[1;34m(self, key)\u001b[0m\n\u001b[0;32m   3457\u001b[0m                 \u001b[1;32mreturn\u001b[0m \u001b[0mself\u001b[0m\u001b[1;33m.\u001b[0m\u001b[0m_getitem_multilevel\u001b[0m\u001b[1;33m(\u001b[0m\u001b[0mkey\u001b[0m\u001b[1;33m)\u001b[0m\u001b[1;33m\u001b[0m\u001b[1;33m\u001b[0m\u001b[0m\n\u001b[1;32m-> 3458\u001b[1;33m             \u001b[0mindexer\u001b[0m \u001b[1;33m=\u001b[0m \u001b[0mself\u001b[0m\u001b[1;33m.\u001b[0m\u001b[0mcolumns\u001b[0m\u001b[1;33m.\u001b[0m\u001b[0mget_loc\u001b[0m\u001b[1;33m(\u001b[0m\u001b[0mkey\u001b[0m\u001b[1;33m)\u001b[0m\u001b[1;33m\u001b[0m\u001b[1;33m\u001b[0m\u001b[0m\n\u001b[0m\u001b[0;32m   3459\u001b[0m             \u001b[1;32mif\u001b[0m \u001b[0mis_integer\u001b[0m\u001b[1;33m(\u001b[0m\u001b[0mindexer\u001b[0m\u001b[1;33m)\u001b[0m\u001b[1;33m:\u001b[0m\u001b[1;33m\u001b[0m\u001b[1;33m\u001b[0m\u001b[0m\n",
      "\u001b[1;32m~\\anaconda3\\lib\\site-packages\\pandas\\core\\indexes\\base.py\u001b[0m in \u001b[0;36mget_loc\u001b[1;34m(self, key, method, tolerance)\u001b[0m\n\u001b[0;32m   3362\u001b[0m             \u001b[1;32mexcept\u001b[0m \u001b[0mKeyError\u001b[0m \u001b[1;32mas\u001b[0m \u001b[0merr\u001b[0m\u001b[1;33m:\u001b[0m\u001b[1;33m\u001b[0m\u001b[1;33m\u001b[0m\u001b[0m\n\u001b[1;32m-> 3363\u001b[1;33m                 \u001b[1;32mraise\u001b[0m \u001b[0mKeyError\u001b[0m\u001b[1;33m(\u001b[0m\u001b[0mkey\u001b[0m\u001b[1;33m)\u001b[0m \u001b[1;32mfrom\u001b[0m \u001b[0merr\u001b[0m\u001b[1;33m\u001b[0m\u001b[1;33m\u001b[0m\u001b[0m\n\u001b[0m\u001b[0;32m   3364\u001b[0m \u001b[1;33m\u001b[0m\u001b[0m\n",
      "\u001b[1;31mKeyError\u001b[0m: 'cp'",
      "\nThe above exception was the direct cause of the following exception:\n",
      "\u001b[1;31mKeyError\u001b[0m                                  Traceback (most recent call last)",
      "\u001b[1;32m~\\AppData\\Local\\Temp/ipykernel_5296/347554450.py\u001b[0m in \u001b[0;36m<module>\u001b[1;34m\u001b[0m\n\u001b[1;32m----> 1\u001b[1;33m \u001b[0msents\u001b[0m \u001b[1;33m=\u001b[0m \u001b[0mgenerate_text\u001b[0m\u001b[1;33m(\u001b[0m\u001b[0mLM\u001b[0m\u001b[1;33m,\u001b[0m \u001b[0mn\u001b[0m\u001b[1;33m=\u001b[0m\u001b[1;36m20\u001b[0m\u001b[1;33m)\u001b[0m\u001b[1;33m\u001b[0m\u001b[1;33m\u001b[0m\u001b[0m\n\u001b[0m",
      "\u001b[1;32m~\\AppData\\Local\\Temp/ipykernel_5296/1749067483.py\u001b[0m in \u001b[0;36mgenerate_text\u001b[1;34m(LM, n)\u001b[0m\n\u001b[0;32m     13\u001b[0m \u001b[1;33m\u001b[0m\u001b[0m\n\u001b[0;32m     14\u001b[0m         \u001b[1;31m# Get next word\u001b[0m\u001b[1;33m\u001b[0m\u001b[1;33m\u001b[0m\u001b[0m\n\u001b[1;32m---> 15\u001b[1;33m         \u001b[0mwords\u001b[0m\u001b[1;33m.\u001b[0m\u001b[0mappend\u001b[0m\u001b[1;33m(\u001b[0m\u001b[0mLM\u001b[0m\u001b[1;33m[\u001b[0m\u001b[1;36m2\u001b[0m\u001b[1;33m]\u001b[0m\u001b[1;33m.\u001b[0m\u001b[0mloc\u001b[0m\u001b[1;33m[\u001b[0m\u001b[0mbg\u001b[0m\u001b[1;33m]\u001b[0m\u001b[1;33m.\u001b[0m\u001b[0msample\u001b[0m\u001b[1;33m(\u001b[0m\u001b[0mweights\u001b[0m\u001b[1;33m=\u001b[0m\u001b[1;34m'cp'\u001b[0m\u001b[1;33m)\u001b[0m\u001b[1;33m.\u001b[0m\u001b[0mindex\u001b[0m\u001b[1;33m.\u001b[0m\u001b[0mvalues\u001b[0m\u001b[1;33m[\u001b[0m\u001b[1;36m0\u001b[0m\u001b[1;33m]\u001b[0m\u001b[1;33m)\u001b[0m\u001b[1;33m\u001b[0m\u001b[1;33m\u001b[0m\u001b[0m\n\u001b[0m\u001b[0;32m     16\u001b[0m \u001b[1;33m\u001b[0m\u001b[0m\n\u001b[0;32m     17\u001b[0m         \u001b[1;31m# Terminate when end-of-sentence marker found\u001b[0m\u001b[1;33m\u001b[0m\u001b[1;33m\u001b[0m\u001b[0m\n",
      "\u001b[1;32m~\\anaconda3\\lib\\site-packages\\pandas\\core\\generic.py\u001b[0m in \u001b[0;36msample\u001b[1;34m(self, n, frac, replace, weights, random_state, axis, ignore_index)\u001b[0m\n\u001b[0;32m   5298\u001b[0m                             \u001b[0mweights\u001b[0m \u001b[1;33m=\u001b[0m \u001b[0mself\u001b[0m\u001b[1;33m[\u001b[0m\u001b[0mweights\u001b[0m\u001b[1;33m]\u001b[0m\u001b[1;33m\u001b[0m\u001b[1;33m\u001b[0m\u001b[0m\n\u001b[0;32m   5299\u001b[0m                         \u001b[1;32mexcept\u001b[0m \u001b[0mKeyError\u001b[0m \u001b[1;32mas\u001b[0m \u001b[0merr\u001b[0m\u001b[1;33m:\u001b[0m\u001b[1;33m\u001b[0m\u001b[1;33m\u001b[0m\u001b[0m\n\u001b[1;32m-> 5300\u001b[1;33m                             raise KeyError(\n\u001b[0m\u001b[0;32m   5301\u001b[0m                                 \u001b[1;34m\"String passed to weights not a valid column\"\u001b[0m\u001b[1;33m\u001b[0m\u001b[1;33m\u001b[0m\u001b[0m\n\u001b[0;32m   5302\u001b[0m                             ) from err\n",
      "\u001b[1;31mKeyError\u001b[0m: 'String passed to weights not a valid column'"
     ]
    }
   ],
   "source": [
    "sents = generate_text(LM, n=20)"
   ]
  },
  {
   "cell_type": "code",
   "execution_count": 73,
   "id": "7f358e86-4e66-4871-a54b-eacfbf0191fd",
   "metadata": {},
   "outputs": [
    {
     "data": {
      "text/plain": [
       "[             n       mle         p      log_p\n",
       " w0                                           \n",
       " 1            2  0.000022  0.000022 -15.481784\n",
       " 11th         2  0.000022  0.000022 -15.481784\n",
       " 12th         2  0.000022  0.000022 -15.481784\n",
       " 13th         1  0.000011  0.000011 -16.481784\n",
       " 17          10  0.000109  0.000109 -13.159856\n",
       " ...         ..       ...       ...        ...\n",
       " yourself    28  0.000306  0.000306 -11.674429\n",
       " yourselves   1  0.000011  0.000011 -16.481784\n",
       " youth       21  0.000229  0.000229 -12.089466\n",
       " youthful     3  0.000033  0.000033 -14.896821\n",
       " zeal         4  0.000044  0.000044 -14.481784\n",
       " \n",
       " [7036 rows x 4 columns],\n",
       "                  n       mle      mle2         p      log_p\n",
       " w0       w1                                                \n",
       " 1        </s>    2  0.000022  1.000000  0.000426 -11.195987\n",
       " 11th     17      1  0.000011  0.500000  0.000284 -11.780950\n",
       "          the     1  0.000011  0.500000  0.000284 -11.780950\n",
       " 12th     17      1  0.000011  0.500000  0.000284 -11.780950\n",
       "          </s>    1  0.000011  0.500000  0.000284 -11.780950\n",
       " ...             ..       ...       ...       ...        ...\n",
       " youthful days    1  0.000011  0.333333  0.000284 -11.781155\n",
       "          lovers  2  0.000022  0.666667  0.000426 -11.196192\n",
       " zeal     </s>    1  0.000011  0.250000  0.000284 -11.781360\n",
       "          modern  1  0.000011  0.250000  0.000284 -11.781360\n",
       "          of      2  0.000022  0.500000  0.000426 -11.196397\n",
       " \n",
       " [41154 rows x 5 columns],\n",
       "                               n       mle  mle2             p      log_p\n",
       " w0       w1     w2                                                      \n",
       " 1        </s>   <s>           2  0.000022   1.0  6.059957e-08 -23.976117\n",
       " 11th     17     </s>          1  0.000011   1.0  4.039972e-08 -24.561080\n",
       "          the    passage       1  0.000011   1.0  4.039972e-08 -24.561080\n",
       " 12th     17     </s>          1  0.000011   1.0  4.039972e-08 -24.561080\n",
       "          </s>   <s>           1  0.000011   1.0  4.039972e-08 -24.561080\n",
       " ...                          ..       ...   ...           ...        ...\n",
       " youthful lovers while         1  0.000011   0.5  4.039972e-08 -24.561080\n",
       " zeal     </s>   <s>           1  0.000011   1.0  4.039972e-08 -24.561080\n",
       "          modern philosophers  1  0.000011   1.0  4.039972e-08 -24.561080\n",
       "          of     felix         1  0.000011   0.5  4.039972e-08 -24.561080\n",
       "                 his           1  0.000011   0.5  4.039972e-08 -24.561080\n",
       " \n",
       " [67769 rows x 5 columns]]"
      ]
     },
     "execution_count": 73,
     "metadata": {},
     "output_type": "execute_result"
    }
   ],
   "source": [
    "LM"
   ]
  },
  {
   "cell_type": "code",
   "execution_count": null,
   "id": "558e2387-136a-4e58-88ec-6821b7ccbe2e",
   "metadata": {},
   "outputs": [],
   "source": []
  }
 ],
 "metadata": {
  "kernelspec": {
   "display_name": "Python 3",
   "language": "python",
   "name": "python3"
  },
  "language_info": {
   "codemirror_mode": {
    "name": "ipython",
    "version": 3
   },
   "file_extension": ".py",
   "mimetype": "text/x-python",
   "name": "python",
   "nbconvert_exporter": "python",
   "pygments_lexer": "ipython3",
   "version": "3.8.10"
  },
  "toc-autonumbering": false,
  "toc-showcode": true,
  "toc-showmarkdowntxt": true,
  "widgets": {
   "application/vnd.jupyter.widget-state+json": {
    "state": {},
    "version_major": 2,
    "version_minor": 0
   }
  }
 },
 "nbformat": 4,
 "nbformat_minor": 5
}
