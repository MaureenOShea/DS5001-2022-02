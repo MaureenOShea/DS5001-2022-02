{
 "cells": [
  {
   "cell_type": "markdown",
   "metadata": {
    "colab_type": "text",
    "id": "d5lxxAgsa6go",
    "toc-hr-collapsed": true
   },
   "source": [
    "# DS 5001 Weed 3 Lab: Baby Babel\n",
    "\n",
    "Baby Babel is implements the Library of Babel with a small symbol set and message length."
   ]
  },
  {
   "cell_type": "markdown",
   "metadata": {},
   "source": [
    "## Set Up"
   ]
  },
  {
   "cell_type": "code",
   "execution_count": null,
   "metadata": {
    "colab": {},
    "colab_type": "code",
    "id": "NhxIat0Oa6gz"
   },
   "outputs": [],
   "source": [
    "import re\n",
    "import math\n",
    "import pandas as pd"
   ]
  },
  {
   "cell_type": "code",
   "execution_count": null,
   "metadata": {
    "colab": {},
    "colab_type": "code",
    "id": "NhxIat0Oa6gz"
   },
   "outputs": [],
   "source": [
    "%matplotlib inline"
   ]
  },
  {
   "cell_type": "markdown",
   "metadata": {
    "colab_type": "text",
    "id": "iWg2R7dFa6gu",
    "toc-hr-collapsed": true
   },
   "source": [
    "## Method 1: Basic Python"
   ]
  },
  {
   "cell_type": "markdown",
   "metadata": {
    "colab_type": "text",
    "id": "PE1iQpcPa6hG",
    "toc-hr-collapsed": false
   },
   "source": [
    "### Define the Symbol Set"
   ]
  },
  {
   "cell_type": "code",
   "execution_count": null,
   "metadata": {
    "colab": {},
    "colab_type": "code",
    "id": "BpgbcvT8a6hK"
   },
   "outputs": [],
   "source": [
    "letters = ['a', 'b', 't', ' ']"
   ]
  },
  {
   "cell_type": "markdown",
   "metadata": {
    "colab_type": "text",
    "id": "NsTcj8Osa6hV"
   },
   "source": [
    "### Generate all possible messages of length 6\n",
    "\n",
    "This is a clumsy but visually effective way to demonstrate how the Library of Babel might have been constructed. It is essentially the cartesian product of the alphabet, multiplying by the length of the message."
   ]
  },
  {
   "cell_type": "code",
   "execution_count": null,
   "metadata": {
    "colab": {},
    "colab_type": "code",
    "id": "lhx_yFxQa6ha"
   },
   "outputs": [],
   "source": [
    "books = []\n",
    "for L1 in letters:\n",
    "    for L2 in letters:\n",
    "        for L3 in letters:\n",
    "            for L4 in letters:\n",
    "                for L5 in letters:\n",
    "                    for L6 in letters:\n",
    "                        books.append(''.join((L1,L2,L3,L4,L5,L6)))"
   ]
  },
  {
   "cell_type": "markdown",
   "metadata": {
    "colab_type": "text",
    "id": "_Ji103vOa6iE"
   },
   "source": [
    "### See how many messages"
   ]
  },
  {
   "cell_type": "code",
   "execution_count": null,
   "metadata": {
    "colab": {
     "base_uri": "https://localhost:8080/",
     "height": 34
    },
    "colab_type": "code",
    "executionInfo": {
     "elapsed": 448,
     "status": "ok",
     "timestamp": 1549030949938,
     "user": {
      "displayName": "Rafael Alvarado",
      "photoUrl": "https://lh3.googleusercontent.com/-gvKWs7zR4JY/AAAAAAAAAAI/AAAAAAABqfk/Q8O12g6M_T4/s64/photo.jpg",
      "userId": "11010075019714369526"
     },
     "user_tz": 300
    },
    "id": "iVHotJmNa6iM",
    "outputId": "5114039a-ed94-4b8c-ee0f-8df8764b195e"
   },
   "outputs": [],
   "source": [
    "n = len(books)\n",
    "n"
   ]
  },
  {
   "cell_type": "markdown",
   "metadata": {},
   "source": [
    "Should be the same as $a^L$ where $a$ is the size of the symbol set and $L$ is the length  of the message."
   ]
  },
  {
   "cell_type": "code",
   "execution_count": null,
   "metadata": {
    "colab": {
     "base_uri": "https://localhost:8080/",
     "height": 34
    },
    "colab_type": "code",
    "executionInfo": {
     "elapsed": 431,
     "status": "ok",
     "timestamp": 1549030954210,
     "user": {
      "displayName": "Rafael Alvarado",
      "photoUrl": "https://lh3.googleusercontent.com/-gvKWs7zR4JY/AAAAAAAAAAI/AAAAAAABqfk/Q8O12g6M_T4/s64/photo.jpg",
      "userId": "11010075019714369526"
     },
     "user_tz": 300
    },
    "id": "gz-3LFGua6ir",
    "outputId": "a17c1bbe-0996-4ec5-babd-f3c82604dd5a"
   },
   "outputs": [],
   "source": [
    "len(letters) ** 6"
   ]
  },
  {
   "cell_type": "markdown",
   "metadata": {},
   "source": [
    "### Look at a sample set of messages (books)"
   ]
  },
  {
   "cell_type": "code",
   "execution_count": null,
   "metadata": {
    "colab": {
     "base_uri": "https://localhost:8080/",
     "height": 192
    },
    "colab_type": "code",
    "executionInfo": {
     "elapsed": 659,
     "status": "ok",
     "timestamp": 1549030956824,
     "user": {
      "displayName": "Rafael Alvarado",
      "photoUrl": "https://lh3.googleusercontent.com/-gvKWs7zR4JY/AAAAAAAAAAI/AAAAAAABqfk/Q8O12g6M_T4/s64/photo.jpg",
      "userId": "11010075019714369526"
     },
     "user_tz": 300
    },
    "id": "SynB3H2Ha6i9",
    "outputId": "71999bc0-18f6-45fb-9dda-a55b0933a50c"
   },
   "outputs": [],
   "source": [
    "books[:10]"
   ]
  },
  {
   "cell_type": "markdown",
   "metadata": {},
   "source": [
    "### Get the probability of a book"
   ]
  },
  {
   "cell_type": "code",
   "execution_count": null,
   "metadata": {},
   "outputs": [],
   "source": [
    "p_book = 1/n"
   ]
  },
  {
   "cell_type": "code",
   "execution_count": null,
   "metadata": {},
   "outputs": [],
   "source": [
    "p_book"
   ]
  },
  {
   "cell_type": "markdown",
   "metadata": {},
   "source": [
    "### Get the entropy of this source"
   ]
  },
  {
   "cell_type": "code",
   "execution_count": null,
   "metadata": {},
   "outputs": [],
   "source": [
    "H = (p_book * math.log(1/p_book, 4)) * n # Of course, in this case, same as math.log(n, 4)\n",
    "H2 = (p_book * math.log(1/p_book, 2)) * n # Base 2"
   ]
  },
  {
   "cell_type": "code",
   "execution_count": null,
   "metadata": {},
   "outputs": [],
   "source": [
    "H, H2"
   ]
  },
  {
   "cell_type": "markdown",
   "metadata": {
    "colab_type": "text",
    "id": "Tf2nfjeia6jM"
   },
   "source": [
    "### Find the string `at bat`"
   ]
  },
  {
   "cell_type": "code",
   "execution_count": null,
   "metadata": {
    "colab": {
     "base_uri": "https://localhost:8080/",
     "height": 34
    },
    "colab_type": "code",
    "executionInfo": {
     "elapsed": 443,
     "status": "ok",
     "timestamp": 1549030959755,
     "user": {
      "displayName": "Rafael Alvarado",
      "photoUrl": "https://lh3.googleusercontent.com/-gvKWs7zR4JY/AAAAAAAAAAI/AAAAAAABqfk/Q8O12g6M_T4/s64/photo.jpg",
      "userId": "11010075019714369526"
     },
     "user_tz": 300
    },
    "id": "-hQrK0mWa6jO",
    "outputId": "a77b1806-6e06-4e9c-b0f9-9e181594d6e3"
   },
   "outputs": [],
   "source": [
    "result = [i for i, book in enumerate(books) if re.search(r'at bat', book)][0]\n",
    "result"
   ]
  },
  {
   "cell_type": "code",
   "execution_count": null,
   "metadata": {
    "colab": {
     "base_uri": "https://localhost:8080/",
     "height": 34
    },
    "colab_type": "code",
    "executionInfo": {
     "elapsed": 656,
     "status": "ok",
     "timestamp": 1549030963469,
     "user": {
      "displayName": "Rafael Alvarado",
      "photoUrl": "https://lh3.googleusercontent.com/-gvKWs7zR4JY/AAAAAAAAAAI/AAAAAAABqfk/Q8O12g6M_T4/s64/photo.jpg",
      "userId": "11010075019714369526"
     },
     "user_tz": 300
    },
    "id": "806_LQU8a6jZ",
    "outputId": "ac5ca78d-4fb7-423a-af2a-c7356d2c1af5"
   },
   "outputs": [],
   "source": [
    "books[result]"
   ]
  },
  {
   "cell_type": "markdown",
   "metadata": {
    "colab_type": "text",
    "id": "WcaMR0Ija6jk",
    "toc-hr-collapsed": true
   },
   "source": [
    "## Method 2: Pandas"
   ]
  },
  {
   "cell_type": "markdown",
   "metadata": {
    "colab_type": "text",
    "id": "WClA1y_7a6jv"
   },
   "source": [
    "### Generate permutation space as MultiIndex"
   ]
  },
  {
   "cell_type": "code",
   "execution_count": null,
   "metadata": {},
   "outputs": [],
   "source": [
    "L = 6"
   ]
  },
  {
   "cell_type": "code",
   "execution_count": null,
   "metadata": {
    "colab": {},
    "colab_type": "code",
    "id": "coSBBMw7a6jy"
   },
   "outputs": [],
   "source": [
    "X = [letters for i in range(L)]"
   ]
  },
  {
   "cell_type": "code",
   "execution_count": null,
   "metadata": {
    "colab": {},
    "colab_type": "code",
    "id": "ksjXOg60a6j8",
    "outputId": "2dd6fe6d-7068-4e2f-e0da-8d55351a93c6"
   },
   "outputs": [],
   "source": [
    "X"
   ]
  },
  {
   "cell_type": "code",
   "execution_count": null,
   "metadata": {
    "colab": {},
    "colab_type": "code",
    "id": "wqGL3b0Fa6kI"
   },
   "outputs": [],
   "source": [
    "library = pd.DataFrame(index=pd.MultiIndex.from_product(X)).reset_index()"
   ]
  },
  {
   "cell_type": "code",
   "execution_count": null,
   "metadata": {
    "colab": {
     "base_uri": "https://localhost:8080/",
     "height": 201
    },
    "colab_type": "code",
    "executionInfo": {
     "elapsed": 478,
     "status": "ok",
     "timestamp": 1549030983594,
     "user": {
      "displayName": "Rafael Alvarado",
      "photoUrl": "https://lh3.googleusercontent.com/-gvKWs7zR4JY/AAAAAAAAAAI/AAAAAAABqfk/Q8O12g6M_T4/s64/photo.jpg",
      "userId": "11010075019714369526"
     },
     "user_tz": 300
    },
    "id": "7Gd0VNi5a6kR",
    "outputId": "2046cb63-79de-4b6b-f077-1b0ac763afae"
   },
   "outputs": [],
   "source": [
    "library.head()"
   ]
  },
  {
   "cell_type": "code",
   "execution_count": null,
   "metadata": {
    "colab": {},
    "colab_type": "code",
    "id": "ppeVgk77a6kh"
   },
   "outputs": [],
   "source": [
    "library['book'] = library.apply(lambda x: x.str.cat(), 1)"
   ]
  },
  {
   "cell_type": "code",
   "execution_count": null,
   "metadata": {
    "colab": {},
    "colab_type": "code",
    "id": "sz2coleoa6k1",
    "outputId": "68b7c7a1-d08e-4d5c-ff98-1201aa14a806"
   },
   "outputs": [],
   "source": [
    "library.book.head(10)"
   ]
  },
  {
   "cell_type": "markdown",
   "metadata": {
    "colab_type": "text",
    "id": "rD6NUo5Ka6lO"
   },
   "source": [
    "### Find string `at bat`"
   ]
  },
  {
   "cell_type": "code",
   "execution_count": null,
   "metadata": {
    "colab": {
     "base_uri": "https://localhost:8080/",
     "height": 34
    },
    "colab_type": "code",
    "executionInfo": {
     "elapsed": 567,
     "status": "ok",
     "timestamp": 1549031010625,
     "user": {
      "displayName": "Rafael Alvarado",
      "photoUrl": "https://lh3.googleusercontent.com/-gvKWs7zR4JY/AAAAAAAAAAI/AAAAAAABqfk/Q8O12g6M_T4/s64/photo.jpg",
      "userId": "11010075019714369526"
     },
     "user_tz": 300
    },
    "id": "pObdq3mga6lQ",
    "outputId": "0380488d-fc16-4160-97b5-7cd6ab7ea4be"
   },
   "outputs": [],
   "source": [
    "library[library.book.str.match(r'^at bat$')].index.values[0]"
   ]
  },
  {
   "cell_type": "markdown",
   "metadata": {
    "colab_type": "text",
    "id": "S7b2R-qia6lc"
   },
   "source": [
    "### Generate sample messages"
   ]
  },
  {
   "cell_type": "code",
   "execution_count": null,
   "metadata": {
    "colab": {},
    "colab_type": "code",
    "id": "re8N-CgYa6le"
   },
   "outputs": [],
   "source": [
    "text = ' '.join(library.book.sample(100).values)"
   ]
  },
  {
   "cell_type": "code",
   "execution_count": null,
   "metadata": {
    "colab": {},
    "colab_type": "code",
    "id": "mhJYoIjka6ll"
   },
   "outputs": [],
   "source": [
    "text = re.sub(r'\\s+', ' ', text) # Collapse spaces"
   ]
  },
  {
   "cell_type": "code",
   "execution_count": null,
   "metadata": {
    "colab": {
     "base_uri": "https://localhost:8080/",
     "height": 54
    },
    "colab_type": "code",
    "executionInfo": {
     "elapsed": 640,
     "status": "ok",
     "timestamp": 1549031022153,
     "user": {
      "displayName": "Rafael Alvarado",
      "photoUrl": "https://lh3.googleusercontent.com/-gvKWs7zR4JY/AAAAAAAAAAI/AAAAAAABqfk/Q8O12g6M_T4/s64/photo.jpg",
      "userId": "11010075019714369526"
     },
     "user_tz": 300
    },
    "id": "SJrU5pSHa6lv",
    "outputId": "1f088fbe-b91c-4787-8b0f-ad60eb14da26"
   },
   "outputs": [],
   "source": [
    "text"
   ]
  },
  {
   "cell_type": "markdown",
   "metadata": {
    "colab_type": "text",
    "id": "DCMmIPgBa6mC"
   },
   "source": [
    "### Generate messages from alphabet sampling"
   ]
  },
  {
   "cell_type": "code",
   "execution_count": null,
   "metadata": {
    "colab": {},
    "colab_type": "code",
    "id": "fGfEqwAsa6l4"
   },
   "outputs": [],
   "source": [
    "B = pd.Series(letters)"
   ]
  },
  {
   "cell_type": "code",
   "execution_count": null,
   "metadata": {
    "colab": {
     "base_uri": "https://localhost:8080/",
     "height": 34
    },
    "colab_type": "code",
    "executionInfo": {
     "elapsed": 456,
     "status": "ok",
     "timestamp": 1549031030448,
     "user": {
      "displayName": "Rafael Alvarado",
      "photoUrl": "https://lh3.googleusercontent.com/-gvKWs7zR4JY/AAAAAAAAAAI/AAAAAAABqfk/Q8O12g6M_T4/s64/photo.jpg",
      "userId": "11010075019714369526"
     },
     "user_tz": 300
    },
    "id": "gBBWF46Ga6mF",
    "outputId": "7c830220-187b-462d-e504-c89b2ec6c933"
   },
   "outputs": [],
   "source": [
    "B.sample(5, replace=True).str.cat()"
   ]
  },
  {
   "cell_type": "markdown",
   "metadata": {
    "colab_type": "text",
    "id": "vjbAq589a6mN",
    "toc-hr-collapsed": false
   },
   "source": [
    "## Create Big Babel"
   ]
  },
  {
   "cell_type": "code",
   "execution_count": null,
   "metadata": {
    "colab": {},
    "colab_type": "code",
    "id": "a1-BGAgra6mP",
    "toc-hr-collapsed": true
   },
   "outputs": [],
   "source": [
    "alpha = pd.Series('_ a b c d e f g h i j k l m n o p q r s t u v w x y z'.split()).str.replace('_',' ')"
   ]
  },
  {
   "cell_type": "code",
   "execution_count": null,
   "metadata": {
    "colab": {},
    "colab_type": "code",
    "id": "a1-BGAgra6mP",
    "toc-hr-collapsed": true
   },
   "outputs": [],
   "source": [
    "# alpha"
   ]
  },
  {
   "cell_type": "code",
   "execution_count": null,
   "metadata": {
    "colab": {},
    "colab_type": "code",
    "id": "a1-BGAgra6mP",
    "toc-hr-collapsed": true
   },
   "outputs": [],
   "source": [
    "def get_message(m_len = 10, weights=[]):\n",
    "    if len(weights) == 0:\n",
    "        p = 1/alpha.shape[0]\n",
    "        weights = [p for i in range(alpha.shape[0])]\n",
    "    msg = alpha.sample(m_len, replace=True, weights=weights).str.cat()\n",
    "    return msg\n",
    "\n",
    "def print_page(n_pages = 1, weights=[]):\n",
    "    for i in range(n_pages):\n",
    "        for i in range(40):\n",
    "            print(get_message(80, weights))\n",
    "        print()\n",
    "        print('-'*80)\n",
    "        print()"
   ]
  },
  {
   "cell_type": "code",
   "execution_count": null,
   "metadata": {
    "colab": {},
    "colab_type": "code",
    "id": "dhGq6-Yda6mW",
    "toc-hr-collapsed": true
   },
   "outputs": [],
   "source": [
    "print_page(2)"
   ]
  },
  {
   "cell_type": "markdown",
   "metadata": {
    "colab_type": "text",
    "id": "MOoxIda_a6mg",
    "toc-hr-collapsed": false
   },
   "source": [
    "## Add a Language Model from a Novel"
   ]
  },
  {
   "cell_type": "markdown",
   "metadata": {
    "colab_type": "text",
    "id": "RmzTXy2qa6mi",
    "toc-hr-collapsed": true
   },
   "source": [
    "### Parse text into characters"
   ]
  },
  {
   "cell_type": "code",
   "execution_count": null,
   "metadata": {
    "colab": {},
    "colab_type": "code",
    "id": "CF72yPC1a6mm",
    "toc-hr-collapsed": true
   },
   "outputs": [],
   "source": [
    "epub_file = '../2020-01-23/austen-persuasion.csv'\n",
    "text = pd.read_csv(epub_file).token_str.astype('str').str.lower()"
   ]
  },
  {
   "cell_type": "code",
   "execution_count": null,
   "metadata": {
    "colab": {},
    "colab_type": "code",
    "id": "CF72yPC1a6mm",
    "toc-hr-collapsed": true
   },
   "outputs": [],
   "source": [
    "# text"
   ]
  },
  {
   "cell_type": "code",
   "execution_count": null,
   "metadata": {
    "colab": {},
    "colab_type": "code",
    "id": "CF72yPC1a6mm",
    "toc-hr-collapsed": true
   },
   "outputs": [],
   "source": [
    "chars = pd.Series(list(text.str.cat(sep=' ')))"
   ]
  },
  {
   "cell_type": "code",
   "execution_count": null,
   "metadata": {
    "colab": {},
    "colab_type": "code",
    "id": "CF72yPC1a6mm",
    "toc-hr-collapsed": true
   },
   "outputs": [],
   "source": [
    "# chars"
   ]
  },
  {
   "cell_type": "code",
   "execution_count": null,
   "metadata": {
    "colab": {},
    "colab_type": "code",
    "id": "CF72yPC1a6mm",
    "toc-hr-collapsed": true
   },
   "outputs": [],
   "source": [
    "chars = chars[chars.isin(alpha)]"
   ]
  },
  {
   "cell_type": "code",
   "execution_count": null,
   "metadata": {
    "colab": {},
    "colab_type": "code",
    "id": "CF72yPC1a6mm",
    "toc-hr-collapsed": true
   },
   "outputs": [],
   "source": [
    "# chars"
   ]
  },
  {
   "cell_type": "markdown",
   "metadata": {
    "colab_type": "text",
    "id": "SOa4KOjla6mu",
    "toc-hr-collapsed": true
   },
   "source": [
    "### Create Unigram character language model"
   ]
  },
  {
   "cell_type": "code",
   "execution_count": null,
   "metadata": {
    "colab": {},
    "colab_type": "code",
    "id": "CF72yPC1a6mm",
    "toc-hr-collapsed": true
   },
   "outputs": [],
   "source": [
    "LM = chars.value_counts().to_frame().rename(columns={0:'n'})\n",
    "LM.index.name = 'char'"
   ]
  },
  {
   "cell_type": "code",
   "execution_count": null,
   "metadata": {
    "colab": {},
    "colab_type": "code",
    "id": "CF72yPC1a6mm",
    "toc-hr-collapsed": true
   },
   "outputs": [],
   "source": [
    "LM"
   ]
  },
  {
   "cell_type": "code",
   "execution_count": null,
   "metadata": {
    "colab": {},
    "colab_type": "code",
    "id": "CF72yPC1a6mm",
    "toc-hr-collapsed": true
   },
   "outputs": [],
   "source": [
    "LM['p'] = LM['n'] / LM['n'].sum()\n",
    "LM = LM.sort_index()"
   ]
  },
  {
   "cell_type": "code",
   "execution_count": null,
   "metadata": {
    "colab": {},
    "colab_type": "code",
    "id": "CF72yPC1a6mm",
    "toc-hr-collapsed": true
   },
   "outputs": [],
   "source": [
    "LM.sort_values('p', ascending=False)"
   ]
  },
  {
   "cell_type": "code",
   "execution_count": null,
   "metadata": {
    "colab": {
     "base_uri": "https://localhost:8080/",
     "height": 880
    },
    "colab_type": "code",
    "executionInfo": {
     "elapsed": 778,
     "status": "ok",
     "timestamp": 1549031115347,
     "user": {
      "displayName": "Rafael Alvarado",
      "photoUrl": "https://lh3.googleusercontent.com/-gvKWs7zR4JY/AAAAAAAAAAI/AAAAAAABqfk/Q8O12g6M_T4/s64/photo.jpg",
      "userId": "11010075019714369526"
     },
     "user_tz": 300
    },
    "id": "9AhzPdhFa6nK",
    "outputId": "b3c42708-68a8-4e37-bed6-67963a9a4c4b"
   },
   "outputs": [],
   "source": [
    "LM.p.sort_values().plot(kind='barh', figsize=(10,15));"
   ]
  },
  {
   "cell_type": "markdown",
   "metadata": {
    "colab_type": "text",
    "id": "UqVjw68ea6nS",
    "toc-hr-collapsed": true
   },
   "source": [
    "#### Generate text"
   ]
  },
  {
   "cell_type": "code",
   "execution_count": null,
   "metadata": {
    "colab": {},
    "colab_type": "code",
    "id": "2TND1o5Na6nU",
    "toc-hr-collapsed": true
   },
   "outputs": [],
   "source": [
    "weights = LM.p.values.tolist()"
   ]
  },
  {
   "cell_type": "code",
   "execution_count": null,
   "metadata": {
    "colab": {
     "base_uri": "https://localhost:8080/",
     "height": 769
    },
    "colab_type": "code",
    "executionInfo": {
     "elapsed": 567,
     "status": "ok",
     "timestamp": 1549031124258,
     "user": {
      "displayName": "Rafael Alvarado",
      "photoUrl": "https://lh3.googleusercontent.com/-gvKWs7zR4JY/AAAAAAAAAAI/AAAAAAABqfk/Q8O12g6M_T4/s64/photo.jpg",
      "userId": "11010075019714369526"
     },
     "user_tz": 300
    },
    "id": "GT2bvcWga6na",
    "outputId": "6f78503e-668f-444f-decd-cbbafdab01d8",
    "toc-hr-collapsed": true
   },
   "outputs": [],
   "source": [
    "print_page(1, weights)"
   ]
  },
  {
   "cell_type": "markdown",
   "metadata": {
    "colab_type": "text",
    "id": "KagqA-bLa6nj",
    "toc-hr-collapsed": true
   },
   "source": [
    "### Create Bigram Model"
   ]
  },
  {
   "cell_type": "code",
   "execution_count": null,
   "metadata": {
    "colab": {},
    "colab_type": "code",
    "id": "tXaRA76Ba6nl"
   },
   "outputs": [],
   "source": [
    "chars1 = chars.reset_index().rename(columns={'index':'offset', 0:'char'}).copy()"
   ]
  },
  {
   "cell_type": "code",
   "execution_count": null,
   "metadata": {
    "colab": {},
    "colab_type": "code",
    "id": "tXaRA76Ba6nl"
   },
   "outputs": [],
   "source": [
    "# chars1"
   ]
  },
  {
   "cell_type": "code",
   "execution_count": null,
   "metadata": {
    "colab": {},
    "colab_type": "code",
    "id": "tXaRA76Ba6nl"
   },
   "outputs": [],
   "source": [
    "chars1['offset_1'] = chars1.offset + 1"
   ]
  },
  {
   "cell_type": "code",
   "execution_count": null,
   "metadata": {
    "colab": {},
    "colab_type": "code",
    "id": "tXaRA76Ba6nl"
   },
   "outputs": [],
   "source": [
    "# chars1"
   ]
  },
  {
   "cell_type": "code",
   "execution_count": null,
   "metadata": {
    "colab": {},
    "colab_type": "code",
    "id": "tXaRA76Ba6nl"
   },
   "outputs": [],
   "source": [
    "bigrams = chars1.merge(chars1, how='inner', right_on='offset', left_on='offset_1')[['char_x', 'char_y']].fillna(' ')"
   ]
  },
  {
   "cell_type": "code",
   "execution_count": null,
   "metadata": {
    "colab": {},
    "colab_type": "code",
    "id": "tXaRA76Ba6nl"
   },
   "outputs": [],
   "source": [
    "bigrams"
   ]
  },
  {
   "cell_type": "code",
   "execution_count": null,
   "metadata": {
    "colab": {},
    "colab_type": "code",
    "id": "tXaRA76Ba6nl"
   },
   "outputs": [],
   "source": [
    "bigrams.head(10)"
   ]
  },
  {
   "cell_type": "code",
   "execution_count": null,
   "metadata": {
    "colab": {},
    "colab_type": "code",
    "id": "G2OFr1xWa6n_"
   },
   "outputs": [],
   "source": [
    "bigram_model = bigrams.groupby(['char_x', 'char_y']).char_y.count().to_frame().rename(columns={'char_y':'n'})"
   ]
  },
  {
   "cell_type": "code",
   "execution_count": null,
   "metadata": {
    "colab": {},
    "colab_type": "code",
    "id": "G2OFr1xWa6n_"
   },
   "outputs": [],
   "source": [
    "bigram_model"
   ]
  },
  {
   "cell_type": "code",
   "execution_count": null,
   "metadata": {
    "colab": {},
    "colab_type": "code",
    "id": "YfP5s0lLa6oR",
    "outputId": "b661c6a7-9272-40b6-a329-1bbfec952d8c"
   },
   "outputs": [],
   "source": [
    "bigram_model.loc['q']"
   ]
  },
  {
   "cell_type": "code",
   "execution_count": null,
   "metadata": {
    "colab": {},
    "colab_type": "code",
    "id": "4dCObUGMa6of",
    "outputId": "6c1d7fc9-8eea-4011-ba85-f615b02da286"
   },
   "outputs": [],
   "source": [
    "bigram_model.loc['t'].sort_values('n', ascending=False)"
   ]
  },
  {
   "cell_type": "code",
   "execution_count": null,
   "metadata": {
    "colab": {},
    "colab_type": "code",
    "id": "aNoRJofZa6o6"
   },
   "outputs": [],
   "source": [
    "bigram_model['p'] = bigram_model.groupby('char_x').apply(lambda x: x / x.sum())"
   ]
  },
  {
   "cell_type": "code",
   "execution_count": null,
   "metadata": {
    "colab": {},
    "colab_type": "code",
    "id": "qVWHZxFPa6pA",
    "outputId": "6ad53c9c-5407-413c-bdf0-f020246a29bc"
   },
   "outputs": [],
   "source": [
    "bigram_model.loc['q']"
   ]
  },
  {
   "cell_type": "code",
   "execution_count": null,
   "metadata": {
    "colab": {},
    "colab_type": "code",
    "id": "NxvnapmWa6pc"
   },
   "outputs": [],
   "source": [
    "BGM = bigram_model.p.unstack().fillna(0.00001)\n",
    "BGM.index.name = 'if'\n",
    "BGM.columns.name = 'then'"
   ]
  },
  {
   "cell_type": "code",
   "execution_count": null,
   "metadata": {
    "colab": {},
    "colab_type": "code",
    "id": "NxvnapmWa6pc"
   },
   "outputs": [],
   "source": [
    "BGM"
   ]
  },
  {
   "cell_type": "code",
   "execution_count": null,
   "metadata": {
    "colab": {},
    "colab_type": "code",
    "id": "97I928rTa6pi",
    "outputId": "09f25623-fd4f-47dc-dc41-3109b46450a1"
   },
   "outputs": [],
   "source": [
    "BGM.loc['q'].plot(kind='bar');"
   ]
  },
  {
   "cell_type": "code",
   "execution_count": null,
   "metadata": {
    "colab": {},
    "colab_type": "code",
    "id": "IqyjdB0ta6px",
    "outputId": "32bc9042-e607-44b9-dc88-aac3777f9de1"
   },
   "outputs": [],
   "source": [
    "BGM"
   ]
  },
  {
   "cell_type": "code",
   "execution_count": null,
   "metadata": {
    "colab": {},
    "colab_type": "code",
    "id": "qEFu-iNKa6p7",
    "outputId": "255221bb-4ebd-4f48-e21b-8295dfb6c474"
   },
   "outputs": [],
   "source": [
    "BGM.loc['q'].idxmax()"
   ]
  },
  {
   "cell_type": "markdown",
   "metadata": {
    "colab_type": "text",
    "id": "aYKNbehTa6qG"
   },
   "source": [
    "### Get entropy of characters as antecendents"
   ]
  },
  {
   "cell_type": "code",
   "execution_count": null,
   "metadata": {
    "colab": {},
    "colab_type": "code",
    "id": "93JtvnP7a6qJ"
   },
   "outputs": [],
   "source": [
    "import numpy as np"
   ]
  },
  {
   "cell_type": "code",
   "execution_count": null,
   "metadata": {
    "colab": {},
    "colab_type": "code",
    "id": "zCA1mNhfa6qR",
    "outputId": "b084247c-6d0e-4ca9-d0ce-5f993ce2b8c9"
   },
   "outputs": [],
   "source": [
    "BGM.apply(lambda x: -sum(x * np.log2(x)), 1).sort_values(ascending=False).plot(kind='barh', figsize=(10,10));"
   ]
  },
  {
   "cell_type": "markdown",
   "metadata": {
    "colab_type": "text",
    "id": "nBlWBB8oa6qb"
   },
   "source": [
    "#### Define function to sample a single letter"
   ]
  },
  {
   "cell_type": "code",
   "execution_count": null,
   "metadata": {
    "colab": {},
    "colab_type": "code",
    "id": "0A4EyK44a6qb"
   },
   "outputs": [],
   "source": [
    "def get_letter(weights=[]):\n",
    "    if len(weights) == 0:\n",
    "        p = 1/alpha.shape[0]\n",
    "        weights = [p for i in range(alpha.shape[0])]\n",
    "    msg = alpha.sample(1, replace=True, weights=weights).values[0]\n",
    "    return msg"
   ]
  },
  {
   "cell_type": "code",
   "execution_count": null,
   "metadata": {
    "colab": {},
    "colab_type": "code",
    "id": "K-NMuYz2a6qh",
    "outputId": "23fd2a99-1806-46c3-c97e-536bbc8a4cdd"
   },
   "outputs": [],
   "source": [
    "# Test\n",
    "get_letter(weights=BGM.loc['q'].values)"
   ]
  },
  {
   "cell_type": "markdown",
   "metadata": {
    "colab_type": "text",
    "id": "GFJO-qWfa6qo",
    "toc-hr-collapsed": true
   },
   "source": [
    "#### Generate text"
   ]
  },
  {
   "cell_type": "code",
   "execution_count": null,
   "metadata": {
    "colab": {},
    "colab_type": "code",
    "id": "gQyo_aVla6qr"
   },
   "outputs": [],
   "source": [
    "def print_page2(n_pages=1):\n",
    "    n = 80 * 40 * n_pages\n",
    "    ltrs = []\n",
    "    ltrs.append(get_letter())\n",
    "    for i in range(n):\n",
    "        ltrs.append(get_letter(weights=BGM.loc[ltrs[-1]].values))\n",
    "    txt = ''.join(ltrs)\n",
    "    lines = 0\n",
    "    for i in range(0, len(txt), 80):\n",
    "        print(txt[i:i + 80])\n",
    "        if i % 80 == 0:\n",
    "            lines += 1\n",
    "        if i > 0 and lines % 40 == 1:\n",
    "            print()\n",
    "            print('-' * 80)\n",
    "            print()"
   ]
  },
  {
   "cell_type": "code",
   "execution_count": null,
   "metadata": {
    "colab": {},
    "colab_type": "code",
    "id": "jadLMLWla6q1",
    "outputId": "2246510c-fbf3-488d-c961-83a136538c77"
   },
   "outputs": [],
   "source": [
    "print_page2(2)"
   ]
  },
  {
   "cell_type": "code",
   "execution_count": null,
   "metadata": {
    "colab": {},
    "colab_type": "code",
    "id": "0_WosKuOa6q9"
   },
   "outputs": [],
   "source": []
  }
 ],
 "metadata": {
  "colab": {
   "name": "babel.ipynb",
   "provenance": [],
   "toc_visible": true,
   "version": "0.3.2"
  },
  "kernelspec": {
   "display_name": "Python 3",
   "language": "python",
   "name": "python3"
  },
  "language_info": {
   "codemirror_mode": {
    "name": "ipython",
    "version": 3
   },
   "file_extension": ".py",
   "mimetype": "text/x-python",
   "name": "python",
   "nbconvert_exporter": "python",
   "pygments_lexer": "ipython3",
   "version": "3.8.3"
  },
  "latex_envs": {
   "LaTeX_envs_menu_present": true,
   "autoclose": false,
   "autocomplete": true,
   "bibliofile": "biblio.bib",
   "cite_by": "apalike",
   "current_citInitial": 1,
   "eqLabelWithNumbers": true,
   "eqNumInitial": 1,
   "hotkeys": {
    "equation": "Ctrl-E",
    "itemize": "Ctrl-I"
   },
   "labels_anchors": false,
   "latex_user_defs": false,
   "report_style_numbering": false,
   "user_envs_cfg": false
  },
  "toc": {
   "base_numbering": 1,
   "nav_menu": {},
   "number_sections": true,
   "sideBar": true,
   "skip_h1_title": true,
   "title_cell": "Table of Contents",
   "title_sidebar": "Contents",
   "toc_cell": false,
   "toc_position": {},
   "toc_section_display": true,
   "toc_window_display": true
  },
  "varInspector": {
   "cols": {
    "lenName": 16,
    "lenType": 16,
    "lenVar": 40
   },
   "kernels_config": {
    "python": {
     "delete_cmd_postfix": "",
     "delete_cmd_prefix": "del ",
     "library": "var_list.py",
     "varRefreshCmd": "print(var_dic_list())"
    },
    "r": {
     "delete_cmd_postfix": ") ",
     "delete_cmd_prefix": "rm(",
     "library": "var_list.r",
     "varRefreshCmd": "cat(var_dic_list()) "
    }
   },
   "types_to_exclude": [
    "module",
    "function",
    "builtin_function_or_method",
    "instance",
    "_Feature"
   ],
   "window_display": false
  },
  "widgets": {
   "application/vnd.jupyter.widget-state+json": {
    "state": {},
    "version_major": 2,
    "version_minor": 0
   }
  }
 },
 "nbformat": 4,
 "nbformat_minor": 4
}
