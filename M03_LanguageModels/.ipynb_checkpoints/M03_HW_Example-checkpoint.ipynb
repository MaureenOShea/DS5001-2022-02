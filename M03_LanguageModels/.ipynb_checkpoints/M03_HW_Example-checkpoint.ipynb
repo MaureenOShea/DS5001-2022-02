{
 "cells": [
  {
   "cell_type": "markdown",
   "id": "ebfe1cb4-f05b-4f7f-9280-7509a3984a83",
   "metadata": {},
   "source": [
    "# Metadata\n",
    "\n",
    "```\n",
    "Course:   DS 5001\n",
    "Module:   03 Lab\n",
    "Topic:    HW Example\n",
    "Author:   R.C. Alvarado\n",
    "```"
   ]
  },
  {
   "cell_type": "markdown",
   "id": "75ca82e2-ac73-4a95-b527-29886d4a524e",
   "metadata": {},
   "source": [
    "## Configure"
   ]
  },
  {
   "cell_type": "code",
   "execution_count": 1,
   "id": "9ec07311-696d-4514-a26d-95001fa19e45",
   "metadata": {},
   "outputs": [],
   "source": [
    "data_home = '../data'"
   ]
  },
  {
   "cell_type": "code",
   "execution_count": 2,
   "id": "111bd528-54b4-4d94-95f1-daaa3406b868",
   "metadata": {
    "colab": {},
    "colab_type": "code",
    "id": "Fb3ZsuIsDykn"
   },
   "outputs": [],
   "source": [
    "OHCO = ['book_id', 'chap_num', 'para_num', 'sent_num', 'token_num']\n",
    "text_file = f'../data/gutenberg/pg42324.txt' # Generated in HW 02"
   ]
  },
  {
   "cell_type": "code",
   "execution_count": 3,
   "id": "0d9f5163-86ca-4ee6-b11c-9964aecaf326",
   "metadata": {
    "tags": []
   },
   "outputs": [],
   "source": [
    "ngram_size = 3\n",
    "k = .5 # Add-k Smoothing parameter"
   ]
  },
  {
   "cell_type": "code",
   "execution_count": 4,
   "id": "ae5ac6f5-b619-46af-a073-c54179c1d1a4",
   "metadata": {
    "colab": {},
    "colab_type": "code",
    "id": "MwrVU8kZDykb"
   },
   "outputs": [],
   "source": [
    "import pandas as pd\n",
    "import numpy as np\n",
    "import matplotlib.pyplot as plt\n",
    "import seaborn as sns\n",
    "from IPython.core.display import HTML"
   ]
  },
  {
   "cell_type": "code",
   "execution_count": 5,
   "id": "42b7430e-57df-4bf9-aee8-51bc4f03f8ad",
   "metadata": {},
   "outputs": [],
   "source": [
    "import sys\n",
    "sys.path.append(\"../lib/\")"
   ]
  },
  {
   "cell_type": "code",
   "execution_count": 6,
   "id": "ba0b3853-6fac-4a41-99c6-50f39ef52004",
   "metadata": {},
   "outputs": [],
   "source": [
    "from textimporter import TextImporter"
   ]
  },
  {
   "cell_type": "code",
   "execution_count": 7,
   "id": "4f06882f-076e-4872-8d5e-8a0300640366",
   "metadata": {},
   "outputs": [],
   "source": [
    "ohco_pats = [\n",
    "    ('chap', r\"^\\s*(?:PREFACE\\.|LETTER |CHAPTER )\", 'm')\n",
    "]"
   ]
  },
  {
   "cell_type": "code",
   "execution_count": 8,
   "id": "048e77f2-3397-4634-b3cf-04c2fa068518",
   "metadata": {},
   "outputs": [],
   "source": [
    "clip_pats = [\n",
    "    r\"\\*\\*\\* START OF THIS PROJECT GUTENBERG EBOOK FRANKENSTEIN\",\n",
    "    r\"\\*\\*\\* END OF THIS PROJECT GUTENBERG EBOOK FRANKENSTEIN\"\n",
    "]"
   ]
  },
  {
   "cell_type": "code",
   "execution_count": 9,
   "id": "81d061cd-a701-47d4-9100-8570eca0bc23",
   "metadata": {},
   "outputs": [],
   "source": [
    "franky = TextImporter(\"../data/gutenberg/pg42324.txt\", ohco_pats=ohco_pats, clip_pats=clip_pats)"
   ]
  },
  {
   "cell_type": "code",
   "execution_count": 11,
   "id": "03e56552-3a60-4601-91a2-084e874f30e7",
   "metadata": {},
   "outputs": [
    {
     "name": "stdout",
     "output_type": "stream",
     "text": [
      "Importing  ../data/gutenberg/pg42324.txt\n",
      "Clipping text\n",
      "Parsing OHCO level 0 chap_id m by milestone ^\\s*(?:PREFACE\\.|LETTER |CHAPTER )\n",
      "line_str\n",
      "                                                  line_str  chap\n",
      "line_id                                                         \n",
      "272                                                            1\n",
      "273                                                            1\n",
      "274      The event on which this fiction is founded, ha...     1\n",
      "275      Darwin, and some of the physiological writers ...     1\n",
      "276      impossible occurrence. I shall not be supposed...     1\n",
      "...                                                    ...   ...\n",
      "7666                                                          29\n",
      "7667                                                          29\n",
      "7668                                                          29\n",
      "7669                                                          29\n",
      "7670     End of the Project Gutenberg EBook of Frankens...    29\n",
      "\n",
      "[7371 rows x 2 columns]\n",
      "                                               chap_str\n",
      "chap                                                   \n",
      "1     \\n\\nThe event on which this fiction is founded...\n",
      "2     \\n\\n_To Mrs. Saville, England._\\n\\nSt. Petersb...\n",
      "3     \\n\\n_To Mrs. Saville, England._\\n\\nArchangel, ...\n",
      "4     \\n\\n_To Mrs. Saville, England._\\n\\nMY DEAR SIS...\n",
      "5     \\n\\n_To Mrs. Saville, England._\\n\\nAugust 5th,...\n",
      "6     \\n\\nI am by birth a Genevese; and my family is...\n",
      "7     \\n\\nWe were brought up together; there was not...\n",
      "8     \\n\\nWhen I had attained the age of seventeen, ...\n",
      "9     \\n\\nFrom this day natural philosophy, and part...\n",
      "10    \\n\\nIt was on a dreary night of November, that...\n",
      "11    \\n\\nClerval then put the following letter into...\n",
      "12    \\nOn my return, I found the following letter f...\n",
      "13    \\n\\nWe passed a few sad hours, until eleven o'...\n",
      "14    \\n\\nNothing is more painful to the human mind,...\n",
      "15    \\n\\nI spent the following day roaming through ...\n",
      "16    \\n\\n\"It is with considerable difficulty that I...\n",
      "17    \\n\\n\"I lay on my straw, but I could not sleep....\n",
      "18    \\n\\n\"I now hasten to the more moving part of m...\n",
      "19    \\n\\n\"Some time elapsed before I learned the hi...\n",
      "20    \\n\\n\"Such was the history of my beloved cottag...\n",
      "21    \\n\\n\"Cursed, cursed creator! Why did I live? W...\n",
      "22    \\n\\nThe being finished speaking, and fixed his...\n",
      "23    \\n\\nDay after day, week after week, passed awa...\n",
      "24    \\n\\nLondon was our present point of rest; we d...\n",
      "25    \\n\\nI sat one evening in my laboratory; the su...\n",
      "26    \\n\\nI was soon introduced into the presence of...\n",
      "27    \\n\\nThe voyage came to an end. We landed, and ...\n",
      "28    \\n\\nIt was eight o'clock when we landed; we wa...\n",
      "29    \\n\\nMy present situation was one in which all ...\n",
      "Parsing OHCO level 1 para_num d by delimitter \\n\\n\n",
      "Parsing OHCO level 2 sent_num d by delimitter [.?!;:]+\n",
      "Parsing OHCO level 3 token_num d by delimitter [\\s',-]+\n"
     ]
    },
    {
     "data": {
      "text/plain": [
       "<textimporter.TextImporter at 0x7f9eb3acdd60>"
      ]
     },
     "execution_count": 11,
     "metadata": {},
     "output_type": "execute_result"
    }
   ],
   "source": [
    "franky.import_source().parse_tokens()"
   ]
  },
  {
   "cell_type": "code",
   "execution_count": 10,
   "id": "95d1d55e-30cb-4eb8-a4f6-740f6428330c",
   "metadata": {},
   "outputs": [
    {
     "name": "stdout",
     "output_type": "stream",
     "text": [
      "Importing  ../data/gutenberg/pg42324.txt\n",
      "Clipping text\n",
      "Parsing OHCO level 0 chap_id m by milestone ^\\s*(?:PREFACE\\.|LETTER |CHAPTER )\n",
      "line_str\n",
      "                                                  line_str  chap\n",
      "line_id                                                         \n",
      "272                                                            1\n",
      "273                                                            1\n",
      "274      The event on which this fiction is founded, ha...     1\n",
      "275      Darwin, and some of the physiological writers ...     1\n",
      "276      impossible occurrence. I shall not be supposed...     1\n",
      "...                                                    ...   ...\n",
      "7666                                                          29\n",
      "7667                                                          29\n",
      "7668                                                          29\n",
      "7669                                                          29\n",
      "7670     End of the Project Gutenberg EBook of Frankens...    29\n",
      "\n",
      "[7371 rows x 2 columns]\n",
      "                                               chap_str\n",
      "chap                                                   \n",
      "1     \\n\\nThe event on which this fiction is founded...\n",
      "2     \\n\\n_To Mrs. Saville, England._\\n\\nSt. Petersb...\n",
      "3     \\n\\n_To Mrs. Saville, England._\\n\\nArchangel, ...\n",
      "4     \\n\\n_To Mrs. Saville, England._\\n\\nMY DEAR SIS...\n",
      "5     \\n\\n_To Mrs. Saville, England._\\n\\nAugust 5th,...\n",
      "6     \\n\\nI am by birth a Genevese; and my family is...\n",
      "7     \\n\\nWe were brought up together; there was not...\n",
      "8     \\n\\nWhen I had attained the age of seventeen, ...\n",
      "9     \\n\\nFrom this day natural philosophy, and part...\n",
      "10    \\n\\nIt was on a dreary night of November, that...\n",
      "11    \\n\\nClerval then put the following letter into...\n",
      "12    \\nOn my return, I found the following letter f...\n",
      "13    \\n\\nWe passed a few sad hours, until eleven o'...\n",
      "14    \\n\\nNothing is more painful to the human mind,...\n",
      "15    \\n\\nI spent the following day roaming through ...\n",
      "16    \\n\\n\"It is with considerable difficulty that I...\n",
      "17    \\n\\n\"I lay on my straw, but I could not sleep....\n",
      "18    \\n\\n\"I now hasten to the more moving part of m...\n",
      "19    \\n\\n\"Some time elapsed before I learned the hi...\n",
      "20    \\n\\n\"Such was the history of my beloved cottag...\n",
      "21    \\n\\n\"Cursed, cursed creator! Why did I live? W...\n",
      "22    \\n\\nThe being finished speaking, and fixed his...\n",
      "23    \\n\\nDay after day, week after week, passed awa...\n",
      "24    \\n\\nLondon was our present point of rest; we d...\n",
      "25    \\n\\nI sat one evening in my laboratory; the su...\n",
      "26    \\n\\nI was soon introduced into the presence of...\n",
      "27    \\n\\nThe voyage came to an end. We landed, and ...\n",
      "28    \\n\\nIt was eight o'clock when we landed; we wa...\n",
      "29    \\n\\nMy present situation was one in which all ...\n",
      "Parsing OHCO level 1 para_num d by delimitter \\n\\n\n",
      "Parsing OHCO level 2 sent_num d by delimitter [.?!;:]+\n",
      "Parsing OHCO level 3 token_num d by delimitter [\\s',-]+\n"
     ]
    }
   ],
   "source": [
    ".extract_vocab();"
   ]
  },
  {
   "cell_type": "code",
   "execution_count": 11,
   "id": "ca8ac3cd-f319-438a-9407-eb485c989f8b",
   "metadata": {},
   "outputs": [
    {
     "data": {
      "text/html": [
       "<div>\n",
       "<style scoped>\n",
       "    .dataframe tbody tr th:only-of-type {\n",
       "        vertical-align: middle;\n",
       "    }\n",
       "\n",
       "    .dataframe tbody tr th {\n",
       "        vertical-align: top;\n",
       "    }\n",
       "\n",
       "    .dataframe thead th {\n",
       "        text-align: right;\n",
       "    }\n",
       "</style>\n",
       "<table border=\"1\" class=\"dataframe\">\n",
       "  <thead>\n",
       "    <tr style=\"text-align: right;\">\n",
       "      <th></th>\n",
       "      <th></th>\n",
       "      <th></th>\n",
       "      <th></th>\n",
       "      <th>token_str</th>\n",
       "      <th>term_str</th>\n",
       "    </tr>\n",
       "    <tr>\n",
       "      <th>chap_id</th>\n",
       "      <th>para_num</th>\n",
       "      <th>sent_num</th>\n",
       "      <th>token_num</th>\n",
       "      <th></th>\n",
       "      <th></th>\n",
       "    </tr>\n",
       "  </thead>\n",
       "  <tbody>\n",
       "    <tr>\n",
       "      <th rowspan=\"5\" valign=\"top\">1</th>\n",
       "      <th rowspan=\"5\" valign=\"top\">0</th>\n",
       "      <th rowspan=\"5\" valign=\"top\">0</th>\n",
       "      <th>0</th>\n",
       "      <td>The</td>\n",
       "      <td>the</td>\n",
       "    </tr>\n",
       "    <tr>\n",
       "      <th>1</th>\n",
       "      <td>event</td>\n",
       "      <td>event</td>\n",
       "    </tr>\n",
       "    <tr>\n",
       "      <th>2</th>\n",
       "      <td>on</td>\n",
       "      <td>on</td>\n",
       "    </tr>\n",
       "    <tr>\n",
       "      <th>3</th>\n",
       "      <td>which</td>\n",
       "      <td>which</td>\n",
       "    </tr>\n",
       "    <tr>\n",
       "      <th>4</th>\n",
       "      <td>this</td>\n",
       "      <td>this</td>\n",
       "    </tr>\n",
       "    <tr>\n",
       "      <th>...</th>\n",
       "      <th>...</th>\n",
       "      <th>...</th>\n",
       "      <th>...</th>\n",
       "      <td>...</td>\n",
       "      <td>...</td>\n",
       "    </tr>\n",
       "    <tr>\n",
       "      <th rowspan=\"5\" valign=\"top\">29</th>\n",
       "      <th rowspan=\"5\" valign=\"top\">88</th>\n",
       "      <th rowspan=\"4\" valign=\"top\">0</th>\n",
       "      <th>7</th>\n",
       "      <td>Frankenstein</td>\n",
       "      <td>frankenstein</td>\n",
       "    </tr>\n",
       "    <tr>\n",
       "      <th>8</th>\n",
       "      <td>by</td>\n",
       "      <td>by</td>\n",
       "    </tr>\n",
       "    <tr>\n",
       "      <th>9</th>\n",
       "      <td>Mary</td>\n",
       "      <td>mary</td>\n",
       "    </tr>\n",
       "    <tr>\n",
       "      <th>10</th>\n",
       "      <td>W</td>\n",
       "      <td>w</td>\n",
       "    </tr>\n",
       "    <tr>\n",
       "      <th>1</th>\n",
       "      <th>1</th>\n",
       "      <td>Shelley</td>\n",
       "      <td>shelley</td>\n",
       "    </tr>\n",
       "  </tbody>\n",
       "</table>\n",
       "<p>76359 rows × 2 columns</p>\n",
       "</div>"
      ],
      "text/plain": [
       "                                        token_str      term_str\n",
       "chap_id para_num sent_num token_num                            \n",
       "1       0        0        0                   The           the\n",
       "                          1                 event         event\n",
       "                          2                    on            on\n",
       "                          3                 which         which\n",
       "                          4                  this          this\n",
       "...                                           ...           ...\n",
       "29      88       0        7          Frankenstein  frankenstein\n",
       "                          8                    by            by\n",
       "                          9                  Mary          mary\n",
       "                          10                    W             w\n",
       "                 1        1               Shelley       shelley\n",
       "\n",
       "[76359 rows x 2 columns]"
      ]
     },
     "execution_count": 11,
     "metadata": {},
     "output_type": "execute_result"
    }
   ],
   "source": [
    "franky.TOKENS"
   ]
  },
  {
   "cell_type": "code",
   "execution_count": 12,
   "id": "2eb5a3cd-46e5-4c10-be5e-0f0cba6b28b3",
   "metadata": {},
   "outputs": [
    {
     "data": {
      "text/html": [
       "<div>\n",
       "<style scoped>\n",
       "    .dataframe tbody tr th:only-of-type {\n",
       "        vertical-align: middle;\n",
       "    }\n",
       "\n",
       "    .dataframe tbody tr th {\n",
       "        vertical-align: top;\n",
       "    }\n",
       "\n",
       "    .dataframe thead th {\n",
       "        text-align: right;\n",
       "    }\n",
       "</style>\n",
       "<table border=\"1\" class=\"dataframe\">\n",
       "  <thead>\n",
       "    <tr style=\"text-align: right;\">\n",
       "      <th></th>\n",
       "      <th>n</th>\n",
       "      <th>n_chars</th>\n",
       "      <th>p</th>\n",
       "      <th>s</th>\n",
       "      <th>i</th>\n",
       "      <th>h</th>\n",
       "    </tr>\n",
       "    <tr>\n",
       "      <th>term_str</th>\n",
       "      <th></th>\n",
       "      <th></th>\n",
       "      <th></th>\n",
       "      <th></th>\n",
       "      <th></th>\n",
       "      <th></th>\n",
       "    </tr>\n",
       "  </thead>\n",
       "  <tbody>\n",
       "    <tr>\n",
       "      <th>the</th>\n",
       "      <td>4252</td>\n",
       "      <td>3</td>\n",
       "      <td>0.055684</td>\n",
       "      <td>17.958373</td>\n",
       "      <td>4.166585</td>\n",
       "      <td>0.232013</td>\n",
       "    </tr>\n",
       "    <tr>\n",
       "      <th>and</th>\n",
       "      <td>2993</td>\n",
       "      <td>3</td>\n",
       "      <td>0.039196</td>\n",
       "      <td>25.512529</td>\n",
       "      <td>4.673134</td>\n",
       "      <td>0.183170</td>\n",
       "    </tr>\n",
       "    <tr>\n",
       "      <th>i</th>\n",
       "      <td>2861</td>\n",
       "      <td>1</td>\n",
       "      <td>0.037468</td>\n",
       "      <td>26.689619</td>\n",
       "      <td>4.738207</td>\n",
       "      <td>0.177530</td>\n",
       "    </tr>\n",
       "    <tr>\n",
       "      <th>of</th>\n",
       "      <td>2687</td>\n",
       "      <td>2</td>\n",
       "      <td>0.035189</td>\n",
       "      <td>28.417938</td>\n",
       "      <td>4.828730</td>\n",
       "      <td>0.169918</td>\n",
       "    </tr>\n",
       "    <tr>\n",
       "      <th>to</th>\n",
       "      <td>2123</td>\n",
       "      <td>2</td>\n",
       "      <td>0.027803</td>\n",
       "      <td>35.967499</td>\n",
       "      <td>5.168622</td>\n",
       "      <td>0.143703</td>\n",
       "    </tr>\n",
       "    <tr>\n",
       "      <th>...</th>\n",
       "      <td>...</td>\n",
       "      <td>...</td>\n",
       "      <td>...</td>\n",
       "      <td>...</td>\n",
       "      <td>...</td>\n",
       "      <td>...</td>\n",
       "    </tr>\n",
       "    <tr>\n",
       "      <th>intimated</th>\n",
       "      <td>1</td>\n",
       "      <td>9</td>\n",
       "      <td>0.000013</td>\n",
       "      <td>76359.000000</td>\n",
       "      <td>16.220511</td>\n",
       "      <td>0.000212</td>\n",
       "    </tr>\n",
       "    <tr>\n",
       "      <th>amend</th>\n",
       "      <td>1</td>\n",
       "      <td>5</td>\n",
       "      <td>0.000013</td>\n",
       "      <td>76359.000000</td>\n",
       "      <td>16.220511</td>\n",
       "      <td>0.000212</td>\n",
       "    </tr>\n",
       "    <tr>\n",
       "      <th>hadst</th>\n",
       "      <td>1</td>\n",
       "      <td>5</td>\n",
       "      <td>0.000013</td>\n",
       "      <td>76359.000000</td>\n",
       "      <td>16.220511</td>\n",
       "      <td>0.000212</td>\n",
       "    </tr>\n",
       "    <tr>\n",
       "      <th>openly</th>\n",
       "      <td>1</td>\n",
       "      <td>6</td>\n",
       "      <td>0.000013</td>\n",
       "      <td>76359.000000</td>\n",
       "      <td>16.220511</td>\n",
       "      <td>0.000212</td>\n",
       "    </tr>\n",
       "    <tr>\n",
       "      <th>daring</th>\n",
       "      <td>1</td>\n",
       "      <td>6</td>\n",
       "      <td>0.000013</td>\n",
       "      <td>76359.000000</td>\n",
       "      <td>16.220511</td>\n",
       "      <td>0.000212</td>\n",
       "    </tr>\n",
       "  </tbody>\n",
       "</table>\n",
       "<p>7039 rows × 6 columns</p>\n",
       "</div>"
      ],
      "text/plain": [
       "              n  n_chars         p             s          i         h\n",
       "term_str                                                             \n",
       "the        4252        3  0.055684     17.958373   4.166585  0.232013\n",
       "and        2993        3  0.039196     25.512529   4.673134  0.183170\n",
       "i          2861        1  0.037468     26.689619   4.738207  0.177530\n",
       "of         2687        2  0.035189     28.417938   4.828730  0.169918\n",
       "to         2123        2  0.027803     35.967499   5.168622  0.143703\n",
       "...         ...      ...       ...           ...        ...       ...\n",
       "intimated     1        9  0.000013  76359.000000  16.220511  0.000212\n",
       "amend         1        5  0.000013  76359.000000  16.220511  0.000212\n",
       "hadst         1        5  0.000013  76359.000000  16.220511  0.000212\n",
       "openly        1        6  0.000013  76359.000000  16.220511  0.000212\n",
       "daring        1        6  0.000013  76359.000000  16.220511  0.000212\n",
       "\n",
       "[7039 rows x 6 columns]"
      ]
     },
     "execution_count": 12,
     "metadata": {},
     "output_type": "execute_result"
    }
   ],
   "source": [
    "franky.VOCAB"
   ]
  },
  {
   "cell_type": "code",
   "execution_count": 19,
   "id": "dadbfa67-dee9-41db-b103-0ada7b044050",
   "metadata": {},
   "outputs": [],
   "source": [
    "sents = franky.gather_tokens(2).sent_str.to_list()"
   ]
  },
  {
   "cell_type": "code",
   "execution_count": 20,
   "id": "2ccbaffc-4aad-459d-ba69-0ece16a3129c",
   "metadata": {},
   "outputs": [],
   "source": [
    "vocab = franky.VOCAB.index.to_list()"
   ]
  },
  {
   "cell_type": "code",
   "execution_count": 22,
   "id": "97b54bee-91f7-49fc-9689-17b5bcb75ac9",
   "metadata": {},
   "outputs": [],
   "source": [
    "from langmod import NgramCounter, NgramLanguageModel"
   ]
  },
  {
   "cell_type": "code",
   "execution_count": null,
   "id": "d14bf333-6a42-4e91-9e6a-b2d1b813c256",
   "metadata": {},
   "outputs": [],
   "source": []
  }
 ],
 "metadata": {
  "kernelspec": {
   "display_name": "eta",
   "language": "python",
   "name": "eta"
  },
  "language_info": {
   "codemirror_mode": {
    "name": "ipython",
    "version": 3
   },
   "file_extension": ".py",
   "mimetype": "text/x-python",
   "name": "python",
   "nbconvert_exporter": "python",
   "pygments_lexer": "ipython3",
   "version": "3.8.3"
  },
  "widgets": {
   "application/vnd.jupyter.widget-state+json": {
    "state": {},
    "version_major": 2,
    "version_minor": 0
   }
  }
 },
 "nbformat": 4,
 "nbformat_minor": 5
}
