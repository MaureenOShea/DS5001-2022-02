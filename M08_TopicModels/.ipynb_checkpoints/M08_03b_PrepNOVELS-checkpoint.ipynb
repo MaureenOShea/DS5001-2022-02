{
 "cells": [
  {
   "cell_type": "markdown",
   "id": "28bd833e-3718-4fb3-a4da-55d77a95bbca",
   "metadata": {},
   "source": [
    "# Metadata\n",
    "\n",
    "```\n",
    "Course:   DS 5001\n",
    "Module:   08 HW\n",
    "Topic:    Prepare Novels Corpus for LDA\n",
    "Author:   R.C. Alvarado\n",
    "```"
   ]
  },
  {
   "cell_type": "markdown",
   "id": "f2276245-1902-4018-816d-302f4edeb59e",
   "metadata": {
    "tags": []
   },
   "source": [
    "# Set Up"
   ]
  },
  {
   "cell_type": "code",
   "execution_count": 29,
   "id": "b1924313-2df8-4705-a41f-9ca74114c540",
   "metadata": {},
   "outputs": [],
   "source": [
    "data_home = '../data'\n",
    "local_lib = '../lib'\n",
    "data_prefix = 'novels'\n",
    "OHCO = ['book_id', 'chap_id', 'para_num', 'sent_num', 'token_num']"
   ]
  },
  {
   "cell_type": "code",
   "execution_count": 2,
   "id": "d5ce515b-3f63-4456-b012-e3c8d68be807",
   "metadata": {},
   "outputs": [],
   "source": [
    "import pandas as pd\n",
    "import numpy as np\n",
    "from tqdm import tqdm\n",
    "from nltk.tag import StanfordPOSTagger"
   ]
  },
  {
   "cell_type": "markdown",
   "id": "9a5aac09-95ef-4171-bab3-800c92d4d445",
   "metadata": {},
   "source": [
    "# Get the Data"
   ]
  },
  {
   "cell_type": "code",
   "execution_count": 3,
   "id": "c09d26da-7ebc-436e-883f-519fb3936ae8",
   "metadata": {},
   "outputs": [],
   "source": [
    "CORPUS = pd.read_csv(f'{data_home}/{data_prefix}/{data_prefix}-CORPUS.csv').set_index(OHCO)"
   ]
  },
  {
   "cell_type": "code",
   "execution_count": 65,
   "id": "ccbca204-9f3f-4374-99f8-da7efa5f152b",
   "metadata": {},
   "outputs": [
    {
     "data": {
      "text/html": [
       "<div>\n",
       "<style scoped>\n",
       "    .dataframe tbody tr th:only-of-type {\n",
       "        vertical-align: middle;\n",
       "    }\n",
       "\n",
       "    .dataframe tbody tr th {\n",
       "        vertical-align: top;\n",
       "    }\n",
       "\n",
       "    .dataframe thead th {\n",
       "        text-align: right;\n",
       "    }\n",
       "</style>\n",
       "<table border=\"1\" class=\"dataframe\">\n",
       "  <thead>\n",
       "    <tr style=\"text-align: right;\">\n",
       "      <th></th>\n",
       "      <th></th>\n",
       "      <th></th>\n",
       "      <th></th>\n",
       "      <th></th>\n",
       "      <th>pos</th>\n",
       "      <th>term_str</th>\n",
       "    </tr>\n",
       "    <tr>\n",
       "      <th>book_id</th>\n",
       "      <th>chap_id</th>\n",
       "      <th>para_num</th>\n",
       "      <th>sent_num</th>\n",
       "      <th>token_num</th>\n",
       "      <th></th>\n",
       "      <th></th>\n",
       "    </tr>\n",
       "  </thead>\n",
       "  <tbody>\n",
       "    <tr>\n",
       "      <th rowspan=\"5\" valign=\"top\">secretadversary</th>\n",
       "      <th rowspan=\"5\" valign=\"top\">1</th>\n",
       "      <th rowspan=\"4\" valign=\"top\">0</th>\n",
       "      <th rowspan=\"4\" valign=\"top\">1</th>\n",
       "      <th>0</th>\n",
       "      <td>DT</td>\n",
       "      <td>the</td>\n",
       "    </tr>\n",
       "    <tr>\n",
       "      <th>1</th>\n",
       "      <td>NNP</td>\n",
       "      <td>young</td>\n",
       "    </tr>\n",
       "    <tr>\n",
       "      <th>2</th>\n",
       "      <td>NNP</td>\n",
       "      <td>adventurers</td>\n",
       "    </tr>\n",
       "    <tr>\n",
       "      <th>3</th>\n",
       "      <td>NNP</td>\n",
       "      <td>ltd</td>\n",
       "    </tr>\n",
       "    <tr>\n",
       "      <th>1</th>\n",
       "      <th>0</th>\n",
       "      <th>0</th>\n",
       "      <td>JJ</td>\n",
       "      <td>tommy</td>\n",
       "    </tr>\n",
       "  </tbody>\n",
       "</table>\n",
       "</div>"
      ],
      "text/plain": [
       "                                                     pos     term_str\n",
       "book_id         chap_id para_num sent_num token_num                  \n",
       "secretadversary 1       0        1        0           DT          the\n",
       "                                          1          NNP        young\n",
       "                                          2          NNP  adventurers\n",
       "                                          3          NNP          ltd\n",
       "                        1        0        0           JJ        tommy"
      ]
     },
     "execution_count": 65,
     "metadata": {},
     "output_type": "execute_result"
    }
   ],
   "source": [
    "CORPUS.head()"
   ]
  },
  {
   "cell_type": "markdown",
   "id": "6a1ab82b-c208-4f48-b290-8846912f6fc8",
   "metadata": {},
   "source": [
    "# Gather Sentences "
   ]
  },
  {
   "cell_type": "code",
   "execution_count": 4,
   "id": "e03e37ae-42c4-4a0e-9f1c-d20400cf6476",
   "metadata": {},
   "outputs": [],
   "source": [
    "SENTS = CORPUS.groupby(OHCO[:-1]).term_str.apply(lambda x: x.str.cat(sep=' '))"
   ]
  },
  {
   "cell_type": "code",
   "execution_count": 66,
   "id": "da437dff-8031-4219-9186-8e4a0ff7bb7a",
   "metadata": {},
   "outputs": [
    {
     "data": {
      "text/plain": [
       "book_id     chap_id  para_num  sent_num\n",
       "adventures  1        0         1                                        a scandal in bohemia\n",
       "                     1         0                                                           i\n",
       "                     2         0                  to sherlock holmes she is always the woman\n",
       "                               1           i have seldom heard him mention her under any ...\n",
       "                               2           in his eyes she eclipses and predominates the ...\n",
       "Name: term_str, dtype: object"
      ]
     },
     "execution_count": 66,
     "metadata": {},
     "output_type": "execute_result"
    }
   ],
   "source": [
    "SENTS.head()"
   ]
  },
  {
   "cell_type": "markdown",
   "id": "b8fe0532-d99a-4536-bb28-6d46a938fe54",
   "metadata": {
    "tags": []
   },
   "source": [
    "# Use Stanford POS Tagger"
   ]
  },
  {
   "cell_type": "markdown",
   "id": "b5fb74e6-f7d4-4ec9-91a5-2b9ece17c26f",
   "metadata": {},
   "source": [
    "## Method 1: Command Line"
   ]
  },
  {
   "cell_type": "code",
   "execution_count": 30,
   "id": "d540c60b-5179-42f9-bf2a-779fa2923ec2",
   "metadata": {},
   "outputs": [],
   "source": [
    "# with open(f'{data_home}/output/novels-stanford.csv', 'w') as outfile:\n",
    "#     outfile.write('\\n'.join(SENTS.values))"
   ]
  },
  {
   "cell_type": "code",
   "execution_count": null,
   "id": "84c493d2-62b3-452c-b622-7e0c242c6af9",
   "metadata": {},
   "outputs": [],
   "source": [
    "# java -Xmx5g edu.stanford.nlp.pipeline.StanfordCoreNLP -file <FILENAME>"
   ]
  },
  {
   "cell_type": "markdown",
   "id": "818f41c4-e15f-4732-b66c-7011fee1553c",
   "metadata": {},
   "source": [
    "## Method 2: Python Library to CoreNLP Server"
   ]
  },
  {
   "cell_type": "code",
   "execution_count": 5,
   "id": "98728de1-adf5-404f-a889-3cab55c01dc2",
   "metadata": {},
   "outputs": [],
   "source": [
    "from nltk.parse import CoreNLPParser\n",
    "\n",
    "def tag_sents(SENTS):\n",
    "\n",
    "    pos_tagger = CoreNLPParser(url='http://localhost:9000', tagtype='pos')\n",
    "\n",
    "    input_sents = [sent.split() for sent in SENTS.values]\n",
    "    parsed_sents = [pos_tagger.tag(sent) for sent in tqdm(input_sents)]\n",
    "\n",
    "    TOKEN = pd.DataFrame(parsed_sents, index=SENTS.index).stack().to_frame()\n",
    "    TOKEN.index.names = OHCO\n",
    "    TOKEN['term_str'] = TOKEN[0].apply(lambda x: x[0], 1)\n",
    "    TOKEN['pos'] = TOKEN[0].apply(lambda x: x[1], 1)\n",
    "    TOKEN = TOKEN.iloc[:, 1:] # Drop first col\n",
    "    \n",
    "    return TOKEN"
   ]
  },
  {
   "cell_type": "code",
   "execution_count": 8,
   "id": "a28a5f84-70b8-4a11-8934-76e155eee6b8",
   "metadata": {},
   "outputs": [
    {
     "name": "stderr",
     "output_type": "stream",
     "text": [
      "100%|███████████████████████████████████████████████████████████████████████████| 84282/84282 [06:16<00:00, 224.14it/s]\n"
     ]
    }
   ],
   "source": [
    "# TOKENS = tag_sents(SENTS)"
   ]
  },
  {
   "cell_type": "code",
   "execution_count": 67,
   "id": "eb8662f4-2b89-4367-9cae-368df1424088",
   "metadata": {},
   "outputs": [
    {
     "data": {
      "image/png": "[encoded data removed]",
      "text/plain": [
       "<Figure size 360x1080 with 1 Axes>"
      ]
     },
     "metadata": {
      "needs_background": "light"
     },
     "output_type": "display_data"
    }
   ],
   "source": [
    "TOKENS.pos.value_counts(ascending=True).plot.barh(figsize=(5,15));"
   ]
  },
  {
   "cell_type": "code",
   "execution_count": 23,
   "id": "7723e695-5e09-4fdb-a907-0dc89926fb50",
   "metadata": {},
   "outputs": [],
   "source": [
    "# BOW = TOKENS.value_counts('term_str').to_frame('n')"
   ]
  },
  {
   "cell_type": "code",
   "execution_count": 86,
   "id": "811fbce8-7fba-444c-94ef-e143d586c335",
   "metadata": {},
   "outputs": [],
   "source": [
    "# BOW"
   ]
  },
  {
   "cell_type": "code",
   "execution_count": 45,
   "id": "1a7be91d-4101-4681-a6e5-27025bbaf8b8",
   "metadata": {},
   "outputs": [],
   "source": [
    "NOUNS = TOKENS[TOKENS.pos.isin(['NN','NNS'])]"
   ]
  },
  {
   "cell_type": "markdown",
   "id": "7bf23158-0530-481e-9467-9865099f5a5e",
   "metadata": {
    "tags": []
   },
   "source": [
    "# Prepare MALLET Source File\n",
    "\n",
    "* No need to use `ant` to install MALLET!\n",
    "* Just download and unzip.\n",
    "* Use Mazo as a wrapper to get started. https://github.com/ontoligent/mazo"
   ]
  },
  {
   "cell_type": "code",
   "execution_count": 40,
   "id": "3136e29e-a076-4d80-8fdc-41c1956d376f",
   "metadata": {},
   "outputs": [],
   "source": [
    "def tokens_to_mallet(TOKENS, bag_level=2, label_col=None):\n",
    "    MALLET = TOKENS.groupby(OHCO[:bag_level]).term_str.apply(lambda x: x.str.cat(sep=' ')).to_frame('doc_str').reset_index()\n",
    "    MALLET = MALLET[[label_col, 'doc_str']]\n",
    "    MALLET.index.name = 'doc_id'\n",
    "    return MALLET"
   ]
  },
  {
   "cell_type": "code",
   "execution_count": 46,
   "id": "1db372a7-7ef5-4b5b-aaa3-2aba9d2d9a32",
   "metadata": {},
   "outputs": [],
   "source": [
    "mallet = tokens_to_mallet(NOUNS, 2, 'book_id')"
   ]
  },
  {
   "cell_type": "code",
   "execution_count": 49,
   "id": "51a32b05-68d4-467d-8b09-51dc569d8402",
   "metadata": {},
   "outputs": [],
   "source": [
    "mallet.to_csv(f\"./mazo/corpus/{data_prefix}-corpus.csv\", index=True, sep=',')"
   ]
  },
  {
   "cell_type": "code",
   "execution_count": 68,
   "id": "9564bc75-be57-4d27-b7f3-0eff589b5db7",
   "metadata": {},
   "outputs": [
    {
     "data": {
      "text/html": [
       "<div>\n",
       "<style scoped>\n",
       "    .dataframe tbody tr th:only-of-type {\n",
       "        vertical-align: middle;\n",
       "    }\n",
       "\n",
       "    .dataframe tbody tr th {\n",
       "        vertical-align: top;\n",
       "    }\n",
       "\n",
       "    .dataframe thead th {\n",
       "        text-align: right;\n",
       "    }\n",
       "</style>\n",
       "<table border=\"1\" class=\"dataframe\">\n",
       "  <thead>\n",
       "    <tr style=\"text-align: right;\">\n",
       "      <th></th>\n",
       "      <th>book_id</th>\n",
       "      <th>doc_str</th>\n",
       "    </tr>\n",
       "    <tr>\n",
       "      <th>doc_id</th>\n",
       "      <th></th>\n",
       "      <th></th>\n",
       "    </tr>\n",
       "  </thead>\n",
       "  <tbody>\n",
       "    <tr>\n",
       "      <th>0</th>\n",
       "      <td>adventures</td>\n",
       "      <td>scandal bohemia sherlock holmes woman name eye...</td>\n",
       "    </tr>\n",
       "    <tr>\n",
       "      <th>1</th>\n",
       "      <td>adventures</td>\n",
       "      <td>league friend mr sherlock day autumn year conv...</td>\n",
       "    </tr>\n",
       "    <tr>\n",
       "      <th>2</th>\n",
       "      <td>adventures</td>\n",
       "      <td>case identity fellow side fire lodgings baker ...</td>\n",
       "    </tr>\n",
       "    <tr>\n",
       "      <th>3</th>\n",
       "      <td>adventures</td>\n",
       "      <td>boscombe valley mystery breakfast morning wife...</td>\n",
       "    </tr>\n",
       "    <tr>\n",
       "      <th>4</th>\n",
       "      <td>adventures</td>\n",
       "      <td>pips glance notes records sherlock cases years...</td>\n",
       "    </tr>\n",
       "    <tr>\n",
       "      <th>...</th>\n",
       "      <td>...</td>\n",
       "      <td>...</td>\n",
       "    </tr>\n",
       "    <tr>\n",
       "      <th>315</th>\n",
       "      <td>udolpho</td>\n",
       "      <td>deeds troubles minds deaf pillows discharge se...</td>\n",
       "    </tr>\n",
       "    <tr>\n",
       "      <th>316</th>\n",
       "      <td>udolpho</td>\n",
       "      <td>cases judgment instructions return plague inve...</td>\n",
       "    </tr>\n",
       "    <tr>\n",
       "      <th>317</th>\n",
       "      <td>udolpho</td>\n",
       "      <td>viii tears cheek honey dew gatherd lily shakes...</td>\n",
       "    </tr>\n",
       "    <tr>\n",
       "      <th>318</th>\n",
       "      <td>udolpho</td>\n",
       "      <td>ix task end bowd welkin doth bend corners moon...</td>\n",
       "    </tr>\n",
       "    <tr>\n",
       "      <th>319</th>\n",
       "      <td>usher</td>\n",
       "      <td>fall house usher son coeur touche whole dark d...</td>\n",
       "    </tr>\n",
       "  </tbody>\n",
       "</table>\n",
       "<p>320 rows × 2 columns</p>\n",
       "</div>"
      ],
      "text/plain": [
       "           book_id                                            doc_str\n",
       "doc_id                                                               \n",
       "0       adventures  scandal bohemia sherlock holmes woman name eye...\n",
       "1       adventures  league friend mr sherlock day autumn year conv...\n",
       "2       adventures  case identity fellow side fire lodgings baker ...\n",
       "3       adventures  boscombe valley mystery breakfast morning wife...\n",
       "4       adventures  pips glance notes records sherlock cases years...\n",
       "...            ...                                                ...\n",
       "315        udolpho  deeds troubles minds deaf pillows discharge se...\n",
       "316        udolpho  cases judgment instructions return plague inve...\n",
       "317        udolpho  viii tears cheek honey dew gatherd lily shakes...\n",
       "318        udolpho  ix task end bowd welkin doth bend corners moon...\n",
       "319          usher  fall house usher son coeur touche whole dark d...\n",
       "\n",
       "[320 rows x 2 columns]"
      ]
     },
     "execution_count": 68,
     "metadata": {},
     "output_type": "execute_result"
    }
   ],
   "source": [
    "mallet"
   ]
  },
  {
   "cell_type": "code",
   "execution_count": 52,
   "id": "79c995fd-d5e0-4080-ab68-78aee97b71d9",
   "metadata": {},
   "outputs": [
    {
     "data": {
      "text/plain": [
       "320"
      ]
     },
     "execution_count": 52,
     "metadata": {},
     "output_type": "execute_result"
    }
   ],
   "source": [
    "len(mallet)"
   ]
  },
  {
   "cell_type": "code",
   "execution_count": 51,
   "id": "b02b5605-3b0c-4b48-9ccf-4577720585ed",
   "metadata": {},
   "outputs": [
    {
     "name": "stdout",
     "output_type": "stream",
     "text": [
      "     321\n"
     ]
    }
   ],
   "source": [
    "!more mazo/corpus/novels-corpus.csv | wc -l"
   ]
  },
  {
   "cell_type": "markdown",
   "id": "fa2b9946-1786-4c78-b8b6-9aeba27974bd",
   "metadata": {
    "tags": []
   },
   "source": [
    "# Run MALLET\n",
    "\n",
    "From within `/mazo`, do something like : `python mazo.py novels 40`"
   ]
  },
  {
   "cell_type": "markdown",
   "id": "37326746-32ef-4624-944c-c5f28a1f1846",
   "metadata": {
    "tags": []
   },
   "source": [
    "# Explore MALLET Results"
   ]
  },
  {
   "cell_type": "code",
   "execution_count": 55,
   "id": "39812ba7-e095-4a7e-8743-29286612752c",
   "metadata": {},
   "outputs": [],
   "source": [
    "from glob import glob"
   ]
  },
  {
   "cell_type": "code",
   "execution_count": 56,
   "id": "28e1f11c-72a2-4172-9463-4fff2b118a59",
   "metadata": {},
   "outputs": [],
   "source": [
    "# model_path = \"novels-60-1648480527812683\"\n",
    "# model_path = \"novels-40-16484946450974112\"\n",
    "model_path = \"novels-40-1648752368250535\""
   ]
  },
  {
   "cell_type": "code",
   "execution_count": 270,
   "id": "bcc52462-7554-401b-ae60-10a7afb96879",
   "metadata": {},
   "outputs": [
    {
     "name": "stdout",
     "output_type": "stream",
     "text": [
      "DOC.csv               TOPIC.csv             TOPICWORD_NARROW.csv\n",
      "DOCTOPIC.csv          TOPICPHRASE.csv       TOPICWORD_WEIGHTS.csv\n",
      "DOCTOPIC_NARROW.csv   TOPICWORD.csv         VOCAB.csv\n",
      "DOCWORD.csv           TOPICWORD_DIAGS.csv\n"
     ]
    }
   ],
   "source": [
    "!ls _HIDE/{model_path}/tables"
   ]
  },
  {
   "cell_type": "code",
   "execution_count": 227,
   "id": "bb521ea5-7f8f-4c78-b055-ac085fb652ed",
   "metadata": {},
   "outputs": [],
   "source": [
    "db_schema = dict(\n",
    "    TOPIC = ['topic_id'],\n",
    "    TOPICWORD_DIAGS = ['topic_id','word_id'],\n",
    "    TOPICPHRASE = ['topic_id'],\n",
    "    DOCTOPIC_NARROW = ['doc_id','topic_id'],\n",
    "    VOCAB = ['word_id'],\n",
    "    DOCTOPIC = ['doc_id'],\n",
    "    TOPICWORD = ['word_id'],\n",
    "    TOPICWORD_WEIGHTS = ['topic_id', 'word_str'],\n",
    "    TOPICWORD_NARROW = ['word_id', 'topic_id'],\n",
    "    DOCWORD = ['doc_id'],\n",
    "    DOC = ['doc_id']\n",
    ")"
   ]
  },
  {
   "cell_type": "code",
   "execution_count": 230,
   "id": "d1e3c6b3-2343-4528-8102-e36a35501a03",
   "metadata": {},
   "outputs": [],
   "source": [
    "class TM(): pass\n",
    "tm = TM()\n",
    "for file_name in glob(f\"_HIDE/{model_path}/tables/*.csv\"):\n",
    "    table_name = file_name.split('/')[-1].split('.')[0]\n",
    "    setattr(tm, table_name, pd.read_csv(file_name).set_index(db_schema[table_name]))"
   ]
  },
  {
   "cell_type": "code",
   "execution_count": 296,
   "id": "8fecea7f-2350-49da-b03f-ca8445798b5d",
   "metadata": {},
   "outputs": [],
   "source": [
    "tm.TOPIC['top_phrases'] = tm.TOPICPHRASE.groupby('topic_id').topic_phrase.apply(lambda x: x.str.cat(sep=', ')[:80])\n",
    "tm.TOPIC['label'] = tm.TOPIC.apply(lambda x: f\"{x.name}: {x.topic_words}\", 1)"
   ]
  },
  {
   "cell_type": "code",
   "execution_count": 297,
   "id": "ab3c3a12-4ce8-4d22-9874-47c70daf5610",
   "metadata": {},
   "outputs": [
    {
     "data": {
      "image/png": "[encoded data removed]",
      "text/plain": [
       "<Figure size 360x1440 with 1 Axes>"
      ]
     },
     "metadata": {
      "needs_background": "light"
     },
     "output_type": "display_data"
    }
   ],
   "source": [
    "tm.TOPIC.reset_index().set_index('label').topic_alpha.sort_values().plot.barh(figsize=(5,20));"
   ]
  },
  {
   "cell_type": "markdown",
   "id": "b435a5fd-c97e-4a72-a382-71b52217c91d",
   "metadata": {
    "tags": []
   },
   "source": [
    "# Save"
   ]
  },
  {
   "cell_type": "code",
   "execution_count": null,
   "id": "230a141d-65ba-40cf-a9a1-7600ea1aace3",
   "metadata": {},
   "outputs": [],
   "source": [
    "TOKEN.to_csv(\"../data/novels/novels-CORPUS_STANFORD.csv\", index=True, sep=',')"
   ]
  },
  {
   "cell_type": "markdown",
   "id": "226c3c37-2f4c-45fe-b8e6-adf3b7ee581b",
   "metadata": {
    "tags": []
   },
   "source": [
    "# Experiment"
   ]
  },
  {
   "cell_type": "code",
   "execution_count": 241,
   "id": "71e312a8-60f3-43fb-886a-a9dba78d9bcf",
   "metadata": {},
   "outputs": [],
   "source": [
    "PHI = tm.TOPICWORD.join(tm.VOCAB).set_index('word_str').sort_index()\n",
    "PHI.index.name = 'term_str'"
   ]
  },
  {
   "cell_type": "code",
   "execution_count": 242,
   "id": "55f8ca9a-74f7-4f92-8e08-4e4b0cd74661",
   "metadata": {},
   "outputs": [
    {
     "data": {
      "text/html": [
       "<div>\n",
       "<style scoped>\n",
       "    .dataframe tbody tr th:only-of-type {\n",
       "        vertical-align: middle;\n",
       "    }\n",
       "\n",
       "    .dataframe tbody tr th {\n",
       "        vertical-align: top;\n",
       "    }\n",
       "\n",
       "    .dataframe thead th {\n",
       "        text-align: right;\n",
       "    }\n",
       "</style>\n",
       "<table border=\"1\" class=\"dataframe\">\n",
       "  <thead>\n",
       "    <tr style=\"text-align: right;\">\n",
       "      <th></th>\n",
       "      <th>0</th>\n",
       "      <th>1</th>\n",
       "      <th>2</th>\n",
       "      <th>3</th>\n",
       "      <th>4</th>\n",
       "      <th>5</th>\n",
       "      <th>6</th>\n",
       "      <th>7</th>\n",
       "      <th>8</th>\n",
       "      <th>9</th>\n",
       "      <th>...</th>\n",
       "      <th>30</th>\n",
       "      <th>31</th>\n",
       "      <th>32</th>\n",
       "      <th>33</th>\n",
       "      <th>34</th>\n",
       "      <th>35</th>\n",
       "      <th>36</th>\n",
       "      <th>37</th>\n",
       "      <th>38</th>\n",
       "      <th>39</th>\n",
       "    </tr>\n",
       "    <tr>\n",
       "      <th>term_str</th>\n",
       "      <th></th>\n",
       "      <th></th>\n",
       "      <th></th>\n",
       "      <th></th>\n",
       "      <th></th>\n",
       "      <th></th>\n",
       "      <th></th>\n",
       "      <th></th>\n",
       "      <th></th>\n",
       "      <th></th>\n",
       "      <th></th>\n",
       "      <th></th>\n",
       "      <th></th>\n",
       "      <th></th>\n",
       "      <th></th>\n",
       "      <th></th>\n",
       "      <th></th>\n",
       "      <th></th>\n",
       "      <th></th>\n",
       "      <th></th>\n",
       "      <th></th>\n",
       "    </tr>\n",
       "  </thead>\n",
       "  <tbody>\n",
       "    <tr>\n",
       "      <th>aback</th>\n",
       "      <td>0.000000</td>\n",
       "      <td>0.000133</td>\n",
       "      <td>0.000000</td>\n",
       "      <td>0.0000</td>\n",
       "      <td>0.0</td>\n",
       "      <td>0.0</td>\n",
       "      <td>0.000000</td>\n",
       "      <td>0.000000</td>\n",
       "      <td>0.0</td>\n",
       "      <td>0.0</td>\n",
       "      <td>...</td>\n",
       "      <td>0.0</td>\n",
       "      <td>0.0</td>\n",
       "      <td>0.0</td>\n",
       "      <td>0.0</td>\n",
       "      <td>0.0</td>\n",
       "      <td>0.000105</td>\n",
       "      <td>0.000000</td>\n",
       "      <td>0.000000</td>\n",
       "      <td>0.000000</td>\n",
       "      <td>0.0</td>\n",
       "    </tr>\n",
       "    <tr>\n",
       "      <th>abaft</th>\n",
       "      <td>0.000371</td>\n",
       "      <td>0.000000</td>\n",
       "      <td>0.000000</td>\n",
       "      <td>0.0000</td>\n",
       "      <td>0.0</td>\n",
       "      <td>0.0</td>\n",
       "      <td>0.000000</td>\n",
       "      <td>0.000000</td>\n",
       "      <td>0.0</td>\n",
       "      <td>0.0</td>\n",
       "      <td>...</td>\n",
       "      <td>0.0</td>\n",
       "      <td>0.0</td>\n",
       "      <td>0.0</td>\n",
       "      <td>0.0</td>\n",
       "      <td>0.0</td>\n",
       "      <td>0.000000</td>\n",
       "      <td>0.000000</td>\n",
       "      <td>0.000000</td>\n",
       "      <td>0.000000</td>\n",
       "      <td>0.0</td>\n",
       "    </tr>\n",
       "    <tr>\n",
       "      <th>abandon</th>\n",
       "      <td>0.000000</td>\n",
       "      <td>0.000000</td>\n",
       "      <td>0.000323</td>\n",
       "      <td>0.0000</td>\n",
       "      <td>0.0</td>\n",
       "      <td>0.0</td>\n",
       "      <td>0.000124</td>\n",
       "      <td>0.000000</td>\n",
       "      <td>0.0</td>\n",
       "      <td>0.0</td>\n",
       "      <td>...</td>\n",
       "      <td>0.0</td>\n",
       "      <td>0.0</td>\n",
       "      <td>0.0</td>\n",
       "      <td>0.0</td>\n",
       "      <td>0.0</td>\n",
       "      <td>0.000000</td>\n",
       "      <td>0.000000</td>\n",
       "      <td>0.000000</td>\n",
       "      <td>0.000000</td>\n",
       "      <td>0.0</td>\n",
       "    </tr>\n",
       "    <tr>\n",
       "      <th>abandoned</th>\n",
       "      <td>0.000000</td>\n",
       "      <td>0.000000</td>\n",
       "      <td>0.000174</td>\n",
       "      <td>0.0001</td>\n",
       "      <td>0.0</td>\n",
       "      <td>0.0</td>\n",
       "      <td>0.000000</td>\n",
       "      <td>0.000000</td>\n",
       "      <td>0.0</td>\n",
       "      <td>0.0</td>\n",
       "      <td>...</td>\n",
       "      <td>0.0</td>\n",
       "      <td>0.0</td>\n",
       "      <td>0.0</td>\n",
       "      <td>0.0</td>\n",
       "      <td>0.0</td>\n",
       "      <td>0.000000</td>\n",
       "      <td>0.000000</td>\n",
       "      <td>0.000979</td>\n",
       "      <td>0.000000</td>\n",
       "      <td>0.0</td>\n",
       "    </tr>\n",
       "    <tr>\n",
       "      <th>abandoning</th>\n",
       "      <td>0.000000</td>\n",
       "      <td>0.000033</td>\n",
       "      <td>0.000025</td>\n",
       "      <td>0.0000</td>\n",
       "      <td>0.0</td>\n",
       "      <td>0.0</td>\n",
       "      <td>0.000000</td>\n",
       "      <td>0.000000</td>\n",
       "      <td>0.0</td>\n",
       "      <td>0.0</td>\n",
       "      <td>...</td>\n",
       "      <td>0.0</td>\n",
       "      <td>0.0</td>\n",
       "      <td>0.0</td>\n",
       "      <td>0.0</td>\n",
       "      <td>0.0</td>\n",
       "      <td>0.000000</td>\n",
       "      <td>0.000000</td>\n",
       "      <td>0.000000</td>\n",
       "      <td>0.000078</td>\n",
       "      <td>0.0</td>\n",
       "    </tr>\n",
       "    <tr>\n",
       "      <th>...</th>\n",
       "      <td>...</td>\n",
       "      <td>...</td>\n",
       "      <td>...</td>\n",
       "      <td>...</td>\n",
       "      <td>...</td>\n",
       "      <td>...</td>\n",
       "      <td>...</td>\n",
       "      <td>...</td>\n",
       "      <td>...</td>\n",
       "      <td>...</td>\n",
       "      <td>...</td>\n",
       "      <td>...</td>\n",
       "      <td>...</td>\n",
       "      <td>...</td>\n",
       "      <td>...</td>\n",
       "      <td>...</td>\n",
       "      <td>...</td>\n",
       "      <td>...</td>\n",
       "      <td>...</td>\n",
       "      <td>...</td>\n",
       "      <td>...</td>\n",
       "    </tr>\n",
       "    <tr>\n",
       "      <th>zum</th>\n",
       "      <td>0.000000</td>\n",
       "      <td>0.000000</td>\n",
       "      <td>0.000000</td>\n",
       "      <td>0.0000</td>\n",
       "      <td>0.0</td>\n",
       "      <td>0.0</td>\n",
       "      <td>0.000000</td>\n",
       "      <td>0.000000</td>\n",
       "      <td>0.0</td>\n",
       "      <td>0.0</td>\n",
       "      <td>...</td>\n",
       "      <td>0.0</td>\n",
       "      <td>0.0</td>\n",
       "      <td>0.0</td>\n",
       "      <td>0.0</td>\n",
       "      <td>0.0</td>\n",
       "      <td>0.000000</td>\n",
       "      <td>0.000000</td>\n",
       "      <td>0.000000</td>\n",
       "      <td>0.000000</td>\n",
       "      <td>0.0</td>\n",
       "    </tr>\n",
       "    <tr>\n",
       "      <th>zuniga</th>\n",
       "      <td>0.000000</td>\n",
       "      <td>0.000000</td>\n",
       "      <td>0.000000</td>\n",
       "      <td>0.0000</td>\n",
       "      <td>0.0</td>\n",
       "      <td>0.0</td>\n",
       "      <td>0.000000</td>\n",
       "      <td>0.000051</td>\n",
       "      <td>0.0</td>\n",
       "      <td>0.0</td>\n",
       "      <td>...</td>\n",
       "      <td>0.0</td>\n",
       "      <td>0.0</td>\n",
       "      <td>0.0</td>\n",
       "      <td>0.0</td>\n",
       "      <td>0.0</td>\n",
       "      <td>0.000000</td>\n",
       "      <td>0.000000</td>\n",
       "      <td>0.000000</td>\n",
       "      <td>0.000000</td>\n",
       "      <td>0.0</td>\n",
       "    </tr>\n",
       "    <tr>\n",
       "      <th>zusammen</th>\n",
       "      <td>0.000000</td>\n",
       "      <td>0.000000</td>\n",
       "      <td>0.000000</td>\n",
       "      <td>0.0000</td>\n",
       "      <td>0.0</td>\n",
       "      <td>0.0</td>\n",
       "      <td>0.000000</td>\n",
       "      <td>0.000000</td>\n",
       "      <td>0.0</td>\n",
       "      <td>0.0</td>\n",
       "      <td>...</td>\n",
       "      <td>0.0</td>\n",
       "      <td>0.0</td>\n",
       "      <td>0.0</td>\n",
       "      <td>0.0</td>\n",
       "      <td>0.0</td>\n",
       "      <td>0.000000</td>\n",
       "      <td>0.000238</td>\n",
       "      <td>0.000000</td>\n",
       "      <td>0.000000</td>\n",
       "      <td>0.0</td>\n",
       "    </tr>\n",
       "    <tr>\n",
       "      <th>ætat</th>\n",
       "      <td>0.000000</td>\n",
       "      <td>0.000000</td>\n",
       "      <td>0.000000</td>\n",
       "      <td>0.0000</td>\n",
       "      <td>0.0</td>\n",
       "      <td>0.0</td>\n",
       "      <td>0.000000</td>\n",
       "      <td>0.000000</td>\n",
       "      <td>0.0</td>\n",
       "      <td>0.0</td>\n",
       "      <td>...</td>\n",
       "      <td>0.0</td>\n",
       "      <td>0.0</td>\n",
       "      <td>0.0</td>\n",
       "      <td>0.0</td>\n",
       "      <td>0.0</td>\n",
       "      <td>0.000000</td>\n",
       "      <td>0.000000</td>\n",
       "      <td>0.000000</td>\n",
       "      <td>0.000000</td>\n",
       "      <td>0.0</td>\n",
       "    </tr>\n",
       "    <tr>\n",
       "      <th>émeutes</th>\n",
       "      <td>0.000000</td>\n",
       "      <td>0.000000</td>\n",
       "      <td>0.000000</td>\n",
       "      <td>0.0000</td>\n",
       "      <td>0.0</td>\n",
       "      <td>0.0</td>\n",
       "      <td>0.000000</td>\n",
       "      <td>0.000000</td>\n",
       "      <td>0.0</td>\n",
       "      <td>0.0</td>\n",
       "      <td>...</td>\n",
       "      <td>0.0</td>\n",
       "      <td>0.0</td>\n",
       "      <td>0.0</td>\n",
       "      <td>0.0</td>\n",
       "      <td>0.0</td>\n",
       "      <td>0.000000</td>\n",
       "      <td>0.000238</td>\n",
       "      <td>0.000000</td>\n",
       "      <td>0.000000</td>\n",
       "      <td>0.0</td>\n",
       "    </tr>\n",
       "  </tbody>\n",
       "</table>\n",
       "<p>26790 rows × 40 columns</p>\n",
       "</div>"
      ],
      "text/plain": [
       "                   0         1         2       3    4    5         6  \\\n",
       "term_str                                                               \n",
       "aback       0.000000  0.000133  0.000000  0.0000  0.0  0.0  0.000000   \n",
       "abaft       0.000371  0.000000  0.000000  0.0000  0.0  0.0  0.000000   \n",
       "abandon     0.000000  0.000000  0.000323  0.0000  0.0  0.0  0.000124   \n",
       "abandoned   0.000000  0.000000  0.000174  0.0001  0.0  0.0  0.000000   \n",
       "abandoning  0.000000  0.000033  0.000025  0.0000  0.0  0.0  0.000000   \n",
       "...              ...       ...       ...     ...  ...  ...       ...   \n",
       "zum         0.000000  0.000000  0.000000  0.0000  0.0  0.0  0.000000   \n",
       "zuniga      0.000000  0.000000  0.000000  0.0000  0.0  0.0  0.000000   \n",
       "zusammen    0.000000  0.000000  0.000000  0.0000  0.0  0.0  0.000000   \n",
       "ætat        0.000000  0.000000  0.000000  0.0000  0.0  0.0  0.000000   \n",
       "émeutes     0.000000  0.000000  0.000000  0.0000  0.0  0.0  0.000000   \n",
       "\n",
       "                   7    8    9  ...   30   31   32   33   34        35  \\\n",
       "term_str                        ...                                      \n",
       "aback       0.000000  0.0  0.0  ...  0.0  0.0  0.0  0.0  0.0  0.000105   \n",
       "abaft       0.000000  0.0  0.0  ...  0.0  0.0  0.0  0.0  0.0  0.000000   \n",
       "abandon     0.000000  0.0  0.0  ...  0.0  0.0  0.0  0.0  0.0  0.000000   \n",
       "abandoned   0.000000  0.0  0.0  ...  0.0  0.0  0.0  0.0  0.0  0.000000   \n",
       "abandoning  0.000000  0.0  0.0  ...  0.0  0.0  0.0  0.0  0.0  0.000000   \n",
       "...              ...  ...  ...  ...  ...  ...  ...  ...  ...       ...   \n",
       "zum         0.000000  0.0  0.0  ...  0.0  0.0  0.0  0.0  0.0  0.000000   \n",
       "zuniga      0.000051  0.0  0.0  ...  0.0  0.0  0.0  0.0  0.0  0.000000   \n",
       "zusammen    0.000000  0.0  0.0  ...  0.0  0.0  0.0  0.0  0.0  0.000000   \n",
       "ætat        0.000000  0.0  0.0  ...  0.0  0.0  0.0  0.0  0.0  0.000000   \n",
       "émeutes     0.000000  0.0  0.0  ...  0.0  0.0  0.0  0.0  0.0  0.000000   \n",
       "\n",
       "                  36        37        38   39  \n",
       "term_str                                       \n",
       "aback       0.000000  0.000000  0.000000  0.0  \n",
       "abaft       0.000000  0.000000  0.000000  0.0  \n",
       "abandon     0.000000  0.000000  0.000000  0.0  \n",
       "abandoned   0.000000  0.000979  0.000000  0.0  \n",
       "abandoning  0.000000  0.000000  0.000078  0.0  \n",
       "...              ...       ...       ...  ...  \n",
       "zum         0.000000  0.000000  0.000000  0.0  \n",
       "zuniga      0.000000  0.000000  0.000000  0.0  \n",
       "zusammen    0.000238  0.000000  0.000000  0.0  \n",
       "ætat        0.000000  0.000000  0.000000  0.0  \n",
       "émeutes     0.000238  0.000000  0.000000  0.0  \n",
       "\n",
       "[26790 rows x 40 columns]"
      ]
     },
     "execution_count": 242,
     "metadata": {},
     "output_type": "execute_result"
    }
   ],
   "source": [
    "PHI"
   ]
  },
  {
   "cell_type": "code",
   "execution_count": 278,
   "id": "67aedc87-f39a-4a2f-b358-efc99085bcb4",
   "metadata": {},
   "outputs": [],
   "source": [
    "DTM = TOKENS.groupby(['book_id','chap_id', 'term_str']).term_str.count().unstack(fill_value=0).reset_index(drop=True)\n",
    "DTM = (DTM.T.join(PHI, how='inner')[DTM.index]).T\n",
    "DTM.index.name = 'doc_id'"
   ]
  },
  {
   "cell_type": "code",
   "execution_count": 282,
   "id": "2961e553-43ba-4530-b902-f40a5232ad1a",
   "metadata": {},
   "outputs": [
    {
     "data": {
      "text/html": [
       "<div>\n",
       "<style scoped>\n",
       "    .dataframe tbody tr th:only-of-type {\n",
       "        vertical-align: middle;\n",
       "    }\n",
       "\n",
       "    .dataframe tbody tr th {\n",
       "        vertical-align: top;\n",
       "    }\n",
       "\n",
       "    .dataframe thead th {\n",
       "        text-align: right;\n",
       "    }\n",
       "</style>\n",
       "<table border=\"1\" class=\"dataframe\">\n",
       "  <thead>\n",
       "    <tr style=\"text-align: right;\">\n",
       "      <th>term_str</th>\n",
       "      <th>aback</th>\n",
       "      <th>abaft</th>\n",
       "      <th>abandon</th>\n",
       "      <th>abandoned</th>\n",
       "      <th>abandoning</th>\n",
       "      <th>abandons</th>\n",
       "      <th>abasement</th>\n",
       "      <th>abashed</th>\n",
       "      <th>abate</th>\n",
       "      <th>abated</th>\n",
       "      <th>...</th>\n",
       "      <th>zoology</th>\n",
       "      <th>zoölogical</th>\n",
       "      <th>zoöphagous</th>\n",
       "      <th>zoöphagy</th>\n",
       "      <th>zufalle</th>\n",
       "      <th>zum</th>\n",
       "      <th>zuniga</th>\n",
       "      <th>zusammen</th>\n",
       "      <th>ætat</th>\n",
       "      <th>émeutes</th>\n",
       "    </tr>\n",
       "    <tr>\n",
       "      <th>doc_id</th>\n",
       "      <th></th>\n",
       "      <th></th>\n",
       "      <th></th>\n",
       "      <th></th>\n",
       "      <th></th>\n",
       "      <th></th>\n",
       "      <th></th>\n",
       "      <th></th>\n",
       "      <th></th>\n",
       "      <th></th>\n",
       "      <th></th>\n",
       "      <th></th>\n",
       "      <th></th>\n",
       "      <th></th>\n",
       "      <th></th>\n",
       "      <th></th>\n",
       "      <th></th>\n",
       "      <th></th>\n",
       "      <th></th>\n",
       "      <th></th>\n",
       "      <th></th>\n",
       "    </tr>\n",
       "  </thead>\n",
       "  <tbody>\n",
       "    <tr>\n",
       "      <th>0</th>\n",
       "      <td>0</td>\n",
       "      <td>0</td>\n",
       "      <td>0</td>\n",
       "      <td>1</td>\n",
       "      <td>0</td>\n",
       "      <td>0</td>\n",
       "      <td>0</td>\n",
       "      <td>0</td>\n",
       "      <td>0</td>\n",
       "      <td>0</td>\n",
       "      <td>...</td>\n",
       "      <td>0</td>\n",
       "      <td>0</td>\n",
       "      <td>0</td>\n",
       "      <td>0</td>\n",
       "      <td>0</td>\n",
       "      <td>0</td>\n",
       "      <td>0</td>\n",
       "      <td>0</td>\n",
       "      <td>0</td>\n",
       "      <td>0</td>\n",
       "    </tr>\n",
       "    <tr>\n",
       "      <th>1</th>\n",
       "      <td>0</td>\n",
       "      <td>0</td>\n",
       "      <td>0</td>\n",
       "      <td>0</td>\n",
       "      <td>0</td>\n",
       "      <td>0</td>\n",
       "      <td>0</td>\n",
       "      <td>0</td>\n",
       "      <td>0</td>\n",
       "      <td>0</td>\n",
       "      <td>...</td>\n",
       "      <td>0</td>\n",
       "      <td>0</td>\n",
       "      <td>0</td>\n",
       "      <td>0</td>\n",
       "      <td>0</td>\n",
       "      <td>0</td>\n",
       "      <td>0</td>\n",
       "      <td>0</td>\n",
       "      <td>0</td>\n",
       "      <td>0</td>\n",
       "    </tr>\n",
       "    <tr>\n",
       "      <th>2</th>\n",
       "      <td>0</td>\n",
       "      <td>0</td>\n",
       "      <td>0</td>\n",
       "      <td>0</td>\n",
       "      <td>0</td>\n",
       "      <td>0</td>\n",
       "      <td>0</td>\n",
       "      <td>0</td>\n",
       "      <td>0</td>\n",
       "      <td>0</td>\n",
       "      <td>...</td>\n",
       "      <td>0</td>\n",
       "      <td>0</td>\n",
       "      <td>0</td>\n",
       "      <td>0</td>\n",
       "      <td>0</td>\n",
       "      <td>0</td>\n",
       "      <td>0</td>\n",
       "      <td>0</td>\n",
       "      <td>0</td>\n",
       "      <td>0</td>\n",
       "    </tr>\n",
       "    <tr>\n",
       "      <th>3</th>\n",
       "      <td>0</td>\n",
       "      <td>0</td>\n",
       "      <td>0</td>\n",
       "      <td>0</td>\n",
       "      <td>0</td>\n",
       "      <td>0</td>\n",
       "      <td>0</td>\n",
       "      <td>0</td>\n",
       "      <td>0</td>\n",
       "      <td>0</td>\n",
       "      <td>...</td>\n",
       "      <td>0</td>\n",
       "      <td>0</td>\n",
       "      <td>0</td>\n",
       "      <td>0</td>\n",
       "      <td>0</td>\n",
       "      <td>0</td>\n",
       "      <td>0</td>\n",
       "      <td>0</td>\n",
       "      <td>0</td>\n",
       "      <td>0</td>\n",
       "    </tr>\n",
       "    <tr>\n",
       "      <th>4</th>\n",
       "      <td>0</td>\n",
       "      <td>0</td>\n",
       "      <td>0</td>\n",
       "      <td>0</td>\n",
       "      <td>0</td>\n",
       "      <td>0</td>\n",
       "      <td>0</td>\n",
       "      <td>0</td>\n",
       "      <td>0</td>\n",
       "      <td>0</td>\n",
       "      <td>...</td>\n",
       "      <td>0</td>\n",
       "      <td>0</td>\n",
       "      <td>0</td>\n",
       "      <td>0</td>\n",
       "      <td>0</td>\n",
       "      <td>0</td>\n",
       "      <td>0</td>\n",
       "      <td>0</td>\n",
       "      <td>0</td>\n",
       "      <td>0</td>\n",
       "    </tr>\n",
       "    <tr>\n",
       "      <th>...</th>\n",
       "      <td>...</td>\n",
       "      <td>...</td>\n",
       "      <td>...</td>\n",
       "      <td>...</td>\n",
       "      <td>...</td>\n",
       "      <td>...</td>\n",
       "      <td>...</td>\n",
       "      <td>...</td>\n",
       "      <td>...</td>\n",
       "      <td>...</td>\n",
       "      <td>...</td>\n",
       "      <td>...</td>\n",
       "      <td>...</td>\n",
       "      <td>...</td>\n",
       "      <td>...</td>\n",
       "      <td>...</td>\n",
       "      <td>...</td>\n",
       "      <td>...</td>\n",
       "      <td>...</td>\n",
       "      <td>...</td>\n",
       "      <td>...</td>\n",
       "    </tr>\n",
       "    <tr>\n",
       "      <th>315</th>\n",
       "      <td>0</td>\n",
       "      <td>0</td>\n",
       "      <td>0</td>\n",
       "      <td>0</td>\n",
       "      <td>0</td>\n",
       "      <td>0</td>\n",
       "      <td>0</td>\n",
       "      <td>0</td>\n",
       "      <td>0</td>\n",
       "      <td>0</td>\n",
       "      <td>...</td>\n",
       "      <td>0</td>\n",
       "      <td>0</td>\n",
       "      <td>0</td>\n",
       "      <td>0</td>\n",
       "      <td>0</td>\n",
       "      <td>0</td>\n",
       "      <td>0</td>\n",
       "      <td>0</td>\n",
       "      <td>0</td>\n",
       "      <td>0</td>\n",
       "    </tr>\n",
       "    <tr>\n",
       "      <th>316</th>\n",
       "      <td>0</td>\n",
       "      <td>0</td>\n",
       "      <td>0</td>\n",
       "      <td>1</td>\n",
       "      <td>0</td>\n",
       "      <td>0</td>\n",
       "      <td>0</td>\n",
       "      <td>0</td>\n",
       "      <td>0</td>\n",
       "      <td>0</td>\n",
       "      <td>...</td>\n",
       "      <td>0</td>\n",
       "      <td>0</td>\n",
       "      <td>0</td>\n",
       "      <td>0</td>\n",
       "      <td>0</td>\n",
       "      <td>0</td>\n",
       "      <td>0</td>\n",
       "      <td>0</td>\n",
       "      <td>0</td>\n",
       "      <td>0</td>\n",
       "    </tr>\n",
       "    <tr>\n",
       "      <th>317</th>\n",
       "      <td>0</td>\n",
       "      <td>0</td>\n",
       "      <td>0</td>\n",
       "      <td>0</td>\n",
       "      <td>0</td>\n",
       "      <td>0</td>\n",
       "      <td>0</td>\n",
       "      <td>0</td>\n",
       "      <td>0</td>\n",
       "      <td>0</td>\n",
       "      <td>...</td>\n",
       "      <td>0</td>\n",
       "      <td>0</td>\n",
       "      <td>0</td>\n",
       "      <td>0</td>\n",
       "      <td>0</td>\n",
       "      <td>0</td>\n",
       "      <td>0</td>\n",
       "      <td>0</td>\n",
       "      <td>0</td>\n",
       "      <td>0</td>\n",
       "    </tr>\n",
       "    <tr>\n",
       "      <th>318</th>\n",
       "      <td>0</td>\n",
       "      <td>0</td>\n",
       "      <td>0</td>\n",
       "      <td>0</td>\n",
       "      <td>0</td>\n",
       "      <td>0</td>\n",
       "      <td>0</td>\n",
       "      <td>0</td>\n",
       "      <td>0</td>\n",
       "      <td>0</td>\n",
       "      <td>...</td>\n",
       "      <td>0</td>\n",
       "      <td>0</td>\n",
       "      <td>0</td>\n",
       "      <td>0</td>\n",
       "      <td>0</td>\n",
       "      <td>0</td>\n",
       "      <td>0</td>\n",
       "      <td>0</td>\n",
       "      <td>0</td>\n",
       "      <td>0</td>\n",
       "    </tr>\n",
       "    <tr>\n",
       "      <th>319</th>\n",
       "      <td>0</td>\n",
       "      <td>0</td>\n",
       "      <td>2</td>\n",
       "      <td>0</td>\n",
       "      <td>0</td>\n",
       "      <td>0</td>\n",
       "      <td>0</td>\n",
       "      <td>0</td>\n",
       "      <td>0</td>\n",
       "      <td>0</td>\n",
       "      <td>...</td>\n",
       "      <td>0</td>\n",
       "      <td>0</td>\n",
       "      <td>0</td>\n",
       "      <td>0</td>\n",
       "      <td>0</td>\n",
       "      <td>0</td>\n",
       "      <td>0</td>\n",
       "      <td>0</td>\n",
       "      <td>0</td>\n",
       "      <td>0</td>\n",
       "    </tr>\n",
       "  </tbody>\n",
       "</table>\n",
       "<p>320 rows × 26790 columns</p>\n",
       "</div>"
      ],
      "text/plain": [
       "term_str  aback  abaft  abandon  abandoned  abandoning  abandons  abasement  \\\n",
       "doc_id                                                                        \n",
       "0             0      0        0          1           0         0          0   \n",
       "1             0      0        0          0           0         0          0   \n",
       "2             0      0        0          0           0         0          0   \n",
       "3             0      0        0          0           0         0          0   \n",
       "4             0      0        0          0           0         0          0   \n",
       "...         ...    ...      ...        ...         ...       ...        ...   \n",
       "315           0      0        0          0           0         0          0   \n",
       "316           0      0        0          1           0         0          0   \n",
       "317           0      0        0          0           0         0          0   \n",
       "318           0      0        0          0           0         0          0   \n",
       "319           0      0        2          0           0         0          0   \n",
       "\n",
       "term_str  abashed  abate  abated  ...  zoology  zoölogical  zoöphagous  \\\n",
       "doc_id                            ...                                    \n",
       "0               0      0       0  ...        0           0           0   \n",
       "1               0      0       0  ...        0           0           0   \n",
       "2               0      0       0  ...        0           0           0   \n",
       "3               0      0       0  ...        0           0           0   \n",
       "4               0      0       0  ...        0           0           0   \n",
       "...           ...    ...     ...  ...      ...         ...         ...   \n",
       "315             0      0       0  ...        0           0           0   \n",
       "316             0      0       0  ...        0           0           0   \n",
       "317             0      0       0  ...        0           0           0   \n",
       "318             0      0       0  ...        0           0           0   \n",
       "319             0      0       0  ...        0           0           0   \n",
       "\n",
       "term_str  zoöphagy  zufalle  zum  zuniga  zusammen  ætat  émeutes  \n",
       "doc_id                                                             \n",
       "0                0        0    0       0         0     0        0  \n",
       "1                0        0    0       0         0     0        0  \n",
       "2                0        0    0       0         0     0        0  \n",
       "3                0        0    0       0         0     0        0  \n",
       "4                0        0    0       0         0     0        0  \n",
       "...            ...      ...  ...     ...       ...   ...      ...  \n",
       "315              0        0    0       0         0     0        0  \n",
       "316              0        0    0       0         0     0        0  \n",
       "317              0        0    0       0         0     0        0  \n",
       "318              0        0    0       0         0     0        0  \n",
       "319              0        0    0       0         0     0        0  \n",
       "\n",
       "[320 rows x 26790 columns]"
      ]
     },
     "execution_count": 282,
     "metadata": {},
     "output_type": "execute_result"
    }
   ],
   "source": [
    "DTM"
   ]
  },
  {
   "cell_type": "code",
   "execution_count": 283,
   "id": "3452d2a1-0a01-4ec3-a802-72adc0ffba52",
   "metadata": {},
   "outputs": [],
   "source": [
    "THETA = DTM.dot(PHI)\n",
    "THETA = (THETA.T / THETA.T.sum()).T"
   ]
  },
  {
   "cell_type": "code",
   "execution_count": 286,
   "id": "ba08aa4a-743e-4222-a082-8186da58dc0d",
   "metadata": {},
   "outputs": [
    {
     "data": {
      "image/png": "[encoded data removed]",
      "text/plain": [
       "<Figure size 720x360 with 1 Axes>"
      ]
     },
     "metadata": {
      "needs_background": "light"
     },
     "output_type": "display_data"
    }
   ],
   "source": [
    "THETA.iloc[0].sort_values().plot.bar(figsize=(10,5));"
   ]
  },
  {
   "cell_type": "code",
   "execution_count": 287,
   "id": "134fd1d1-cdc7-4e66-b4e3-95808be36950",
   "metadata": {},
   "outputs": [
    {
     "data": {
      "image/png": "[encoded data removed]",
      "text/plain": [
       "<Figure size 720x360 with 1 Axes>"
      ]
     },
     "metadata": {
      "needs_background": "light"
     },
     "output_type": "display_data"
    }
   ],
   "source": [
    "tm.DOCTOPIC.iloc[0].sort_values().plot.bar(figsize=(10,5));"
   ]
  },
  {
   "cell_type": "code",
   "execution_count": 290,
   "id": "09f38b66-dbff-462c-a210-c2078247be38",
   "metadata": {},
   "outputs": [
    {
     "data": {
      "text/plain": [
       "39     3.227935\n",
       "36     3.660930\n",
       "29     3.667168\n",
       "15     3.679068\n",
       "28     4.044528\n",
       "0      4.116859\n",
       "10     4.372336\n",
       "23     4.536222\n",
       "19     4.612537\n",
       "20     4.643444\n",
       "8      5.620285\n",
       "25     5.732155\n",
       "12     5.821461\n",
       "37     5.964759\n",
       "13     6.017108\n",
       "14     6.100381\n",
       "31     6.586741\n",
       "6      6.695075\n",
       "24     6.704090\n",
       "5      6.783834\n",
       "22     7.297790\n",
       "11     7.762724\n",
       "4      7.774306\n",
       "7      7.933168\n",
       "3      8.241452\n",
       "34     8.935416\n",
       "27     9.498028\n",
       "26     9.718012\n",
       "17    10.123152\n",
       "35    10.310271\n",
       "2     10.380862\n",
       "32    10.488596\n",
       "18    10.815346\n",
       "16    12.447780\n",
       "30    12.598469\n",
       "9     12.789082\n",
       "21    13.338230\n",
       "33    14.282859\n",
       "1     15.815691\n",
       "38    16.861852\n",
       "dtype: float64"
      ]
     },
     "execution_count": 290,
     "metadata": {},
     "output_type": "execute_result"
    }
   ],
   "source": [
    "THETA.sum().sort_values()"
   ]
  },
  {
   "cell_type": "code",
   "execution_count": null,
   "id": "ed818b24-ae49-4cca-8410-fda814d6714a",
   "metadata": {},
   "outputs": [],
   "source": []
  }
 ],
 "metadata": {
  "kernelspec": {
   "display_name": "Python 3 (ipykernel)",
   "language": "python",
   "name": "python3"
  },
  "language_info": {
   "codemirror_mode": {
    "name": "ipython",
    "version": 3
   },
   "file_extension": ".py",
   "mimetype": "text/x-python",
   "name": "python",
   "nbconvert_exporter": "python",
   "pygments_lexer": "ipython3",
   "version": "3.10.0"
  }
 },
 "nbformat": 4,
 "nbformat_minor": 5
}
