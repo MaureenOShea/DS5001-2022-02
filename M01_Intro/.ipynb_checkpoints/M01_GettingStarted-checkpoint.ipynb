{
 "cells": [
  {
   "cell_type": "markdown",
   "metadata": {},
   "source": [
    "# DS 5001 Week 1 Lab: Getting Started"
   ]
  },
  {
   "cell_type": "markdown",
   "metadata": {},
   "source": [
    "## Exercise 1: Download and Install Anaconda\n",
    "If you have not done so already ...\n",
    "\n",
    "* Go to the Anaconda download page, find the distribution for your operating system for [Anaconda Individual Editions](https://docs.anaconda.com/anaconda/). \n",
    "* Download the file and install it.\n",
    "* Find the application icon in your toolbar or program manager and open it up."
   ]
  },
  {
   "cell_type": "markdown",
   "metadata": {},
   "source": [
    "## Exercise 2: Install Jupyter Notebook and/or Lab\n",
    "\n",
    "Again, if you have not done so already ...\n",
    "\n",
    "* In Anaconda Navigator, locate the cards for Jupyter Notebook and/or Lab (depending on your preference).\n",
    "* Click on the Install button for each card. You may also want to install Spyder and Jupyter Notebook.\n",
    "* Once installed, you may click the Launch button to run it."
   ]
  },
  {
   "cell_type": "markdown",
   "metadata": {},
   "source": [
    "## Exercise 3: Create a directory for this course\n",
    "\n",
    "* Note: You can create directories in any way you are comfortable — from the command line, from a file manager (e.g. Finder in MacOS) window, or within Jupyter Lab.\n",
    "* Within the directory where you normally store the content you create (e.g. papers, code, etc.), create a folder for this course. Call it `DS5001`. \n",
    "* Within this directory, create another directory called `labs` and move into it.\n",
    "* Create a directory for today's lab, naming after the date, e.g. `2021-02-04`, and move into it."
   ]
  },
  {
   "cell_type": "markdown",
   "metadata": {},
   "source": [
    "## Exercise 4: Hello, World!\n",
    "\n",
    "* Start Jupyter Lab or Notebook, if you have not already done so. You can do this by clicking on the card in Anacodna, or by using the command line; for example `> jupyter-lab` or `> jupyter-notebook`, where `>` is the command prompt (it will likely look different on your system).\n",
    "* Review the interface (see Instructor).\n",
    "* Create a new notebook; called it `hello.ipynb`.\n",
    "* Enter the following text in a code block:\n",
    "\n",
    "```\n",
    "        Hello, World!\n",
    "```\n",
    "* Run the block by clicking on the run icon or entering `SHIFT+ENTER`.\n",
    "* Follow the instructor for other instructions."
   ]
  },
  {
   "cell_type": "markdown",
   "metadata": {},
   "source": [
    "## Exercise 5: Import a text into Pandas\n",
    "\n",
    "* Download this file external link: `pg105.txt` into your working directory.\n",
    "* Create a new notebook called `first-foray.ipynb`.\n",
    "* Follow the instructor."
   ]
  },
  {
   "cell_type": "code",
   "execution_count": null,
   "metadata": {},
   "outputs": [],
   "source": []
  }
 ],
 "metadata": {
  "kernelspec": {
   "display_name": "Python 3",
   "language": "python",
   "name": "python3"
  },
  "language_info": {
   "codemirror_mode": {
    "name": "ipython",
    "version": 3
   },
   "file_extension": ".py",
   "mimetype": "text/x-python",
   "name": "python",
   "nbconvert_exporter": "python",
   "pygments_lexer": "ipython3",
   "version": "3.8.3"
  },
  "latex_envs": {
   "LaTeX_envs_menu_present": true,
   "autoclose": false,
   "autocomplete": true,
   "bibliofile": "biblio.bib",
   "cite_by": "apalike",
   "current_citInitial": 1,
   "eqLabelWithNumbers": true,
   "eqNumInitial": 1,
   "hotkeys": {
    "equation": "Ctrl-E",
    "itemize": "Ctrl-I"
   },
   "labels_anchors": false,
   "latex_user_defs": false,
   "report_style_numbering": false,
   "user_envs_cfg": false
  },
  "toc": {
   "base_numbering": 1,
   "nav_menu": {},
   "number_sections": true,
   "sideBar": true,
   "skip_h1_title": true,
   "title_cell": "Table of Contents",
   "title_sidebar": "Contents",
   "toc_cell": false,
   "toc_position": {
    "height": "calc(100% - 180px)",
    "left": "10px",
    "top": "150px",
    "width": "307.2px"
   },
   "toc_section_display": true,
   "toc_window_display": true
  },
  "varInspector": {
   "cols": {
    "lenName": 16,
    "lenType": 16,
    "lenVar": 40
   },
   "kernels_config": {
    "python": {
     "delete_cmd_postfix": "",
     "delete_cmd_prefix": "del ",
     "library": "var_list.py",
     "varRefreshCmd": "print(var_dic_list())"
    },
    "r": {
     "delete_cmd_postfix": ") ",
     "delete_cmd_prefix": "rm(",
     "library": "var_list.r",
     "varRefreshCmd": "cat(var_dic_list()) "
    }
   },
   "types_to_exclude": [
    "module",
    "function",
    "builtin_function_or_method",
    "instance",
    "_Feature"
   ],
   "window_display": false
  }
 },
 "nbformat": 4,
 "nbformat_minor": 4
}
