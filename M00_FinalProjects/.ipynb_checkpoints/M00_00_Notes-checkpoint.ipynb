{
 "cells": [
  {
   "cell_type": "markdown",
   "id": "30130fd7-24f8-48dc-b913-baf1f8a34022",
   "metadata": {},
   "source": [
    "<table>\n",
    "    <tr>\n",
    "        <td>&nbsp</td>\n",
    "        <td>NLTK</td>\n",
    "        <td>SciKit Learn</td>\n",
    "        <td>Gensim</td>\n",
    "        <td>SpaCy</td>\n",
    "    </tr>\n",
    "    <tr>\n",
    "        <td>Focus</td>\n",
    "        <td>NLP</td>\n",
    "        <td>Text</td>\n",
    "        <td>Text</td>\n",
    "        <td>NLP</td>\n",
    "    </tr>\n",
    "    <tr>\n",
    "        <td>Functions</td>  \n",
    "    </tr>\n",
    "</table>    "
   ]
  },
  {
   "cell_type": "code",
   "execution_count": null,
   "id": "14aaeb47-558f-4b11-b9f6-9a4237d5c02c",
   "metadata": {},
   "outputs": [],
   "source": []
  }
 ],
 "metadata": {
  "kernelspec": {
   "display_name": "Python 3",
   "language": "python",
   "name": "python3"
  },
  "language_info": {
   "codemirror_mode": {
    "name": "ipython",
    "version": 3
   },
   "file_extension": ".py",
   "mimetype": "text/x-python",
   "name": "python",
   "nbconvert_exporter": "python",
   "pygments_lexer": "ipython3",
   "version": "3.8.3"
  },
  "widgets": {
   "application/vnd.jupyter.widget-state+json": {
    "state": {},
    "version_major": 2,
    "version_minor": 0
   }
  }
 },
 "nbformat": 4,
 "nbformat_minor": 5
}
