{
 "cells": [
  {
   "cell_type": "markdown",
   "metadata": {},
   "source": [
    "# Metadata &mdash; IN PROGRESS\n",
    "\n",
    "```\n",
    "Course:   DS 5001\n",
    "Module:   09 Lab\n",
    "Topic:    Using SVD\n",
    "Author:   R.C. Alvarado\n",
    "\n",
    "Purpose:  We create word vectors by applying a singular value decomposition to a pointwise mutual information word-word matrix. \n",
    "```"
   ]
  },
  {
   "cell_type": "markdown",
   "metadata": {},
   "source": [
    "# Set Up"
   ]
  },
  {
   "cell_type": "code",
   "execution_count": 2,
   "metadata": {},
   "outputs": [],
   "source": [
    "data_home = \"../data\"\n",
    "data_prefix = 'novels'\n",
    "OHCO = ['book_id', 'chap_id', 'para_num', 'sent_num', 'token_num']"
   ]
  },
  {
   "cell_type": "code",
   "execution_count": 3,
   "metadata": {},
   "outputs": [],
   "source": [
    "import pandas as pd\n",
    "import numpy as np\n",
    "import scipy as sp"
   ]
  },
  {
   "cell_type": "markdown",
   "metadata": {
    "toc-hr-collapsed": false
   },
   "source": [
    "# Import Data"
   ]
  },
  {
   "cell_type": "code",
   "execution_count": 5,
   "metadata": {},
   "outputs": [],
   "source": [
    "TOKENS = pd.read_csv(f'{data_home}/{data_prefix}/{data_prefix}-CORPUS_STANFORD.csv').set_index(OHCO)"
   ]
  },
  {
   "cell_type": "code",
   "execution_count": 6,
   "metadata": {},
   "outputs": [
    {
     "data": {
      "text/html": [
       "<div>\n",
       "<style scoped>\n",
       "    .dataframe tbody tr th:only-of-type {\n",
       "        vertical-align: middle;\n",
       "    }\n",
       "\n",
       "    .dataframe tbody tr th {\n",
       "        vertical-align: top;\n",
       "    }\n",
       "\n",
       "    .dataframe thead th {\n",
       "        text-align: right;\n",
       "    }\n",
       "</style>\n",
       "<table border=\"1\" class=\"dataframe\">\n",
       "  <thead>\n",
       "    <tr style=\"text-align: right;\">\n",
       "      <th></th>\n",
       "      <th></th>\n",
       "      <th></th>\n",
       "      <th></th>\n",
       "      <th></th>\n",
       "      <th>term_str</th>\n",
       "      <th>pos</th>\n",
       "    </tr>\n",
       "    <tr>\n",
       "      <th>book_id</th>\n",
       "      <th>chap_id</th>\n",
       "      <th>para_num</th>\n",
       "      <th>sent_num</th>\n",
       "      <th>token_num</th>\n",
       "      <th></th>\n",
       "      <th></th>\n",
       "    </tr>\n",
       "  </thead>\n",
       "  <tbody>\n",
       "    <tr>\n",
       "      <th rowspan=\"5\" valign=\"top\">adventures</th>\n",
       "      <th rowspan=\"5\" valign=\"top\">1</th>\n",
       "      <th rowspan=\"4\" valign=\"top\">0</th>\n",
       "      <th rowspan=\"4\" valign=\"top\">1</th>\n",
       "      <th>0</th>\n",
       "      <td>a</td>\n",
       "      <td>DT</td>\n",
       "    </tr>\n",
       "    <tr>\n",
       "      <th>1</th>\n",
       "      <td>scandal</td>\n",
       "      <td>NN</td>\n",
       "    </tr>\n",
       "    <tr>\n",
       "      <th>2</th>\n",
       "      <td>in</td>\n",
       "      <td>IN</td>\n",
       "    </tr>\n",
       "    <tr>\n",
       "      <th>3</th>\n",
       "      <td>bohemia</td>\n",
       "      <td>NN</td>\n",
       "    </tr>\n",
       "    <tr>\n",
       "      <th>1</th>\n",
       "      <th>0</th>\n",
       "      <th>0</th>\n",
       "      <td>i</td>\n",
       "      <td>PRP</td>\n",
       "    </tr>\n",
       "    <tr>\n",
       "      <th>...</th>\n",
       "      <th>...</th>\n",
       "      <th>...</th>\n",
       "      <th>...</th>\n",
       "      <th>...</th>\n",
       "      <td>...</td>\n",
       "      <td>...</td>\n",
       "    </tr>\n",
       "    <tr>\n",
       "      <th rowspan=\"5\" valign=\"top\">usher</th>\n",
       "      <th rowspan=\"5\" valign=\"top\">1</th>\n",
       "      <th rowspan=\"5\" valign=\"top\">47</th>\n",
       "      <th rowspan=\"5\" valign=\"top\">4</th>\n",
       "      <th>68</th>\n",
       "      <td>of</td>\n",
       "      <td>IN</td>\n",
       "    </tr>\n",
       "    <tr>\n",
       "      <th>69</th>\n",
       "      <td>the</td>\n",
       "      <td>DT</td>\n",
       "    </tr>\n",
       "    <tr>\n",
       "      <th>70</th>\n",
       "      <td>house</td>\n",
       "      <td>NN</td>\n",
       "    </tr>\n",
       "    <tr>\n",
       "      <th>71</th>\n",
       "      <td>of</td>\n",
       "      <td>IN</td>\n",
       "    </tr>\n",
       "    <tr>\n",
       "      <th>72</th>\n",
       "      <td>usher</td>\n",
       "      <td>NN</td>\n",
       "    </tr>\n",
       "  </tbody>\n",
       "</table>\n",
       "<p>1502222 rows × 2 columns</p>\n",
       "</div>"
      ],
      "text/plain": [
       "                                               term_str  pos\n",
       "book_id    chap_id para_num sent_num token_num              \n",
       "adventures 1       0        1        0                a   DT\n",
       "                                     1          scandal   NN\n",
       "                                     2               in   IN\n",
       "                                     3          bohemia   NN\n",
       "                   1        0        0                i  PRP\n",
       "...                                                 ...  ...\n",
       "usher      1       47       4        68              of   IN\n",
       "                                     69             the   DT\n",
       "                                     70           house   NN\n",
       "                                     71              of   IN\n",
       "                                     72           usher   NN\n",
       "\n",
       "[1502222 rows x 2 columns]"
      ]
     },
     "execution_count": 6,
     "metadata": {},
     "output_type": "execute_result"
    }
   ],
   "source": [
    "TOKENS"
   ]
  },
  {
   "cell_type": "markdown",
   "metadata": {},
   "source": [
    "# Gather Sentences"
   ]
  },
  {
   "cell_type": "code",
   "execution_count": 10,
   "metadata": {},
   "outputs": [],
   "source": [
    "SENTS = TOKENS.groupby(OHCO[:-1]).apply(lambda x: x.term_str.tolist()).reset_index(drop=True)"
   ]
  },
  {
   "cell_type": "markdown",
   "metadata": {},
   "source": [
    "# Create Windows"
   ]
  },
  {
   "cell_type": "code",
   "execution_count": 11,
   "metadata": {},
   "outputs": [],
   "source": [
    "w = 2\n",
    "q = (2 * w) + 1\n",
    "spad = ['<s>' for i in range(w)]\n",
    "PAIRS = []"
   ]
  },
  {
   "cell_type": "code",
   "execution_count": 12,
   "metadata": {},
   "outputs": [],
   "source": [
    "def get_pairs(row_id, row):\n",
    "    sent = spad + row + spad\n",
    "    for i in range(len(sent) - q):\n",
    "        for j, s in enumerate(sent[i:q+i]):\n",
    "            PAIRS.append((row_id, i, j - w, s))"
   ]
  },
  {
   "cell_type": "code",
   "execution_count": 13,
   "metadata": {},
   "outputs": [
    {
     "name": "stdout",
     "output_type": "stream",
     "text": [
      "CPU times: user 1.44 s, sys: 138 ms, total: 1.58 s\n",
      "Wall time: 1.58 s\n"
     ]
    }
   ],
   "source": [
    "%time _ = [get_pairs(i, sent) for i, sent in enumerate(SENTS)]"
   ]
  },
  {
   "cell_type": "code",
   "execution_count": 16,
   "metadata": {},
   "outputs": [],
   "source": [
    "SKIPGRAMS = pd.DataFrame(PAIRS, columns=['bag_id', 'window_id', 'offset','term_str'])\\\n",
    "    .set_index(['bag_id','window_id','offset'])\\\n",
    "    .unstack()\n",
    "SKIPGRAMS.columns = SKIPGRAMS.columns.droplevel(0)\n",
    "SKIPGRAMS = SKIPGRAMS.reset_index().set_index(['bag_id','window_id', 0]).stack().to_frame('probe')\n",
    "SKIPGRAMS.index.names = ['bag_id','window_id','target','distance']"
   ]
  },
  {
   "cell_type": "code",
   "execution_count": 17,
   "metadata": {},
   "outputs": [],
   "source": [
    "SG = SKIPGRAMS.reset_index().value_counts(['target','probe','distance']).to_frame('n').sort_index().reset_index()"
   ]
  },
  {
   "cell_type": "code",
   "execution_count": 21,
   "metadata": {},
   "outputs": [
    {
     "data": {
      "text/html": [
       "<div>\n",
       "<style scoped>\n",
       "    .dataframe tbody tr th:only-of-type {\n",
       "        vertical-align: middle;\n",
       "    }\n",
       "\n",
       "    .dataframe tbody tr th {\n",
       "        vertical-align: top;\n",
       "    }\n",
       "\n",
       "    .dataframe thead th {\n",
       "        text-align: right;\n",
       "    }\n",
       "</style>\n",
       "<table border=\"1\" class=\"dataframe\">\n",
       "  <thead>\n",
       "    <tr style=\"text-align: right;\">\n",
       "      <th></th>\n",
       "      <th>target</th>\n",
       "      <th>probe</th>\n",
       "      <th>distance</th>\n",
       "      <th>n</th>\n",
       "    </tr>\n",
       "  </thead>\n",
       "  <tbody>\n",
       "    <tr>\n",
       "      <th>0</th>\n",
       "      <td>a</td>\n",
       "      <td>&lt;s&gt;</td>\n",
       "      <td>-2</td>\n",
       "      <td>2137</td>\n",
       "    </tr>\n",
       "    <tr>\n",
       "      <th>1</th>\n",
       "      <td>a</td>\n",
       "      <td>&lt;s&gt;</td>\n",
       "      <td>-1</td>\n",
       "      <td>1087</td>\n",
       "    </tr>\n",
       "    <tr>\n",
       "      <th>2</th>\n",
       "      <td>a</td>\n",
       "      <td>&lt;s&gt;</td>\n",
       "      <td>2</td>\n",
       "      <td>1801</td>\n",
       "    </tr>\n",
       "    <tr>\n",
       "      <th>3</th>\n",
       "      <td>a</td>\n",
       "      <td>a</td>\n",
       "      <td>-2</td>\n",
       "      <td>110</td>\n",
       "    </tr>\n",
       "    <tr>\n",
       "      <th>4</th>\n",
       "      <td>a</td>\n",
       "      <td>a</td>\n",
       "      <td>2</td>\n",
       "      <td>110</td>\n",
       "    </tr>\n",
       "    <tr>\n",
       "      <th>...</th>\n",
       "      <td>...</td>\n",
       "      <td>...</td>\n",
       "      <td>...</td>\n",
       "      <td>...</td>\n",
       "    </tr>\n",
       "    <tr>\n",
       "      <th>1744648</th>\n",
       "      <td>ça</td>\n",
       "      <td>y</td>\n",
       "      <td>1</td>\n",
       "      <td>1</td>\n",
       "    </tr>\n",
       "    <tr>\n",
       "      <th>1744649</th>\n",
       "      <td>émeutes</td>\n",
       "      <td>prefect</td>\n",
       "      <td>2</td>\n",
       "      <td>1</td>\n",
       "    </tr>\n",
       "    <tr>\n",
       "      <th>1744650</th>\n",
       "      <td>émeutes</td>\n",
       "      <td>serious</td>\n",
       "      <td>-1</td>\n",
       "      <td>1</td>\n",
       "    </tr>\n",
       "    <tr>\n",
       "      <th>1744651</th>\n",
       "      <td>émeutes</td>\n",
       "      <td>several</td>\n",
       "      <td>-2</td>\n",
       "      <td>1</td>\n",
       "    </tr>\n",
       "    <tr>\n",
       "      <th>1744652</th>\n",
       "      <td>émeutes</td>\n",
       "      <td>the</td>\n",
       "      <td>1</td>\n",
       "      <td>1</td>\n",
       "    </tr>\n",
       "  </tbody>\n",
       "</table>\n",
       "<p>1744653 rows × 4 columns</p>\n",
       "</div>"
      ],
      "text/plain": [
       "          target    probe  distance     n\n",
       "0              a      <s>        -2  2137\n",
       "1              a      <s>        -1  1087\n",
       "2              a      <s>         2  1801\n",
       "3              a        a        -2   110\n",
       "4              a        a         2   110\n",
       "...          ...      ...       ...   ...\n",
       "1744648       ça        y         1     1\n",
       "1744649  émeutes  prefect         2     1\n",
       "1744650  émeutes  serious        -1     1\n",
       "1744651  émeutes  several        -2     1\n",
       "1744652  émeutes      the         1     1\n",
       "\n",
       "[1744653 rows x 4 columns]"
      ]
     },
     "execution_count": 21,
     "metadata": {},
     "output_type": "execute_result"
    }
   ],
   "source": [
    "SG"
   ]
  },
  {
   "cell_type": "markdown",
   "metadata": {
    "tags": []
   },
   "source": [
    "# Add Weights (as GloVe does)"
   ]
  },
  {
   "cell_type": "code",
   "execution_count": 25,
   "metadata": {},
   "outputs": [
    {
     "data": {
      "text/html": [
       "<div>\n",
       "<style scoped>\n",
       "    .dataframe tbody tr th:only-of-type {\n",
       "        vertical-align: middle;\n",
       "    }\n",
       "\n",
       "    .dataframe tbody tr th {\n",
       "        vertical-align: top;\n",
       "    }\n",
       "\n",
       "    .dataframe thead th {\n",
       "        text-align: right;\n",
       "    }\n",
       "</style>\n",
       "<table border=\"1\" class=\"dataframe\">\n",
       "  <thead>\n",
       "    <tr style=\"text-align: right;\">\n",
       "      <th></th>\n",
       "      <th>target</th>\n",
       "      <th>probe</th>\n",
       "      <th>distance</th>\n",
       "      <th>n</th>\n",
       "    </tr>\n",
       "  </thead>\n",
       "  <tbody>\n",
       "    <tr>\n",
       "      <th>1436866</th>\n",
       "      <td>the</td>\n",
       "      <td>door</td>\n",
       "      <td>1</td>\n",
       "      <td>1059</td>\n",
       "    </tr>\n",
       "    <tr>\n",
       "      <th>1452613</th>\n",
       "      <td>the</td>\n",
       "      <td>same</td>\n",
       "      <td>1</td>\n",
       "      <td>878</td>\n",
       "    </tr>\n",
       "    <tr>\n",
       "      <th>1452250</th>\n",
       "      <td>the</td>\n",
       "      <td>room</td>\n",
       "      <td>1</td>\n",
       "      <td>781</td>\n",
       "    </tr>\n",
       "    <tr>\n",
       "      <th>1442276</th>\n",
       "      <td>the</td>\n",
       "      <td>house</td>\n",
       "      <td>1</td>\n",
       "      <td>749</td>\n",
       "    </tr>\n",
       "    <tr>\n",
       "      <th>1439366</th>\n",
       "      <td>the</td>\n",
       "      <td>first</td>\n",
       "      <td>1</td>\n",
       "      <td>741</td>\n",
       "    </tr>\n",
       "    <tr>\n",
       "      <th>1447841</th>\n",
       "      <td>the</td>\n",
       "      <td>other</td>\n",
       "      <td>1</td>\n",
       "      <td>690</td>\n",
       "    </tr>\n",
       "    <tr>\n",
       "      <th>1434694</th>\n",
       "      <td>the</td>\n",
       "      <td>count</td>\n",
       "      <td>1</td>\n",
       "      <td>536</td>\n",
       "    </tr>\n",
       "    <tr>\n",
       "      <th>1446512</th>\n",
       "      <td>the</td>\n",
       "      <td>most</td>\n",
       "      <td>1</td>\n",
       "      <td>521</td>\n",
       "    </tr>\n",
       "    <tr>\n",
       "      <th>1432546</th>\n",
       "      <td>the</td>\n",
       "      <td>castle</td>\n",
       "      <td>1</td>\n",
       "      <td>518</td>\n",
       "    </tr>\n",
       "    <tr>\n",
       "      <th>1456996</th>\n",
       "      <td>the</td>\n",
       "      <td>time</td>\n",
       "      <td>1</td>\n",
       "      <td>480</td>\n",
       "    </tr>\n",
       "  </tbody>\n",
       "</table>\n",
       "</div>"
      ],
      "text/plain": [
       "        target   probe  distance     n\n",
       "1436866    the    door         1  1059\n",
       "1452613    the    same         1   878\n",
       "1452250    the    room         1   781\n",
       "1442276    the   house         1   749\n",
       "1439366    the   first         1   741\n",
       "1447841    the   other         1   690\n",
       "1434694    the   count         1   536\n",
       "1446512    the    most         1   521\n",
       "1432546    the  castle         1   518\n",
       "1456996    the    time         1   480"
      ]
     },
     "execution_count": 25,
     "metadata": {},
     "output_type": "execute_result"
    }
   ],
   "source": [
    "SG.query(\"target == 'the' and distance == 1\").sort_values('n', ascending=False).head(10)"
   ]
  },
  {
   "cell_type": "code",
   "execution_count": 26,
   "metadata": {},
   "outputs": [
    {
     "data": {
      "text/html": [
       "<div>\n",
       "<style scoped>\n",
       "    .dataframe tbody tr th:only-of-type {\n",
       "        vertical-align: middle;\n",
       "    }\n",
       "\n",
       "    .dataframe tbody tr th {\n",
       "        vertical-align: top;\n",
       "    }\n",
       "\n",
       "    .dataframe thead th {\n",
       "        text-align: right;\n",
       "    }\n",
       "</style>\n",
       "<table border=\"1\" class=\"dataframe\">\n",
       "  <thead>\n",
       "    <tr style=\"text-align: right;\">\n",
       "      <th></th>\n",
       "      <th>target</th>\n",
       "      <th>probe</th>\n",
       "      <th>distance</th>\n",
       "      <th>n</th>\n",
       "    </tr>\n",
       "  </thead>\n",
       "  <tbody>\n",
       "    <tr>\n",
       "      <th>264134</th>\n",
       "      <td>castle</td>\n",
       "      <td>the</td>\n",
       "      <td>-1</td>\n",
       "      <td>433</td>\n",
       "    </tr>\n",
       "    <tr>\n",
       "      <th>264148</th>\n",
       "      <td>castle</td>\n",
       "      <td>this</td>\n",
       "      <td>-1</td>\n",
       "      <td>19</td>\n",
       "    </tr>\n",
       "    <tr>\n",
       "      <th>263890</th>\n",
       "      <td>castle</td>\n",
       "      <td>his</td>\n",
       "      <td>-1</td>\n",
       "      <td>19</td>\n",
       "    </tr>\n",
       "    <tr>\n",
       "      <th>263681</th>\n",
       "      <td>castle</td>\n",
       "      <td>a</td>\n",
       "      <td>-1</td>\n",
       "      <td>12</td>\n",
       "    </tr>\n",
       "    <tr>\n",
       "      <th>264000</th>\n",
       "      <td>castle</td>\n",
       "      <td>old</td>\n",
       "      <td>-1</td>\n",
       "      <td>11</td>\n",
       "    </tr>\n",
       "    <tr>\n",
       "      <th>263754</th>\n",
       "      <td>castle</td>\n",
       "      <td>blaize</td>\n",
       "      <td>-1</td>\n",
       "      <td>6</td>\n",
       "    </tr>\n",
       "    <tr>\n",
       "      <th>264244</th>\n",
       "      <td>castle</td>\n",
       "      <td>your</td>\n",
       "      <td>-1</td>\n",
       "      <td>5</td>\n",
       "    </tr>\n",
       "    <tr>\n",
       "      <th>263975</th>\n",
       "      <td>castle</td>\n",
       "      <td>my</td>\n",
       "      <td>-1</td>\n",
       "      <td>5</td>\n",
       "    </tr>\n",
       "    <tr>\n",
       "      <th>264130</th>\n",
       "      <td>castle</td>\n",
       "      <td>that</td>\n",
       "      <td>-1</td>\n",
       "      <td>3</td>\n",
       "    </tr>\n",
       "    <tr>\n",
       "      <th>263864</th>\n",
       "      <td>castle</td>\n",
       "      <td>grahams</td>\n",
       "      <td>-1</td>\n",
       "      <td>3</td>\n",
       "    </tr>\n",
       "  </tbody>\n",
       "</table>\n",
       "</div>"
      ],
      "text/plain": [
       "        target    probe  distance    n\n",
       "264134  castle      the        -1  433\n",
       "264148  castle     this        -1   19\n",
       "263890  castle      his        -1   19\n",
       "263681  castle        a        -1   12\n",
       "264000  castle      old        -1   11\n",
       "263754  castle   blaize        -1    6\n",
       "264244  castle     your        -1    5\n",
       "263975  castle       my        -1    5\n",
       "264130  castle     that        -1    3\n",
       "263864  castle  grahams        -1    3"
      ]
     },
     "execution_count": 26,
     "metadata": {},
     "output_type": "execute_result"
    }
   ],
   "source": [
    "SG.query(\"target == 'castle' and distance == -1\").sort_values('n', ascending=False).head(10)"
   ]
  },
  {
   "cell_type": "code",
   "execution_count": 27,
   "metadata": {},
   "outputs": [],
   "source": [
    "SG['glove_weight'] = np.abs(1 / SG['distance']) * SG['n']"
   ]
  },
  {
   "cell_type": "code",
   "execution_count": 28,
   "metadata": {},
   "outputs": [
    {
     "data": {
      "text/html": [
       "<div>\n",
       "<style scoped>\n",
       "    .dataframe tbody tr th:only-of-type {\n",
       "        vertical-align: middle;\n",
       "    }\n",
       "\n",
       "    .dataframe tbody tr th {\n",
       "        vertical-align: top;\n",
       "    }\n",
       "\n",
       "    .dataframe thead th {\n",
       "        text-align: right;\n",
       "    }\n",
       "</style>\n",
       "<table border=\"1\" class=\"dataframe\">\n",
       "  <thead>\n",
       "    <tr style=\"text-align: right;\">\n",
       "      <th></th>\n",
       "      <th>target</th>\n",
       "      <th>probe</th>\n",
       "      <th>distance</th>\n",
       "      <th>n</th>\n",
       "      <th>glove_weight</th>\n",
       "    </tr>\n",
       "  </thead>\n",
       "  <tbody>\n",
       "    <tr>\n",
       "      <th>1030601</th>\n",
       "      <td>of</td>\n",
       "      <td>the</td>\n",
       "      <td>1</td>\n",
       "      <td>10256</td>\n",
       "      <td>10256.0</td>\n",
       "    </tr>\n",
       "    <tr>\n",
       "      <th>743444</th>\n",
       "      <td>in</td>\n",
       "      <td>the</td>\n",
       "      <td>1</td>\n",
       "      <td>6230</td>\n",
       "      <td>6230.0</td>\n",
       "    </tr>\n",
       "    <tr>\n",
       "      <th>1531326</th>\n",
       "      <td>to</td>\n",
       "      <td>the</td>\n",
       "      <td>1</td>\n",
       "      <td>4750</td>\n",
       "      <td>4750.0</td>\n",
       "    </tr>\n",
       "    <tr>\n",
       "      <th>1045569</th>\n",
       "      <td>on</td>\n",
       "      <td>the</td>\n",
       "      <td>1</td>\n",
       "      <td>3140</td>\n",
       "      <td>3140.0</td>\n",
       "    </tr>\n",
       "    <tr>\n",
       "      <th>789390</th>\n",
       "      <td>it</td>\n",
       "      <td>was</td>\n",
       "      <td>1</td>\n",
       "      <td>3078</td>\n",
       "      <td>3078.0</td>\n",
       "    </tr>\n",
       "    <tr>\n",
       "      <th>1517031</th>\n",
       "      <td>to</td>\n",
       "      <td>be</td>\n",
       "      <td>1</td>\n",
       "      <td>2910</td>\n",
       "      <td>2910.0</td>\n",
       "    </tr>\n",
       "    <tr>\n",
       "      <th>98928</th>\n",
       "      <td>and</td>\n",
       "      <td>the</td>\n",
       "      <td>1</td>\n",
       "      <td>2797</td>\n",
       "      <td>2797.0</td>\n",
       "    </tr>\n",
       "    <tr>\n",
       "      <th>151318</th>\n",
       "      <td>at</td>\n",
       "      <td>the</td>\n",
       "      <td>1</td>\n",
       "      <td>2653</td>\n",
       "      <td>2653.0</td>\n",
       "    </tr>\n",
       "    <tr>\n",
       "      <th>709950</th>\n",
       "      <td>i</td>\n",
       "      <td>have</td>\n",
       "      <td>1</td>\n",
       "      <td>2355</td>\n",
       "      <td>2355.0</td>\n",
       "    </tr>\n",
       "    <tr>\n",
       "      <th>785222</th>\n",
       "      <td>it</td>\n",
       "      <td>is</td>\n",
       "      <td>1</td>\n",
       "      <td>2189</td>\n",
       "      <td>2189.0</td>\n",
       "    </tr>\n",
       "    <tr>\n",
       "      <th>705881</th>\n",
       "      <td>i</td>\n",
       "      <td>am</td>\n",
       "      <td>1</td>\n",
       "      <td>2103</td>\n",
       "      <td>2103.0</td>\n",
       "    </tr>\n",
       "    <tr>\n",
       "      <th>553657</th>\n",
       "      <td>from</td>\n",
       "      <td>the</td>\n",
       "      <td>1</td>\n",
       "      <td>2077</td>\n",
       "      <td>2077.0</td>\n",
       "    </tr>\n",
       "    <tr>\n",
       "      <th>1020634</th>\n",
       "      <td>of</td>\n",
       "      <td>his</td>\n",
       "      <td>1</td>\n",
       "      <td>2076</td>\n",
       "      <td>2076.0</td>\n",
       "    </tr>\n",
       "    <tr>\n",
       "      <th>1420983</th>\n",
       "      <td>that</td>\n",
       "      <td>i</td>\n",
       "      <td>1</td>\n",
       "      <td>2034</td>\n",
       "      <td>2034.0</td>\n",
       "    </tr>\n",
       "    <tr>\n",
       "      <th>1702254</th>\n",
       "      <td>with</td>\n",
       "      <td>the</td>\n",
       "      <td>1</td>\n",
       "      <td>1945</td>\n",
       "      <td>1945.0</td>\n",
       "    </tr>\n",
       "    <tr>\n",
       "      <th>87040</th>\n",
       "      <td>and</td>\n",
       "      <td>i</td>\n",
       "      <td>1</td>\n",
       "      <td>1927</td>\n",
       "      <td>1927.0</td>\n",
       "    </tr>\n",
       "    <tr>\n",
       "      <th>248208</th>\n",
       "      <td>by</td>\n",
       "      <td>the</td>\n",
       "      <td>1</td>\n",
       "      <td>1924</td>\n",
       "      <td>1924.0</td>\n",
       "    </tr>\n",
       "    <tr>\n",
       "      <th>730361</th>\n",
       "      <td>in</td>\n",
       "      <td>a</td>\n",
       "      <td>1</td>\n",
       "      <td>1891</td>\n",
       "      <td>1891.0</td>\n",
       "    </tr>\n",
       "    <tr>\n",
       "      <th>1011569</th>\n",
       "      <td>of</td>\n",
       "      <td>a</td>\n",
       "      <td>1</td>\n",
       "      <td>1871</td>\n",
       "      <td>1871.0</td>\n",
       "    </tr>\n",
       "    <tr>\n",
       "      <th>631082</th>\n",
       "      <td>he</td>\n",
       "      <td>had</td>\n",
       "      <td>1</td>\n",
       "      <td>1828</td>\n",
       "      <td>1828.0</td>\n",
       "    </tr>\n",
       "  </tbody>\n",
       "</table>\n",
       "</div>"
      ],
      "text/plain": [
       "        target probe  distance      n  glove_weight\n",
       "1030601     of   the         1  10256       10256.0\n",
       "743444      in   the         1   6230        6230.0\n",
       "1531326     to   the         1   4750        4750.0\n",
       "1045569     on   the         1   3140        3140.0\n",
       "789390      it   was         1   3078        3078.0\n",
       "1517031     to    be         1   2910        2910.0\n",
       "98928      and   the         1   2797        2797.0\n",
       "151318      at   the         1   2653        2653.0\n",
       "709950       i  have         1   2355        2355.0\n",
       "785222      it    is         1   2189        2189.0\n",
       "705881       i    am         1   2103        2103.0\n",
       "553657    from   the         1   2077        2077.0\n",
       "1020634     of   his         1   2076        2076.0\n",
       "1420983   that     i         1   2034        2034.0\n",
       "1702254   with   the         1   1945        1945.0\n",
       "87040      and     i         1   1927        1927.0\n",
       "248208      by   the         1   1924        1924.0\n",
       "730361      in     a         1   1891        1891.0\n",
       "1011569     of     a         1   1871        1871.0\n",
       "631082      he   had         1   1828        1828.0"
      ]
     },
     "execution_count": 28,
     "metadata": {},
     "output_type": "execute_result"
    }
   ],
   "source": [
    "SG.sort_values('glove_weight', ascending=False).query(\"distance == 1\").head(20)"
   ]
  },
  {
   "cell_type": "markdown",
   "metadata": {
    "toc-hr-collapsed": false
   },
   "source": [
    "# Get Unigram Probabilities"
   ]
  },
  {
   "cell_type": "code",
   "execution_count": 29,
   "metadata": {},
   "outputs": [],
   "source": [
    "VOCAB = TOKENS.term_str.value_counts().to_frame('n')\n",
    "VOCAB.index.name = 'term_str'"
   ]
  },
  {
   "cell_type": "code",
   "execution_count": 33,
   "metadata": {},
   "outputs": [],
   "source": [
    "VOCAB.loc['<s>', 'n'] = len(SENTS) * 4 # Not sure about this"
   ]
  },
  {
   "cell_type": "code",
   "execution_count": 34,
   "metadata": {},
   "outputs": [],
   "source": [
    "VOCAB['p'] = VOCAB.n / VOCAB.n.sum() # Is the denominator correct?"
   ]
  },
  {
   "cell_type": "code",
   "execution_count": 32,
   "metadata": {},
   "outputs": [
    {
     "data": {
      "text/html": [
       "<div>\n",
       "<style scoped>\n",
       "    .dataframe tbody tr th:only-of-type {\n",
       "        vertical-align: middle;\n",
       "    }\n",
       "\n",
       "    .dataframe tbody tr th {\n",
       "        vertical-align: top;\n",
       "    }\n",
       "\n",
       "    .dataframe thead th {\n",
       "        text-align: right;\n",
       "    }\n",
       "</style>\n",
       "<table border=\"1\" class=\"dataframe\">\n",
       "  <thead>\n",
       "    <tr style=\"text-align: right;\">\n",
       "      <th></th>\n",
       "      <th>n</th>\n",
       "      <th>p</th>\n",
       "    </tr>\n",
       "    <tr>\n",
       "      <th>term_str</th>\n",
       "      <th></th>\n",
       "      <th></th>\n",
       "    </tr>\n",
       "  </thead>\n",
       "  <tbody>\n",
       "    <tr>\n",
       "      <th>&lt;s&gt;</th>\n",
       "      <td>337128.0</td>\n",
       "      <td>1.832865e-01</td>\n",
       "    </tr>\n",
       "    <tr>\n",
       "      <th>a</th>\n",
       "      <td>28533.0</td>\n",
       "      <td>1.551255e-02</td>\n",
       "    </tr>\n",
       "    <tr>\n",
       "      <th>aback</th>\n",
       "      <td>9.0</td>\n",
       "      <td>4.893033e-06</td>\n",
       "    </tr>\n",
       "    <tr>\n",
       "      <th>abaft</th>\n",
       "      <td>2.0</td>\n",
       "      <td>1.087341e-06</td>\n",
       "    </tr>\n",
       "    <tr>\n",
       "      <th>abandon</th>\n",
       "      <td>44.0</td>\n",
       "      <td>2.392149e-05</td>\n",
       "    </tr>\n",
       "    <tr>\n",
       "      <th>...</th>\n",
       "      <td>...</td>\n",
       "      <td>...</td>\n",
       "    </tr>\n",
       "    <tr>\n",
       "      <th>à</th>\n",
       "      <td>3.0</td>\n",
       "      <td>1.631011e-06</td>\n",
       "    </tr>\n",
       "    <tr>\n",
       "      <th>æt</th>\n",
       "      <td>1.0</td>\n",
       "      <td>5.436703e-07</td>\n",
       "    </tr>\n",
       "    <tr>\n",
       "      <th>ætat</th>\n",
       "      <td>1.0</td>\n",
       "      <td>5.436703e-07</td>\n",
       "    </tr>\n",
       "    <tr>\n",
       "      <th>ça</th>\n",
       "      <td>2.0</td>\n",
       "      <td>1.087341e-06</td>\n",
       "    </tr>\n",
       "    <tr>\n",
       "      <th>émeutes</th>\n",
       "      <td>1.0</td>\n",
       "      <td>5.436703e-07</td>\n",
       "    </tr>\n",
       "  </tbody>\n",
       "</table>\n",
       "<p>27392 rows × 2 columns</p>\n",
       "</div>"
      ],
      "text/plain": [
       "                 n             p\n",
       "term_str                        \n",
       "<s>       337128.0  1.832865e-01\n",
       "a          28533.0  1.551255e-02\n",
       "aback          9.0  4.893033e-06\n",
       "abaft          2.0  1.087341e-06\n",
       "abandon       44.0  2.392149e-05\n",
       "...            ...           ...\n",
       "à              3.0  1.631011e-06\n",
       "æt             1.0  5.436703e-07\n",
       "ætat           1.0  5.436703e-07\n",
       "ça             2.0  1.087341e-06\n",
       "émeutes        1.0  5.436703e-07\n",
       "\n",
       "[27392 rows x 2 columns]"
      ]
     },
     "execution_count": 32,
     "metadata": {},
     "output_type": "execute_result"
    }
   ],
   "source": [
    "VOCAB.sort_index()"
   ]
  },
  {
   "cell_type": "code",
   "execution_count": 319,
   "metadata": {},
   "outputs": [
    {
     "data": {
      "text/html": [
       "<div>\n",
       "<style scoped>\n",
       "    .dataframe tbody tr th:only-of-type {\n",
       "        vertical-align: middle;\n",
       "    }\n",
       "\n",
       "    .dataframe tbody tr th {\n",
       "        vertical-align: top;\n",
       "    }\n",
       "\n",
       "    .dataframe thead th {\n",
       "        text-align: right;\n",
       "    }\n",
       "</style>\n",
       "<table border=\"1\" class=\"dataframe\">\n",
       "  <thead>\n",
       "    <tr style=\"text-align: right;\">\n",
       "      <th></th>\n",
       "      <th>n</th>\n",
       "      <th>p</th>\n",
       "    </tr>\n",
       "    <tr>\n",
       "      <th>term_str</th>\n",
       "      <th></th>\n",
       "      <th></th>\n",
       "    </tr>\n",
       "  </thead>\n",
       "  <tbody>\n",
       "    <tr>\n",
       "      <th>&lt;s&gt;</th>\n",
       "      <td>337128.0</td>\n",
       "      <td>0.183286</td>\n",
       "    </tr>\n",
       "    <tr>\n",
       "      <th>the</th>\n",
       "      <td>85329.0</td>\n",
       "      <td>0.046391</td>\n",
       "    </tr>\n",
       "    <tr>\n",
       "      <th>to</th>\n",
       "      <td>45176.0</td>\n",
       "      <td>0.024561</td>\n",
       "    </tr>\n",
       "    <tr>\n",
       "      <th>and</th>\n",
       "      <td>44991.0</td>\n",
       "      <td>0.024460</td>\n",
       "    </tr>\n",
       "    <tr>\n",
       "      <th>of</th>\n",
       "      <td>42638.0</td>\n",
       "      <td>0.023181</td>\n",
       "    </tr>\n",
       "  </tbody>\n",
       "</table>\n",
       "</div>"
      ],
      "text/plain": [
       "                 n         p\n",
       "term_str                    \n",
       "<s>       337128.0  0.183286\n",
       "the        85329.0  0.046391\n",
       "to         45176.0  0.024561\n",
       "and        44991.0  0.024460\n",
       "of         42638.0  0.023181"
      ]
     },
     "execution_count": 319,
     "metadata": {},
     "output_type": "execute_result"
    }
   ],
   "source": [
    "VOCAB.sort_values('p', ascending=False).head()"
   ]
  },
  {
   "cell_type": "markdown",
   "metadata": {},
   "source": [
    "# Get $P(x)$"
   ]
  },
  {
   "cell_type": "code",
   "execution_count": 321,
   "metadata": {},
   "outputs": [],
   "source": [
    "p_x = VOCAB.p"
   ]
  },
  {
   "cell_type": "code",
   "execution_count": 322,
   "metadata": {},
   "outputs": [
    {
     "data": {
      "text/plain": [
       "term_str\n",
       "<s>    0.183286\n",
       "the    0.046391\n",
       "to     0.024561\n",
       "and    0.024460\n",
       "of     0.023181\n",
       "Name: p, dtype: float64"
      ]
     },
     "execution_count": 322,
     "metadata": {},
     "output_type": "execute_result"
    }
   ],
   "source": [
    "p_x.sort_values(ascending=False).head()"
   ]
  },
  {
   "cell_type": "markdown",
   "metadata": {
    "toc-hr-collapsed": false
   },
   "source": [
    "# Compute Normalized PMI for Skipgrams\n",
    "\n",
    "**PMI**\n",
    "\n",
    "$log \\dfrac{P(x,y)}{P(x)P(y)}$\n",
    "\n",
    "**NMPI**\n",
    "\n",
    "$\\dfrac{log\\dfrac{P(x,y)}{P(x)P(y)}}{-log P(x,y)}$\n",
    "\n",
    "See [G. Bouma 2009, eq. 7](https://pdfs.semanticscholar.org/1521/8d9c029cbb903ae7c729b2c644c24994c201.pdf)"
   ]
  },
  {
   "cell_type": "markdown",
   "metadata": {},
   "source": [
    "# Create compressed skipgram table"
   ]
  },
  {
   "cell_type": "code",
   "execution_count": 323,
   "metadata": {},
   "outputs": [],
   "source": [
    "SG2 = SG.groupby(['target','probe']).probe.count()\\\n",
    "    .to_frame().rename(columns={'probe':'n'})\\\n",
    "    .reset_index().set_index(['target','probe'])"
   ]
  },
  {
   "cell_type": "code",
   "execution_count": 324,
   "metadata": {},
   "outputs": [
    {
     "data": {
      "text/html": [
       "<div>\n",
       "<style scoped>\n",
       "    .dataframe tbody tr th:only-of-type {\n",
       "        vertical-align: middle;\n",
       "    }\n",
       "\n",
       "    .dataframe tbody tr th {\n",
       "        vertical-align: top;\n",
       "    }\n",
       "\n",
       "    .dataframe thead th {\n",
       "        text-align: right;\n",
       "    }\n",
       "</style>\n",
       "<table border=\"1\" class=\"dataframe\">\n",
       "  <thead>\n",
       "    <tr style=\"text-align: right;\">\n",
       "      <th></th>\n",
       "      <th></th>\n",
       "      <th>n</th>\n",
       "    </tr>\n",
       "    <tr>\n",
       "      <th>target</th>\n",
       "      <th>probe</th>\n",
       "      <th></th>\n",
       "    </tr>\n",
       "  </thead>\n",
       "  <tbody>\n",
       "    <tr>\n",
       "      <th rowspan=\"10\" valign=\"top\">a</th>\n",
       "      <th>&lt;s&gt;</th>\n",
       "      <td>3</td>\n",
       "    </tr>\n",
       "    <tr>\n",
       "      <th>a</th>\n",
       "      <td>2</td>\n",
       "    </tr>\n",
       "    <tr>\n",
       "      <th>abandon</th>\n",
       "      <td>2</td>\n",
       "    </tr>\n",
       "    <tr>\n",
       "      <th>abandons</th>\n",
       "      <td>1</td>\n",
       "    </tr>\n",
       "    <tr>\n",
       "      <th>abated</th>\n",
       "      <td>1</td>\n",
       "    </tr>\n",
       "    <tr>\n",
       "      <th>abatement</th>\n",
       "      <td>1</td>\n",
       "    </tr>\n",
       "    <tr>\n",
       "      <th>abbess</th>\n",
       "      <td>2</td>\n",
       "    </tr>\n",
       "    <tr>\n",
       "      <th>abbey</th>\n",
       "      <td>1</td>\n",
       "    </tr>\n",
       "    <tr>\n",
       "      <th>abbot</th>\n",
       "      <td>2</td>\n",
       "    </tr>\n",
       "    <tr>\n",
       "      <th>abelwhite</th>\n",
       "      <td>1</td>\n",
       "    </tr>\n",
       "  </tbody>\n",
       "</table>\n",
       "</div>"
      ],
      "text/plain": [
       "                  n\n",
       "target probe       \n",
       "a      <s>        3\n",
       "       a          2\n",
       "       abandon    2\n",
       "       abandons   1\n",
       "       abated     1\n",
       "       abatement  1\n",
       "       abbess     2\n",
       "       abbey      1\n",
       "       abbot      2\n",
       "       abelwhite  1"
      ]
     },
     "execution_count": 324,
     "metadata": {},
     "output_type": "execute_result"
    }
   ],
   "source": [
    "SG2.head(10)"
   ]
  },
  {
   "cell_type": "markdown",
   "metadata": {},
   "source": [
    "### Compute $P(x,y)$"
   ]
  },
  {
   "cell_type": "code",
   "execution_count": 325,
   "metadata": {},
   "outputs": [],
   "source": [
    "N = SG2.n.sum()"
   ]
  },
  {
   "cell_type": "code",
   "execution_count": 326,
   "metadata": {},
   "outputs": [],
   "source": [
    "SG2['p_xy'] = SG2.n / N"
   ]
  },
  {
   "cell_type": "code",
   "execution_count": 327,
   "metadata": {},
   "outputs": [
    {
     "data": {
      "text/html": [
       "<div>\n",
       "<style scoped>\n",
       "    .dataframe tbody tr th:only-of-type {\n",
       "        vertical-align: middle;\n",
       "    }\n",
       "\n",
       "    .dataframe tbody tr th {\n",
       "        vertical-align: top;\n",
       "    }\n",
       "\n",
       "    .dataframe thead th {\n",
       "        text-align: right;\n",
       "    }\n",
       "</style>\n",
       "<table border=\"1\" class=\"dataframe\">\n",
       "  <thead>\n",
       "    <tr style=\"text-align: right;\">\n",
       "      <th></th>\n",
       "      <th></th>\n",
       "      <th>n</th>\n",
       "      <th>p_xy</th>\n",
       "    </tr>\n",
       "    <tr>\n",
       "      <th>target</th>\n",
       "      <th>probe</th>\n",
       "      <th></th>\n",
       "      <th></th>\n",
       "    </tr>\n",
       "  </thead>\n",
       "  <tbody>\n",
       "    <tr>\n",
       "      <th rowspan=\"10\" valign=\"top\">a</th>\n",
       "      <th>&lt;s&gt;</th>\n",
       "      <td>3</td>\n",
       "      <td>1.719540e-06</td>\n",
       "    </tr>\n",
       "    <tr>\n",
       "      <th>a</th>\n",
       "      <td>2</td>\n",
       "      <td>1.146360e-06</td>\n",
       "    </tr>\n",
       "    <tr>\n",
       "      <th>abandon</th>\n",
       "      <td>2</td>\n",
       "      <td>1.146360e-06</td>\n",
       "    </tr>\n",
       "    <tr>\n",
       "      <th>abandons</th>\n",
       "      <td>1</td>\n",
       "      <td>5.731799e-07</td>\n",
       "    </tr>\n",
       "    <tr>\n",
       "      <th>abated</th>\n",
       "      <td>1</td>\n",
       "      <td>5.731799e-07</td>\n",
       "    </tr>\n",
       "    <tr>\n",
       "      <th>abatement</th>\n",
       "      <td>1</td>\n",
       "      <td>5.731799e-07</td>\n",
       "    </tr>\n",
       "    <tr>\n",
       "      <th>abbess</th>\n",
       "      <td>2</td>\n",
       "      <td>1.146360e-06</td>\n",
       "    </tr>\n",
       "    <tr>\n",
       "      <th>abbey</th>\n",
       "      <td>1</td>\n",
       "      <td>5.731799e-07</td>\n",
       "    </tr>\n",
       "    <tr>\n",
       "      <th>abbot</th>\n",
       "      <td>2</td>\n",
       "      <td>1.146360e-06</td>\n",
       "    </tr>\n",
       "    <tr>\n",
       "      <th>abelwhite</th>\n",
       "      <td>1</td>\n",
       "      <td>5.731799e-07</td>\n",
       "    </tr>\n",
       "  </tbody>\n",
       "</table>\n",
       "</div>"
      ],
      "text/plain": [
       "                  n          p_xy\n",
       "target probe                     \n",
       "a      <s>        3  1.719540e-06\n",
       "       a          2  1.146360e-06\n",
       "       abandon    2  1.146360e-06\n",
       "       abandons   1  5.731799e-07\n",
       "       abated     1  5.731799e-07\n",
       "       abatement  1  5.731799e-07\n",
       "       abbess     2  1.146360e-06\n",
       "       abbey      1  5.731799e-07\n",
       "       abbot      2  1.146360e-06\n",
       "       abelwhite  1  5.731799e-07"
      ]
     },
     "execution_count": 327,
     "metadata": {},
     "output_type": "execute_result"
    }
   ],
   "source": [
    "SG2.head(10)"
   ]
  },
  {
   "cell_type": "markdown",
   "metadata": {},
   "source": [
    "### Compute $PMI(x;y)$"
   ]
  },
  {
   "cell_type": "code",
   "execution_count": 328,
   "metadata": {},
   "outputs": [],
   "source": [
    "SG2['pmi_xy'] = SG2.apply(lambda row: np.log(row.p_xy / (p_x.loc[row.name[0]] * p_x.loc[row.name[1]])), 1)"
   ]
  },
  {
   "cell_type": "code",
   "execution_count": 329,
   "metadata": {},
   "outputs": [
    {
     "data": {
      "text/html": [
       "<div>\n",
       "<style scoped>\n",
       "    .dataframe tbody tr th:only-of-type {\n",
       "        vertical-align: middle;\n",
       "    }\n",
       "\n",
       "    .dataframe tbody tr th {\n",
       "        vertical-align: top;\n",
       "    }\n",
       "\n",
       "    .dataframe thead th {\n",
       "        text-align: right;\n",
       "    }\n",
       "</style>\n",
       "<table border=\"1\" class=\"dataframe\">\n",
       "  <thead>\n",
       "    <tr style=\"text-align: right;\">\n",
       "      <th></th>\n",
       "      <th></th>\n",
       "      <th>n</th>\n",
       "      <th>p_xy</th>\n",
       "      <th>pmi_xy</th>\n",
       "    </tr>\n",
       "    <tr>\n",
       "      <th>target</th>\n",
       "      <th>probe</th>\n",
       "      <th></th>\n",
       "      <th></th>\n",
       "      <th></th>\n",
       "    </tr>\n",
       "  </thead>\n",
       "  <tbody>\n",
       "    <tr>\n",
       "      <th>rosss</th>\n",
       "      <th>caterers</th>\n",
       "      <td>1</td>\n",
       "      <td>5.731799e-07</td>\n",
       "      <td>14.477779</td>\n",
       "    </tr>\n",
       "    <tr>\n",
       "      <th>ac</th>\n",
       "      <th>simul</th>\n",
       "      <td>1</td>\n",
       "      <td>5.731799e-07</td>\n",
       "      <td>14.477779</td>\n",
       "    </tr>\n",
       "    <tr>\n",
       "      <th>oegipans</th>\n",
       "      <th>satyrs</th>\n",
       "      <td>1</td>\n",
       "      <td>5.731799e-07</td>\n",
       "      <td>14.477779</td>\n",
       "    </tr>\n",
       "    <tr>\n",
       "      <th>lorrain</th>\n",
       "      <th>margaretta</th>\n",
       "      <td>1</td>\n",
       "      <td>5.731799e-07</td>\n",
       "      <td>14.477779</td>\n",
       "    </tr>\n",
       "    <tr>\n",
       "      <th>innocui</th>\n",
       "      <th>furores</th>\n",
       "      <td>1</td>\n",
       "      <td>5.731799e-07</td>\n",
       "      <td>14.477779</td>\n",
       "    </tr>\n",
       "    <tr>\n",
       "      <th>unwarlike</th>\n",
       "      <th>harried</th>\n",
       "      <td>1</td>\n",
       "      <td>5.731799e-07</td>\n",
       "      <td>14.477779</td>\n",
       "    </tr>\n",
       "    <tr>\n",
       "      <th rowspan=\"4\" valign=\"top\">diresti</th>\n",
       "      <th>sospirando</th>\n",
       "      <td>1</td>\n",
       "      <td>5.731799e-07</td>\n",
       "      <td>14.477779</td>\n",
       "    </tr>\n",
       "    <tr>\n",
       "      <th>ripentita</th>\n",
       "      <td>1</td>\n",
       "      <td>5.731799e-07</td>\n",
       "      <td>14.477779</td>\n",
       "    </tr>\n",
       "    <tr>\n",
       "      <th>riamando</th>\n",
       "      <td>1</td>\n",
       "      <td>5.731799e-07</td>\n",
       "      <td>14.477779</td>\n",
       "    </tr>\n",
       "    <tr>\n",
       "      <th>amato</th>\n",
       "      <td>1</td>\n",
       "      <td>5.731799e-07</td>\n",
       "      <td>14.477779</td>\n",
       "    </tr>\n",
       "  </tbody>\n",
       "</table>\n",
       "</div>"
      ],
      "text/plain": [
       "                      n          p_xy     pmi_xy\n",
       "target    probe                                 \n",
       "rosss     caterers    1  5.731799e-07  14.477779\n",
       "ac        simul       1  5.731799e-07  14.477779\n",
       "oegipans  satyrs      1  5.731799e-07  14.477779\n",
       "lorrain   margaretta  1  5.731799e-07  14.477779\n",
       "innocui   furores     1  5.731799e-07  14.477779\n",
       "unwarlike harried     1  5.731799e-07  14.477779\n",
       "diresti   sospirando  1  5.731799e-07  14.477779\n",
       "          ripentita   1  5.731799e-07  14.477779\n",
       "          riamando    1  5.731799e-07  14.477779\n",
       "          amato       1  5.731799e-07  14.477779"
      ]
     },
     "execution_count": 329,
     "metadata": {},
     "output_type": "execute_result"
    }
   ],
   "source": [
    "SG2.sort_values('pmi_xy', ascending=False).head(10)"
   ]
  },
  {
   "cell_type": "code",
   "execution_count": 330,
   "metadata": {},
   "outputs": [],
   "source": [
    "SG2['npmi_xy'] = SG2.pmi_xy / -( np.log(SG2.p_xy) )"
   ]
  },
  {
   "cell_type": "code",
   "execution_count": 331,
   "metadata": {},
   "outputs": [
    {
     "data": {
      "text/html": [
       "<div>\n",
       "<style scoped>\n",
       "    .dataframe tbody tr th:only-of-type {\n",
       "        vertical-align: middle;\n",
       "    }\n",
       "\n",
       "    .dataframe tbody tr th {\n",
       "        vertical-align: top;\n",
       "    }\n",
       "\n",
       "    .dataframe thead th {\n",
       "        text-align: right;\n",
       "    }\n",
       "</style>\n",
       "<table border=\"1\" class=\"dataframe\">\n",
       "  <thead>\n",
       "    <tr style=\"text-align: right;\">\n",
       "      <th></th>\n",
       "      <th></th>\n",
       "      <th>n</th>\n",
       "      <th>p_xy</th>\n",
       "      <th>pmi_xy</th>\n",
       "      <th>npmi_xy</th>\n",
       "    </tr>\n",
       "    <tr>\n",
       "      <th>target</th>\n",
       "      <th>probe</th>\n",
       "      <th></th>\n",
       "      <th></th>\n",
       "      <th></th>\n",
       "      <th></th>\n",
       "    </tr>\n",
       "  </thead>\n",
       "  <tbody>\n",
       "    <tr>\n",
       "      <th>fracto</th>\n",
       "      <th>nunc</th>\n",
       "      <td>2</td>\n",
       "      <td>0.000001</td>\n",
       "      <td>14.477779</td>\n",
       "      <td>1.058401</td>\n",
       "    </tr>\n",
       "    <tr>\n",
       "      <th>patria</th>\n",
       "      <th>nunc</th>\n",
       "      <td>2</td>\n",
       "      <td>0.000001</td>\n",
       "      <td>14.477779</td>\n",
       "      <td>1.058401</td>\n",
       "    </tr>\n",
       "    <tr>\n",
       "      <th>charly</th>\n",
       "      <th>magne</th>\n",
       "      <td>2</td>\n",
       "      <td>0.000001</td>\n",
       "      <td>14.477779</td>\n",
       "      <td>1.058401</td>\n",
       "    </tr>\n",
       "    <tr>\n",
       "      <th>rien</th>\n",
       "      <th>cest</th>\n",
       "      <td>2</td>\n",
       "      <td>0.000001</td>\n",
       "      <td>14.477779</td>\n",
       "      <td>1.058401</td>\n",
       "    </tr>\n",
       "    <tr>\n",
       "      <th>loeuvre</th>\n",
       "      <th>cest</th>\n",
       "      <td>2</td>\n",
       "      <td>0.000001</td>\n",
       "      <td>14.477779</td>\n",
       "      <td>1.058401</td>\n",
       "    </tr>\n",
       "  </tbody>\n",
       "</table>\n",
       "</div>"
      ],
      "text/plain": [
       "               n      p_xy     pmi_xy   npmi_xy\n",
       "target  probe                                  \n",
       "fracto  nunc   2  0.000001  14.477779  1.058401\n",
       "patria  nunc   2  0.000001  14.477779  1.058401\n",
       "charly  magne  2  0.000001  14.477779  1.058401\n",
       "rien    cest   2  0.000001  14.477779  1.058401\n",
       "loeuvre cest   2  0.000001  14.477779  1.058401"
      ]
     },
     "execution_count": 331,
     "metadata": {},
     "output_type": "execute_result"
    }
   ],
   "source": [
    "SG2.sort_values('npmi_xy', ascending=False).head()"
   ]
  },
  {
   "cell_type": "markdown",
   "metadata": {},
   "source": [
    "### Keep only positives\n",
    "\n",
    "Changed since lab."
   ]
  },
  {
   "cell_type": "code",
   "execution_count": 332,
   "metadata": {},
   "outputs": [],
   "source": [
    "SG2.loc[SG2.npmi_xy < 0, 'pnpmi_xy'] = 0\n",
    "SG2.loc[SG2.npmi_xy >= 0, 'pnpmi_xy'] =  SG2.npmi_xy"
   ]
  },
  {
   "cell_type": "code",
   "execution_count": 333,
   "metadata": {},
   "outputs": [
    {
     "data": {
      "text/html": [
       "<div>\n",
       "<style scoped>\n",
       "    .dataframe tbody tr th:only-of-type {\n",
       "        vertical-align: middle;\n",
       "    }\n",
       "\n",
       "    .dataframe tbody tr th {\n",
       "        vertical-align: top;\n",
       "    }\n",
       "\n",
       "    .dataframe thead th {\n",
       "        text-align: right;\n",
       "    }\n",
       "</style>\n",
       "<table border=\"1\" class=\"dataframe\">\n",
       "  <thead>\n",
       "    <tr style=\"text-align: right;\">\n",
       "      <th></th>\n",
       "      <th></th>\n",
       "      <th>n</th>\n",
       "      <th>p_xy</th>\n",
       "      <th>pmi_xy</th>\n",
       "      <th>npmi_xy</th>\n",
       "      <th>pnpmi_xy</th>\n",
       "    </tr>\n",
       "    <tr>\n",
       "      <th>target</th>\n",
       "      <th>probe</th>\n",
       "      <th></th>\n",
       "      <th></th>\n",
       "      <th></th>\n",
       "      <th></th>\n",
       "      <th></th>\n",
       "    </tr>\n",
       "  </thead>\n",
       "  <tbody>\n",
       "    <tr>\n",
       "      <th rowspan=\"5\" valign=\"top\">a</th>\n",
       "      <th>&lt;s&gt;</th>\n",
       "      <td>3</td>\n",
       "      <td>1.719540e-06</td>\n",
       "      <td>-7.410643</td>\n",
       "      <td>-0.558306</td>\n",
       "      <td>0.000000</td>\n",
       "    </tr>\n",
       "    <tr>\n",
       "      <th>a</th>\n",
       "      <td>2</td>\n",
       "      <td>1.146360e-06</td>\n",
       "      <td>-5.346707</td>\n",
       "      <td>-0.390872</td>\n",
       "      <td>0.000000</td>\n",
       "    </tr>\n",
       "    <tr>\n",
       "      <th>abandon</th>\n",
       "      <td>2</td>\n",
       "      <td>1.146360e-06</td>\n",
       "      <td>1.127920</td>\n",
       "      <td>0.082457</td>\n",
       "      <td>0.082457</td>\n",
       "    </tr>\n",
       "    <tr>\n",
       "      <th>abandons</th>\n",
       "      <td>1</td>\n",
       "      <td>5.731799e-07</td>\n",
       "      <td>3.525816</td>\n",
       "      <td>0.245324</td>\n",
       "      <td>0.245324</td>\n",
       "    </tr>\n",
       "    <tr>\n",
       "      <th>abated</th>\n",
       "      <td>1</td>\n",
       "      <td>5.731799e-07</td>\n",
       "      <td>1.734056</td>\n",
       "      <td>0.120655</td>\n",
       "      <td>0.120655</td>\n",
       "    </tr>\n",
       "  </tbody>\n",
       "</table>\n",
       "</div>"
      ],
      "text/plain": [
       "                 n          p_xy    pmi_xy   npmi_xy  pnpmi_xy\n",
       "target probe                                                  \n",
       "a      <s>       3  1.719540e-06 -7.410643 -0.558306  0.000000\n",
       "       a         2  1.146360e-06 -5.346707 -0.390872  0.000000\n",
       "       abandon   2  1.146360e-06  1.127920  0.082457  0.082457\n",
       "       abandons  1  5.731799e-07  3.525816  0.245324  0.245324\n",
       "       abated    1  5.731799e-07  1.734056  0.120655  0.120655"
      ]
     },
     "execution_count": 333,
     "metadata": {},
     "output_type": "execute_result"
    }
   ],
   "source": [
    "SG2.head()"
   ]
  },
  {
   "cell_type": "markdown",
   "metadata": {},
   "source": [
    "## Create PNPMI Matrix"
   ]
  },
  {
   "cell_type": "code",
   "execution_count": 38,
   "metadata": {},
   "outputs": [
    {
     "ename": "NameError",
     "evalue": "name 'SG2' is not defined",
     "output_type": "error",
     "traceback": [
      "\u001b[0;31m---------------------------------------------------------------------------\u001b[0m",
      "\u001b[0;31mNameError\u001b[0m                                 Traceback (most recent call last)",
      "Input \u001b[0;32mIn [38]\u001b[0m, in \u001b[0;36m<cell line: 1>\u001b[0;34m()\u001b[0m\n\u001b[0;32m----> 1\u001b[0m SGM \u001b[38;5;241m=\u001b[39m \u001b[43mSG2\u001b[49m\u001b[38;5;241m.\u001b[39mnpmi_xy\u001b[38;5;241m.\u001b[39munstack()\u001b[38;5;241m.\u001b[39mfillna(\u001b[38;5;241m0\u001b[39m)\n",
      "\u001b[0;31mNameError\u001b[0m: name 'SG2' is not defined"
     ]
    }
   ],
   "source": [
    "SGM = SG2.npmi_xy.unstack().fillna(0)"
   ]
  },
  {
   "cell_type": "code",
   "execution_count": 335,
   "metadata": {},
   "outputs": [
    {
     "data": {
      "text/html": [
       "<div>\n",
       "<style scoped>\n",
       "    .dataframe tbody tr th:only-of-type {\n",
       "        vertical-align: middle;\n",
       "    }\n",
       "\n",
       "    .dataframe tbody tr th {\n",
       "        vertical-align: top;\n",
       "    }\n",
       "\n",
       "    .dataframe thead th {\n",
       "        text-align: right;\n",
       "    }\n",
       "</style>\n",
       "<table border=\"1\" class=\"dataframe\">\n",
       "  <thead>\n",
       "    <tr style=\"text-align: right;\">\n",
       "      <th>probe</th>\n",
       "      <th>&lt;s&gt;</th>\n",
       "      <th>a</th>\n",
       "      <th>aback</th>\n",
       "      <th>abaft</th>\n",
       "      <th>abandon</th>\n",
       "      <th>abandoned</th>\n",
       "      <th>abandoning</th>\n",
       "      <th>abandons</th>\n",
       "      <th>abasement</th>\n",
       "      <th>abashed</th>\n",
       "      <th>...</th>\n",
       "      <th>zoöphagy</th>\n",
       "      <th>zufalle</th>\n",
       "      <th>zum</th>\n",
       "      <th>zuniga</th>\n",
       "      <th>zusammen</th>\n",
       "      <th>à</th>\n",
       "      <th>æt</th>\n",
       "      <th>ætat</th>\n",
       "      <th>ça</th>\n",
       "      <th>émeutes</th>\n",
       "    </tr>\n",
       "    <tr>\n",
       "      <th>target</th>\n",
       "      <th></th>\n",
       "      <th></th>\n",
       "      <th></th>\n",
       "      <th></th>\n",
       "      <th></th>\n",
       "      <th></th>\n",
       "      <th></th>\n",
       "      <th></th>\n",
       "      <th></th>\n",
       "      <th></th>\n",
       "      <th></th>\n",
       "      <th></th>\n",
       "      <th></th>\n",
       "      <th></th>\n",
       "      <th></th>\n",
       "      <th></th>\n",
       "      <th></th>\n",
       "      <th></th>\n",
       "      <th></th>\n",
       "      <th></th>\n",
       "      <th></th>\n",
       "    </tr>\n",
       "  </thead>\n",
       "  <tbody>\n",
       "    <tr>\n",
       "      <th>a</th>\n",
       "      <td>-0.558306</td>\n",
       "      <td>-0.390872</td>\n",
       "      <td>0.0</td>\n",
       "      <td>0.0</td>\n",
       "      <td>0.082457</td>\n",
       "      <td>0.0</td>\n",
       "      <td>0.0</td>\n",
       "      <td>0.245324</td>\n",
       "      <td>0.0</td>\n",
       "      <td>0.0</td>\n",
       "      <td>...</td>\n",
       "      <td>0.0</td>\n",
       "      <td>0.0</td>\n",
       "      <td>0.0</td>\n",
       "      <td>0.0</td>\n",
       "      <td>0.0</td>\n",
       "      <td>0.0</td>\n",
       "      <td>0.0</td>\n",
       "      <td>0.0</td>\n",
       "      <td>0.0</td>\n",
       "      <td>0.0</td>\n",
       "    </tr>\n",
       "    <tr>\n",
       "      <th>aback</th>\n",
       "      <td>-0.031148</td>\n",
       "      <td>0.000000</td>\n",
       "      <td>0.0</td>\n",
       "      <td>0.0</td>\n",
       "      <td>0.000000</td>\n",
       "      <td>0.0</td>\n",
       "      <td>0.0</td>\n",
       "      <td>0.000000</td>\n",
       "      <td>0.0</td>\n",
       "      <td>0.0</td>\n",
       "      <td>...</td>\n",
       "      <td>0.0</td>\n",
       "      <td>0.0</td>\n",
       "      <td>0.0</td>\n",
       "      <td>0.0</td>\n",
       "      <td>0.0</td>\n",
       "      <td>0.0</td>\n",
       "      <td>0.0</td>\n",
       "      <td>0.0</td>\n",
       "      <td>0.0</td>\n",
       "      <td>0.0</td>\n",
       "    </tr>\n",
       "    <tr>\n",
       "      <th>abaft</th>\n",
       "      <td>0.000000</td>\n",
       "      <td>0.000000</td>\n",
       "      <td>0.0</td>\n",
       "      <td>0.0</td>\n",
       "      <td>0.000000</td>\n",
       "      <td>0.0</td>\n",
       "      <td>0.0</td>\n",
       "      <td>0.000000</td>\n",
       "      <td>0.0</td>\n",
       "      <td>0.0</td>\n",
       "      <td>...</td>\n",
       "      <td>0.0</td>\n",
       "      <td>0.0</td>\n",
       "      <td>0.0</td>\n",
       "      <td>0.0</td>\n",
       "      <td>0.0</td>\n",
       "      <td>0.0</td>\n",
       "      <td>0.0</td>\n",
       "      <td>0.0</td>\n",
       "      <td>0.0</td>\n",
       "      <td>0.0</td>\n",
       "    </tr>\n",
       "    <tr>\n",
       "      <th>abandon</th>\n",
       "      <td>-0.070518</td>\n",
       "      <td>0.030251</td>\n",
       "      <td>0.0</td>\n",
       "      <td>0.0</td>\n",
       "      <td>0.000000</td>\n",
       "      <td>0.0</td>\n",
       "      <td>0.0</td>\n",
       "      <td>0.000000</td>\n",
       "      <td>0.0</td>\n",
       "      <td>0.0</td>\n",
       "      <td>...</td>\n",
       "      <td>0.0</td>\n",
       "      <td>0.0</td>\n",
       "      <td>0.0</td>\n",
       "      <td>0.0</td>\n",
       "      <td>0.0</td>\n",
       "      <td>0.0</td>\n",
       "      <td>0.0</td>\n",
       "      <td>0.0</td>\n",
       "      <td>0.0</td>\n",
       "      <td>0.0</td>\n",
       "    </tr>\n",
       "    <tr>\n",
       "      <th>abandoned</th>\n",
       "      <td>-0.103314</td>\n",
       "      <td>0.000000</td>\n",
       "      <td>0.0</td>\n",
       "      <td>0.0</td>\n",
       "      <td>0.000000</td>\n",
       "      <td>0.0</td>\n",
       "      <td>0.0</td>\n",
       "      <td>0.000000</td>\n",
       "      <td>0.0</td>\n",
       "      <td>0.0</td>\n",
       "      <td>...</td>\n",
       "      <td>0.0</td>\n",
       "      <td>0.0</td>\n",
       "      <td>0.0</td>\n",
       "      <td>0.0</td>\n",
       "      <td>0.0</td>\n",
       "      <td>0.0</td>\n",
       "      <td>0.0</td>\n",
       "      <td>0.0</td>\n",
       "      <td>0.0</td>\n",
       "      <td>0.0</td>\n",
       "    </tr>\n",
       "  </tbody>\n",
       "</table>\n",
       "<p>5 rows × 27319 columns</p>\n",
       "</div>"
      ],
      "text/plain": [
       "probe           <s>         a  aback  abaft   abandon  abandoned  abandoning  \\\n",
       "target                                                                         \n",
       "a         -0.558306 -0.390872    0.0    0.0  0.082457        0.0         0.0   \n",
       "aback     -0.031148  0.000000    0.0    0.0  0.000000        0.0         0.0   \n",
       "abaft      0.000000  0.000000    0.0    0.0  0.000000        0.0         0.0   \n",
       "abandon   -0.070518  0.030251    0.0    0.0  0.000000        0.0         0.0   \n",
       "abandoned -0.103314  0.000000    0.0    0.0  0.000000        0.0         0.0   \n",
       "\n",
       "probe      abandons  abasement  abashed  ...  zoöphagy  zufalle  zum  zuniga  \\\n",
       "target                                   ...                                   \n",
       "a          0.245324        0.0      0.0  ...       0.0      0.0  0.0     0.0   \n",
       "aback      0.000000        0.0      0.0  ...       0.0      0.0  0.0     0.0   \n",
       "abaft      0.000000        0.0      0.0  ...       0.0      0.0  0.0     0.0   \n",
       "abandon    0.000000        0.0      0.0  ...       0.0      0.0  0.0     0.0   \n",
       "abandoned  0.000000        0.0      0.0  ...       0.0      0.0  0.0     0.0   \n",
       "\n",
       "probe      zusammen    à   æt  ætat   ça  émeutes  \n",
       "target                                             \n",
       "a               0.0  0.0  0.0   0.0  0.0      0.0  \n",
       "aback           0.0  0.0  0.0   0.0  0.0      0.0  \n",
       "abaft           0.0  0.0  0.0   0.0  0.0      0.0  \n",
       "abandon         0.0  0.0  0.0   0.0  0.0      0.0  \n",
       "abandoned       0.0  0.0  0.0   0.0  0.0      0.0  \n",
       "\n",
       "[5 rows x 27319 columns]"
      ]
     },
     "execution_count": 335,
     "metadata": {},
     "output_type": "execute_result"
    }
   ],
   "source": [
    "SGM.head()"
   ]
  },
  {
   "cell_type": "code",
   "execution_count": 336,
   "metadata": {},
   "outputs": [
    {
     "data": {
      "text/plain": [
       "probe\n",
       "ennuyé          0.466298\n",
       "recognizes      0.466298\n",
       "specifically    0.466298\n",
       "incites         0.466298\n",
       "cackled         0.466298\n",
       "Name: man, dtype: float64"
      ]
     },
     "execution_count": 336,
     "metadata": {},
     "output_type": "execute_result"
    }
   ],
   "source": [
    "SGM.loc['man'].sort_values(ascending=False).head()"
   ]
  },
  {
   "cell_type": "code",
   "execution_count": 337,
   "metadata": {},
   "outputs": [
    {
     "data": {
      "text/html": [
       "<div>\n",
       "<style scoped>\n",
       "    .dataframe tbody tr th:only-of-type {\n",
       "        vertical-align: middle;\n",
       "    }\n",
       "\n",
       "    .dataframe tbody tr th {\n",
       "        vertical-align: top;\n",
       "    }\n",
       "\n",
       "    .dataframe thead th {\n",
       "        text-align: right;\n",
       "    }\n",
       "</style>\n",
       "<table border=\"1\" class=\"dataframe\">\n",
       "  <thead>\n",
       "    <tr style=\"text-align: right;\">\n",
       "      <th></th>\n",
       "      <th>n</th>\n",
       "      <th>p_xy</th>\n",
       "      <th>pmi_xy</th>\n",
       "      <th>npmi_xy</th>\n",
       "      <th>pnpmi_xy</th>\n",
       "    </tr>\n",
       "    <tr>\n",
       "      <th>probe</th>\n",
       "      <th></th>\n",
       "      <th></th>\n",
       "      <th></th>\n",
       "      <th></th>\n",
       "      <th></th>\n",
       "    </tr>\n",
       "  </thead>\n",
       "  <tbody>\n",
       "    <tr>\n",
       "      <th>&lt;s&gt;</th>\n",
       "      <td>1</td>\n",
       "      <td>5.731799e-07</td>\n",
       "      <td>1.749561</td>\n",
       "      <td>0.121733</td>\n",
       "      <td>0.121733</td>\n",
       "    </tr>\n",
       "    <tr>\n",
       "      <th>franco</th>\n",
       "      <td>1</td>\n",
       "      <td>5.731799e-07</td>\n",
       "      <td>14.477779</td>\n",
       "      <td>1.007355</td>\n",
       "      <td>1.007355</td>\n",
       "    </tr>\n",
       "    <tr>\n",
       "      <th>the</th>\n",
       "      <td>1</td>\n",
       "      <td>5.731799e-07</td>\n",
       "      <td>3.123510</td>\n",
       "      <td>0.217332</td>\n",
       "      <td>0.217332</td>\n",
       "    </tr>\n",
       "    <tr>\n",
       "      <th>war</th>\n",
       "      <td>1</td>\n",
       "      <td>5.731799e-07</td>\n",
       "      <td>10.215099</td>\n",
       "      <td>0.710761</td>\n",
       "      <td>0.710761</td>\n",
       "    </tr>\n",
       "  </tbody>\n",
       "</table>\n",
       "</div>"
      ],
      "text/plain": [
       "        n          p_xy     pmi_xy   npmi_xy  pnpmi_xy\n",
       "probe                                                 \n",
       "<s>     1  5.731799e-07   1.749561  0.121733  0.121733\n",
       "franco  1  5.731799e-07  14.477779  1.007355  1.007355\n",
       "the     1  5.731799e-07   3.123510  0.217332  0.217332\n",
       "war     1  5.731799e-07  10.215099  0.710761  0.710761"
      ]
     },
     "execution_count": 337,
     "metadata": {},
     "output_type": "execute_result"
    }
   ],
   "source": [
    "SG2.loc['prussian'].sort_values('n', ascending=False)"
   ]
  },
  {
   "cell_type": "markdown",
   "metadata": {},
   "source": [
    "## SVD"
   ]
  },
  {
   "cell_type": "code",
   "execution_count": 35,
   "metadata": {},
   "outputs": [],
   "source": [
    "from scipy import sparse\n",
    "import scipy.sparse.linalg as linalg"
   ]
  },
  {
   "cell_type": "code",
   "execution_count": 36,
   "metadata": {},
   "outputs": [
    {
     "ename": "NameError",
     "evalue": "name 'SGM' is not defined",
     "output_type": "error",
     "traceback": [
      "\u001b[0;31m---------------------------------------------------------------------------\u001b[0m",
      "\u001b[0;31mNameError\u001b[0m                                 Traceback (most recent call last)",
      "Input \u001b[0;32mIn [36]\u001b[0m, in \u001b[0;36m<cell line: 1>\u001b[0;34m()\u001b[0m\n\u001b[0;32m----> 1\u001b[0m sparse \u001b[38;5;241m=\u001b[39m sparse\u001b[38;5;241m.\u001b[39mcsr_matrix(\u001b[43mSGM\u001b[49m\u001b[38;5;241m.\u001b[39mvalues)\n",
      "\u001b[0;31mNameError\u001b[0m: name 'SGM' is not defined"
     ]
    }
   ],
   "source": [
    "sparse = sparse.csr_matrix(SGM.values)"
   ]
  },
  {
   "cell_type": "code",
   "execution_count": 37,
   "metadata": {},
   "outputs": [
    {
     "ename": "ValueError",
     "evalue": "not enough values to unpack (expected 2, got 0)",
     "output_type": "error",
     "traceback": [
      "\u001b[0;31m---------------------------------------------------------------------------\u001b[0m",
      "\u001b[0;31mValueError\u001b[0m                                Traceback (most recent call last)",
      "Input \u001b[0;32mIn [37]\u001b[0m, in \u001b[0;36m<cell line: 1>\u001b[0;34m()\u001b[0m\n\u001b[0;32m----> 1\u001b[0m SVD \u001b[38;5;241m=\u001b[39m \u001b[43mlinalg\u001b[49m\u001b[38;5;241;43m.\u001b[39;49m\u001b[43msvds\u001b[49m\u001b[43m(\u001b[49m\u001b[43msparse\u001b[49m\u001b[43m,\u001b[49m\u001b[43m \u001b[49m\u001b[43mk\u001b[49m\u001b[38;5;241;43m=\u001b[39;49m\u001b[38;5;241;43m256\u001b[39;49m\u001b[43m)\u001b[49m\n",
      "File \u001b[0;32m~/anaconda3/envs/spacy3.2/lib/python3.10/site-packages/scipy/sparse/linalg/eigen/arpack/arpack.py:1817\u001b[0m, in \u001b[0;36msvds\u001b[0;34m(A, k, ncv, tol, which, v0, maxiter, return_singular_vectors, solver)\u001b[0m\n\u001b[1;32m   1814\u001b[0m \u001b[38;5;28;01mif\u001b[39;00m \u001b[38;5;129;01mnot\u001b[39;00m (\u001b[38;5;28misinstance\u001b[39m(A, LinearOperator) \u001b[38;5;129;01mor\u001b[39;00m isspmatrix(A) \u001b[38;5;129;01mor\u001b[39;00m is_pydata_spmatrix(A)):\n\u001b[1;32m   1815\u001b[0m     A \u001b[38;5;241m=\u001b[39m np\u001b[38;5;241m.\u001b[39masarray(A)\n\u001b[0;32m-> 1817\u001b[0m n, m \u001b[38;5;241m=\u001b[39m A\u001b[38;5;241m.\u001b[39mshape\n\u001b[1;32m   1819\u001b[0m \u001b[38;5;28;01mif\u001b[39;00m k \u001b[38;5;241m<\u001b[39m\u001b[38;5;241m=\u001b[39m \u001b[38;5;241m0\u001b[39m \u001b[38;5;129;01mor\u001b[39;00m k \u001b[38;5;241m>\u001b[39m\u001b[38;5;241m=\u001b[39m \u001b[38;5;28mmin\u001b[39m(n, m):\n\u001b[1;32m   1820\u001b[0m     \u001b[38;5;28;01mraise\u001b[39;00m \u001b[38;5;167;01mValueError\u001b[39;00m(\u001b[38;5;124m\"\u001b[39m\u001b[38;5;124mk must be between 1 and min(A.shape), k=\u001b[39m\u001b[38;5;132;01m%d\u001b[39;00m\u001b[38;5;124m\"\u001b[39m \u001b[38;5;241m%\u001b[39m k)\n",
      "\u001b[0;31mValueError\u001b[0m: not enough values to unpack (expected 2, got 0)"
     ]
    }
   ],
   "source": [
    "SVD = linalg.svds(sparse, k=256)"
   ]
  },
  {
   "cell_type": "code",
   "execution_count": 341,
   "metadata": {},
   "outputs": [],
   "source": [
    "U, S, V = SVD"
   ]
  },
  {
   "cell_type": "code",
   "execution_count": 342,
   "metadata": {},
   "outputs": [
    {
     "data": {
      "text/plain": [
       "((26263, 256), (256,), (256, 27319))"
      ]
     },
     "execution_count": 342,
     "metadata": {},
     "output_type": "execute_result"
    }
   ],
   "source": [
    "U.shape, S.shape, V.shape"
   ]
  },
  {
   "cell_type": "code",
   "execution_count": 353,
   "metadata": {},
   "outputs": [
    {
     "ename": "ValueError",
     "evalue": "operands could not be broadcast together with shapes (26263,256) (27319,256) ",
     "output_type": "error",
     "traceback": [
      "\u001b[0;31m---------------------------------------------------------------------------\u001b[0m",
      "\u001b[0;31mValueError\u001b[0m                                Traceback (most recent call last)",
      "Input \u001b[0;32mIn [353]\u001b[0m, in \u001b[0;36m<cell line: 1>\u001b[0;34m()\u001b[0m\n\u001b[0;32m----> 1\u001b[0m word_vecs \u001b[38;5;241m=\u001b[39m \u001b[43mU\u001b[49m\u001b[43m \u001b[49m\u001b[38;5;241;43m+\u001b[39;49m\u001b[43m \u001b[49m\u001b[43mV\u001b[49m\u001b[38;5;241;43m.\u001b[39;49m\u001b[43mT\u001b[49m\n\u001b[1;32m      2\u001b[0m word_vecs_norm \u001b[38;5;241m=\u001b[39m word_vecs \u001b[38;5;241m/\u001b[39m np\u001b[38;5;241m.\u001b[39msqrt(np\u001b[38;5;241m.\u001b[39msum(word_vecs \u001b[38;5;241m*\u001b[39m word_vecs, axis\u001b[38;5;241m=\u001b[39m\u001b[38;5;241m1\u001b[39m, keepdims\u001b[38;5;241m=\u001b[39m\u001b[38;5;28;01mTrue\u001b[39;00m))\n",
      "\u001b[0;31mValueError\u001b[0m: operands could not be broadcast together with shapes (26263,256) (27319,256) "
     ]
    }
   ],
   "source": [
    "word_vecs = U + V.T\n",
    "word_vecs_norm = word_vecs / np.sqrt(np.sum(word_vecs * word_vecs, axis=1, keepdims=True))"
   ]
  },
  {
   "cell_type": "code",
   "execution_count": null,
   "metadata": {},
   "outputs": [],
   "source": [
    "WE = pd.DataFrame(word_vecs_norm, index=SGM.index)\n",
    "WE.index.name = 'word_str'"
   ]
  },
  {
   "cell_type": "code",
   "execution_count": null,
   "metadata": {},
   "outputs": [],
   "source": [
    "WE.head()"
   ]
  },
  {
   "cell_type": "code",
   "execution_count": null,
   "metadata": {},
   "outputs": [],
   "source": [
    "def word_sims(word, n=10):\n",
    "    try:\n",
    "        sims = SGM.loc[word].sort_values(ascending=False).head(n).reset_index().values\n",
    "        return sims\n",
    "    except KeyError as e:\n",
    "        print('Word \"{}\" not in vocabulary.'.format(word))\n",
    "        return None"
   ]
  },
  {
   "cell_type": "code",
   "execution_count": null,
   "metadata": {},
   "outputs": [],
   "source": [
    "print(word_sims('happy'))"
   ]
  },
  {
   "cell_type": "code",
   "execution_count": null,
   "metadata": {},
   "outputs": [],
   "source": [
    "def word_sim_report(word):\n",
    "    sims = word_sims(word)\n",
    "    for sim_word, score in sims:\n",
    "        context = ' '.join(SG2.loc[sim_word].index.values.tolist()[:5])\n",
    "        print(\"{} ({}) {}\".format(sim_word.upper(), score, context))\n",
    "        print('-'*80)"
   ]
  },
  {
   "cell_type": "code",
   "execution_count": null,
   "metadata": {},
   "outputs": [],
   "source": [
    "word_sim_report('woman')"
   ]
  },
  {
   "cell_type": "code",
   "execution_count": null,
   "metadata": {},
   "outputs": [],
   "source": [
    "word_sim_report('man')"
   ]
  },
  {
   "cell_type": "code",
   "execution_count": null,
   "metadata": {},
   "outputs": [],
   "source": [
    "word_sim_report('young')"
   ]
  },
  {
   "cell_type": "markdown",
   "metadata": {},
   "source": [
    "## Define some semantic functions\n",
    "\n",
    "Added after lecture."
   ]
  },
  {
   "cell_type": "code",
   "execution_count": null,
   "metadata": {},
   "outputs": [],
   "source": [
    "from sklearn.metrics.pairwise import cosine_similarity\n",
    "from sklearn.metrics.pairwise import euclidean_distances"
   ]
  },
  {
   "cell_type": "code",
   "execution_count": null,
   "metadata": {},
   "outputs": [],
   "source": [
    "def get_word_vector(term_str):\n",
    "    \"\"\"Get a numpy array from the glove matrix and shape for input into cosine function\"\"\"\n",
    "    return SGM.loc[term_str].values.reshape(-1, 1).T\n",
    "\n",
    "def get_nearest_vector(wv, method='cosine', n=1):\n",
    "    \"\"\"Get the nearest word vectors to a given word vector\"\"\"\n",
    "    if method == 'cosine':\n",
    "        sims = cosine_similarity(SGM.values, wv)\n",
    "    elif method == 'euclidean':\n",
    "        eds = euclidean_distances(SGM.values, wv)\n",
    "        sims = 1 - (eds/eds.max())\n",
    "    else:\n",
    "        print('Invalid method {}; defaulting to cosine.'.format(method))\n",
    "        sims = cosine_similarity(SGM.values, wv)\n",
    "    return pd.DataFrame(sims, index=SGM.index, columns=['score']).sort_values('score',ascending=False).head(n+1).iloc[1:]\n",
    "\n",
    "def get_sims(term_str, method='cosine', n=10):\n",
    "    \"\"\"Get the top n words for a given word based on cosine similarity\"\"\"\n",
    "    wv = get_word_vector(term_str)\n",
    "    sims =  get_nearest_vector(wv, method=method, n=n) \n",
    "    return sims\n",
    "\n",
    "def get_analogy(a, b, c, method='cosine'):\n",
    "    \"\"\"Infer missing analogical term\"\"\"\n",
    "    print()\n",
    "    try:\n",
    "        A = get_word_vector(a)\n",
    "        B = get_word_vector(b)\n",
    "        C = get_word_vector(c)\n",
    "        D = np.add(np.subtract(B, A), C)\n",
    "        X = get_nearest_vector(C, method=method, n=1)\n",
    "        return X.iloc[0].name\n",
    "    except ValueError as e:\n",
    "        print(e)\n",
    "        return None"
   ]
  },
  {
   "cell_type": "code",
   "execution_count": null,
   "metadata": {},
   "outputs": [],
   "source": [
    "get_nearest_vector(get_word_vector('woman'),  n=10)"
   ]
  },
  {
   "cell_type": "code",
   "execution_count": null,
   "metadata": {},
   "outputs": [],
   "source": [
    "def get_opposite(a, b, method='cosine'):\n",
    "    A = get_word_vector(a)\n",
    "    B = get_word_vector(b)\n",
    "    C = np.subtract(A, B)\n",
    "    X = get_nearest_vector(C, n=1, method=method)\n",
    "    return X\n",
    "#     return X.iloc[0].name"
   ]
  },
  {
   "cell_type": "code",
   "execution_count": null,
   "metadata": {},
   "outputs": [],
   "source": [
    "get_sims('woman')"
   ]
  },
  {
   "cell_type": "code",
   "execution_count": null,
   "metadata": {},
   "outputs": [],
   "source": [
    "test = get_nearest_vector(get_word_vector('king'), n=10)"
   ]
  },
  {
   "cell_type": "code",
   "execution_count": null,
   "metadata": {},
   "outputs": [],
   "source": [
    "test"
   ]
  },
  {
   "cell_type": "code",
   "execution_count": null,
   "metadata": {},
   "outputs": [],
   "source": [
    "get_sims('love')"
   ]
  },
  {
   "cell_type": "code",
   "execution_count": null,
   "metadata": {},
   "outputs": [],
   "source": [
    "get_opposite('man','beard')"
   ]
  },
  {
   "cell_type": "code",
   "execution_count": null,
   "metadata": {},
   "outputs": [],
   "source": [
    "get_analogy('man','boy','girl')"
   ]
  },
  {
   "cell_type": "code",
   "execution_count": null,
   "metadata": {},
   "outputs": [],
   "source": [
    "get_analogy('male', 'king', 'female')"
   ]
  },
  {
   "cell_type": "code",
   "execution_count": null,
   "metadata": {},
   "outputs": [],
   "source": [
    "SGM"
   ]
  },
  {
   "cell_type": "code",
   "execution_count": null,
   "metadata": {},
   "outputs": [],
   "source": [
    "    "
   ]
  }
 ],
 "metadata": {
  "hide_input": false,
  "kernelspec": {
   "display_name": "Python 3 (ipykernel)",
   "language": "python",
   "name": "python3"
  },
  "language_info": {
   "codemirror_mode": {
    "name": "ipython",
    "version": 3
   },
   "file_extension": ".py",
   "mimetype": "text/x-python",
   "name": "python",
   "nbconvert_exporter": "python",
   "pygments_lexer": "ipython3",
   "version": "3.10.0"
  },
  "latex_envs": {
   "LaTeX_envs_menu_present": true,
   "autoclose": true,
   "autocomplete": true,
   "bibliofile": "biblio.bib",
   "cite_by": "apalike",
   "current_citInitial": 1,
   "eqLabelWithNumbers": true,
   "eqNumInitial": 1,
   "hotkeys": {
    "equation": "Ctrl-E",
    "itemize": "Ctrl-I"
   },
   "labels_anchors": false,
   "latex_user_defs": false,
   "report_style_numbering": false,
   "user_envs_cfg": false
  },
  "toc": {
   "base_numbering": 1,
   "nav_menu": {},
   "number_sections": true,
   "sideBar": true,
   "skip_h1_title": false,
   "title_cell": "Table of Contents",
   "title_sidebar": "Contents",
   "toc_cell": false,
   "toc_position": {},
   "toc_section_display": true,
   "toc_window_display": false
  },
  "varInspector": {
   "cols": {
    "lenName": 16,
    "lenType": 16,
    "lenVar": 40
   },
   "kernels_config": {
    "python": {
     "delete_cmd_postfix": "",
     "delete_cmd_prefix": "del ",
     "library": "var_list.py",
     "varRefreshCmd": "print(var_dic_list())"
    },
    "r": {
     "delete_cmd_postfix": ") ",
     "delete_cmd_prefix": "rm(",
     "library": "var_list.r",
     "varRefreshCmd": "cat(var_dic_list()) "
    }
   },
   "types_to_exclude": [
    "module",
    "function",
    "builtin_function_or_method",
    "instance",
    "_Feature"
   ],
   "window_display": false
  },
  "widgets": {
   "application/vnd.jupyter.widget-state+json": {
    "state": {},
    "version_major": 2,
    "version_minor": 0
   }
  }
 },
 "nbformat": 4,
 "nbformat_minor": 4
}
